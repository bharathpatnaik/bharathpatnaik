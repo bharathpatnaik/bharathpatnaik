{
 "cells": [
  {
   "cell_type": "markdown",
   "source": [
    "# Storing PII Securely\n",
    "\n",
    "Adding a pseudonymized key to incremental workloads is as simple as adding a transformation.\n",
    "\n",
    "In this notebook, we'll examine design patterns for ensuring PII is stored securely and updated accurately. We'll also demonstrate an approach for processing delete requests to make sure these are captured appropriately.\n",
    "\n",
    "<img src=\"https://files.training.databricks.com/images/ade/ADE_arch_users.png\" width=\"60%\" />\n",
    "\n",
    "## Learning Objectives\n",
    "By the end of this notebook, students will be able to:\n",
    "- Apply incremental transformations to store data with pseudonymized keys\n",
    "- Use windowed ranking to identify the most-recent records in a CDC feed"
   ],
   "metadata": {
    "application/vnd.databricks.v1+cell": {
     "showTitle": false,
     "cellMetadata": {},
     "nuid": "c36d4fc5-2df4-493c-b4ba-9141d8ed5874",
     "inputWidgets": {},
     "title": ""
    },
    "pycharm": {
     "name": "#%% md\n"
    }
   }
  },
  {
   "cell_type": "markdown",
   "source": [
    "Begin by running the following cell to set up relevant databases and paths."
   ],
   "metadata": {
    "application/vnd.databricks.v1+cell": {
     "showTitle": false,
     "cellMetadata": {},
     "nuid": "9a6d5e33-213b-4b2e-8a91-b09f6887b4f2",
     "inputWidgets": {},
     "title": ""
    },
    "pycharm": {
     "name": "#%% md\n"
    }
   }
  },
  {
   "cell_type": "code",
   "source": [
    "%run ../Includes/Classroom-Setup-6.2"
   ],
   "metadata": {
    "application/vnd.databricks.v1+cell": {
     "showTitle": false,
     "cellMetadata": {},
     "nuid": "de390c33-37ba-4d56-a74a-7525baae00f6",
     "inputWidgets": {},
     "title": ""
    },
    "pycharm": {
     "name": "#%%\n"
    }
   },
   "outputs": [],
   "execution_count": 0
  },
  {
   "cell_type": "markdown",
   "source": [
    "Execute the following cell to create the **`users`** table."
   ],
   "metadata": {
    "application/vnd.databricks.v1+cell": {
     "showTitle": false,
     "cellMetadata": {},
     "nuid": "da658e3b-269a-407e-a07a-8ee3bf8bb88b",
     "inputWidgets": {},
     "title": ""
    },
    "pycharm": {
     "name": "#%% md\n"
    }
   }
  },
  {
   "cell_type": "code",
   "source": [
    "%sql\n",
    "CREATE TABLE users\n",
    "(alt_id STRING, dob DATE, sex STRING, gender STRING, first_name STRING, last_name STRING, street_address STRING, city STRING, state STRING, zip INT, updated TIMESTAMP)\n",
    "USING DELTA\n",
    "LOCATION '${da.paths.working_dir}/users'"
   ],
   "metadata": {
    "application/vnd.databricks.v1+cell": {
     "showTitle": false,
     "cellMetadata": {},
     "nuid": "0b1f6a8b-031b-4140-95da-c2f8c0eafe3a",
     "inputWidgets": {},
     "title": ""
    },
    "pycharm": {
     "name": "#%%\n"
    }
   },
   "outputs": [],
   "execution_count": 0
  },
  {
   "cell_type": "markdown",
   "source": [
    "## ELT with Pseudonymization\n",
    "The data in the **`user_info`** topic contains complete row outputs from a Change Data Capture feed.\n",
    "\n",
    "There are three values for **`update_type`** present in the data: **`new`**, **`update`**, and **`delete`**.\n",
    "\n",
    "The **`users`** table will be implemented as a Type 1 table, so only the most recent value matters\n",
    "\n",
    "Run the cell below to visually confirm that both **`new`** and **`update`** records contain all the fields we need for our **`users`** table."
   ],
   "metadata": {
    "application/vnd.databricks.v1+cell": {
     "showTitle": false,
     "cellMetadata": {},
     "nuid": "4622a9c4-d5cd-4c64-bedd-d6e512671fe1",
     "inputWidgets": {},
     "title": ""
    },
    "pycharm": {
     "name": "#%% md\n"
    }
   }
  },
  {
   "cell_type": "code",
   "source": [
    "from pyspark.sql import functions as F\n",
    "\n",
    "schema = \"\"\"\n",
    "    user_id LONG, \n",
    "    update_type STRING, \n",
    "    timestamp FLOAT, \n",
    "    dob STRING, \n",
    "    sex STRING, \n",
    "    gender STRING, \n",
    "    first_name STRING, \n",
    "    last_name STRING, \n",
    "    address STRUCT<\n",
    "        street_address: STRING, \n",
    "        city: STRING, \n",
    "        state: STRING, \n",
    "        zip: INT>\"\"\"\n",
    "\n",
    "users_df = (spark.table(\"bronze\")\n",
    "                 .filter(\"topic = 'user_info'\")\n",
    "                 .select(F.from_json(F.col(\"value\").cast(\"string\"), schema).alias(\"v\")).select(\"v.*\")\n",
    "                 .filter(F.col(\"update_type\").isin([\"new\", \"update\"])))\n",
    "\n",
    "display(users_df)"
   ],
   "metadata": {
    "application/vnd.databricks.v1+cell": {
     "showTitle": false,
     "cellMetadata": {},
     "nuid": "a31f2820-c307-4b39-8ec1-1bb78f0a8867",
     "inputWidgets": {},
     "title": ""
    },
    "pycharm": {
     "name": "#%%\n"
    }
   },
   "outputs": [],
   "execution_count": 0
  },
  {
   "cell_type": "markdown",
   "source": [
    "## Deduplication with Windowed Ranking\n",
    "\n",
    "We've previously explored some ways to remove duplicate records:\n",
    "- Using Delta Lake's **`MERGE`** syntax, we can update or insert records based on keys, matching new records with previously loaded data\n",
    "- **`dropDuplicates`** will remove exact duplicates within a table or incremental microbatch\n",
    "\n",
    "Now we have multiple records for a given primary key BUT these records are not identical. **`dropDuplicates`** will not work to remove these records, and we'll get an error from our merge statement if we have the same key present multiple times.\n",
    "\n",
    "Below, a third approach for removing duplicates is shown below using the <a href=\"http://spark.apache.org/docs/latest/api/python/reference/api/pyspark.sql.Window.html?highlight=window#pyspark.sql.Window\" target=\"_blank\">PySpark Window class</a>."
   ],
   "metadata": {
    "application/vnd.databricks.v1+cell": {
     "showTitle": false,
     "cellMetadata": {},
     "nuid": "0673f789-d007-4053-99ac-aba76321cbf9",
     "inputWidgets": {},
     "title": ""
    },
    "pycharm": {
     "name": "#%% md\n"
    }
   }
  },
  {
   "cell_type": "code",
   "source": [
    "from pyspark.sql.window import Window\n",
    "\n",
    "window = Window.partitionBy(\"user_id\").orderBy(F.col(\"timestamp\").desc())\n",
    "\n",
    "ranked_df = (users_df.withColumn(\"rank\", F.rank().over(window))\n",
    "                     .filter(\"rank == 1\")\n",
    "                     .drop(\"rank\"))\n",
    "display(ranked_df)"
   ],
   "metadata": {
    "application/vnd.databricks.v1+cell": {
     "showTitle": false,
     "cellMetadata": {},
     "nuid": "6364eae2-fbc0-4188-a0e9-0c50a716c256",
     "inputWidgets": {},
     "title": ""
    },
    "pycharm": {
     "name": "#%%\n"
    }
   },
   "outputs": [],
   "execution_count": 0
  },
  {
   "cell_type": "markdown",
   "source": [
    "As desired, we get only the newest (**`rank == 1`**) entry for each unique **`user_id`**.\n",
    "\n",
    "Unfortunately, if we try to apply this to a streaming read of our data, we'll learn that\n",
    "> Non-time-based windows are not supported on streaming DataFrames\n",
    "\n",
    "Uncomment and run the following cell to see this error in action:"
   ],
   "metadata": {
    "application/vnd.databricks.v1+cell": {
     "showTitle": false,
     "cellMetadata": {},
     "nuid": "4e0c0646-291b-4741-9647-9177f88a3f6c",
     "inputWidgets": {},
     "title": ""
    },
    "pycharm": {
     "name": "#%% md\n"
    }
   }
  },
  {
   "cell_type": "code",
   "source": [
    "# ranked_df = (spark.readStream\n",
    "#                   .table(\"bronze\")\n",
    "#                   .filter(\"topic = 'user_info'\")\n",
    "#                   .select(F.from_json(F.col(\"value\").cast(\"string\"), schema).alias(\"v\"))\n",
    "#                   .select(\"v.*\")\n",
    "#                   .filter(F.col(\"update_type\").isin([\"new\", \"update\"]))\n",
    "#                   .withColumn(\"rank\", F.rank().over(window))\n",
    "#                   .filter(\"rank == 1\").drop(\"rank\"))\n",
    "\n",
    "# display(ranked_df)"
   ],
   "metadata": {
    "application/vnd.databricks.v1+cell": {
     "showTitle": false,
     "cellMetadata": {},
     "nuid": "8ea3277b-26fa-4dee-b336-813ccdeb8696",
     "inputWidgets": {},
     "title": ""
    },
    "pycharm": {
     "name": "#%%\n"
    }
   },
   "outputs": [],
   "execution_count": 0
  },
  {
   "cell_type": "markdown",
   "source": [
    "Luckily we have a workaround to avoid this restriction."
   ],
   "metadata": {
    "application/vnd.databricks.v1+cell": {
     "showTitle": false,
     "cellMetadata": {},
     "nuid": "41c1d033-e1c9-4a3c-b08c-e1b381a34fc3",
     "inputWidgets": {},
     "title": ""
    },
    "pycharm": {
     "name": "#%% md\n"
    }
   }
  },
  {
   "cell_type": "markdown",
   "source": [
    "## Implementing Streaming Ranked De-duplication\n",
    "\n",
    "As we saw previously, when apply **`MERGE`** logic with a Structured Streaming job, we need to use **`foreachBatch`** logic.\n",
    "\n",
    "Recall that while we're inside a streaming microbatch, we interact with our data using batch syntax.\n",
    "\n",
    "This means that if we can apply our ranked **`Window`** logic within our **`foreachBatch`** function, we can avoid the restriction throwing our error.\n",
    "\n",
    "The code below sets up all the incremental logic needed to load in the data in the correct schema from the bronze table. This includes:\n",
    "- Filter for the **`user_info`** topic\n",
    "- Dropping identical records within the batch\n",
    "- Unpack all of the JSON fields from the **`value`** column into the correct schema\n",
    "- Update field names and types to match the **`users`** table schema\n",
    "- Use the salted hash function to cast the **`user_id`** to **`alt_id`**"
   ],
   "metadata": {
    "application/vnd.databricks.v1+cell": {
     "showTitle": false,
     "cellMetadata": {},
     "nuid": "aa9b61b9-2f09-4bd1-8103-2e127c995a3d",
     "inputWidgets": {},
     "title": ""
    },
    "pycharm": {
     "name": "#%% md\n"
    }
   }
  },
  {
   "cell_type": "code",
   "source": [
    "salt = \"BEANS\"\n",
    "\n",
    "unpacked_df = (spark.readStream\n",
    "                    .table(\"bronze\")\n",
    "                    .filter(\"topic = 'user_info'\")\n",
    "                    .select(F.from_json(F.col(\"value\").cast(\"string\"), schema).alias(\"v\"))\n",
    "                    .select(\"v.*\")\n",
    "                    .select(F.sha2(F.concat(F.col(\"user_id\"), F.lit(salt)), 256).alias(\"alt_id\"),\n",
    "                            F.col(\"timestamp\").cast(\"timestamp\").alias(\"updated\"),\n",
    "                            F.to_date(\"dob\", \"MM/dd/yyyy\").alias(\"dob\"), \"sex\", \"gender\", \"first_name\", \"last_name\", \"address.*\", \"update_type\"))"
   ],
   "metadata": {
    "application/vnd.databricks.v1+cell": {
     "showTitle": false,
     "cellMetadata": {},
     "nuid": "0e9db74f-2a65-4631-892e-4bd9c0aa723c",
     "inputWidgets": {},
     "title": ""
    },
    "pycharm": {
     "name": "#%%\n"
    }
   },
   "outputs": [],
   "execution_count": 0
  },
  {
   "cell_type": "markdown",
   "source": [
    "The updated Window logic is provided below. Note that this is being applied to each **`micro_batch_df`** to result in a local **`ranked_df`** that will be used for merging.\n",
    " \n",
    "For our **`MERGE`** statement, we need to:\n",
    "- Match entries on our **`alt_id`**\n",
    "- Update all when matched **if** the new record has is newer than the previous entry\n",
    "- When not matched, insert all\n",
    "\n",
    "As before, use **`foreachBatch`** to apply merge operations in Structured Streaming."
   ],
   "metadata": {
    "application/vnd.databricks.v1+cell": {
     "showTitle": false,
     "cellMetadata": {},
     "nuid": "f648575e-2854-4f55-9544-64817f7960eb",
     "inputWidgets": {},
     "title": ""
    },
    "pycharm": {
     "name": "#%% md\n"
    }
   }
  },
  {
   "cell_type": "code",
   "source": [
    "from pyspark.sql.window import Window\n",
    "\n",
    "window = Window.partitionBy(\"alt_id\").orderBy(F.col(\"updated\").desc())\n",
    "\n",
    "def batch_rank_upsert(microBatchDF, batchId):\n",
    "    \n",
    "    (microBatchDF.filter(F.col(\"update_type\").isin([\"new\", \"update\"]))\n",
    "                 .withColumn(\"rank\", F.rank().over(window))\n",
    "                 .filter(\"rank == 1\")\n",
    "                 .drop(\"rank\")\n",
    "                 .createOrReplaceTempView(\"ranked_updates\"))\n",
    "    \n",
    "    microBatchDF._jdf.sparkSession().sql(\"\"\"\n",
    "        MERGE INTO users u\n",
    "        USING ranked_updates r\n",
    "        ON u.alt_id=r.alt_id\n",
    "            WHEN MATCHED AND u.updated < r.updated\n",
    "              THEN UPDATE SET *\n",
    "            WHEN NOT MATCHED\n",
    "              THEN INSERT *\n",
    "    \"\"\")"
   ],
   "metadata": {
    "application/vnd.databricks.v1+cell": {
     "showTitle": false,
     "cellMetadata": {},
     "nuid": "9dbc649e-4549-4214-b781-d071b6346364",
     "inputWidgets": {},
     "title": ""
    },
    "pycharm": {
     "name": "#%%\n"
    }
   },
   "outputs": [],
   "execution_count": 0
  },
  {
   "cell_type": "markdown",
   "source": [
    "Now we can apply this function to our data. \n",
    "\n",
    "Here, we'll run a trigger-available-now batch to process all records."
   ],
   "metadata": {
    "application/vnd.databricks.v1+cell": {
     "showTitle": false,
     "cellMetadata": {},
     "nuid": "3720959c-a942-4b0f-9b9e-5ddc46f30c65",
     "inputWidgets": {},
     "title": ""
    },
    "pycharm": {
     "name": "#%% md\n"
    }
   }
  },
  {
   "cell_type": "code",
   "source": [
    "query = (unpacked_df.writeStream\n",
    "                    .foreachBatch(batch_rank_upsert)\n",
    "                    .outputMode(\"update\")\n",
    "                    .option(\"checkpointLocation\", f\"{DA.paths.checkpoints}/batch_rank_upsert\")\n",
    "                    .trigger(availableNow=True)\n",
    "                    .start())\n",
    "\n",
    "query.awaitTermination()"
   ],
   "metadata": {
    "application/vnd.databricks.v1+cell": {
     "showTitle": false,
     "cellMetadata": {},
     "nuid": "eca6297c-f72d-4608-b161-205a5ed1f173",
     "inputWidgets": {},
     "title": ""
    },
    "pycharm": {
     "name": "#%%\n"
    }
   },
   "outputs": [],
   "execution_count": 0
  },
  {
   "cell_type": "markdown",
   "source": [
    "The **`users`** table should only have 1 record for each unique ID."
   ],
   "metadata": {
    "application/vnd.databricks.v1+cell": {
     "showTitle": false,
     "cellMetadata": {},
     "nuid": "9f5cc1c3-e7e7-41a4-9932-c3603f48f0fe",
     "inputWidgets": {},
     "title": ""
    },
    "pycharm": {
     "name": "#%% md\n"
    }
   }
  },
  {
   "cell_type": "code",
   "source": [
    "count_a = spark.table(\"users\").count()\n",
    "count_b = spark.table(\"users\").select(\"alt_id\").distinct().count()\n",
    "assert count_a == count_b\n",
    "print(\"All tests passed.\")"
   ],
   "metadata": {
    "application/vnd.databricks.v1+cell": {
     "showTitle": false,
     "cellMetadata": {},
     "nuid": "e5f63b91-3ed0-4b5a-bf17-948c523abf34",
     "inputWidgets": {},
     "title": ""
    },
    "pycharm": {
     "name": "#%%\n"
    }
   },
   "outputs": [],
   "execution_count": 0
  },
  {
   "cell_type": "markdown",
   "source": [
    "Run the following cell to delete the tables and files associated with this lesson."
   ],
   "metadata": {
    "application/vnd.databricks.v1+cell": {
     "showTitle": false,
     "cellMetadata": {},
     "nuid": "7001a214-d36a-4732-be9e-e19a2367fff5",
     "inputWidgets": {},
     "title": ""
    },
    "pycharm": {
     "name": "#%% md\n"
    }
   }
  },
  {
   "cell_type": "code",
   "source": [
    "DA.cleanup()"
   ],
   "metadata": {
    "application/vnd.databricks.v1+cell": {
     "showTitle": false,
     "cellMetadata": {},
     "nuid": "04dcfd88-487a-4b3b-add3-e6fe5c7736ff",
     "inputWidgets": {},
     "title": ""
    },
    "pycharm": {
     "name": "#%%\n"
    }
   },
   "outputs": [],
   "execution_count": 0
  }
 ],
 "metadata": {
  "application/vnd.databricks.v1+notebook": {
   "notebookName": "ADE 5.2 - Storing PII Securely",
   "dashboards": [],
   "notebookMetadata": {
    "pythonIndentUnit": 2
   },
   "language": "python",
   "widgets": {},
   "notebookOrigID": 4185566132528528
  }
 },
 "nbformat": 4,
 "nbformat_minor": 0
}