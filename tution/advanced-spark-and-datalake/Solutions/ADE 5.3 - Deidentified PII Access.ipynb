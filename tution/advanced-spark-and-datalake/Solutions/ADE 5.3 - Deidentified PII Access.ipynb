{
 "cells": [
  {
   "cell_type": "markdown",
   "source": [
    "# Deidentified PII Access\n",
    "\n",
    "This lesson explores approaches for reducing risk of PII leakage while working with potentially sensitive information for analytics and reporting.\n",
    "\n",
    "<img src=\"https://files.training.databricks.com/images/ade/ADE_arch_user_bins.png\" width=\"60%\" />\n",
    "\n",
    "## Learning Objectives\n",
    "By the end of this lesson, students will be able to:\n",
    "- Apply dynamic views to sensitive data to obscure columns containing PII\n",
    "- Use dynamic views to filter data, only showing relevant rows to relevant audiences\n",
    "- Create binned tables to generalize data and obscure PII"
   ],
   "metadata": {
    "application/vnd.databricks.v1+cell": {
     "showTitle": false,
     "cellMetadata": {},
     "nuid": "229f6283-940c-4be0-97aa-8002d6268894",
     "inputWidgets": {},
     "title": ""
    },
    "pycharm": {
     "name": "#%% md\n"
    }
   }
  },
  {
   "cell_type": "markdown",
   "source": [
    "Begin by running the following cell to set up relevant databases and paths."
   ],
   "metadata": {
    "application/vnd.databricks.v1+cell": {
     "showTitle": false,
     "cellMetadata": {},
     "nuid": "b818a6c4-c917-4bec-b953-d95720c47717",
     "inputWidgets": {},
     "title": ""
    },
    "pycharm": {
     "name": "#%% md\n"
    }
   }
  },
  {
   "cell_type": "code",
   "source": [
    "%run ../Includes/Classroom-Setup-6.3"
   ],
   "metadata": {
    "application/vnd.databricks.v1+cell": {
     "showTitle": false,
     "cellMetadata": {},
     "nuid": "d9ea8e65-1ceb-41bf-a5b1-f556239d5972",
     "inputWidgets": {},
     "title": ""
    },
    "pycharm": {
     "name": "#%%\n"
    }
   },
   "outputs": [],
   "execution_count": 0
  },
  {
   "cell_type": "markdown",
   "source": [
    "## Dynamic Views\n",
    "\n",
    "Databricks <a href=\"https://docs.databricks.com/security/access-control/table-acls/object-privileges.html#dynamic-view-functions\" target=\"_blank\">dynamic views</a> allow user or group identity ACLs to be applied to data at the column (or row) level.\n",
    "\n",
    "Database administrators can configure data access privileges to disallow access to a source table and only allow users to query a redacted view. \n",
    "\n",
    "Users with sufficient privileges will be able to see all fields, while restricted users will be shown arbitrary results, as defined at view creation."
   ],
   "metadata": {
    "application/vnd.databricks.v1+cell": {
     "showTitle": false,
     "cellMetadata": {},
     "nuid": "fabfd76c-3882-46c4-994e-f137a7e485a1",
     "inputWidgets": {},
     "title": ""
    },
    "pycharm": {
     "name": "#%% md\n"
    }
   }
  },
  {
   "cell_type": "markdown",
   "source": [
    "Consider our **`users`** table with the following columns."
   ],
   "metadata": {
    "application/vnd.databricks.v1+cell": {
     "showTitle": false,
     "cellMetadata": {},
     "nuid": "8c7b2d5f-084f-4a91-97b2-d225f2ae7b12",
     "inputWidgets": {},
     "title": ""
    },
    "pycharm": {
     "name": "#%% md\n"
    }
   }
  },
  {
   "cell_type": "code",
   "source": [
    "%sql \n",
    "DESCRIBE TABLE users"
   ],
   "metadata": {
    "application/vnd.databricks.v1+cell": {
     "showTitle": false,
     "cellMetadata": {},
     "nuid": "431506e1-aecc-4cd1-8137-41068a4a557e",
     "inputWidgets": {},
     "title": ""
    },
    "pycharm": {
     "name": "#%%\n"
    }
   },
   "outputs": [],
   "execution_count": 0
  },
  {
   "cell_type": "markdown",
   "source": [
    "Obviously first name, last name, date of birth, and street address are problematic. \n",
    "\n",
    "We'll also obfuscate zip code (as zip code combined with date of birth has a very high confidence in identifying data)."
   ],
   "metadata": {
    "application/vnd.databricks.v1+cell": {
     "showTitle": false,
     "cellMetadata": {},
     "nuid": "3937de05-eddb-40b1-8993-773f825cf441",
     "inputWidgets": {},
     "title": ""
    },
    "pycharm": {
     "name": "#%% md\n"
    }
   }
  },
  {
   "cell_type": "code",
   "source": [
    "%sql\n",
    "CREATE OR REPLACE VIEW users_vw AS\n",
    "  SELECT\n",
    "    alt_id,\n",
    "    CASE \n",
    "      WHEN is_member('ade_demo') THEN dob\n",
    "      ELSE 'REDACTED'\n",
    "    END AS dob,\n",
    "    sex,\n",
    "    gender,\n",
    "    CASE \n",
    "      WHEN is_member('ade_demo') THEN first_name\n",
    "      ELSE 'REDACTED'\n",
    "    END AS first_name,\n",
    "    CASE \n",
    "      WHEN is_member('ade_demo') THEN last_name\n",
    "      ELSE 'REDACTED'\n",
    "    END AS last_name,\n",
    "    CASE \n",
    "      WHEN is_member('ade_demo') THEN street_address\n",
    "      ELSE 'REDACTED'\n",
    "    END AS street_address,\n",
    "    city,\n",
    "    state,\n",
    "    CASE \n",
    "      WHEN is_member('ade_demo') THEN zip\n",
    "      ELSE 'REDACTED'\n",
    "    END AS zip,\n",
    "    updated\n",
    "  FROM users"
   ],
   "metadata": {
    "application/vnd.databricks.v1+cell": {
     "showTitle": false,
     "cellMetadata": {},
     "nuid": "21620b7d-4a86-4ba2-b03f-0b80bc94e4c1",
     "inputWidgets": {},
     "title": ""
    },
    "pycharm": {
     "name": "#%%\n"
    }
   },
   "outputs": [],
   "execution_count": 0
  },
  {
   "cell_type": "markdown",
   "source": [
    "Now when we query from **`users_vw`**, only members of the group **`ade_demo`** will be able to see results in plain text.\n",
    "\n",
    "**NOTE**: You may not have privileges to create groups or assign membership. Your instructor should be able to demonstrate how group membership will change query results."
   ],
   "metadata": {
    "application/vnd.databricks.v1+cell": {
     "showTitle": false,
     "cellMetadata": {},
     "nuid": "b27d1067-703f-4588-ba66-f5887bf34164",
     "inputWidgets": {},
     "title": ""
    },
    "pycharm": {
     "name": "#%% md\n"
    }
   }
  },
  {
   "cell_type": "code",
   "source": [
    "%sql\n",
    "SELECT * FROM users_vw"
   ],
   "metadata": {
    "application/vnd.databricks.v1+cell": {
     "showTitle": false,
     "cellMetadata": {},
     "nuid": "dc9ff45a-4f9a-46bb-a227-006f4a39cc02",
     "inputWidgets": {},
     "title": ""
    },
    "pycharm": {
     "name": "#%%\n"
    }
   },
   "outputs": [],
   "execution_count": 0
  },
  {
   "cell_type": "markdown",
   "source": [
    "## Adding Conditional Row Access\n",
    "\n",
    "Adding views with **`WHERE`** clauses to filter source data on different conditions for teams throughout an organization can be a beneficial option for granting access to only the necessary data to each audience. Dynamic views add the option to create these views with full access to underlying data for users with elevated privileges.\n",
    "\n",
    "Note the views can be layered on top of one another; below, the **`users_vw`** from the previous step is modified with conditional access. Users that aren't members of the specified group will only be able to see records from the city of Los Angeles that have been updated after the specified date."
   ],
   "metadata": {
    "application/vnd.databricks.v1+cell": {
     "showTitle": false,
     "cellMetadata": {},
     "nuid": "2e4f75ff-10d8-459c-8918-baab09fd0985",
     "inputWidgets": {},
     "title": ""
    },
    "pycharm": {
     "name": "#%% md\n"
    }
   }
  },
  {
   "cell_type": "code",
   "source": [
    "%sql\n",
    "CREATE OR REPLACE VIEW users_la_vw AS\n",
    "SELECT * FROM users_vw\n",
    "WHERE \n",
    "  CASE \n",
    "    WHEN is_member('ade_demo') THEN TRUE\n",
    "    ELSE city = \"Los Angeles\" AND updated > \"2019-12-12\"\n",
    "  END"
   ],
   "metadata": {
    "application/vnd.databricks.v1+cell": {
     "showTitle": false,
     "cellMetadata": {},
     "nuid": "90cd0ea8-9017-4456-8a8c-cc2fdc2b82f6",
     "inputWidgets": {},
     "title": ""
    },
    "pycharm": {
     "name": "#%%\n"
    }
   },
   "outputs": [],
   "execution_count": 0
  },
  {
   "cell_type": "code",
   "source": [
    "%sql\n",
    "SELECT * FROM users_la_vw"
   ],
   "metadata": {
    "application/vnd.databricks.v1+cell": {
     "showTitle": false,
     "cellMetadata": {},
     "nuid": "80db7289-a766-4526-9a3d-9dbad01f1152",
     "inputWidgets": {},
     "title": ""
    },
    "pycharm": {
     "name": "#%%\n"
    }
   },
   "outputs": [],
   "execution_count": 0
  },
  {
   "cell_type": "markdown",
   "source": [
    "## Provide Provisional Access to **`user_lookup`** Table\n",
    "\n",
    "Our **`user_lookup`** table allows our ETL pipelines to match up our various identifiers with our **`alt_id`** and pull demographic information, as necessary.\n",
    "\n",
    "Most of our team will not need access to our full PII, but may need to use this table to match up various natural keys from different systems.\n",
    "\n",
    "Define a dynamic view named **`user_lookup_vw`** below that provides conditional access to the **`alt_id`** but full access to the other info in our **`user_lookup`** table."
   ],
   "metadata": {
    "application/vnd.databricks.v1+cell": {
     "showTitle": false,
     "cellMetadata": {},
     "nuid": "9f43a563-5d96-4c0c-b9de-8ff3f59a7348",
     "inputWidgets": {},
     "title": ""
    },
    "pycharm": {
     "name": "#%% md\n"
    }
   }
  },
  {
   "cell_type": "code",
   "source": [
    "%sql\n",
    "-- ANSWER\n",
    "CREATE OR REPLACE VIEW user_lookup_vw AS\n",
    "SELECT \n",
    "  CASE \n",
    "    WHEN is_member('ade_demo') THEN alt_id\n",
    "    ELSE 'REDACTED'\n",
    "  END AS alt_id,\n",
    "  device_id, mac_address, user_id\n",
    "FROM user_lookup"
   ],
   "metadata": {
    "application/vnd.databricks.v1+cell": {
     "showTitle": false,
     "cellMetadata": {},
     "nuid": "0b24dc19-08aa-4a51-829f-9b4e7d5c707c",
     "inputWidgets": {},
     "title": ""
    },
    "pycharm": {
     "name": "#%%\n"
    }
   },
   "outputs": [],
   "execution_count": 0
  },
  {
   "cell_type": "code",
   "source": [
    "%sql\n",
    "SELECT * FROM user_lookup_vw"
   ],
   "metadata": {
    "application/vnd.databricks.v1+cell": {
     "showTitle": false,
     "cellMetadata": {},
     "nuid": "e4b63db0-e1e9-45a3-8fb2-5ed2c4a14f0a",
     "inputWidgets": {},
     "title": ""
    },
    "pycharm": {
     "name": "#%%\n"
    }
   },
   "outputs": [],
   "execution_count": 0
  },
  {
   "cell_type": "markdown",
   "source": [
    "## Generalize PII in Aggregate Tables\n",
    "\n",
    "Another approach to reducing chance of exposing PII is only providing access to data at a less specific level.\n",
    "\n",
    "In this section, we'll assign users to age bins while maintaining their gender, city, and state information. \n",
    "\n",
    "This will provide sufficient demographic information to build comparative dashboards without revealing specific user identity."
   ],
   "metadata": {
    "application/vnd.databricks.v1+cell": {
     "showTitle": false,
     "cellMetadata": {},
     "nuid": "f2440dda-1102-4ec6-b498-ecac7a24d4d6",
     "inputWidgets": {},
     "title": ""
    },
    "pycharm": {
     "name": "#%% md\n"
    }
   }
  },
  {
   "cell_type": "markdown",
   "source": [
    "Here we're just defining custom logic for replacing values with manually-specified labels."
   ],
   "metadata": {
    "application/vnd.databricks.v1+cell": {
     "showTitle": false,
     "cellMetadata": {},
     "nuid": "40d3902a-7e8c-4ad5-8eaa-00bffd931a7d",
     "inputWidgets": {},
     "title": ""
    },
    "pycharm": {
     "name": "#%% md\n"
    }
   }
  },
  {
   "cell_type": "code",
   "source": [
    "def age_bins(dob_col):\n",
    "    age_col = F.floor(F.months_between(F.current_date(), dob_col)/12).alias(\"age\")\n",
    "    \n",
    "    return (F.when((age_col < 18), \"under 18\")\n",
    "             .when((age_col >= 18) & (age_col < 25), \"18-25\")\n",
    "             .when((age_col >= 25) & (age_col < 35), \"25-35\")\n",
    "             .when((age_col >= 35) & (age_col < 45), \"35-45\")\n",
    "             .when((age_col >= 45) & (age_col < 55), \"45-55\")\n",
    "             .when((age_col >= 55) & (age_col < 65), \"55-65\")\n",
    "             .when((age_col >= 65) & (age_col < 75), \"65-75\")\n",
    "             .when((age_col >= 75) & (age_col < 85), \"75-85\")\n",
    "             .when((age_col >= 85) & (age_col < 95), \"85-95\")\n",
    "             .when((age_col >= 95), \"95+\")\n",
    "             .otherwise(\"invalid age\").alias(\"age\"))"
   ],
   "metadata": {
    "application/vnd.databricks.v1+cell": {
     "showTitle": false,
     "cellMetadata": {},
     "nuid": "cfcee954-ca1e-43fb-b6aa-b352c865e8c6",
     "inputWidgets": {},
     "title": ""
    },
    "pycharm": {
     "name": "#%%\n"
    }
   },
   "outputs": [],
   "execution_count": 0
  },
  {
   "cell_type": "markdown",
   "source": [
    "Because this aggregate view of demographic information is no longer personally identifiable, we can safely store this using our natural key.\n",
    "\n",
    "We'll reference our **`user_lookup`** table to match our IDs."
   ],
   "metadata": {
    "application/vnd.databricks.v1+cell": {
     "showTitle": false,
     "cellMetadata": {},
     "nuid": "97165a9a-5039-45d4-b9e3-b1343be21c83",
     "inputWidgets": {},
     "title": ""
    },
    "pycharm": {
     "name": "#%% md\n"
    }
   }
  },
  {
   "cell_type": "code",
   "source": [
    "from pyspark.sql import functions as F\n",
    "\n",
    "users_df = spark.table(\"users\")\n",
    "lookup_df = spark.table(\"user_lookup\").select(\"alt_id\", \"user_id\")\n",
    "\n",
    "bins_df = users_df.join(lookup_df, [\"alt_id\"], \"left\").select(\"user_id\", age_bins(F.col(\"dob\")),\"gender\", \"city\", \"state\")"
   ],
   "metadata": {
    "application/vnd.databricks.v1+cell": {
     "showTitle": false,
     "cellMetadata": {},
     "nuid": "bf75edf5-d9c2-4e0d-a547-4f0cde37ab60",
     "inputWidgets": {},
     "title": ""
    },
    "pycharm": {
     "name": "#%%\n"
    }
   },
   "outputs": [],
   "execution_count": 0
  },
  {
   "cell_type": "code",
   "source": [
    "display(bins_df)"
   ],
   "metadata": {
    "application/vnd.databricks.v1+cell": {
     "showTitle": false,
     "cellMetadata": {},
     "nuid": "06c04a57-8290-4fad-962d-c2d105115923",
     "inputWidgets": {},
     "title": ""
    },
    "pycharm": {
     "name": "#%%\n"
    }
   },
   "outputs": [],
   "execution_count": 0
  },
  {
   "cell_type": "markdown",
   "source": [
    "This binned demographic data will be saved to a table for our analysts to reference."
   ],
   "metadata": {
    "application/vnd.databricks.v1+cell": {
     "showTitle": false,
     "cellMetadata": {},
     "nuid": "aab0b2ab-6c01-401e-a36f-32107aa58017",
     "inputWidgets": {},
     "title": ""
    },
    "pycharm": {
     "name": "#%% md\n"
    }
   }
  },
  {
   "cell_type": "code",
   "source": [
    "(bins_df.write\n",
    "        .format(\"delta\")\n",
    "        .option(\"path\", f\"{DA.paths.working_dir}/user_bins\")\n",
    "        .mode(\"overwrite\")\n",
    "        .saveAsTable(\"user_bins\"))"
   ],
   "metadata": {
    "application/vnd.databricks.v1+cell": {
     "showTitle": false,
     "cellMetadata": {},
     "nuid": "a5ec2e81-03fa-4e52-bf8d-353b82cc0d85",
     "inputWidgets": {},
     "title": ""
    },
    "pycharm": {
     "name": "#%%\n"
    }
   },
   "outputs": [],
   "execution_count": 0
  },
  {
   "cell_type": "code",
   "source": [
    "%sql\n",
    "SELECT * FROM user_bins"
   ],
   "metadata": {
    "application/vnd.databricks.v1+cell": {
     "showTitle": false,
     "cellMetadata": {},
     "nuid": "c9cd1b33-1acf-45a6-b4b6-8403343056db",
     "inputWidgets": {},
     "title": ""
    },
    "pycharm": {
     "name": "#%%\n"
    }
   },
   "outputs": [],
   "execution_count": 0
  },
  {
   "cell_type": "markdown",
   "source": [
    "Note that as currently implemented, each time this logic is processed, all records will be overwritten with newly calculated values. To decrease chances of identifying birth date at binned boundaries, random noise could be added to the values used to calculate age bins (generally keeping age bins accurate, but reducing the likelihood of transitioning a user to a new bin on their exact birthday)."
   ],
   "metadata": {
    "application/vnd.databricks.v1+cell": {
     "showTitle": false,
     "cellMetadata": {},
     "nuid": "2678ffe0-1e4e-49b9-a8cc-a21701792151",
     "inputWidgets": {},
     "title": ""
    },
    "pycharm": {
     "name": "#%% md\n"
    }
   }
  },
  {
   "cell_type": "markdown",
   "source": [
    "Run the following cell to delete the tables and files associated with this lesson."
   ],
   "metadata": {
    "application/vnd.databricks.v1+cell": {
     "showTitle": false,
     "cellMetadata": {},
     "nuid": "e635e722-7215-4cbd-9292-d84fe5842589",
     "inputWidgets": {},
     "title": ""
    },
    "pycharm": {
     "name": "#%% md\n"
    }
   }
  },
  {
   "cell_type": "code",
   "source": [
    "DA.cleanup()"
   ],
   "metadata": {
    "application/vnd.databricks.v1+cell": {
     "showTitle": false,
     "cellMetadata": {},
     "nuid": "2a437241-93c0-45f8-afb1-b9d8342ff7fb",
     "inputWidgets": {},
     "title": ""
    },
    "pycharm": {
     "name": "#%%\n"
    }
   },
   "outputs": [],
   "execution_count": 0
  }
 ],
 "metadata": {
  "application/vnd.databricks.v1+notebook": {
   "notebookName": "ADE 5.3 - Deidentified PII Access",
   "dashboards": [],
   "notebookMetadata": {
    "pythonIndentUnit": 2
   },
   "language": "python",
   "widgets": {},
   "notebookOrigID": 4185566132528497
  }
 },
 "nbformat": 4,
 "nbformat_minor": 0
}