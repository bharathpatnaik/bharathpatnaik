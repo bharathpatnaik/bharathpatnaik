{
 "cells": [
  {
   "cell_type": "markdown",
   "source": [
    "# Streaming Design Patterns\n",
    "\n",
    "The Lakehouse has been designed from the beginning to work seamlessly with datasets that grow infinitely over time. While Spark Structured Streaming is often positioned as a near real-time data processing solution, it combines with Delta Lake to also provide easy batch processing of incremental data while drastically simplifying the overhead required to track data changes over time.\n",
    "\n",
    "## Learning Objectives\n",
    "By the end of this lessons, student will be able to:\n",
    "- Use Structured Streaming to complete simple incremental ETL\n",
    "- Perform incremental writes to multiple tables\n",
    "- Incrementally update values in a key value store\n",
    "- Process Change Data Capture (CDC) data into Delta Tables using **`MERGE`**\n",
    "- Join two incremental tables\n",
    "- Join incremental and batch tables"
   ],
   "metadata": {
    "application/vnd.databricks.v1+cell": {
     "showTitle": false,
     "cellMetadata": {},
     "nuid": "5b55f024-1555-4119-bec5-7558cad9e5a5",
     "inputWidgets": {},
     "title": ""
    },
    "pycharm": {
     "name": "#%% md\n"
    }
   }
  },
  {
   "cell_type": "markdown",
   "source": [
    "Run the following script to setup necessary variables and clear out past runs of this notebook."
   ],
   "metadata": {
    "application/vnd.databricks.v1+cell": {
     "showTitle": false,
     "cellMetadata": {},
     "nuid": "0debd008-2a5a-47ac-a141-6c99f3763d22",
     "inputWidgets": {},
     "title": ""
    },
    "pycharm": {
     "name": "#%% md\n"
    }
   }
  },
  {
   "cell_type": "code",
   "source": [
    "%run ../Includes/Classroom-Setup-2.1"
   ],
   "metadata": {
    "application/vnd.databricks.v1+cell": {
     "showTitle": false,
     "cellMetadata": {},
     "nuid": "6d0863ca-87ab-4bcf-af10-00c4b748edb1",
     "inputWidgets": {},
     "title": ""
    },
    "pycharm": {
     "name": "#%%\n"
    }
   },
   "outputs": [],
   "execution_count": 0
  },
  {
   "cell_type": "markdown",
   "source": [
    "## Simple Incremental ETL\n",
    "\n",
    "Likely the highest volume of data being processed by most organizations could largely be describing as moving data from one location to another while applying light transformations and validations. \n",
    "\n",
    "As most source data continues to grow as time passes, it's appropriate to refer to this data as incremental (sometimes also referred to as streaming data). \n",
    "\n",
    "Structured Streaming and Delta Lake make incremental ETL easy. \n",
    "\n",
    "Below we'll create a simple table and insert some values."
   ],
   "metadata": {
    "application/vnd.databricks.v1+cell": {
     "showTitle": false,
     "cellMetadata": {},
     "nuid": "c149dde2-35d0-4555-8b2b-1b85128c3509",
     "inputWidgets": {},
     "title": ""
    },
    "pycharm": {
     "name": "#%% md\n"
    }
   }
  },
  {
   "cell_type": "code",
   "source": [
    "%sql\n",
    "\n",
    "CREATE TABLE bronze \n",
    "(id INT, name STRING, value DOUBLE); \n",
    "\n",
    "INSERT INTO bronze\n",
    "VALUES (1, \"Yve\", 1.0),\n",
    "       (2, \"Omar\", 2.5),\n",
    "       (3, \"Elia\", 3.3)"
   ],
   "metadata": {
    "application/vnd.databricks.v1+cell": {
     "showTitle": false,
     "cellMetadata": {},
     "nuid": "c039f0f1-62e2-46f7-810d-0dde853977de",
     "inputWidgets": {},
     "title": ""
    },
    "pycharm": {
     "name": "#%%\n"
    }
   },
   "outputs": [],
   "execution_count": 0
  },
  {
   "cell_type": "markdown",
   "source": [
    "The following cell defines an incremental read on the table just created using Structured Streaming, adds a field to capture when the record was processed, and writes out to a new table as a single batch."
   ],
   "metadata": {
    "application/vnd.databricks.v1+cell": {
     "showTitle": false,
     "cellMetadata": {},
     "nuid": "488fe8d4-eff6-4b1f-8b85-74b089dc1aa4",
     "inputWidgets": {},
     "title": ""
    },
    "pycharm": {
     "name": "#%% md\n"
    }
   }
  },
  {
   "cell_type": "code",
   "source": [
    "from pyspark.sql import functions as F\n",
    "\n",
    "def update_silver():\n",
    "    query = (spark.readStream\n",
    "                  .table(\"bronze\")\n",
    "                  .withColumn(\"processed_time\", F.current_timestamp())\n",
    "                  .writeStream.option(\"checkpointLocation\", f\"{DA.paths.checkpoints}/silver\")\n",
    "                  .trigger(availableNow=True)\n",
    "                  .table(\"silver\"))\n",
    "    \n",
    "    query.awaitTermination()\n"
   ],
   "metadata": {
    "application/vnd.databricks.v1+cell": {
     "showTitle": false,
     "cellMetadata": {},
     "nuid": "2139cf57-45a5-4c6b-8868-030415497ccc",
     "inputWidgets": {},
     "title": ""
    },
    "pycharm": {
     "name": "#%%\n"
    }
   },
   "outputs": [],
   "execution_count": 0
  },
  {
   "cell_type": "markdown",
   "source": [
    "While this code uses Structured Streaming, it's appropriate to think of this as a triggered batch processing incremental changes.\n",
    "\n",
    "<img src=\"https://files.training.databricks.com/images/icon_note_32.png\"></img>\n",
    "To facilitate the demonstration of structured streams, we are using **`trigger(availableNow=True)`** to slow\n",
    "down the processing of the data combined with **`query.awaitTermination()`** to prevent the lesson from\n",
    "moving forward until the one batch is processed.  **trigger-available-now** is very similar to **trigger-once** but can run\n",
    "multiple batches until all available data is consumed instead of once big batch and is introduced in\n",
    "<a href=\"https://spark.apache.org/releases/spark-release-3-3-0.html\" target=\"_blank\">Spark 3.3.0</a> and\n",
    "<a href=\"https://docs.databricks.com/release-notes/runtime/10.4.html\" target=\"_blank\">Databricks Runtime 10.4 LTS</a>."
   ],
   "metadata": {
    "application/vnd.databricks.v1+cell": {
     "showTitle": false,
     "cellMetadata": {},
     "nuid": "b6cb7b78-ddd1-4a82-b2ce-b5d558ee38a4",
     "inputWidgets": {},
     "title": ""
    },
    "pycharm": {
     "name": "#%% md\n"
    }
   }
  },
  {
   "cell_type": "code",
   "source": [
    "update_silver()"
   ],
   "metadata": {
    "application/vnd.databricks.v1+cell": {
     "showTitle": false,
     "cellMetadata": {},
     "nuid": "11efb6bb-8516-4dde-bba9-f9908bbee3a9",
     "inputWidgets": {},
     "title": ""
    },
    "pycharm": {
     "name": "#%%\n"
    }
   },
   "outputs": [],
   "execution_count": 0
  },
  {
   "cell_type": "markdown",
   "source": [
    "As expected, the stream runs for a very brief time, and the **`silver`** table written contains all the values previously written to **`bronze`**."
   ],
   "metadata": {
    "application/vnd.databricks.v1+cell": {
     "showTitle": false,
     "cellMetadata": {},
     "nuid": "3dffdfb8-17cf-417a-a7d2-5b2cabd63967",
     "inputWidgets": {},
     "title": ""
    },
    "pycharm": {
     "name": "#%% md\n"
    }
   }
  },
  {
   "cell_type": "code",
   "source": [
    "%sql\n",
    "SELECT * FROM silver\n",
    "ORDER BY processed_time DESC, id DESC"
   ],
   "metadata": {
    "application/vnd.databricks.v1+cell": {
     "showTitle": false,
     "cellMetadata": {},
     "nuid": "8b9bdcad-f0f0-42cb-ac39-d6e03c71c792",
     "inputWidgets": {},
     "title": ""
    },
    "pycharm": {
     "name": "#%%\n"
    }
   },
   "outputs": [],
   "execution_count": 0
  },
  {
   "cell_type": "markdown",
   "source": [
    "Processing new records is as easy as adding them to our source table **`bronze`**..."
   ],
   "metadata": {
    "application/vnd.databricks.v1+cell": {
     "showTitle": false,
     "cellMetadata": {},
     "nuid": "fcdfc99a-eec5-4b91-9517-b5ceb0ff6e82",
     "inputWidgets": {},
     "title": ""
    },
    "pycharm": {
     "name": "#%% md\n"
    }
   }
  },
  {
   "cell_type": "code",
   "source": [
    "%sql\n",
    "INSERT INTO bronze\n",
    "VALUES (4, \"Ted\", 4.7),\n",
    "       (5, \"Tiffany\", 5.5),\n",
    "       (6, \"Vini\", 6.3)"
   ],
   "metadata": {
    "application/vnd.databricks.v1+cell": {
     "showTitle": false,
     "cellMetadata": {},
     "nuid": "1bf2c5cf-48f1-4a3d-b887-80dc4baf57ea",
     "inputWidgets": {},
     "title": ""
    },
    "pycharm": {
     "name": "#%%\n"
    }
   },
   "outputs": [],
   "execution_count": 0
  },
  {
   "cell_type": "markdown",
   "source": [
    "... and re-executing the incremental batch processing code."
   ],
   "metadata": {
    "application/vnd.databricks.v1+cell": {
     "showTitle": false,
     "cellMetadata": {},
     "nuid": "f1dd45a2-4e48-4102-a01b-f071c5c0befb",
     "inputWidgets": {},
     "title": ""
    },
    "pycharm": {
     "name": "#%% md\n"
    }
   }
  },
  {
   "cell_type": "code",
   "source": [
    "update_silver()"
   ],
   "metadata": {
    "application/vnd.databricks.v1+cell": {
     "showTitle": false,
     "cellMetadata": {},
     "nuid": "16b2950d-6720-4656-b095-f59937c09642",
     "inputWidgets": {},
     "title": ""
    },
    "pycharm": {
     "name": "#%%\n"
    }
   },
   "outputs": [],
   "execution_count": 0
  },
  {
   "cell_type": "markdown",
   "source": [
    "Delta Lake is ideally suited for easily tracking and propagating inserted data through a series of tables. This pattern has a number of names, including \"medallion\", \"multi-hop\", \"Delta\", and \"bronze/silver/gold\" architecture."
   ],
   "metadata": {
    "application/vnd.databricks.v1+cell": {
     "showTitle": false,
     "cellMetadata": {},
     "nuid": "fccebb9b-5dcb-4087-b15c-d730d0748d03",
     "inputWidgets": {},
     "title": ""
    },
    "pycharm": {
     "name": "#%% md\n"
    }
   }
  },
  {
   "cell_type": "code",
   "source": [
    "%sql\n",
    "SELECT * FROM silver\n",
    "ORDER BY processed_time DESC, id DESC"
   ],
   "metadata": {
    "application/vnd.databricks.v1+cell": {
     "showTitle": false,
     "cellMetadata": {},
     "nuid": "c2e9d43d-425c-4413-b358-136a909e658a",
     "inputWidgets": {},
     "title": ""
    },
    "pycharm": {
     "name": "#%%\n"
    }
   },
   "outputs": [],
   "execution_count": 0
  },
  {
   "cell_type": "markdown",
   "source": [
    "## Writing to Multiple Tables\n",
    "\n",
    "Those familiar with Structured Streaming may be aware that the **`foreachBatch`** method provides the option to execute custom data writing logic on each microbatch of streaming data.\n",
    "\n",
    "The Databricks Runtime provides guarantees that these <a href=\"https://docs.databricks.com/delta/delta-streaming.html#idempot-write\" target=\"_blank\">streaming Delta Lake writes will be idempotent</a>, even when writing to multiple tables, IF you set the \"txnVersion\" and \"txnAppId\" options. This is especially useful when data for multiple tables might be contained within a single record.  This was added in <a href=\"https://docs.databricks.com/release-notes/runtime/8.4.html\" target=\"_blank\">Databricks Runtime 8.4</a>.\n",
    "\n",
    "The code below first defines the custom writer logic to append records to two new tables, and then demonstrates using this function within **`foreachBatch`**.\n",
    "\n",
    "There is some debate as to whether you should use foreachBatch to write to multiple tables or to simply use multiple streams.  Generally multiple streams is the simpler and more efficient design because it allows streaming jobs writing to each table to run independently of each other.  Whereas using foreachBatch to write to multiple tables has the advantage of keeping writes to the two tables in sync."
   ],
   "metadata": {
    "application/vnd.databricks.v1+cell": {
     "showTitle": false,
     "cellMetadata": {},
     "nuid": "d1f2ea1d-b725-4122-b2ff-963b15d599de",
     "inputWidgets": {},
     "title": ""
    },
    "pycharm": {
     "name": "#%% md\n"
    }
   }
  },
  {
   "cell_type": "code",
   "source": [
    "def write_twice(microBatchDF, batchId):\n",
    "    appId = \"write_twice\"\n",
    "    \n",
    "    microBatchDF.select(\"id\", \"name\", F.current_timestamp().alias(\"processed_time\")).write.option(\"txnVersion\", batchId).option(\"txnAppId\", appId).mode(\"append\").saveAsTable(\"silver_name\")\n",
    "    \n",
    "    microBatchDF.select(\"id\", \"value\", F.current_timestamp().alias(\"processed_time\")).write.option(\"txnVersion\", batchId).option(\"txnAppId\", appId).mode(\"append\").saveAsTable(\"silver_value\")\n",
    "\n",
    "\n",
    "def split_stream():\n",
    "    query = (spark.readStream.table(\"bronze\")\n",
    "                 .writeStream\n",
    "                 .foreachBatch(write_twice)\n",
    "                 .option(\"checkpointLocation\", f\"{DA.paths.checkpoints}/split_stream\")\n",
    "                 .trigger(availableNow=True)\n",
    "                 .start())\n",
    "    \n",
    "    query.awaitTermination()\n",
    "    "
   ],
   "metadata": {
    "application/vnd.databricks.v1+cell": {
     "showTitle": false,
     "cellMetadata": {},
     "nuid": "e4f8dc78-c734-43d7-909b-30acbab1d11e",
     "inputWidgets": {},
     "title": ""
    },
    "pycharm": {
     "name": "#%%\n"
    }
   },
   "outputs": [],
   "execution_count": 0
  },
  {
   "cell_type": "markdown",
   "source": [
    "Note that while a stream will again be triggered, the two writes contained within the **`write_twice`** function are using Spark batch syntax. This will always be the case for writers called by **`foreachBatch`**."
   ],
   "metadata": {
    "application/vnd.databricks.v1+cell": {
     "showTitle": false,
     "cellMetadata": {},
     "nuid": "a059c727-7535-4603-8ace-ec273d516cd6",
     "inputWidgets": {},
     "title": ""
    },
    "pycharm": {
     "name": "#%% md\n"
    }
   }
  },
  {
   "cell_type": "code",
   "source": [
    "split_stream()"
   ],
   "metadata": {
    "application/vnd.databricks.v1+cell": {
     "showTitle": false,
     "cellMetadata": {},
     "nuid": "ff047097-b0ba-4b86-9543-cd39eb9e6746",
     "inputWidgets": {},
     "title": ""
    },
    "pycharm": {
     "name": "#%%\n"
    }
   },
   "outputs": [],
   "execution_count": 0
  },
  {
   "cell_type": "markdown",
   "source": [
    "The cells below demonstrate the logic was applied properly to split the initial data into two tables."
   ],
   "metadata": {
    "application/vnd.databricks.v1+cell": {
     "showTitle": false,
     "cellMetadata": {},
     "nuid": "958ea418-a8a7-41b7-8a8d-c000697a47dd",
     "inputWidgets": {},
     "title": ""
    },
    "pycharm": {
     "name": "#%% md\n"
    }
   }
  },
  {
   "cell_type": "code",
   "source": [
    "%sql\n",
    "SELECT * FROM silver_name\n",
    "ORDER BY processed_time DESC, id DESC"
   ],
   "metadata": {
    "application/vnd.databricks.v1+cell": {
     "showTitle": false,
     "cellMetadata": {},
     "nuid": "7856628f-0f80-43da-873e-b9a1ca43d150",
     "inputWidgets": {},
     "title": ""
    },
    "pycharm": {
     "name": "#%%\n"
    }
   },
   "outputs": [],
   "execution_count": 0
  },
  {
   "cell_type": "markdown",
   "source": [
    "Note that the **`processed_time`** for each of these tables differs slightly. The logic defined above captures the current timestamp at the time each write executes, demonstrating that while both writes happen within the same streaming microbatch process, they are fully independent transactions (as such, downstream logic should be tolerant for slightly asynchronous updates)."
   ],
   "metadata": {
    "application/vnd.databricks.v1+cell": {
     "showTitle": false,
     "cellMetadata": {},
     "nuid": "34d86a6b-5b3f-4dc8-aab7-4cba3fa07110",
     "inputWidgets": {},
     "title": ""
    },
    "pycharm": {
     "name": "#%% md\n"
    }
   }
  },
  {
   "cell_type": "code",
   "source": [
    "%sql\n",
    "SELECT * FROM silver_value\n",
    "ORDER BY processed_time DESC, id DESC"
   ],
   "metadata": {
    "application/vnd.databricks.v1+cell": {
     "showTitle": false,
     "cellMetadata": {},
     "nuid": "13889e61-cca7-4337-858e-3a867dcba0d6",
     "inputWidgets": {},
     "title": ""
    },
    "pycharm": {
     "name": "#%%\n"
    }
   },
   "outputs": [],
   "execution_count": 0
  },
  {
   "cell_type": "markdown",
   "source": [
    "Insert more values into the **`bronze`** table."
   ],
   "metadata": {
    "application/vnd.databricks.v1+cell": {
     "showTitle": false,
     "cellMetadata": {},
     "nuid": "404d5ee5-2872-46d7-b3ec-61b7c9d8c6f7",
     "inputWidgets": {},
     "title": ""
    },
    "pycharm": {
     "name": "#%% md\n"
    }
   }
  },
  {
   "cell_type": "code",
   "source": [
    "%sql\n",
    "INSERT INTO bronze\n",
    "VALUES (7, \"Viktor\", 7.4),\n",
    "       (8, \"Hiro\", 8.2),\n",
    "       (9, \"Shana\", 9.9)"
   ],
   "metadata": {
    "application/vnd.databricks.v1+cell": {
     "showTitle": false,
     "cellMetadata": {},
     "nuid": "2a2f9eea-c2d2-4cf5-b660-86291972357d",
     "inputWidgets": {},
     "title": ""
    },
    "pycharm": {
     "name": "#%%\n"
    }
   },
   "outputs": [],
   "execution_count": 0
  },
  {
   "cell_type": "markdown",
   "source": [
    "And we can now pick up these new records and write to two tables."
   ],
   "metadata": {
    "application/vnd.databricks.v1+cell": {
     "showTitle": false,
     "cellMetadata": {},
     "nuid": "baf5cacd-ac23-40a6-9dcc-49f801108df8",
     "inputWidgets": {},
     "title": ""
    },
    "pycharm": {
     "name": "#%% md\n"
    }
   }
  },
  {
   "cell_type": "code",
   "source": [
    "split_stream()"
   ],
   "metadata": {
    "application/vnd.databricks.v1+cell": {
     "showTitle": false,
     "cellMetadata": {},
     "nuid": "24c59daa-1e95-4747-8a2a-48d70c4c3258",
     "inputWidgets": {},
     "title": ""
    },
    "pycharm": {
     "name": "#%%\n"
    }
   },
   "outputs": [],
   "execution_count": 0
  },
  {
   "cell_type": "markdown",
   "source": [
    "As expected, only new values are inserted into the two tables, again a few moments apart."
   ],
   "metadata": {
    "application/vnd.databricks.v1+cell": {
     "showTitle": false,
     "cellMetadata": {},
     "nuid": "80636633-155f-451f-b7a8-0d76984dc51a",
     "inputWidgets": {},
     "title": ""
    },
    "pycharm": {
     "name": "#%% md\n"
    }
   }
  },
  {
   "cell_type": "code",
   "source": [
    "%sql\n",
    "SELECT * FROM silver_name\n",
    "ORDER BY processed_time DESC, id DESC"
   ],
   "metadata": {
    "application/vnd.databricks.v1+cell": {
     "showTitle": false,
     "cellMetadata": {},
     "nuid": "012fc218-c3a1-4623-bfdd-3ff59596b2eb",
     "inputWidgets": {},
     "title": ""
    },
    "pycharm": {
     "name": "#%%\n"
    }
   },
   "outputs": [],
   "execution_count": 0
  },
  {
   "cell_type": "code",
   "source": [
    "%sql\n",
    "SELECT * FROM silver_value\n",
    "ORDER BY processed_time DESC, id DESC"
   ],
   "metadata": {
    "application/vnd.databricks.v1+cell": {
     "showTitle": false,
     "cellMetadata": {},
     "nuid": "3ca7ddac-afdc-404e-b115-6eff0bed4b59",
     "inputWidgets": {},
     "title": ""
    },
    "pycharm": {
     "name": "#%%\n"
    }
   },
   "outputs": [],
   "execution_count": 0
  },
  {
   "cell_type": "markdown",
   "source": [
    "## Update Aggregates in a Key-Value Store\n",
    "\n",
    "Incremental aggregation can be useful for a number of purposes, including dashboarding and enriching reports with current summary data.\n",
    "\n",
    "The logic below defines a handful of aggregations against the **`silver`** table."
   ],
   "metadata": {
    "application/vnd.databricks.v1+cell": {
     "showTitle": false,
     "cellMetadata": {},
     "nuid": "98b82b8a-dce7-4f78-b0b7-686094d9347b",
     "inputWidgets": {},
     "title": ""
    },
    "pycharm": {
     "name": "#%% md\n"
    }
   }
  },
  {
   "cell_type": "code",
   "source": [
    "def update_key_value():\n",
    "    query = (spark.readStream\n",
    "                  .table(\"silver\")\n",
    "                  .groupBy(\"id\")\n",
    "                  .agg(F.sum(\"value\").alias(\"total_value\"), \n",
    "                       F.mean(\"value\").alias(\"avg_value\"),\n",
    "                       F.count(\"value\").alias(\"record_count\"))\n",
    "                  .writeStream\n",
    "                  .option(\"checkpointLocation\", f\"{DA.paths.checkpoints}/key_value\")\n",
    "                  .outputMode(\"complete\")\n",
    "                  .trigger(availableNow=True)\n",
    "                  .table(\"key_value\"))\n",
    "    \n",
    "    query.awaitTermination()\n",
    "    "
   ],
   "metadata": {
    "application/vnd.databricks.v1+cell": {
     "showTitle": false,
     "cellMetadata": {},
     "nuid": "b4633993-002b-401d-92bc-79a2c20b1ba7",
     "inputWidgets": {},
     "title": ""
    },
    "pycharm": {
     "name": "#%%\n"
    }
   },
   "outputs": [],
   "execution_count": 0
  },
  {
   "cell_type": "markdown",
   "source": [
    "**NOTE**: Because the transformations above require shuffling data, setting the number of shuffle partitions to the maximum number of cores will provide more efficient performance. \n",
    "\n",
    "The default number of shuffle partitions (200) can cripple many streaming jobs.\n",
    "\n",
    "As such, it's a reasonably good practice to simply use the maximum number of cores as the high end, and if smaller, maintain a factor of the number of cores.\n",
    "\n",
    "Naturally, this generalized advice changes as you increase the number of streams running on a single cluster."
   ],
   "metadata": {
    "application/vnd.databricks.v1+cell": {
     "showTitle": false,
     "cellMetadata": {},
     "nuid": "73e6a0f2-79c8-4483-9b24-66c76de63b1b",
     "inputWidgets": {},
     "title": ""
    },
    "pycharm": {
     "name": "#%% md\n"
    }
   }
  },
  {
   "cell_type": "code",
   "source": [
    "print(f\"Executor cores: {sc.defaultParallelism}\")\n",
    "spark.conf.set(\"spark.sql.shuffle.partitions\", sc.defaultParallelism)"
   ],
   "metadata": {
    "application/vnd.databricks.v1+cell": {
     "showTitle": false,
     "cellMetadata": {},
     "nuid": "c794f2ec-74ed-4ec0-9f8d-210645b010d6",
     "inputWidgets": {},
     "title": ""
    },
    "pycharm": {
     "name": "#%%\n"
    }
   },
   "outputs": [],
   "execution_count": 0
  },
  {
   "cell_type": "code",
   "source": [
    "update_key_value()"
   ],
   "metadata": {
    "application/vnd.databricks.v1+cell": {
     "showTitle": false,
     "cellMetadata": {},
     "nuid": "4f8247bf-cb5b-4957-92ce-95b38d9b9487",
     "inputWidgets": {},
     "title": ""
    },
    "pycharm": {
     "name": "#%%\n"
    }
   },
   "outputs": [],
   "execution_count": 0
  },
  {
   "cell_type": "code",
   "source": [
    "%sql\n",
    "SELECT * FROM key_value\n",
    "ORDER BY id"
   ],
   "metadata": {
    "application/vnd.databricks.v1+cell": {
     "showTitle": false,
     "cellMetadata": {},
     "nuid": "553a0ab6-5882-4871-86ce-b286d8360c6c",
     "inputWidgets": {},
     "title": ""
    },
    "pycharm": {
     "name": "#%%\n"
    }
   },
   "outputs": [],
   "execution_count": 0
  },
  {
   "cell_type": "markdown",
   "source": [
    "Adding more values to the **`silver`** table will allow more interesting aggregation."
   ],
   "metadata": {
    "application/vnd.databricks.v1+cell": {
     "showTitle": false,
     "cellMetadata": {},
     "nuid": "5c4320d5-e101-4f1f-98e6-67b2f5834b1d",
     "inputWidgets": {},
     "title": ""
    },
    "pycharm": {
     "name": "#%% md\n"
    }
   }
  },
  {
   "cell_type": "code",
   "source": [
    "%sql\n",
    "INSERT INTO silver\n",
    "VALUES (1, \"Yve\", 1.0, current_timestamp()),\n",
    "       (2, \"Omar\", 2.5, current_timestamp()),\n",
    "       (3, \"Elia\", 3.3, current_timestamp()),\n",
    "       (7, \"Viktor\", 7.4, current_timestamp()),\n",
    "       (8, \"Hiro\", 8.2, current_timestamp()),\n",
    "       (9, \"Shana\", 9.9, current_timestamp())"
   ],
   "metadata": {
    "application/vnd.databricks.v1+cell": {
     "showTitle": false,
     "cellMetadata": {},
     "nuid": "5b3ebb2f-7e0c-473d-a311-f5574d1312c1",
     "inputWidgets": {},
     "title": ""
    },
    "pycharm": {
     "name": "#%%\n"
    }
   },
   "outputs": [],
   "execution_count": 0
  },
  {
   "cell_type": "markdown",
   "source": [
    "One thing to note is that the logic being executed is currently overwriting the resulting table with each write. In the next section, **`MERGE`** will be used in combination with **`foreachBatch`** to update existing records. This pattern can also be applied with key-value stores."
   ],
   "metadata": {
    "application/vnd.databricks.v1+cell": {
     "showTitle": false,
     "cellMetadata": {},
     "nuid": "c4b488ad-d289-4131-bf58-34e490de6676",
     "inputWidgets": {},
     "title": ""
    },
    "pycharm": {
     "name": "#%% md\n"
    }
   }
  },
  {
   "cell_type": "code",
   "source": [
    "update_key_value()"
   ],
   "metadata": {
    "application/vnd.databricks.v1+cell": {
     "showTitle": false,
     "cellMetadata": {},
     "nuid": "e7773084-836e-4103-a2f9-00194e115e81",
     "inputWidgets": {},
     "title": ""
    },
    "pycharm": {
     "name": "#%%\n"
    }
   },
   "outputs": [],
   "execution_count": 0
  },
  {
   "cell_type": "code",
   "source": [
    "%sql\n",
    "SELECT * FROM key_value\n",
    "ORDER BY id"
   ],
   "metadata": {
    "application/vnd.databricks.v1+cell": {
     "showTitle": false,
     "cellMetadata": {},
     "nuid": "9d32d34d-673b-46ff-abd0-26ac881e7fa1",
     "inputWidgets": {},
     "title": ""
    },
    "pycharm": {
     "name": "#%%\n"
    }
   },
   "outputs": [],
   "execution_count": 0
  },
  {
   "cell_type": "markdown",
   "source": [
    "## Processing Change Data Capture Data\n",
    "While the change data capture (CDC) data emitted by various systems will vary greatly, incrementally processing these data with Databricks is straightforward.\n",
    "\n",
    "Here the **`bronze_status`** table will represent the raw CDC information, rather than row-level data."
   ],
   "metadata": {
    "application/vnd.databricks.v1+cell": {
     "showTitle": false,
     "cellMetadata": {},
     "nuid": "7656f894-46ae-494d-a42b-4514fb0fddc2",
     "inputWidgets": {},
     "title": ""
    },
    "pycharm": {
     "name": "#%% md\n"
    }
   }
  },
  {
   "cell_type": "code",
   "source": [
    "%sql\n",
    "CREATE TABLE bronze_status \n",
    "(user_id INT, status STRING, update_type STRING, processed_timestamp TIMESTAMP);\n",
    "\n",
    "INSERT INTO bronze_status\n",
    "VALUES  (1, \"new\", \"insert\", current_timestamp()),\n",
    "        (2, \"repeat\", \"update\", current_timestamp()),\n",
    "        (3, \"at risk\", \"update\", current_timestamp()),\n",
    "        (4, \"churned\", \"update\", current_timestamp()),\n",
    "        (5, null, \"delete\", current_timestamp())"
   ],
   "metadata": {
    "application/vnd.databricks.v1+cell": {
     "showTitle": false,
     "cellMetadata": {},
     "nuid": "3d6226cb-5dad-4f73-aeb1-b46ca684256f",
     "inputWidgets": {},
     "title": ""
    },
    "pycharm": {
     "name": "#%%\n"
    }
   },
   "outputs": [],
   "execution_count": 0
  },
  {
   "cell_type": "markdown",
   "source": [
    "The **`silver_status`** table below has been created to track the current **`status`** for a given **`user_id`**."
   ],
   "metadata": {
    "application/vnd.databricks.v1+cell": {
     "showTitle": false,
     "cellMetadata": {},
     "nuid": "fc54edf1-113b-4a15-a257-eda0a648d4e5",
     "inputWidgets": {},
     "title": ""
    },
    "pycharm": {
     "name": "#%% md\n"
    }
   }
  },
  {
   "cell_type": "code",
   "source": [
    "%sql\n",
    "CREATE TABLE silver_status (user_id INT, status STRING, updated_timestamp TIMESTAMP)"
   ],
   "metadata": {
    "application/vnd.databricks.v1+cell": {
     "showTitle": false,
     "cellMetadata": {},
     "nuid": "0d28d64f-3e8f-4e67-b7d9-dba84f377c59",
     "inputWidgets": {},
     "title": ""
    },
    "pycharm": {
     "name": "#%%\n"
    }
   },
   "outputs": [],
   "execution_count": 0
  },
  {
   "cell_type": "markdown",
   "source": [
    "The **`MERGE`** statement can easily be written with SQL to apply CDC changes appropriately, given the type of update received.\n",
    "\n",
    "The rest of the **`upsert_cdc`** method contains the logic necessary to run SQL code against a micro-batch in a PySpark DataStreamWriter."
   ],
   "metadata": {
    "application/vnd.databricks.v1+cell": {
     "showTitle": false,
     "cellMetadata": {},
     "nuid": "022c8fd6-bebf-49f2-912d-834ff9c12e4d",
     "inputWidgets": {},
     "title": ""
    },
    "pycharm": {
     "name": "#%% md\n"
    }
   }
  },
  {
   "cell_type": "code",
   "source": [
    "def upsert_cdc(microBatchDF, batchID):\n",
    "    microBatchDF.createTempView(\"bronze_batch\")\n",
    "    \n",
    "    query = \"\"\"\n",
    "        MERGE INTO silver_status s\n",
    "        USING bronze_batch b\n",
    "        ON b.user_id = s.user_id\n",
    "        WHEN MATCHED AND b.update_type = \"update\"\n",
    "          THEN UPDATE SET user_id=b.user_id, status=b.status, updated_timestamp=b.processed_timestamp\n",
    "        WHEN MATCHED AND b.update_type = \"delete\"\n",
    "          THEN DELETE\n",
    "        WHEN NOT MATCHED AND b.update_type = \"update\" OR b.update_type = \"insert\"\n",
    "          THEN INSERT (user_id, status, updated_timestamp)\n",
    "          VALUES (b.user_id, b.status, b.processed_timestamp)\n",
    "    \"\"\"\n",
    "    \n",
    "    microBatchDF._jdf.sparkSession().sql(query)\n",
    "    \n",
    "def streaming_merge():\n",
    "    query = (spark.readStream\n",
    "                  .table(\"bronze_status\")\n",
    "                  .writeStream\n",
    "                  .foreachBatch(upsert_cdc)\n",
    "                  .option(\"checkpointLocation\", f\"{DA.paths.checkpoints}/silver_status\")\n",
    "                  .trigger(availableNow=True)\n",
    "                  .start())\n",
    "    \n",
    "    query.awaitTermination()\n",
    "    "
   ],
   "metadata": {
    "application/vnd.databricks.v1+cell": {
     "showTitle": false,
     "cellMetadata": {},
     "nuid": "73a78ec4-7f80-4333-8f65-e2bda347bc5c",
     "inputWidgets": {},
     "title": ""
    },
    "pycharm": {
     "name": "#%%\n"
    }
   },
   "outputs": [],
   "execution_count": 0
  },
  {
   "cell_type": "markdown",
   "source": [
    "As always, we incrementally process newly arriving records."
   ],
   "metadata": {
    "application/vnd.databricks.v1+cell": {
     "showTitle": false,
     "cellMetadata": {},
     "nuid": "2bbcc422-57ab-4dd3-89f6-3112345807d8",
     "inputWidgets": {},
     "title": ""
    },
    "pycharm": {
     "name": "#%% md\n"
    }
   }
  },
  {
   "cell_type": "code",
   "source": [
    "streaming_merge()"
   ],
   "metadata": {
    "application/vnd.databricks.v1+cell": {
     "showTitle": false,
     "cellMetadata": {},
     "nuid": "a7c03a2f-e758-49db-a127-897381d3cd05",
     "inputWidgets": {},
     "title": ""
    },
    "pycharm": {
     "name": "#%%\n"
    }
   },
   "outputs": [],
   "execution_count": 0
  },
  {
   "cell_type": "code",
   "source": [
    "%sql\n",
    "SELECT * FROM silver_status\n",
    "ORDER BY updated_timestamp DESC, user_id DESC"
   ],
   "metadata": {
    "application/vnd.databricks.v1+cell": {
     "showTitle": false,
     "cellMetadata": {},
     "nuid": "2451bdf8-358f-4f1b-9816-d2c1eb4e2589",
     "inputWidgets": {},
     "title": ""
    },
    "pycharm": {
     "name": "#%%\n"
    }
   },
   "outputs": [],
   "execution_count": 0
  },
  {
   "cell_type": "markdown",
   "source": [
    "Inserting new records will allow us to then apply these changes to our silver data."
   ],
   "metadata": {
    "application/vnd.databricks.v1+cell": {
     "showTitle": false,
     "cellMetadata": {},
     "nuid": "7bac72b8-2bbc-4b46-9ab1-ea700e31568e",
     "inputWidgets": {},
     "title": ""
    },
    "pycharm": {
     "name": "#%% md\n"
    }
   }
  },
  {
   "cell_type": "code",
   "source": [
    "%sql\n",
    "INSERT INTO bronze_status\n",
    "VALUES  (1, \"repeat\", \"update\", current_timestamp()),\n",
    "        (2, \"at risk\", \"update\", current_timestamp()),\n",
    "        (3, \"churned\", \"update\", current_timestamp()),\n",
    "        (4, null, \"delete\", current_timestamp()),\n",
    "        (6, \"new\", \"insert\", current_timestamp())"
   ],
   "metadata": {
    "application/vnd.databricks.v1+cell": {
     "showTitle": false,
     "cellMetadata": {},
     "nuid": "1909f2cd-70af-415f-803a-c69f73112d10",
     "inputWidgets": {},
     "title": ""
    },
    "pycharm": {
     "name": "#%%\n"
    }
   },
   "outputs": [],
   "execution_count": 0
  },
  {
   "cell_type": "code",
   "source": [
    "streaming_merge()"
   ],
   "metadata": {
    "application/vnd.databricks.v1+cell": {
     "showTitle": false,
     "cellMetadata": {},
     "nuid": "21506d0a-06e1-44e2-9e8f-733ce9cb738e",
     "inputWidgets": {},
     "title": ""
    },
    "pycharm": {
     "name": "#%%\n"
    }
   },
   "outputs": [],
   "execution_count": 0
  },
  {
   "cell_type": "markdown",
   "source": [
    "Note that at present, the logic would not be particularly robust to data arriving out-of-order or duplicate records (but these occurences can be handled)."
   ],
   "metadata": {
    "application/vnd.databricks.v1+cell": {
     "showTitle": false,
     "cellMetadata": {},
     "nuid": "673e9bd9-a562-4704-9f0a-51c2ba6e09a8",
     "inputWidgets": {},
     "title": ""
    },
    "pycharm": {
     "name": "#%% md\n"
    }
   }
  },
  {
   "cell_type": "code",
   "source": [
    "%sql\n",
    "SELECT * FROM silver_status\n",
    "ORDER BY updated_timestamp DESC, user_id DESC"
   ],
   "metadata": {
    "application/vnd.databricks.v1+cell": {
     "showTitle": false,
     "cellMetadata": {},
     "nuid": "b9d49f6b-dc7b-4963-8b0a-52bc51d875fb",
     "inputWidgets": {},
     "title": ""
    },
    "pycharm": {
     "name": "#%%\n"
    }
   },
   "outputs": [],
   "execution_count": 0
  },
  {
   "cell_type": "markdown",
   "source": [
    "## Joining Two Incremental Tables\n",
    "\n",
    "Note that there are many intricacies around watermarking and windows when dealing with incremental joins, and that not all join types are supported."
   ],
   "metadata": {
    "application/vnd.databricks.v1+cell": {
     "showTitle": false,
     "cellMetadata": {},
     "nuid": "ecd3c80e-7812-4701-a921-7ff793550f22",
     "inputWidgets": {},
     "title": ""
    },
    "pycharm": {
     "name": "#%% md\n"
    }
   }
  },
  {
   "cell_type": "code",
   "source": [
    "def stream_stream_join():\n",
    "    nameDF = spark.readStream.table(\"silver_name\")\n",
    "    valueDF = spark.readStream.table(\"silver_value\")\n",
    "    \n",
    "    return (nameDF.join(valueDF, nameDF.id == valueDF.id, \"inner\")\n",
    "                  .select(nameDF.id, \n",
    "                          nameDF.name, \n",
    "                          valueDF.value, \n",
    "                          F.current_timestamp().alias(\"joined_timestamp\"))\n",
    "                  .writeStream\n",
    "                  .option(\"checkpointLocation\", f\"{DA.paths.checkpoints}/joined\")\n",
    "                  .queryName(\"joined_streams_query\")\n",
    "                  .table(\"joined_streams\")\n",
    "           )"
   ],
   "metadata": {
    "application/vnd.databricks.v1+cell": {
     "showTitle": false,
     "cellMetadata": {},
     "nuid": "b8c45259-fbbe-46c1-a51b-a28963201347",
     "inputWidgets": {},
     "title": ""
    },
    "pycharm": {
     "name": "#%%\n"
    }
   },
   "outputs": [],
   "execution_count": 0
  },
  {
   "cell_type": "markdown",
   "source": [
    "Note that the logic defined above does not set a **`trigger`** option.\n",
    "\n",
    "This means that the stream will run in continuous execution mode, triggering every 500ms by default."
   ],
   "metadata": {
    "application/vnd.databricks.v1+cell": {
     "showTitle": false,
     "cellMetadata": {},
     "nuid": "315a5a11-7f96-4e11-995e-dab7e3719ed4",
     "inputWidgets": {},
     "title": ""
    },
    "pycharm": {
     "name": "#%% md\n"
    }
   }
  },
  {
   "cell_type": "code",
   "source": [
    "query = stream_stream_join()"
   ],
   "metadata": {
    "application/vnd.databricks.v1+cell": {
     "showTitle": false,
     "cellMetadata": {},
     "nuid": "4dc412fb-fd7f-4e9f-9aa2-a84a177d49d1",
     "inputWidgets": {},
     "title": ""
    },
    "pycharm": {
     "name": "#%%\n"
    }
   },
   "outputs": [],
   "execution_count": 0
  },
  {
   "cell_type": "markdown",
   "source": [
    "This also means that it is possible to read the new tables before there is any data in them.\n",
    "\n",
    "Because the stream never stops we can't block until the trigger-available-now stream has terminated with **`awaitTermination()`**.\n",
    "\n",
    "Instead we can block until \"some\" data is processed by leveraging **`query.recentProgress`**."
   ],
   "metadata": {
    "application/vnd.databricks.v1+cell": {
     "showTitle": false,
     "cellMetadata": {},
     "nuid": "1c0ba151-0b6f-4868-b5ba-bc7a869dc868",
     "inputWidgets": {},
     "title": ""
    },
    "pycharm": {
     "name": "#%% md\n"
    }
   }
  },
  {
   "cell_type": "code",
   "source": [
    "def block_until_stream_is_ready(query, min_batches=2):\n",
    "    import time\n",
    "    while len(query.recentProgress) < min_batches:\n",
    "        time.sleep(5) # Give it a couple of seconds\n",
    "\n",
    "    print(f\"The stream has processed {len(query.recentProgress)} batchs\")\n",
    "    \n",
    "block_until_stream_is_ready(query)"
   ],
   "metadata": {
    "application/vnd.databricks.v1+cell": {
     "showTitle": false,
     "cellMetadata": {},
     "nuid": "f4eedbc4-53c3-4d31-bd27-f873dfab4cd1",
     "inputWidgets": {},
     "title": ""
    },
    "pycharm": {
     "name": "#%%\n"
    }
   },
   "outputs": [],
   "execution_count": 0
  },
  {
   "cell_type": "markdown",
   "source": [
    "Running **`display()`** on a streaming table is a way to monitor table updates in near-real-time while in interactive development."
   ],
   "metadata": {
    "application/vnd.databricks.v1+cell": {
     "showTitle": false,
     "cellMetadata": {},
     "nuid": "94b2d1ff-24a8-4fc8-98c2-f3a023ad237e",
     "inputWidgets": {},
     "title": ""
    },
    "pycharm": {
     "name": "#%% md\n"
    }
   }
  },
  {
   "cell_type": "code",
   "source": [
    "display(spark.readStream.table(\"joined_streams\"))"
   ],
   "metadata": {
    "application/vnd.databricks.v1+cell": {
     "showTitle": false,
     "cellMetadata": {},
     "nuid": "3f331bfe-3d29-45d2-a7ad-45e37a506845",
     "inputWidgets": {},
     "title": ""
    },
    "pycharm": {
     "name": "#%%\n"
    }
   },
   "outputs": [],
   "execution_count": 0
  },
  {
   "cell_type": "markdown",
   "source": [
    "<img src=\"https://files.training.databricks.com/images/icon_note_32.png\"> Anytime a streaming read is displayed to a notebook, a streaming job will begin.\n",
    "\n",
    "Here a second stream is started.  One is processing the data as part of our original pipline, and now a second streaming job is running to update the **`display()`** function with the latest results."
   ],
   "metadata": {
    "application/vnd.databricks.v1+cell": {
     "showTitle": false,
     "cellMetadata": {},
     "nuid": "39564cf2-7b59-49df-8624-0bb3938550e9",
     "inputWidgets": {},
     "title": ""
    },
    "pycharm": {
     "name": "#%% md\n"
    }
   }
  },
  {
   "cell_type": "code",
   "source": [
    "for stream in spark.streams.active:\n",
    "    print(stream.name)"
   ],
   "metadata": {
    "application/vnd.databricks.v1+cell": {
     "showTitle": false,
     "cellMetadata": {},
     "nuid": "83978e41-f51b-40e1-9a00-cf700ae43c88",
     "inputWidgets": {},
     "title": ""
    },
    "pycharm": {
     "name": "#%%\n"
    }
   },
   "outputs": [],
   "execution_count": 0
  },
  {
   "cell_type": "markdown",
   "source": [
    "Here we'll add new values to the **`bronze`** table."
   ],
   "metadata": {
    "application/vnd.databricks.v1+cell": {
     "showTitle": false,
     "cellMetadata": {},
     "nuid": "5848fe59-1bcb-489a-8442-6ebad9afb16e",
     "inputWidgets": {},
     "title": ""
    },
    "pycharm": {
     "name": "#%% md\n"
    }
   }
  },
  {
   "cell_type": "code",
   "source": [
    "%sql\n",
    "INSERT INTO bronze\n",
    "VALUES (10, \"Pedro\", 10.5),\n",
    "       (11, \"Amelia\", 11.5),\n",
    "       (12, \"Diya\", 12.3),\n",
    "       (13, \"Li\", 13.4),\n",
    "       (14, \"Daiyu\", 14.2),\n",
    "       (15, \"Jacques\", 15.9)"
   ],
   "metadata": {
    "application/vnd.databricks.v1+cell": {
     "showTitle": false,
     "cellMetadata": {},
     "nuid": "a93d425a-9bf8-427f-8542-d3ecb722c9a7",
     "inputWidgets": {},
     "title": ""
    },
    "pycharm": {
     "name": "#%%\n"
    }
   },
   "outputs": [],
   "execution_count": 0
  },
  {
   "cell_type": "markdown",
   "source": [
    "The stream-stream join is configured against the tables resulting from the **`split_stream`** function; run this again and data should quickly process through the streaming join running above."
   ],
   "metadata": {
    "application/vnd.databricks.v1+cell": {
     "showTitle": false,
     "cellMetadata": {},
     "nuid": "53b3b26d-a25b-4d62-86a8-8aa60f76cfd4",
     "inputWidgets": {},
     "title": ""
    },
    "pycharm": {
     "name": "#%% md\n"
    }
   }
  },
  {
   "cell_type": "code",
   "source": [
    "split_stream()"
   ],
   "metadata": {
    "application/vnd.databricks.v1+cell": {
     "showTitle": false,
     "cellMetadata": {},
     "nuid": "bf61d85e-eb0b-4a26-a338-a2984798a9eb",
     "inputWidgets": {},
     "title": ""
    },
    "pycharm": {
     "name": "#%%\n"
    }
   },
   "outputs": [],
   "execution_count": 0
  },
  {
   "cell_type": "markdown",
   "source": [
    "Interactive streams should always be stopped before leaving a notebook session, as they can keep clusters from auto-terminating and incur unnecessary cloud costs.  \n",
    "You can terminate a streaming job by clicking \"Cancel\" on a running cell, \"Stop Execution\" at the top of the notebook, or by running the code below."
   ],
   "metadata": {
    "application/vnd.databricks.v1+cell": {
     "showTitle": false,
     "cellMetadata": {},
     "nuid": "5c575867-776e-45d7-9251-1a3163a40776",
     "inputWidgets": {},
     "title": ""
    },
    "pycharm": {
     "name": "#%% md\n"
    }
   }
  },
  {
   "cell_type": "code",
   "source": [
    "for stream in spark.streams.active:\n",
    "    print(f\"Stopping {stream.name}\")\n",
    "    stream.stop()\n",
    "    stream.awaitTermination()"
   ],
   "metadata": {
    "application/vnd.databricks.v1+cell": {
     "showTitle": false,
     "cellMetadata": {},
     "nuid": "8176d301-a11f-4087-be50-82392e337cf8",
     "inputWidgets": {},
     "title": ""
    },
    "pycharm": {
     "name": "#%%\n"
    }
   },
   "outputs": [],
   "execution_count": 0
  },
  {
   "cell_type": "markdown",
   "source": [
    "## Join Incremental and Static Data\n",
    "\n",
    "While incremental tables are ever-appending, static tables typically can be thought of as containing data that may be changed or overwritten.\n",
    "\n",
    "Because of Delta Lake's transactional guarantees and caching, Databricks ensures that each microbatch of streaming data that's joined back to a static table will contain the current version of data from the static table."
   ],
   "metadata": {
    "application/vnd.databricks.v1+cell": {
     "showTitle": false,
     "cellMetadata": {},
     "nuid": "34174a75-fadc-4f6d-aced-efab4ffeb485",
     "inputWidgets": {},
     "title": ""
    },
    "pycharm": {
     "name": "#%% md\n"
    }
   }
  },
  {
   "cell_type": "code",
   "source": [
    "statusDF = spark.read.table(\"silver_status\")\n",
    "bronzeDF = spark.readStream.table(\"bronze\")\n",
    "\n",
    "query = (bronzeDF.alias(\"bronze\")\n",
    "                 .join(statusDF.alias(\"status\"), bronzeDF.id==statusDF.user_id, \"inner\")\n",
    "                 .select(\"bronze.*\", \"status.status\")\n",
    "                 .writeStream\n",
    "                 .option(\"checkpointLocation\", f\"{DA.paths.checkpoints}/join_status\")\n",
    "                 .queryName(\"joined_status_query\")\n",
    "                 .table(\"joined_status\")\n",
    ")"
   ],
   "metadata": {
    "application/vnd.databricks.v1+cell": {
     "showTitle": false,
     "cellMetadata": {},
     "nuid": "bf53d9bc-5f3a-4dee-b79c-9089b266f1d5",
     "inputWidgets": {},
     "title": ""
    },
    "pycharm": {
     "name": "#%%\n"
    }
   },
   "outputs": [],
   "execution_count": 0
  },
  {
   "cell_type": "markdown",
   "source": [
    "Again, wait until we have some data before moving forward"
   ],
   "metadata": {
    "application/vnd.databricks.v1+cell": {
     "showTitle": false,
     "cellMetadata": {},
     "nuid": "7778f4d8-acad-4abb-bcf8-95354a6d607b",
     "inputWidgets": {},
     "title": ""
    },
    "pycharm": {
     "name": "#%% md\n"
    }
   }
  },
  {
   "cell_type": "code",
   "source": [
    "block_until_stream_is_ready(query)"
   ],
   "metadata": {
    "application/vnd.databricks.v1+cell": {
     "showTitle": false,
     "cellMetadata": {},
     "nuid": "1eafe549-dce9-4bf6-88d4-4f62ec374a00",
     "inputWidgets": {},
     "title": ""
    },
    "pycharm": {
     "name": "#%%\n"
    }
   },
   "outputs": [],
   "execution_count": 0
  },
  {
   "cell_type": "code",
   "source": [
    "%sql\n",
    "SELECT * FROM joined_status\n",
    "ORDER BY id DESC"
   ],
   "metadata": {
    "application/vnd.databricks.v1+cell": {
     "showTitle": false,
     "cellMetadata": {},
     "nuid": "4d7d6362-f281-4ee1-8f4b-b18471c7f094",
     "inputWidgets": {},
     "title": ""
    },
    "pycharm": {
     "name": "#%%\n"
    }
   },
   "outputs": [],
   "execution_count": 0
  },
  {
   "cell_type": "markdown",
   "source": [
    "Only those records with a matching **`id`** in **`joined_status`** at the time the stream is processed will be represented in the resulting table."
   ],
   "metadata": {
    "application/vnd.databricks.v1+cell": {
     "showTitle": false,
     "cellMetadata": {},
     "nuid": "2b382cea-52d6-4036-834d-017afb582c8f",
     "inputWidgets": {},
     "title": ""
    },
    "pycharm": {
     "name": "#%% md\n"
    }
   }
  },
  {
   "cell_type": "code",
   "source": [
    "%sql\n",
    "SELECT * FROM silver_status\n",
    "ORDER BY updated_timestamp DESC, user_id DESC"
   ],
   "metadata": {
    "application/vnd.databricks.v1+cell": {
     "showTitle": false,
     "cellMetadata": {},
     "nuid": "a3e48039-653f-4e86-9519-662c58692f17",
     "inputWidgets": {},
     "title": ""
    },
    "pycharm": {
     "name": "#%%\n"
    }
   },
   "outputs": [],
   "execution_count": 0
  },
  {
   "cell_type": "markdown",
   "source": [
    "Processing new records into the **`silver_status`** table will not automatically trigger updates to the results of the stream-static join."
   ],
   "metadata": {
    "application/vnd.databricks.v1+cell": {
     "showTitle": false,
     "cellMetadata": {},
     "nuid": "d870c7da-ed45-4ad4-8444-8ffd11b8bf2c",
     "inputWidgets": {},
     "title": ""
    },
    "pycharm": {
     "name": "#%% md\n"
    }
   }
  },
  {
   "cell_type": "code",
   "source": [
    "%sql\n",
    "INSERT INTO bronze_status\n",
    "VALUES  (11, \"repeat\", \"update\", current_timestamp()),\n",
    "        (12, \"at risk\", \"update\", current_timestamp()),\n",
    "        (16, \"new\", \"insert\", current_timestamp()),\n",
    "        (17, \"repeat\", \"update\", current_timestamp())"
   ],
   "metadata": {
    "application/vnd.databricks.v1+cell": {
     "showTitle": false,
     "cellMetadata": {},
     "nuid": "5ab913c7-07c5-43d7-8702-49a24967a38e",
     "inputWidgets": {},
     "title": ""
    },
    "pycharm": {
     "name": "#%%\n"
    }
   },
   "outputs": [],
   "execution_count": 0
  },
  {
   "cell_type": "code",
   "source": [
    "streaming_merge()"
   ],
   "metadata": {
    "application/vnd.databricks.v1+cell": {
     "showTitle": false,
     "cellMetadata": {},
     "nuid": "6d9b233a-549a-4f5d-8c8d-928bacdb43b4",
     "inputWidgets": {},
     "title": ""
    },
    "pycharm": {
     "name": "#%%\n"
    }
   },
   "outputs": [],
   "execution_count": 0
  },
  {
   "cell_type": "code",
   "source": [
    "%sql\n",
    "SELECT * FROM joined_status\n",
    "ORDER BY id DESC"
   ],
   "metadata": {
    "application/vnd.databricks.v1+cell": {
     "showTitle": false,
     "cellMetadata": {},
     "nuid": "3a824aba-50a7-4cda-bd32-6f509e8123cb",
     "inputWidgets": {},
     "title": ""
    },
    "pycharm": {
     "name": "#%%\n"
    }
   },
   "outputs": [],
   "execution_count": 0
  },
  {
   "cell_type": "markdown",
   "source": [
    "Only new data appearing on the streaming side of the query will trigger records to process using this pattern."
   ],
   "metadata": {
    "application/vnd.databricks.v1+cell": {
     "showTitle": false,
     "cellMetadata": {},
     "nuid": "2ceaaa7e-bda5-4e1a-9d61-1f699c8cf586",
     "inputWidgets": {},
     "title": ""
    },
    "pycharm": {
     "name": "#%% md\n"
    }
   }
  },
  {
   "cell_type": "code",
   "source": [
    "%sql\n",
    "INSERT INTO bronze\n",
    "VALUES (16, \"Marissa\", 1.9),\n",
    "       (17, \"Anne\", 2.7)"
   ],
   "metadata": {
    "application/vnd.databricks.v1+cell": {
     "showTitle": false,
     "cellMetadata": {},
     "nuid": "00db5117-6f09-4423-96a8-ae457bc96464",
     "inputWidgets": {},
     "title": ""
    },
    "pycharm": {
     "name": "#%%\n"
    }
   },
   "outputs": [],
   "execution_count": 0
  },
  {
   "cell_type": "markdown",
   "source": [
    "The incremental data in a stream-static join \"drives\" the stream, guaranteeing that each microbatch of data joins with the current values present in the valid version of the static table."
   ],
   "metadata": {
    "application/vnd.databricks.v1+cell": {
     "showTitle": false,
     "cellMetadata": {},
     "nuid": "cd385a32-ad89-47f7-a878-de5ec54530cf",
     "inputWidgets": {},
     "title": ""
    },
    "pycharm": {
     "name": "#%% md\n"
    }
   }
  },
  {
   "cell_type": "code",
   "source": [
    "%sql\n",
    "SELECT * FROM joined_status\n",
    "ORDER BY id DESC"
   ],
   "metadata": {
    "application/vnd.databricks.v1+cell": {
     "showTitle": false,
     "cellMetadata": {},
     "nuid": "08323f2d-99db-4379-8e3f-df30253a6bef",
     "inputWidgets": {},
     "title": ""
    },
    "pycharm": {
     "name": "#%%\n"
    }
   },
   "outputs": [],
   "execution_count": 0
  },
  {
   "cell_type": "markdown",
   "source": [
    "Run the following cell to delete the tables and files associated with this lesson."
   ],
   "metadata": {
    "application/vnd.databricks.v1+cell": {
     "showTitle": false,
     "cellMetadata": {},
     "nuid": "75d3b5f2-7501-4918-af37-1bbd0ad85882",
     "inputWidgets": {},
     "title": ""
    },
    "pycharm": {
     "name": "#%% md\n"
    }
   }
  },
  {
   "cell_type": "code",
   "source": [
    "DA.cleanup()"
   ],
   "metadata": {
    "application/vnd.databricks.v1+cell": {
     "showTitle": false,
     "cellMetadata": {},
     "nuid": "57666bd8-9fa9-407b-83e7-f1b95fd11ac4",
     "inputWidgets": {},
     "title": ""
    },
    "pycharm": {
     "name": "#%%\n"
    }
   },
   "outputs": [],
   "execution_count": 0
  }
 ],
 "metadata": {
  "application/vnd.databricks.v1+notebook": {
   "notebookName": "ADE 1.1 - Streaming Design Patterns",
   "dashboards": [],
   "notebookMetadata": {
    "pythonIndentUnit": 2
   },
   "language": "python",
   "widgets": {},
   "notebookOrigID": 4185566132528914
  }
 },
 "nbformat": 4,
 "nbformat_minor": 0
}