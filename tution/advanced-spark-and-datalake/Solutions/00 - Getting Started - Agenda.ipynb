{
 "cells": [
  {
   "cell_type": "markdown",
   "source": [
    "# Getting Started\n",
    "\n",
    "In this lesson we will introduce our courseware, various conventions and finally review this course's agenda.\n",
    "\n",
    "## Learning Objectives\n",
    "By the end of this notebook, students will be able to:\n",
    "- Configure the learning environment by running the **`Classroom-Setup`** scripts.\n",
    "- Identify Python and Hive variables provided by the courseware.\n",
    "- Identify utility functions provided by the courseware\n",
    "- Install the datasets used by this course\n",
    "- Enumerate the modules and lessons covered by this course."
   ],
   "metadata": {
    "application/vnd.databricks.v1+cell": {
     "showTitle": false,
     "cellMetadata": {},
     "nuid": "50aa7746-922d-474e-8329-71c7cef997fc",
     "inputWidgets": {},
     "title": ""
    },
    "pycharm": {
     "name": "#%% md\n"
    }
   }
  },
  {
   "cell_type": "markdown",
   "source": [
    "## Classroom-Setup\n",
    "\n",
    "For each lesson to execute correctly, please make sure to run the **`Classroom-Setup`** cell at the start of each lesson.\n",
    "\n",
    "These setup scripts configure different assets in the workspace as needed for each lesson"
   ],
   "metadata": {
    "application/vnd.databricks.v1+cell": {
     "showTitle": false,
     "cellMetadata": {},
     "nuid": "5766ba1d-8927-401e-a760-ce2c14e15d63",
     "inputWidgets": {},
     "title": ""
    },
    "pycharm": {
     "name": "#%% md\n"
    }
   }
  },
  {
   "cell_type": "code",
   "source": [
    "%run ./Includes/Classroom-Setup"
   ],
   "metadata": {
    "application/vnd.databricks.v1+cell": {
     "showTitle": false,
     "cellMetadata": {},
     "nuid": "46a1e0c7-c455-4baa-9cdd-1ba97ef5982f",
     "inputWidgets": {},
     "title": ""
    },
    "pycharm": {
     "name": "#%%\n"
    }
   },
   "outputs": [],
   "execution_count": 0
  },
  {
   "cell_type": "markdown",
   "source": [
    "## Courseware Conventions\n",
    "\n",
    "While not a pattern that is generally recommended, these notebooks will use various Hive variables to substitute in various values.\n",
    "\n",
    "In this example, we can see the database name, your prescribed working directory and the location of your database.\n",
    "\n",
    "These and other values are designed to avoid collisions between each student when creating databases and tables and writing files.\n",
    "\n",
    "The following cell demonstrates this pattern."
   ],
   "metadata": {
    "application/vnd.databricks.v1+cell": {
     "showTitle": false,
     "cellMetadata": {},
     "nuid": "7a79b9d2-70a4-4a3d-a209-c434c4ed5447",
     "inputWidgets": {},
     "title": ""
    },
    "pycharm": {
     "name": "#%% md\n"
    }
   }
  },
  {
   "cell_type": "code",
   "source": [
    "%sql\n",
    "SELECT '${da.db_name}' as db_name, \n",
    "       '${da.paths.working_dir}' as working_dir,\n",
    "       '${da.paths.user_db}' as user_db_path"
   ],
   "metadata": {
    "application/vnd.databricks.v1+cell": {
     "showTitle": false,
     "cellMetadata": {},
     "nuid": "ee8b15fd-d491-44c0-8b0f-e0f3a5433031",
     "inputWidgets": {},
     "title": ""
    },
    "pycharm": {
     "name": "#%%\n"
    }
   },
   "outputs": [],
   "execution_count": 0
  },
  {
   "cell_type": "markdown",
   "source": [
    "Simmilarly, these values are availble in Python as we can see below."
   ],
   "metadata": {
    "application/vnd.databricks.v1+cell": {
     "showTitle": false,
     "cellMetadata": {},
     "nuid": "fa385fcc-0418-448b-b76f-cc8548f5a32c",
     "inputWidgets": {},
     "title": ""
    },
    "pycharm": {
     "name": "#%% md\n"
    }
   }
  },
  {
   "cell_type": "code",
   "source": [
    "print(f\"User Database:     {DA.db_name}\")\n",
    "print(f\"Working Directory: {DA.paths.working_dir}\")\n",
    "print(f\"User DB Path:      {DA.paths.user_db}\")"
   ],
   "metadata": {
    "application/vnd.databricks.v1+cell": {
     "showTitle": false,
     "cellMetadata": {},
     "nuid": "8a361df0-900c-482c-aeeb-92e108b1e6f7",
     "inputWidgets": {},
     "title": ""
    },
    "pycharm": {
     "name": "#%%\n"
    }
   },
   "outputs": [],
   "execution_count": 0
  },
  {
   "cell_type": "markdown",
   "source": [
    "There are two important things to note here:\n",
    "1. The difference in case between Python variables and Hive variables: upper vs lower case\n",
    "2. The subtle difference in how Python and Hive SQL implement string interpolation: **`{python_variable}`** vs **`${hive_variable}`**"
   ],
   "metadata": {
    "application/vnd.databricks.v1+cell": {
     "showTitle": false,
     "cellMetadata": {},
     "nuid": "bce240a8-9a9a-4062-a2e5-4c2167528254",
     "inputWidgets": {},
     "title": ""
    },
    "pycharm": {
     "name": "#%% md\n"
    }
   }
  },
  {
   "cell_type": "markdown",
   "source": [
    "Throughout this course you will see various references to **`DA...`** and **`da...`**, all a reference to Databricks Academy.\n",
    "\n",
    "In all cases, these values and functions are provided by this course for educational purposes and are not part of any core API."
   ],
   "metadata": {
    "application/vnd.databricks.v1+cell": {
     "showTitle": false,
     "cellMetadata": {},
     "nuid": "e89b13b7-16a2-4563-8dd8-b801318c601b",
     "inputWidgets": {},
     "title": ""
    },
    "pycharm": {
     "name": "#%% md\n"
    }
   }
  },
  {
   "cell_type": "markdown",
   "source": [
    "## Install Datasets\n",
    "\n",
    "Next, we need to \"install\" the datasets this course uses by copying them from their current location in the cloud to a location relative to your workspace.\n",
    "\n",
    "All that is required is to run the following cell. \n",
    "\n",
    "By default, the **`install_datasets()`** function will not reinstall the datasets upon subsequent invocation but this behavior can be adjusted by modifying the parameters below."
   ],
   "metadata": {
    "application/vnd.databricks.v1+cell": {
     "showTitle": false,
     "cellMetadata": {},
     "nuid": "1c0801d7-ae47-44d6-8f83-2e074a3756f4",
     "inputWidgets": {},
     "title": ""
    },
    "pycharm": {
     "name": "#%% md\n"
    }
   }
  },
  {
   "cell_type": "code",
   "source": [
    "DA.install_datasets(reinstall=False)"
   ],
   "metadata": {
    "application/vnd.databricks.v1+cell": {
     "showTitle": false,
     "cellMetadata": {},
     "nuid": "ee87b5d9-d227-4914-be57-75a6a8b55d35",
     "inputWidgets": {},
     "title": ""
    },
    "pycharm": {
     "name": "#%%\n"
    }
   },
   "outputs": [],
   "execution_count": 0
  },
  {
   "cell_type": "markdown",
   "source": [
    "# Agenda\n",
    "\n",
    "While the install completes, we can review the Agenda and then start lesson #1.\n",
    "\n",
    "By the time you are ready to start lesson #2, the \"install\" should have been completed."
   ],
   "metadata": {
    "application/vnd.databricks.v1+cell": {
     "showTitle": false,
     "cellMetadata": {},
     "nuid": "2132c57c-95ca-4204-8108-e5567748ef46",
     "inputWidgets": {},
     "title": ""
    },
    "pycharm": {
     "name": "#%% md\n"
    }
   }
  },
  {
   "cell_type": "markdown",
   "source": [
    "## 00 - Getting Started\n",
    "* [Getting Started - Agenda]($./00 - Getting Started - Agenda)"
   ],
   "metadata": {
    "application/vnd.databricks.v1+cell": {
     "showTitle": false,
     "cellMetadata": {},
     "nuid": "67d48380-caca-4a8e-9376-3256ce97b111",
     "inputWidgets": {},
     "title": ""
    },
    "pycharm": {
     "name": "#%% md\n"
    }
   }
  },
  {
   "cell_type": "markdown",
   "source": [
    "## 01 - Architecting for the Lakehouse\n",
    "* Prerequisite Content - OPTIONAL\n",
    "  * [ADE 99.1 - Setting Up Tables]($./99 - OPTIONAL Content/ADE 99.1 - Setting Up Tables)\n",
    "  * [ADE 99.2 - Optimizing Data Storage]($./99 - OPTIONAL Content/ADE 99.2 - Optimizing Data Storage)\n",
    "  * [ADE 99.3 - Understanding Delta Lake Transactions]($./99 - OPTIONAL Content/ADE 99.3 - Understanding Delta Lake Transactions)\n",
    "* [ADE 1.1 - Streaming Design Patterns]($./01 - Architecting for the Lakehouse/ADE 1.1 - Streaming Design Patterns)"
   ],
   "metadata": {
    "application/vnd.databricks.v1+cell": {
     "showTitle": false,
     "cellMetadata": {},
     "nuid": "f66b5ecd-777a-478d-a1be-01e7f60432d8",
     "inputWidgets": {},
     "title": ""
    },
    "pycharm": {
     "name": "#%% md\n"
    }
   }
  },
  {
   "cell_type": "markdown",
   "source": [
    "## 02 - Bronze Ingestion Patterns\n",
    "* Prerequisite Content - OPTIONAL\n",
    "  * [ADE 99.4 - Using Clone with Delta Lake]($./99 - OPTIONAL Content/ADE 99.4 - Using Clone with Delta Lake)\n",
    "  * [ADE 99.5 - Auto Loader]($./99 - OPTIONAL Content/ADE 99.5 - Auto Loader)\n",
    "* [ADE 2.1 - Auto Load to Multiplex Bronze]($./02 - Bronze Ingestion Patterns/ADE 2.1 - Auto Load to Multiplex Bronze)\n",
    "* [ADE 2.2 - Streaming from Multiplex Bronze]($./02 - Bronze Ingestion Patterns/ADE 2.2 - Streaming from Multiplex Bronze)"
   ],
   "metadata": {
    "application/vnd.databricks.v1+cell": {
     "showTitle": false,
     "cellMetadata": {},
     "nuid": "e6764dad-cd27-44b1-9756-7d5888ebde8d",
     "inputWidgets": {},
     "title": ""
    },
    "pycharm": {
     "name": "#%% md\n"
    }
   }
  },
  {
   "cell_type": "markdown",
   "source": [
    "## 03 - Promoting to Silver\n",
    "* [ADE 3.1 - Streaming Deduplication]($./03 - Promoting to Silver/ADE 3.1 - Streaming Deduplication)\n",
    "* [ADE 3.2 - Quality Enforcement]($./03 - Promoting to Silver/ADE 3.2 - Quality Enforcement)\n",
    "* [ADE 3.3 - Promoting to Silver]($./03 - Promoting to Silver/ADE 3.3 - Promoting to Silver)\n",
    "* [ADE 3.4 - Type 2 SCD]($./03 - Promoting to Silver/ADE 3.4 - Type 2 SCD)\n",
    "* [ADE 3.5 - Stream Static Join]($./03 - Promoting to Silver/ADE 3.5 - Stream Static Join)"
   ],
   "metadata": {
    "application/vnd.databricks.v1+cell": {
     "showTitle": false,
     "cellMetadata": {},
     "nuid": "2553d2ea-3902-4842-8180-ff1ead097e82",
     "inputWidgets": {},
     "title": ""
    },
    "pycharm": {
     "name": "#%% md\n"
    }
   }
  },
  {
   "cell_type": "markdown",
   "source": [
    "## 04 - Gold Query Layer\n",
    "* [ADE 4.1 - Stored Views]($./04 - Gold Query Layer/ADE 4.1 - Stored Views)\n",
    "* [ADE 4.2 - Materialized Gold Tables]($./04 - Gold Query Layer/ADE 4.2 - Materialized Gold Tables)"
   ],
   "metadata": {
    "application/vnd.databricks.v1+cell": {
     "showTitle": false,
     "cellMetadata": {},
     "nuid": "84e97c9e-88ab-4bb2-aef5-cd825c51c9d0",
     "inputWidgets": {},
     "title": ""
    },
    "pycharm": {
     "name": "#%% md\n"
    }
   }
  },
  {
   "cell_type": "markdown",
   "source": [
    "## 05 - Storing Data Securely\n",
    "* [ADE 5.1 - PII Lookup Table]($./05 - Storing Data Securely/ADE 5.1 - PII Lookup Table)\n",
    "* [ADE 5.2 - Storing PII Securely]($./05 - Storing Data Securely/ADE 5.2 - Storing PII Securely)\n",
    "* [ADE 5.3 - Deidentified PII Access]($./05 - Storing Data Securely/ADE 5.3 - Deidentified PII Access)"
   ],
   "metadata": {
    "application/vnd.databricks.v1+cell": {
     "showTitle": false,
     "cellMetadata": {},
     "nuid": "e8df8b1e-571e-4c41-a39e-14d246b7ddc7",
     "inputWidgets": {},
     "title": ""
    },
    "pycharm": {
     "name": "#%% md\n"
    }
   }
  },
  {
   "cell_type": "markdown",
   "source": [
    "## 06 - Propagating Updates and Deletes\n",
    "* [ADE 6.1 - Processing Records from Change Data Feed]($./06 - Propagating Updates and Deletes/ADE 6.1 - Processing Records from Change Data Feed)\n",
    "* [ADE 6.2 - Propagating Deletes with CDF]($./06 - Propagating Updates and Deletes/ADE 6.2 - Propagating Deletes with CDF)\n",
    "* [ADE 6.3 - Deleting at Partition Boundaries]($./06 - Propagating Updates and Deletes/ADE 6.3 - Deleting at Partition Boundaries)"
   ],
   "metadata": {
    "application/vnd.databricks.v1+cell": {
     "showTitle": false,
     "cellMetadata": {},
     "nuid": "67f8c57e-5811-4ffb-9ac5-89886e7d430e",
     "inputWidgets": {},
     "title": ""
    },
    "pycharm": {
     "name": "#%% md\n"
    }
   }
  },
  {
   "cell_type": "markdown",
   "source": [
    "## 07 - Orchestration and Scheduling\n",
    "\n",
    "* ADE 7.1 - Multi-Task Jobs\n",
    "  * [Task-1, Create Database]($./07 - Orchestration and Scheduling/ADE 7.1 - Multi-Task Jobs/Task-1, Create Database)\n",
    "  * [Task-2, From Task 2]($./07 - Orchestration and Scheduling/ADE 7.1 - Multi-Task Jobs/Task-2, From Task 2)\n",
    "  * [Task-3, From Task 3]($./07 - Orchestration and Scheduling/ADE 7.1 - Multi-Task Jobs/Task-3, From Task 3)\n",
    "  * [Task-4, Key-Param]($./07 - Orchestration and Scheduling/ADE 7.1 - Multi-Task Jobs/Task-4, Key-Param)\n",
    "  * [Task-5, Create task_5]($./07 - Orchestration and Scheduling/ADE 7.1 - Multi-Task Jobs/Task-5, Create task_5)\n",
    "  * [Task-6, Errors]($./07 - Orchestration and Scheduling/ADE 7.1 - Multi-Task Jobs/Task-6, Errors)\n",
    "  * [Task-7, Cleanup]($./07 - Orchestration and Scheduling/ADE 7.1 - Multi-Task Jobs/Task-7, Cleanup)\n",
    "* [ADE 7.2 - CLI and REST API]($./07 - Orchestration and Scheduling/ADE 7.2 - CLI and REST API)\n",
    "* ADE 7.3 - Deploying Workloads\n",
    "  * [1 - Reset Pipelines]($./07 - Orchestration and Scheduling/ADE 7.3 - Deploying Workloads/1 - Reset Pipelines)\n",
    "  * [2 - Schedule Streaming Jobs]($./07 - Orchestration and Scheduling/ADE 7.3 - Deploying Workloads/2 - Schedule Streaming Jobs)\n",
    "  * [3 - Schedule Batch Jobs]($./07 - Orchestration and Scheduling/ADE 7.3 - Deploying Workloads/3 - Schedule Batch Jobs)\n",
    "  * [4 - Streaming Progress]($./07 - Orchestration and Scheduling/ADE 7.3 - Deploying Workloads/4 - Streaming Progress)\n",
    "  * [5 - Demo Conclusion]($./07 - Orchestration and Scheduling/ADE 7.3 - Deploying Workloads/5 - Demo Conclusion)\n",
    "* Additional Content - OPTIONAL\n",
    "  * [ADE 99.6 - Error Prone]($./99 - OPTIONAL Content/ADE 99.6 - Error Prone)\n",
    "  * [ADE 99.7 - Refactor to Relative Imports]($./99 - OPTIONAL Content/ADE 99.7 - Refactor to Relative Imports)"
   ],
   "metadata": {
    "application/vnd.databricks.v1+cell": {
     "showTitle": false,
     "cellMetadata": {},
     "nuid": "e7882570-d90f-4b1d-b436-86a09a8c9b0e",
     "inputWidgets": {},
     "title": ""
    },
    "pycharm": {
     "name": "#%% md\n"
    }
   }
  }
 ],
 "metadata": {
  "application/vnd.databricks.v1+notebook": {
   "notebookName": "00 - Getting Started - Agenda",
   "dashboards": [],
   "notebookMetadata": {
    "pythonIndentUnit": 2
   },
   "language": "python",
   "widgets": {},
   "notebookOrigID": 4185566132529143
  }
 },
 "nbformat": 4,
 "nbformat_minor": 0
}