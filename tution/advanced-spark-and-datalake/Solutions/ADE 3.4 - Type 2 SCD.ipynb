{
 "cells": [
  {
   "cell_type": "markdown",
   "source": [
    "# Type 2 Slowly Changing Data\n",
    "\n",
    "In this notebook, we'll create a silver table that contains the information we'll need to link workouts back to our heart rate recordings.\n",
    "\n",
    "We'll use a Type 2 table to record this data, encoding the start and end times for each session. \n",
    "\n",
    "<img src=\"https://files.training.databricks.com/images/ade/ADE_arch_completed_workouts.png\" width=\"60%\" />\n",
    "\n",
    "## Learning Objectives\n",
    "By the end of this lesson, students will be able to:\n",
    "- Describe how Slowly Changing Dimension tables can be implemented in the Lakehouse\n",
    "- Use custom logic to implement a SCD Type 2 table with batch overwrite logic"
   ],
   "metadata": {
    "application/vnd.databricks.v1+cell": {
     "showTitle": false,
     "cellMetadata": {},
     "nuid": "f715aa3f-5732-4e00-8f8d-b9da38f189bf",
     "inputWidgets": {},
     "title": ""
    },
    "pycharm": {
     "name": "#%% md\n"
    }
   }
  },
  {
   "cell_type": "markdown",
   "source": [
    "## Setup\n",
    "Set up path and checkpoint variables (these will be used later)."
   ],
   "metadata": {
    "application/vnd.databricks.v1+cell": {
     "showTitle": false,
     "cellMetadata": {},
     "nuid": "81ef898b-6f3a-472c-b7ae-eea261cacfd6",
     "inputWidgets": {},
     "title": ""
    },
    "pycharm": {
     "name": "#%% md\n"
    }
   }
  },
  {
   "cell_type": "code",
   "source": [
    "%run ../Includes/Classroom-Setup-4.4"
   ],
   "metadata": {
    "application/vnd.databricks.v1+cell": {
     "showTitle": false,
     "cellMetadata": {},
     "nuid": "e9248a1e-6136-4a5e-baec-0c340784de27",
     "inputWidgets": {},
     "title": ""
    },
    "pycharm": {
     "name": "#%%\n"
    }
   },
   "outputs": [],
   "execution_count": 0
  },
  {
   "cell_type": "markdown",
   "source": [
    "## Review workouts_silver Table\n",
    "Several helper functions was defined to land and propagate a batch of data to the **`workouts_silver`** table.\n",
    "\n",
    "This table is created by \n",
    "* Starting a stream against the **`bronze`** table\n",
    "* Filtering all records by **`topic = 'workout'`**\n",
    "* Deduping the data \n",
    "* Merging non-matching records into **`owrkouts_silver`**\n",
    "\n",
    "...roughly the same strategy we used earlier to create the **`heart_rate_silver`** table"
   ],
   "metadata": {
    "application/vnd.databricks.v1+cell": {
     "showTitle": false,
     "cellMetadata": {},
     "nuid": "494519e7-d8ba-4bcb-aa06-8abebb2dd6d3",
     "inputWidgets": {},
     "title": ""
    },
    "pycharm": {
     "name": "#%% md\n"
    }
   }
  },
  {
   "cell_type": "code",
   "source": [
    "DA.daily_stream.load()       # Load another day's data\n",
    "DA.process_bronze()          # Update the bronze table\n",
    "DA.process_workouts_silver() # Update the workouts_silver table"
   ],
   "metadata": {
    "application/vnd.databricks.v1+cell": {
     "showTitle": false,
     "cellMetadata": {},
     "nuid": "94f72216-14fd-4bfe-a9c9-28305b19738d",
     "inputWidgets": {},
     "title": ""
    },
    "pycharm": {
     "name": "#%%\n"
    }
   },
   "outputs": [],
   "execution_count": 0
  },
  {
   "cell_type": "markdown",
   "source": [
    "Review the **`workouts_silver`** data."
   ],
   "metadata": {
    "application/vnd.databricks.v1+cell": {
     "showTitle": false,
     "cellMetadata": {},
     "nuid": "7812505c-0d85-4cd7-8549-0abf8c964361",
     "inputWidgets": {},
     "title": ""
    },
    "pycharm": {
     "name": "#%% md\n"
    }
   }
  },
  {
   "cell_type": "code",
   "source": [
    "workout_df = spark.read.table(\"workouts_silver\")\n",
    "display(workout_df)"
   ],
   "metadata": {
    "application/vnd.databricks.v1+cell": {
     "showTitle": false,
     "cellMetadata": {},
     "nuid": "31958d45-2829-4737-b841-2bfea2fb65d8",
     "inputWidgets": {},
     "title": ""
    },
    "pycharm": {
     "name": "#%%\n"
    }
   },
   "outputs": [],
   "execution_count": 0
  },
  {
   "cell_type": "markdown",
   "source": [
    "For this data, the **`user_id`** and **`session_id`** form a composite key. \n",
    "\n",
    "Each pair should eventually have 2 records present, marking the \"start\" and \"stop\" action for each workout."
   ],
   "metadata": {
    "application/vnd.databricks.v1+cell": {
     "showTitle": false,
     "cellMetadata": {},
     "nuid": "984a9bd4-1630-4ed6-8d1c-fb70fff0647c",
     "inputWidgets": {},
     "title": ""
    },
    "pycharm": {
     "name": "#%% md\n"
    }
   }
  },
  {
   "cell_type": "code",
   "source": [
    "aggregate_df = workout_df.groupby(\"user_id\", \"session_id\").count()\n",
    "display(aggregate_df)"
   ],
   "metadata": {
    "application/vnd.databricks.v1+cell": {
     "showTitle": false,
     "cellMetadata": {},
     "nuid": "747d794f-57a1-479e-af5c-13d955c7c36d",
     "inputWidgets": {},
     "title": ""
    },
    "pycharm": {
     "name": "#%%\n"
    }
   },
   "outputs": [],
   "execution_count": 0
  },
  {
   "cell_type": "markdown",
   "source": [
    "Because we'll be triggering a shuffle in this notebook, we'll be explicit about how many partitions we want at the end of our shuffle.\n",
    "\n",
    "As before, we can use the current level of parallelism (max number of cores) as our upper bound for shuffle partitions."
   ],
   "metadata": {
    "application/vnd.databricks.v1+cell": {
     "showTitle": false,
     "cellMetadata": {},
     "nuid": "b3ba8791-8b11-4afa-84c5-8163a919d987",
     "inputWidgets": {},
     "title": ""
    },
    "pycharm": {
     "name": "#%% md\n"
    }
   }
  },
  {
   "cell_type": "code",
   "source": [
    "print(f\"Executor cores: {sc.defaultParallelism}\")\n",
    "spark.conf.set(\"spark.sql.shuffle.partitions\", sc.defaultParallelism)"
   ],
   "metadata": {
    "application/vnd.databricks.v1+cell": {
     "showTitle": false,
     "cellMetadata": {},
     "nuid": "290fa1ae-8a39-4657-8de0-c6f7e30af391",
     "inputWidgets": {},
     "title": ""
    },
    "pycharm": {
     "name": "#%%\n"
    }
   },
   "outputs": [],
   "execution_count": 0
  },
  {
   "cell_type": "markdown",
   "source": [
    "## Create Completed Workouts Table\n",
    "\n",
    "The query below matches our start and stop actions, capturing the time for each action. The **`in_progress`** field indicates whether or not a given workout session is ongoing."
   ],
   "metadata": {
    "application/vnd.databricks.v1+cell": {
     "showTitle": false,
     "cellMetadata": {},
     "nuid": "9e31a77b-09c9-4980-83c5-d127c4b88868",
     "inputWidgets": {},
     "title": ""
    },
    "pycharm": {
     "name": "#%% md\n"
    }
   }
  },
  {
   "cell_type": "code",
   "source": [
    "def process_completed_workouts():\n",
    "    spark.sql(f\"\"\"\n",
    "        CREATE OR REPLACE TABLE completed_workouts \n",
    "        AS (\n",
    "          SELECT a.user_id, a.workout_id, a.session_id, a.start_time start_time, b.end_time end_time, a.in_progress AND (b.in_progress IS NULL) in_progress\n",
    "          FROM (\n",
    "            SELECT user_id, workout_id, session_id, time start_time, null end_time, true in_progress\n",
    "            FROM workouts_silver\n",
    "            WHERE action = \"start\") a\n",
    "          LEFT JOIN (\n",
    "            SELECT user_id, workout_id, session_id, null start_time, time end_time, false in_progress\n",
    "            FROM workouts_silver\n",
    "            WHERE action = \"stop\") b\n",
    "          ON a.user_id = b.user_id AND a.session_id = b.session_id\n",
    "        )\n",
    "    \"\"\")\n",
    "    \n",
    "process_completed_workouts()"
   ],
   "metadata": {
    "application/vnd.databricks.v1+cell": {
     "showTitle": false,
     "cellMetadata": {},
     "nuid": "d0fddcc7-88a4-4a42-b639-8211a41dd989",
     "inputWidgets": {},
     "title": ""
    },
    "pycharm": {
     "name": "#%%\n"
    }
   },
   "outputs": [],
   "execution_count": 0
  },
  {
   "cell_type": "markdown",
   "source": [
    "You can now perform a query directly on your **`completed_workouts`** table to check your results."
   ],
   "metadata": {
    "application/vnd.databricks.v1+cell": {
     "showTitle": false,
     "cellMetadata": {},
     "nuid": "2431748b-3620-4821-8187-d14e446644eb",
     "inputWidgets": {},
     "title": ""
    },
    "pycharm": {
     "name": "#%% md\n"
    }
   }
  },
  {
   "cell_type": "code",
   "source": [
    "total = spark.table(\"completed_workouts\").count() # .sql(\"SELECT COUNT(*) FROM completed_workouts\") \n",
    "print(f\"{total:3} total\")\n",
    "\n",
    "total = spark.table(\"completed_workouts\").filter(\"in_progress=true\").count()\n",
    "print(f\"{total:3} where record is still awaiting end time\")\n",
    "\n",
    "total = spark.table(\"completed_workouts\").filter(\"end_time IS NOT NULL\").count()\n",
    "print(f\"{total:3} where end time has been recorded\")\n",
    "\n",
    "total = spark.table(\"completed_workouts\").filter(\"start_time IS NOT NULL\").count()\n",
    "print(f\"{total:3} where end time arrived after start time\")\n",
    "\n",
    "total = spark.table(\"completed_workouts\").filter(\"in_progress=true AND end_time IS NULL\").count()\n",
    "print(f\"{total:3} where they are in_progress AND have an end_time\")"
   ],
   "metadata": {
    "application/vnd.databricks.v1+cell": {
     "showTitle": false,
     "cellMetadata": {},
     "nuid": "f95f18cf-d975-4204-b0d4-76db2d95efd8",
     "inputWidgets": {},
     "title": ""
    },
    "pycharm": {
     "name": "#%%\n"
    }
   },
   "outputs": [],
   "execution_count": 0
  },
  {
   "cell_type": "markdown",
   "source": [
    "Use the functions below to propagate another batch of records through the pipeline to this point."
   ],
   "metadata": {
    "application/vnd.databricks.v1+cell": {
     "showTitle": false,
     "cellMetadata": {},
     "nuid": "c9272602-a968-4dc3-95ea-85e3b61a624b",
     "inputWidgets": {},
     "title": ""
    },
    "pycharm": {
     "name": "#%% md\n"
    }
   }
  },
  {
   "cell_type": "code",
   "source": [
    "DA.daily_stream.load()       # Load another day's data\n",
    "DA.process_bronze()          # Update the bronze table\n",
    "DA.process_workouts_silver() # Update the workouts_silver table\n",
    "\n",
    "process_completed_workouts() # Update the completed_workouts table"
   ],
   "metadata": {
    "application/vnd.databricks.v1+cell": {
     "showTitle": false,
     "cellMetadata": {},
     "nuid": "16c7c549-3782-49f7-a51c-eec80e0a845d",
     "inputWidgets": {},
     "title": ""
    },
    "pycharm": {
     "name": "#%%\n"
    }
   },
   "outputs": [],
   "execution_count": 0
  },
  {
   "cell_type": "code",
   "source": [
    "%sql\n",
    "SELECT COUNT(*) \n",
    "AS total \n",
    "FROM completed_workouts"
   ],
   "metadata": {
    "application/vnd.databricks.v1+cell": {
     "showTitle": false,
     "cellMetadata": {},
     "nuid": "5a6ee1a9-32a2-4a12-bce8-efc2e77b0d9b",
     "inputWidgets": {},
     "title": ""
    },
    "pycharm": {
     "name": "#%%\n"
    }
   },
   "outputs": [],
   "execution_count": 0
  },
  {
   "cell_type": "markdown",
   "source": [
    "Run the following cell to delete the tables and files associated with this lesson."
   ],
   "metadata": {
    "application/vnd.databricks.v1+cell": {
     "showTitle": false,
     "cellMetadata": {},
     "nuid": "335a9bef-8011-4732-8d71-fd636020091a",
     "inputWidgets": {},
     "title": ""
    },
    "pycharm": {
     "name": "#%% md\n"
    }
   }
  },
  {
   "cell_type": "code",
   "source": [
    "DA.cleanup()"
   ],
   "metadata": {
    "application/vnd.databricks.v1+cell": {
     "showTitle": false,
     "cellMetadata": {},
     "nuid": "c50be9f6-0ddd-430e-b8b5-813599514280",
     "inputWidgets": {},
     "title": ""
    },
    "pycharm": {
     "name": "#%%\n"
    }
   },
   "outputs": [],
   "execution_count": 0
  }
 ],
 "metadata": {
  "application/vnd.databricks.v1+notebook": {
   "notebookName": "ADE 3.4 - Type 2 SCD",
   "dashboards": [],
   "notebookMetadata": {
    "pythonIndentUnit": 2
   },
   "language": "python",
   "widgets": {},
   "notebookOrigID": 4185566132529120
  }
 },
 "nbformat": 4,
 "nbformat_minor": 0
}