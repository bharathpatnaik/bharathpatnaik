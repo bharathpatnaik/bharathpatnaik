{
 "cells": [
  {
   "cell_type": "markdown",
   "source": [
    "# Setting Up Tables\n",
    "Managing database and table metadata, locations, and configurations at the beginning of project can help to increase data security, discoverability, and performance.\n",
    "\n",
    "Databricks allows you to store additional information about your databases and tables in a number of locations. This notebook reviews the basics of table and database declaration while introducing various options.\n",
    "\n",
    "## Learning Objectives\n",
    "By the end of this notebook, students will be able to:\n",
    "- Set database locations\n",
    "- Specify database comments\n",
    "- Set table locations\n",
    "- Specify table comments\n",
    "- Specify column comments\n",
    "- Use table properties for custom tagging\n",
    "- Explore table metadata"
   ],
   "metadata": {
    "application/vnd.databricks.v1+cell": {
     "showTitle": false,
     "cellMetadata": {},
     "nuid": "8629fce6-4334-411e-8c0a-e5d1bcf45810",
     "inputWidgets": {},
     "title": ""
    },
    "pycharm": {
     "name": "#%% md\n"
    }
   }
  },
  {
   "cell_type": "markdown",
   "source": [
    "## Classroom Setup\n",
    "\n",
    "As we saw in the previous lesson, we need to execute the following script to configure our learning environment."
   ],
   "metadata": {
    "application/vnd.databricks.v1+cell": {
     "showTitle": false,
     "cellMetadata": {},
     "nuid": "6a6f7eec-2f70-4003-89e3-903e73a742c8",
     "inputWidgets": {},
     "title": ""
    },
    "pycharm": {
     "name": "#%% md\n"
    }
   }
  },
  {
   "cell_type": "code",
   "source": [
    "%run ../Includes/Classroom-Setup-1.1"
   ],
   "metadata": {
    "application/vnd.databricks.v1+cell": {
     "showTitle": false,
     "cellMetadata": {},
     "nuid": "ca8d01e0-f0a8-4c0b-b12c-8322409d0f87",
     "inputWidgets": {},
     "title": ""
    },
    "pycharm": {
     "name": "#%%\n"
    }
   },
   "outputs": [],
   "execution_count": 0
  },
  {
   "cell_type": "markdown",
   "source": [
    "## Important Database Options\n",
    "\n",
    "The single most important option when creating a new database is the **`LOCATION`**. Because all managed tables will have their data files stored in this location, modifying the location of a database after initial declaration can require migration of many data files. Using an improper location can potentially store data in an unsecured location and lead to data exfiltration or deletion.\n",
    "\n",
    "The database **`COMMENT`** option allows an arbitrary description to be provided for the database. This can be useful for both discovery and auditing purposes.\n",
    "\n",
    "The **`DBPROPERTIES`** option allows user-defined keys to be specified for the database. This can be useful for creating tags that will be used in auditing. Note that this field may also contain options used elsewhere in Databricks to govern default behavior for the database."
   ],
   "metadata": {
    "application/vnd.databricks.v1+cell": {
     "showTitle": false,
     "cellMetadata": {},
     "nuid": "158d0d4b-5d52-41b0-9673-571a8172268c",
     "inputWidgets": {},
     "title": ""
    },
    "pycharm": {
     "name": "#%% md\n"
    }
   }
  },
  {
   "cell_type": "markdown",
   "source": [
    "## Creating a Database with Options\n",
    "\n",
    "The following cell demonstrates the syntax for creating a database while:\n",
    "1. Setting a database comment\n",
    "1. Specifying a database location\n",
    "1. Adding an arbitrary key-value pair as a database property\n",
    "\n",
    "An arbitrary directory on the DBFS root is being used for the location; in any stage of development or production, it is best practice to create databases in secure cloud object storage with credentials locked down to appropriate teams within the organization."
   ],
   "metadata": {
    "application/vnd.databricks.v1+cell": {
     "showTitle": false,
     "cellMetadata": {},
     "nuid": "42040a40-2a6a-41d2-ae07-cd0740a0220b",
     "inputWidgets": {},
     "title": ""
    },
    "pycharm": {
     "name": "#%% md\n"
    }
   }
  },
  {
   "cell_type": "code",
   "source": [
    "%sql\n",
    "CREATE DATABASE IF NOT EXISTS ${da.db_name}\n",
    "COMMENT \"This is a test database\"\n",
    "LOCATION \"${da.paths.user_db}\"\n",
    "WITH DBPROPERTIES (contains_pii = true)"
   ],
   "metadata": {
    "application/vnd.databricks.v1+cell": {
     "showTitle": false,
     "cellMetadata": {},
     "nuid": "2530fad4-b2be-48c2-a69b-3d46b2f34dd1",
     "inputWidgets": {},
     "title": ""
    },
    "pycharm": {
     "name": "#%%\n"
    }
   },
   "outputs": [],
   "execution_count": 0
  },
  {
   "cell_type": "markdown",
   "source": [
    "All of the comments and properties set during database declaration can be reviewed using **`DESCRIBE DATABASE EXTENDED`**.\n",
    "\n",
    "This information can aid in data discovery, auditing, and governance. Having proactive rules about how databases will be created and tagged can help prevent accidental data exfiltration, redundancies, and deletions."
   ],
   "metadata": {
    "application/vnd.databricks.v1+cell": {
     "showTitle": false,
     "cellMetadata": {},
     "nuid": "8285899c-8e5c-4211-a04b-bdaa8c99a385",
     "inputWidgets": {},
     "title": ""
    },
    "pycharm": {
     "name": "#%% md\n"
    }
   }
  },
  {
   "cell_type": "code",
   "source": [
    "%sql\n",
    "DESCRIBE DATABASE EXTENDED ${da.db_name}"
   ],
   "metadata": {
    "application/vnd.databricks.v1+cell": {
     "showTitle": false,
     "cellMetadata": {},
     "nuid": "c74ed150-c943-467d-8e98-01c2db479af4",
     "inputWidgets": {},
     "title": ""
    },
    "pycharm": {
     "name": "#%%\n"
    }
   },
   "outputs": [],
   "execution_count": 0
  },
  {
   "cell_type": "markdown",
   "source": [
    "## Important Table Options\n",
    "\n",
    "The **`LOCATION`** keyword also plays a pivotal role when declaring tables, as it determines whether a table is **managed** or **external**. Note that explicitly providing a location will always result in an external table, even if this location maps directly to the directory that would be used by default.\n",
    "\n",
    "Tables also have the **`COMMENT`** option to provide a table description.\n",
    "\n",
    "Tables have the **`TBLPROPERTIES`** option that can also contain user-defined tags. All Delta Lake tables will have some default options stored to this field, and many customizations for Delta behavior will be reflected here.\n",
    "\n",
    "Users can also define a **`COMMENT`** for an individual column."
   ],
   "metadata": {
    "application/vnd.databricks.v1+cell": {
     "showTitle": false,
     "cellMetadata": {},
     "nuid": "4b39e93c-23ce-408b-b119-3e84ffc78878",
     "inputWidgets": {},
     "title": ""
    },
    "pycharm": {
     "name": "#%% md\n"
    }
   }
  },
  {
   "cell_type": "markdown",
   "source": [
    "## Creating a Table with Options\n",
    "The following cell demonstrates creating a **managed** Delta Lake table while:\n",
    "1. Setting a column comment\n",
    "1. Setting a table comment\n",
    "1. Adding an arbitrary key-value pair as a table property"
   ],
   "metadata": {
    "application/vnd.databricks.v1+cell": {
     "showTitle": false,
     "cellMetadata": {},
     "nuid": "05b216cf-0ded-45b7-8882-cd1e1a8e0bc7",
     "inputWidgets": {},
     "title": ""
    },
    "pycharm": {
     "name": "#%% md\n"
    }
   }
  },
  {
   "cell_type": "code",
   "source": [
    "%sql\n",
    "CREATE TABLE IF NOT EXISTS ${da.db_name}.pii_test\n",
    "(id INT, name STRING COMMENT \"PII\")\n",
    "COMMENT \"Contains PII\"\n",
    "TBLPROPERTIES ('contains_pii' = True) "
   ],
   "metadata": {
    "application/vnd.databricks.v1+cell": {
     "showTitle": false,
     "cellMetadata": {},
     "nuid": "7adcf790-e4ee-42f2-899d-fd4cf916a760",
     "inputWidgets": {},
     "title": ""
    },
    "pycharm": {
     "name": "#%%\n"
    }
   },
   "outputs": [],
   "execution_count": 0
  },
  {
   "cell_type": "markdown",
   "source": [
    "Much like the command for reviewing database metadata settings, **`DESCRIBE EXTENDED`** allows users to see all of the comments and properties for a given table.\n",
    "\n",
    "**NOTE**: Delta Lake automatically adds several table properties on table creation."
   ],
   "metadata": {
    "application/vnd.databricks.v1+cell": {
     "showTitle": false,
     "cellMetadata": {},
     "nuid": "08237aab-f791-4aa0-904e-79071d184f54",
     "inputWidgets": {},
     "title": ""
    },
    "pycharm": {
     "name": "#%% md\n"
    }
   }
  },
  {
   "cell_type": "code",
   "source": [
    "%sql\n",
    "DESCRIBE EXTENDED ${da.db_name}.pii_test"
   ],
   "metadata": {
    "application/vnd.databricks.v1+cell": {
     "showTitle": false,
     "cellMetadata": {},
     "nuid": "89075267-5528-4c01-b2c3-ec2d9ae92371",
     "inputWidgets": {},
     "title": ""
    },
    "pycharm": {
     "name": "#%%\n"
    }
   },
   "outputs": [],
   "execution_count": 0
  },
  {
   "cell_type": "markdown",
   "source": [
    "Below the code from above is replicated with the addition of specifying a location, creating an **external** table.\n",
    "\n",
    "**NOTE**: The only thing that differentiates managed and external tables is this location setting. Performance of managed and external tables should be equivalent with regards to latency, but the results of SQL DDL statements on these tables differ drastically."
   ],
   "metadata": {
    "application/vnd.databricks.v1+cell": {
     "showTitle": false,
     "cellMetadata": {},
     "nuid": "fa170a16-0fec-4a64-81ed-bc84757115a7",
     "inputWidgets": {},
     "title": ""
    },
    "pycharm": {
     "name": "#%% md\n"
    }
   }
  },
  {
   "cell_type": "code",
   "source": [
    "%sql\n",
    "CREATE TABLE IF NOT EXISTS ${da.db_name}.pii_test_2\n",
    "(id INT, name STRING COMMENT \"PII\")\n",
    "COMMENT \"Contains PII\"\n",
    "LOCATION \"${da.paths.working_dir}/pii_test_2\"\n",
    "TBLPROPERTIES ('contains_pii' = True) "
   ],
   "metadata": {
    "application/vnd.databricks.v1+cell": {
     "showTitle": false,
     "cellMetadata": {},
     "nuid": "15c48f93-d6f6-4e96-b8bc-d392ea7e72d6",
     "inputWidgets": {},
     "title": ""
    },
    "pycharm": {
     "name": "#%%\n"
    }
   },
   "outputs": [],
   "execution_count": 0
  },
  {
   "cell_type": "markdown",
   "source": [
    "As expected, the only differences in the extended description of the table have to do with the table location and type."
   ],
   "metadata": {
    "application/vnd.databricks.v1+cell": {
     "showTitle": false,
     "cellMetadata": {},
     "nuid": "f82bec6d-0fbe-443d-9fc4-43028755b04b",
     "inputWidgets": {},
     "title": ""
    },
    "pycharm": {
     "name": "#%% md\n"
    }
   }
  },
  {
   "cell_type": "code",
   "source": [
    "%sql\n",
    "DESCRIBE EXTENDED ${da.db_name}.pii_test_2"
   ],
   "metadata": {
    "application/vnd.databricks.v1+cell": {
     "showTitle": false,
     "cellMetadata": {},
     "nuid": "86c2ce8e-a7a6-4ad7-8247-827858358575",
     "inputWidgets": {},
     "title": ""
    },
    "pycharm": {
     "name": "#%%\n"
    }
   },
   "outputs": [],
   "execution_count": 0
  },
  {
   "cell_type": "markdown",
   "source": [
    "## Using Table Metadata\n",
    "\n",
    "Assuming that rules are followed appropriately when creating databases and tables, comments, table properties, and other metadata can be interacted with programmatically for discovering datasets for governance and auditing purposes.\n",
    "\n",
    "The Python code below demonstrates parsing the table properties field, filtering those options that are specifically geared toward controlling Delta Lake behavior. In this case, logic could be written to further parse these properties to identify all tables in a database that contain PII."
   ],
   "metadata": {
    "application/vnd.databricks.v1+cell": {
     "showTitle": false,
     "cellMetadata": {},
     "nuid": "c8cc9d07-4212-4596-8e77-349309da336c",
     "inputWidgets": {},
     "title": ""
    },
    "pycharm": {
     "name": "#%% md\n"
    }
   }
  },
  {
   "cell_type": "code",
   "source": [
    "def parse_table_keys(database, table=None):\n",
    "    table_keys = {}\n",
    "    if table:\n",
    "        query = f\"SHOW TABLES IN {DA.db_name} LIKE '{table}'\"\n",
    "    else:\n",
    "        query = f\"SHOW TABLES IN {DA.db_name}\"\n",
    "    for table_item in spark.sql(query).collect():\n",
    "        table_name = table_item[1]\n",
    "        key_values = spark.sql(f\"DESCRIBE EXTENDED {DA.db_name}.{table_name}\").filter(\"col_name = 'Table Properties'\").collect()[0][1][1:-1].split(\",\")\n",
    "        table_keys[table_name] = [kv for kv in key_values if not kv.startswith(\"delta.\")]\n",
    "    return table_keys\n",
    "\n",
    "parse_table_keys(DA.db_name)   "
   ],
   "metadata": {
    "application/vnd.databricks.v1+cell": {
     "showTitle": false,
     "cellMetadata": {},
     "nuid": "815c63ee-8122-4853-b8b7-c00ce39d5350",
     "inputWidgets": {},
     "title": ""
    },
    "pycharm": {
     "name": "#%%\n"
    }
   },
   "outputs": [],
   "execution_count": 0
  },
  {
   "cell_type": "markdown",
   "source": [
    "## Code Challenge\n",
    "\n",
    "Use the following cell to:\n",
    "1. Create a new **managed** table\n",
    "1. Using the database and table name provided\n",
    "1. Define 4 columns with <a href=\"https://spark.apache.org/docs/latest/sql-ref-datatypes.html\" target=\"_blank\">any valid data type</a>\n",
    "1. Add a table comment\n",
    "1. Use the **`TBLPROPERTIES`** option to set the key-value pair **`'contains_pii' = False`**"
   ],
   "metadata": {
    "application/vnd.databricks.v1+cell": {
     "showTitle": false,
     "cellMetadata": {},
     "nuid": "7a894631-152b-4089-a2b3-95faae417782",
     "inputWidgets": {},
     "title": ""
    },
    "pycharm": {
     "name": "#%% md\n"
    }
   }
  },
  {
   "cell_type": "code",
   "source": [
    "%sql\n",
    "-- ANSWER\n",
    "CREATE TABLE IF NOT EXISTS ${da.db_name}.challenge\n",
    "(col1 STRING, col2 DATE, col3 DOUBLE, col4 INT)\n",
    "COMMENT \"This is a table\"\n",
    "TBLPROPERTIES ('contains_pii' = False)"
   ],
   "metadata": {
    "application/vnd.databricks.v1+cell": {
     "showTitle": false,
     "cellMetadata": {},
     "nuid": "96356d9c-1894-483b-b1e7-b034b1b3aa16",
     "inputWidgets": {},
     "title": ""
    },
    "pycharm": {
     "name": "#%%\n"
    }
   },
   "outputs": [],
   "execution_count": 0
  },
  {
   "cell_type": "markdown",
   "source": [
    "Run the checks below to confirm this:"
   ],
   "metadata": {
    "application/vnd.databricks.v1+cell": {
     "showTitle": false,
     "cellMetadata": {},
     "nuid": "edf0f290-be2b-4fd8-b058-b5ee4b9691e5",
     "inputWidgets": {},
     "title": ""
    },
    "pycharm": {
     "name": "#%% md\n"
    }
   }
  },
  {
   "cell_type": "code",
   "source": [
    "assert len(spark.sql(f\"SHOW TABLES IN {DA.db_name} LIKE 'challenge'\").collect()) > 0, f\"Table 'challenge' not in {da.db_name}\"\n",
    "assert parse_table_keys(DA.db_name, 'challenge') == {'challenge': ['contains_pii=false']}, \"PII flag not set correctly\"\n",
    "assert len(spark.table(f\"{DA.db_name}.challenge\").columns) == 4, \"Table does not have 4 columns\"\n",
    "assert [x.tableType for x in spark.catalog.listTables(DA.db_name) if x.name==\"challenge\"] == [\"MANAGED\"], \"Table is not managed\"\n",
    "assert spark.sql(f\"DESCRIBE EXTENDED {DA.db_name}.challenge\").filter(\"col_name = 'Comment'\").collect() != [], \"Table comment not set\"\n",
    "print(\"All tests passed.\")"
   ],
   "metadata": {
    "application/vnd.databricks.v1+cell": {
     "showTitle": false,
     "cellMetadata": {},
     "nuid": "bddc8b36-788b-4c6f-aaaa-8c1ff7df79ee",
     "inputWidgets": {},
     "title": ""
    },
    "pycharm": {
     "name": "#%%\n"
    }
   },
   "outputs": [],
   "execution_count": 0
  },
  {
   "cell_type": "markdown",
   "source": [
    "Run the following cell to delete the tables and files associated with this lesson."
   ],
   "metadata": {
    "application/vnd.databricks.v1+cell": {
     "showTitle": false,
     "cellMetadata": {},
     "nuid": "65c1cc31-b83a-43e3-9d84-66dcc25f073d",
     "inputWidgets": {},
     "title": ""
    },
    "pycharm": {
     "name": "#%% md\n"
    }
   }
  },
  {
   "cell_type": "code",
   "source": [
    "DA.cleanup()"
   ],
   "metadata": {
    "application/vnd.databricks.v1+cell": {
     "showTitle": false,
     "cellMetadata": {},
     "nuid": "030764f2-a1e4-4fbc-9d1b-17f051984c34",
     "inputWidgets": {},
     "title": ""
    },
    "pycharm": {
     "name": "#%%\n"
    }
   },
   "outputs": [],
   "execution_count": 0
  }
 ],
 "metadata": {
  "application/vnd.databricks.v1+notebook": {
   "notebookName": "ADE 99.1 - Setting Up Tables",
   "dashboards": [],
   "notebookMetadata": {
    "pythonIndentUnit": 2
   },
   "language": "python",
   "widgets": {},
   "notebookOrigID": 4185566132529312
  }
 },
 "nbformat": 4,
 "nbformat_minor": 0
}