{
 "cells": [
  {
   "cell_type": "markdown",
   "source": [
    "# Stored Views\n",
    "\n",
    "In this notebook, we'll give a quick overview of how stored views are created and managed. Recall that stored views differ from DataFrames and temp views by persisting to a database (allowing other users to leverage pre-defined logic to materialize results). Views register the logic required to calculate a result (which will be evaluated when the query is executed). Views defined against Delta Lake sources are guaranteed to always query the latest version of each data source.\n",
    "\n",
    "The goal of this notebook is to generate a view that allows the analysts from our partner gyms to examine how use of Moovio devices and workouts impact gym activity.\n",
    "\n",
    "<img src=\"https://files.training.databricks.com/images/ade/ADE_arch_gym_report.png\" width=\"60%\" />\n",
    "\n",
    "## Learning Objectives\n",
    "By the end of this lesson, students will be able to:\n",
    "- Display the query plan associated with a view\n",
    "- Describe how results are materialized from Delta Lake tables"
   ],
   "metadata": {
    "application/vnd.databricks.v1+cell": {
     "showTitle": false,
     "cellMetadata": {},
     "nuid": "71efd65a-f5db-46c4-b835-8564e13812d5",
     "inputWidgets": {},
     "title": ""
    },
    "pycharm": {
     "name": "#%% md\n"
    }
   }
  },
  {
   "cell_type": "markdown",
   "source": [
    "## Setup"
   ],
   "metadata": {
    "application/vnd.databricks.v1+cell": {
     "showTitle": false,
     "cellMetadata": {},
     "nuid": "4d654035-ec26-4499-889a-e5c35777d8ed",
     "inputWidgets": {},
     "title": ""
    },
    "pycharm": {
     "name": "#%% md\n"
    }
   }
  },
  {
   "cell_type": "code",
   "source": [
    "%run ../Includes/Classroom-Setup-5.1"
   ],
   "metadata": {
    "application/vnd.databricks.v1+cell": {
     "showTitle": false,
     "cellMetadata": {},
     "nuid": "3abd9d8b-c85c-4302-bde1-76d3759f5314",
     "inputWidgets": {},
     "title": ""
    },
    "pycharm": {
     "name": "#%%\n"
    }
   },
   "outputs": [],
   "execution_count": 0
  },
  {
   "cell_type": "markdown",
   "source": [
    "## Examine Gym Logs\n",
    "\n",
    "Start by reviewing the schema for your gym logs."
   ],
   "metadata": {
    "application/vnd.databricks.v1+cell": {
     "showTitle": false,
     "cellMetadata": {},
     "nuid": "a1768245-d508-4856-b98d-bc90757a060a",
     "inputWidgets": {},
     "title": ""
    },
    "pycharm": {
     "name": "#%% md\n"
    }
   }
  },
  {
   "cell_type": "code",
   "source": [
    "gymDF = spark.table(\"gym_mac_logs\")\n",
    "gymDF.printSchema()"
   ],
   "metadata": {
    "application/vnd.databricks.v1+cell": {
     "showTitle": false,
     "cellMetadata": {},
     "nuid": "ff5b9521-7785-42ed-9ed5-49cb7ff592e0",
     "inputWidgets": {},
     "title": ""
    },
    "pycharm": {
     "name": "#%%\n"
    }
   },
   "outputs": [],
   "execution_count": 0
  },
  {
   "cell_type": "markdown",
   "source": [
    "A Spark DataFrame and a view are nearly identical constructs. By calling **`explain`** on our DataFrame, we can see that our source table is a set of instructions to deserialize the files containing our data."
   ],
   "metadata": {
    "application/vnd.databricks.v1+cell": {
     "showTitle": false,
     "cellMetadata": {},
     "nuid": "207c585c-db83-4c2d-ae38-a68ad8bc83df",
     "inputWidgets": {},
     "title": ""
    },
    "pycharm": {
     "name": "#%% md\n"
    }
   }
  },
  {
   "cell_type": "code",
   "source": [
    "gymDF.explain(\"formatted\")"
   ],
   "metadata": {
    "application/vnd.databricks.v1+cell": {
     "showTitle": false,
     "cellMetadata": {},
     "nuid": "7b3202e8-b796-4e23-8c15-1529f74c38fc",
     "inputWidgets": {},
     "title": ""
    },
    "pycharm": {
     "name": "#%%\n"
    }
   },
   "outputs": [],
   "execution_count": 0
  },
  {
   "cell_type": "markdown",
   "source": [
    "## Examine Workout Data\n",
    "\n",
    "Rather than trying to capture every possible metric in our view, we'll create a summary of values that might be of interest to our gym analysts.\n",
    "\n",
    "The data we're receiving from our gyms indicates the first and last timestamp recorded for user devices, indicated by mac address."
   ],
   "metadata": {
    "application/vnd.databricks.v1+cell": {
     "showTitle": false,
     "cellMetadata": {},
     "nuid": "f96103fe-6dd8-491b-818e-0bcb1b0e775a",
     "inputWidgets": {},
     "title": ""
    },
    "pycharm": {
     "name": "#%% md\n"
    }
   }
  },
  {
   "cell_type": "code",
   "source": [
    "%sql\n",
    "SELECT * FROM gym_mac_logs"
   ],
   "metadata": {
    "application/vnd.databricks.v1+cell": {
     "showTitle": false,
     "cellMetadata": {},
     "nuid": "52f0d4f0-b3ab-40d7-ba75-19d33de11273",
     "inputWidgets": {},
     "title": ""
    },
    "pycharm": {
     "name": "#%%\n"
    }
   },
   "outputs": [],
   "execution_count": 0
  },
  {
   "cell_type": "markdown",
   "source": [
    "## Construct a Query\n",
    "\n",
    "Our **`completed_workouts`** table indicates start and stop time for each user workout.\n",
    "\n",
    "Use the cell below to construct a query that identifies:\n",
    "- Each date a user completed at least one workout\n",
    "- The earliest **`start_time`** for any workout each day\n",
    "- The latest **`end_time`** for any workout each day\n",
    "- The list of all workouts completed by a user each day"
   ],
   "metadata": {
    "application/vnd.databricks.v1+cell": {
     "showTitle": false,
     "cellMetadata": {},
     "nuid": "bf3e3b4c-eaed-4bc9-b0ec-3ca8ad39af8e",
     "inputWidgets": {},
     "title": ""
    },
    "pycharm": {
     "name": "#%% md\n"
    }
   }
  },
  {
   "cell_type": "code",
   "source": [
    "%sql\n",
    "-- TODO\n",
    "SELECT * \n",
    "FROM completed_workouts\n",
    "LIMIT 10"
   ],
   "metadata": {
    "application/vnd.databricks.v1+cell": {
     "showTitle": false,
     "cellMetadata": {},
     "nuid": "ba4343bd-fcac-483d-9e1d-f0fedec6df00",
     "inputWidgets": {},
     "title": ""
    },
    "pycharm": {
     "name": "#%%\n"
    }
   },
   "outputs": [],
   "execution_count": 0
  },
  {
   "cell_type": "markdown",
   "source": [
    "## Expand on the Query\n",
    "\n",
    "Now we'll join this data back to the MAC logs sent by the gym to create our view.\n",
    "\n",
    "We'll retain the **`mac_address`** as our identifier, which we can grab from the **`user_lookup`** table.\n",
    "\n",
    "We'll also add columns to calculate the total number of minutes elapsed during a user's visit to the gym, as well as the total number of minutes elapsed between the beginning of their first workout and the end of their final workout."
   ],
   "metadata": {
    "application/vnd.databricks.v1+cell": {
     "showTitle": false,
     "cellMetadata": {},
     "nuid": "ed7350d9-82cf-4314-a4cf-5bc815c620f8",
     "inputWidgets": {},
     "title": ""
    },
    "pycharm": {
     "name": "#%% md\n"
    }
   }
  },
  {
   "cell_type": "code",
   "source": [
    "%sql\n",
    "SELECT gym, mac_address, date, workouts, (last_timestamp - first_timestamp)/60 minutes_in_gym, (to_unix_timestamp(end_workout) - to_unix_timestamp(start_workout))/60 minutes_exercising\n",
    "FROM gym_mac_logs c\n",
    "INNER JOIN (\n",
    "  SELECT b.mac_address, to_date(start_time) date, collect_set(workout_id) workouts, min(start_time) start_workout, max(end_time) end_workout\n",
    "      FROM completed_workouts a\n",
    "      INNER JOIN user_lookup b\n",
    "      ON a.user_id = b.user_id\n",
    "      GROUP BY mac_address, to_date(start_time)\n",
    "  ) d\n",
    "  ON c.mac = d.mac_address AND to_date(CAST(c.first_timestamp AS timestamp)) = d.date"
   ],
   "metadata": {
    "application/vnd.databricks.v1+cell": {
     "showTitle": false,
     "cellMetadata": {},
     "nuid": "e51f20d6-64e4-4470-a2f2-48ab5e5852d3",
     "inputWidgets": {},
     "title": ""
    },
    "pycharm": {
     "name": "#%%\n"
    }
   },
   "outputs": [],
   "execution_count": 0
  },
  {
   "cell_type": "markdown",
   "source": [
    "## Register View with Final Logic\n",
    "\n",
    "Create a (non-temporary) view called **`gym_user_stats`** using the query above.\n",
    "\n",
    "**`CREATE VIEW IF NOT EXISTS gym_user_stats AS (...)`**"
   ],
   "metadata": {
    "application/vnd.databricks.v1+cell": {
     "showTitle": false,
     "cellMetadata": {},
     "nuid": "a09eddc2-9f92-4e1a-90dd-c8a546e4d855",
     "inputWidgets": {},
     "title": ""
    },
    "pycharm": {
     "name": "#%% md\n"
    }
   }
  },
  {
   "cell_type": "code",
   "source": [
    "%sql\n",
    "-- TODO\n",
    "CREATE YOUR VIEW HERE"
   ],
   "metadata": {
    "application/vnd.databricks.v1+cell": {
     "showTitle": false,
     "cellMetadata": {},
     "nuid": "dbe47ac9-d5ea-46bb-abef-0d676b5e13ba",
     "inputWidgets": {},
     "title": ""
    },
    "pycharm": {
     "name": "#%%\n"
    }
   },
   "outputs": [],
   "execution_count": 0
  },
  {
   "cell_type": "code",
   "source": [
    "# Check your work\n",
    "assert spark.sql(\"SHOW TABLES\").filter(\"tableName='gym_user_stats'\").count() >= 1, \"View 'gym_user_stats' does not exist.\"\n",
    "assert spark.sql(\"SHOW TABLES\").filter(\"tableName='gym_user_stats'\").first()[\"isTemporary\"]==False, \"View 'gym_user_stats' should be not temporary.\"\n",
    "assert spark.sql(\"DESCRIBE EXTENDED gym_user_stats\").filter(\"col_name='Type'\").first()['data_type']=='VIEW', \"Found a table 'gym_user_stats' when a view was expected.\"\n",
    "assert spark.table(\"gym_user_stats\").count() == 304, \"Incorrect query used for view 'gym_user_stats'.\"\n",
    "print(\"All tests passed.\")"
   ],
   "metadata": {
    "application/vnd.databricks.v1+cell": {
     "showTitle": false,
     "cellMetadata": {},
     "nuid": "a9c36399-e8a4-4e99-a8b3-cf899f680f99",
     "inputWidgets": {},
     "title": ""
    },
    "pycharm": {
     "name": "#%%\n"
    }
   },
   "outputs": [],
   "execution_count": 0
  },
  {
   "cell_type": "markdown",
   "source": [
    "We can see that our view is simply storing the Spark plan for our query."
   ],
   "metadata": {
    "application/vnd.databricks.v1+cell": {
     "showTitle": false,
     "cellMetadata": {},
     "nuid": "6fa881df-d4bf-40cb-8cdc-d8ef1cf25d4a",
     "inputWidgets": {},
     "title": ""
    },
    "pycharm": {
     "name": "#%% md\n"
    }
   }
  },
  {
   "cell_type": "code",
   "source": [
    "spark.table(\"gym_user_stats\").explain(\"formatted\")"
   ],
   "metadata": {
    "application/vnd.databricks.v1+cell": {
     "showTitle": false,
     "cellMetadata": {},
     "nuid": "bcc0dd36-3644-45b2-b780-a184f017616d",
     "inputWidgets": {},
     "title": ""
    },
    "pycharm": {
     "name": "#%%\n"
    }
   },
   "outputs": [],
   "execution_count": 0
  },
  {
   "cell_type": "markdown",
   "source": [
    "When we execute a query against this view, we will process the plan to generate the logically correct result.\n",
    "\n",
    "Note that while the data may end up in the Delta Cache, this result is not guaranteed to be persisted, and is only cached for the currently active cluster."
   ],
   "metadata": {
    "application/vnd.databricks.v1+cell": {
     "showTitle": false,
     "cellMetadata": {},
     "nuid": "77b9d826-1632-4b7a-970c-0bb14973cfcc",
     "inputWidgets": {},
     "title": ""
    },
    "pycharm": {
     "name": "#%% md\n"
    }
   }
  },
  {
   "cell_type": "code",
   "source": [
    "%sql\n",
    "SELECT *\n",
    "FROM gym_user_stats\n",
    "WHERE gym = 5"
   ],
   "metadata": {
    "application/vnd.databricks.v1+cell": {
     "showTitle": false,
     "cellMetadata": {},
     "nuid": "22114876-9e63-4485-8a75-5cbe220c95d2",
     "inputWidgets": {},
     "title": ""
    },
    "pycharm": {
     "name": "#%%\n"
    }
   },
   "outputs": [],
   "execution_count": 0
  },
  {
   "cell_type": "markdown",
   "source": [
    "## An Aside on ACLs\n",
    "\n",
    "While Databricks has extensive support for ACLs, by default these are not enforced for standard data engineering clusters. As such, the default permissions for this view are set to all users, and no owner has been declared."
   ],
   "metadata": {
    "application/vnd.databricks.v1+cell": {
     "showTitle": false,
     "cellMetadata": {},
     "nuid": "6eabf6ba-caac-4145-bd9f-2dc90a302e93",
     "inputWidgets": {},
     "title": ""
    },
    "pycharm": {
     "name": "#%% md\n"
    }
   }
  },
  {
   "cell_type": "code",
   "source": [
    "import py4j\n",
    "\n",
    "try:\n",
    "    spark.sql(\"SHOW GRANT ON VIEW gym_user_stats\")\n",
    "    \n",
    "except py4j.protocol.Py4JJavaError as e:\n",
    "    print(\"Error: \" + e.java_exception.getMessage())\n",
    "    print(\"Solution: Consider enabling Table Access Control to demonstrate this feature.\")"
   ],
   "metadata": {
    "application/vnd.databricks.v1+cell": {
     "showTitle": false,
     "cellMetadata": {},
     "nuid": "13ae09cf-e84e-4125-a514-4a8dc432e750",
     "inputWidgets": {},
     "title": ""
    },
    "pycharm": {
     "name": "#%%\n"
    }
   },
   "outputs": [],
   "execution_count": 0
  },
  {
   "cell_type": "markdown",
   "source": [
    "While the privileges for this view may not be especially sensitive, we can see that our bronze table (which contains ALL our raw data) is also currently stored in this fashion.\n",
    "\n",
    "Again, ACLs are primarily intended for managing data access within the Databricks workspace for BI and data science use cases. For sensitive data engineering data, you will want to make sure that you limit access to the storage containers using your cloud identity management."
   ],
   "metadata": {
    "application/vnd.databricks.v1+cell": {
     "showTitle": false,
     "cellMetadata": {},
     "nuid": "64181859-0fcc-4ed4-9cc9-9da4a212e202",
     "inputWidgets": {},
     "title": ""
    },
    "pycharm": {
     "name": "#%% md\n"
    }
   }
  },
  {
   "cell_type": "code",
   "source": [
    "try:\n",
    "    spark.sql(\"SHOW GRANT ON TABLE bronze\")\n",
    "    \n",
    "except py4j.protocol.Py4JJavaError as e:\n",
    "    print(\"Error: \" + e.java_exception.getMessage())\n",
    "    print(\"Solution: Consider enabling Table Access Control to demonstrate this feature.\")"
   ],
   "metadata": {
    "application/vnd.databricks.v1+cell": {
     "showTitle": false,
     "cellMetadata": {},
     "nuid": "73598ccd-4205-4729-bb93-329d2f35d164",
     "inputWidgets": {},
     "title": ""
    },
    "pycharm": {
     "name": "#%%\n"
    }
   },
   "outputs": [],
   "execution_count": 0
  },
  {
   "cell_type": "markdown",
   "source": [
    "Run the following cell to delete the tables and files associated with this lesson."
   ],
   "metadata": {
    "application/vnd.databricks.v1+cell": {
     "showTitle": false,
     "cellMetadata": {},
     "nuid": "f1a91c93-822a-479a-8de1-986b2b659965",
     "inputWidgets": {},
     "title": ""
    },
    "pycharm": {
     "name": "#%% md\n"
    }
   }
  },
  {
   "cell_type": "code",
   "source": [
    "DA.cleanup()"
   ],
   "metadata": {
    "application/vnd.databricks.v1+cell": {
     "showTitle": false,
     "cellMetadata": {},
     "nuid": "7e63ed91-3709-498b-bc0d-dbda6433529f",
     "inputWidgets": {},
     "title": ""
    },
    "pycharm": {
     "name": "#%%\n"
    }
   },
   "outputs": [],
   "execution_count": 0
  }
 ],
 "metadata": {
  "application/vnd.databricks.v1+notebook": {
   "notebookName": "ADE 4.1 - Stored Views",
   "dashboards": [],
   "notebookMetadata": {
    "pythonIndentUnit": 2
   },
   "language": "python",
   "widgets": {},
   "notebookOrigID": 4185566132530350
  }
 },
 "nbformat": 4,
 "nbformat_minor": 0
}