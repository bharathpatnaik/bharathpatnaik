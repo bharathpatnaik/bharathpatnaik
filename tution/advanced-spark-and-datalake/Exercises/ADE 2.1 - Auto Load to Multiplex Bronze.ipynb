{
 "cells": [
  {
   "cell_type": "markdown",
   "source": [
    "# Auto Load Data to Multiplex Bronze\n",
    "\n",
    "The chief architect has decided that rather than connecting directly to Kafka, a source system will send raw records as JSON files to cloud object storage. In this notebook, you'll build a multiplex table that will ingest these records with Auto Loader and store the entire history of this incremental feed. The initial table will store data from all of our topics and have the following schema. \n",
    "\n",
    "| Field | Type |\n",
    "| --- | --- |\n",
    "| key | BINARY |\n",
    "| value | BINARY |\n",
    "| topic | STRING |\n",
    "| partition | LONG |\n",
    "| offset | LONG\n",
    "| timestamp | LONG |\n",
    "| date | DATE |\n",
    "| week_part | STRING |\n",
    "\n",
    "This single table will drive the majority of the data through the target architecture, feeding three interdependent data pipelines.\n",
    "\n",
    "<img src=\"https://files.training.databricks.com/images/ade/ADE_arch_bronze.png\" width=\"60%\" />\n",
    "\n",
    "**NOTE**: Details on additional configurations for connecting to Kafka are available <a href=\"https://docs.databricks.com/spark/latest/structured-streaming/kafka.html\" target=\"_blank\">here</a>.\n",
    "\n",
    "\n",
    "## Learning Objectives\n",
    "\n",
    "By the end of this lesson, you should be able to:\n",
    "- Describe a multiplex design\n",
    "- Apply Auto Loader to incrementally process records\n",
    "- Configure trigger intervals\n",
    "- Use \"trigger-available-now\" logic to execute triggered incremental loading of data."
   ],
   "metadata": {
    "application/vnd.databricks.v1+cell": {
     "showTitle": false,
     "cellMetadata": {},
     "nuid": "876fc579-5c0d-4466-a6a2-f6ec095d0255",
     "inputWidgets": {},
     "title": ""
    },
    "pycharm": {
     "name": "#%% md\n"
    }
   }
  },
  {
   "cell_type": "markdown",
   "source": [
    "The following cell declares the paths needed throughout this notebook."
   ],
   "metadata": {
    "application/vnd.databricks.v1+cell": {
     "showTitle": false,
     "cellMetadata": {},
     "nuid": "a0df744f-3b97-4ece-943e-7251c7e2f7f5",
     "inputWidgets": {},
     "title": ""
    },
    "pycharm": {
     "name": "#%% md\n"
    }
   }
  },
  {
   "cell_type": "code",
   "source": [
    "%run ../Includes/Classroom-Setup-3.1"
   ],
   "metadata": {
    "application/vnd.databricks.v1+cell": {
     "showTitle": false,
     "cellMetadata": {},
     "nuid": "aabe43b6-77e7-4a3d-b411-29b02d4fba2b",
     "inputWidgets": {},
     "title": ""
    },
    "pycharm": {
     "name": "#%%\n"
    }
   },
   "outputs": [],
   "execution_count": 0
  },
  {
   "cell_type": "markdown",
   "source": [
    "<img src=\"https://files.training.databricks.com/images/icon_warn_24.png\"> All records are being stored on the DBFS root for this training example.\n",
    "\n",
    "Setting up separate databases and storage accounts for different layers\n",
    "of data is preferred in both development and production environments."
   ],
   "metadata": {
    "application/vnd.databricks.v1+cell": {
     "showTitle": false,
     "cellMetadata": {},
     "nuid": "d25b5381-6f23-40ec-bb55-19d1a094b831",
     "inputWidgets": {},
     "title": ""
    },
    "pycharm": {
     "name": "#%% md\n"
    }
   }
  },
  {
   "cell_type": "markdown",
   "source": [
    "## Examine Source Data\n",
    "\n",
    "Data files are being written to the path specified by the variable below.\n",
    "\n",
    "Run the following cell to examine the schema in the source data and determine if anything needs to be changed as it's being ingested."
   ],
   "metadata": {
    "application/vnd.databricks.v1+cell": {
     "showTitle": false,
     "cellMetadata": {},
     "nuid": "a8147953-fe58-4a3f-9d26-a0537b555652",
     "inputWidgets": {},
     "title": ""
    },
    "pycharm": {
     "name": "#%% md\n"
    }
   }
  },
  {
   "cell_type": "code",
   "source": [
    "spark.read.json(DA.paths.source_daily).printSchema()"
   ],
   "metadata": {
    "application/vnd.databricks.v1+cell": {
     "showTitle": false,
     "cellMetadata": {},
     "nuid": "b13ee6bf-7adb-44a3-898d-59032a670b2d",
     "inputWidgets": {},
     "title": ""
    },
    "pycharm": {
     "name": "#%%\n"
    }
   },
   "outputs": [],
   "execution_count": 0
  },
  {
   "cell_type": "markdown",
   "source": [
    "## Prepare Data to Join with Date Lookup Table\n",
    "The initialization script has loaded a **`date_lookup`** table. This table has a number of pre-computed date values. Note that additional fields indicating holidays or financial quarters might often be added to this table for later data enrichment.\n",
    "\n",
    "Pre-computing and storing these values is especially important based on our desire to partition our data by year and week, using the string pattern **`YYYY-WW`**. While Spark has both **`year`** and **`weekofyear`** functions built in, the **`weekofyear`** function may not provide expected behavior for dates falling in the last week of December or <a href=\"https://spark.apache.org/docs/2.3.0/api/sql/#weekofyear\" target=\"_blank\">first week of January</a>, as it defines week 1 as the first week with >3 days.\n",
    "\n",
    "While this edge case is esoteric to Spark, a **`date_lookup`** table that will be used across the organization is important for making sure that data is consistently enriched with date-related details."
   ],
   "metadata": {
    "application/vnd.databricks.v1+cell": {
     "showTitle": false,
     "cellMetadata": {},
     "nuid": "a3fa2202-f9b1-41c4-b3cf-49486753c2f6",
     "inputWidgets": {},
     "title": ""
    },
    "pycharm": {
     "name": "#%% md\n"
    }
   }
  },
  {
   "cell_type": "code",
   "source": [
    "%sql\n",
    "\n",
    "DESCRIBE date_lookup"
   ],
   "metadata": {
    "application/vnd.databricks.v1+cell": {
     "showTitle": false,
     "cellMetadata": {},
     "nuid": "0e1174b9-fb8b-4a4d-b6f4-851f73deb146",
     "inputWidgets": {},
     "title": ""
    },
    "pycharm": {
     "name": "#%%\n"
    }
   },
   "outputs": [],
   "execution_count": 0
  },
  {
   "cell_type": "markdown",
   "source": [
    "The current table being implemented requires that we capture the accurate **`week_part`** for each **`date`**.\n",
    "\n",
    "The following call creates the **`DataFrame`** needed for the subsequent join operation."
   ],
   "metadata": {
    "application/vnd.databricks.v1+cell": {
     "showTitle": false,
     "cellMetadata": {},
     "nuid": "c7e3af82-19ca-4a94-ad52-a7e823b50ed1",
     "inputWidgets": {},
     "title": ""
    },
    "pycharm": {
     "name": "#%% md\n"
    }
   }
  },
  {
   "cell_type": "code",
   "source": [
    "date_lookup_df = spark.table(\"date_lookup\").select(\"date\", \"week_part\")"
   ],
   "metadata": {
    "application/vnd.databricks.v1+cell": {
     "showTitle": false,
     "cellMetadata": {},
     "nuid": "21cb5ed5-6127-41e9-993d-0466b2952968",
     "inputWidgets": {},
     "title": ""
    },
    "pycharm": {
     "name": "#%%\n"
    }
   },
   "outputs": [],
   "execution_count": 0
  },
  {
   "cell_type": "markdown",
   "source": [
    "Working with the JSON data stored in the **`DA.paths.source_daily`** location, transform the **`timestamp`** column as necessary to join it with the **`date`** column."
   ],
   "metadata": {
    "application/vnd.databricks.v1+cell": {
     "showTitle": false,
     "cellMetadata": {},
     "nuid": "e2d9822c-7740-460c-887c-497e28cc3a84",
     "inputWidgets": {},
     "title": ""
    },
    "pycharm": {
     "name": "#%% md\n"
    }
   }
  },
  {
   "cell_type": "code",
   "source": [
    "# TODO\n",
    "from pyspark.sql import functions as F\n",
    "json_df = spark.read.json(DA.paths.source_daily)\n",
    " \n",
    "joined_df = (json_df.join(F.broadcast(date_lookup_df),\n",
    "                          FILL_IN,  # Insert the matching condition\n",
    "                          \"left\"))\n",
    " \n",
    "display(joined_df)"
   ],
   "metadata": {
    "application/vnd.databricks.v1+cell": {
     "showTitle": false,
     "cellMetadata": {},
     "nuid": "ea8a4e3c-1782-420a-89bf-bf25ff149e5c",
     "inputWidgets": {},
     "title": ""
    },
    "pycharm": {
     "name": "#%%\n"
    }
   },
   "outputs": [],
   "execution_count": 0
  },
  {
   "cell_type": "markdown",
   "source": [
    "## Define Triggered Incremental Auto Loading to Multiplex Bronze Table\n",
    "\n",
    "Below is starter code for a function to incrementally process data from the source directory to the bronze table, creating the table during the initial write.\n",
    "\n",
    "Fill in the missing code to:\n",
    "- Configure the stream to use Auto Loader\n",
    "- Configure Auto Loader to use the JSON format\n",
    "- Perform a broadcast join with the date_lookup table\n",
    "- Partition the data by the **`topic`** and **`week_part`** fields"
   ],
   "metadata": {
    "application/vnd.databricks.v1+cell": {
     "showTitle": false,
     "cellMetadata": {},
     "nuid": "45a0ee28-b3b8-4429-8178-2b8635b2e872",
     "inputWidgets": {},
     "title": ""
    },
    "pycharm": {
     "name": "#%% md\n"
    }
   }
  },
  {
   "cell_type": "code",
   "source": [
    "# TODO\n",
    "def process_bronze():\n",
    "    query = (spark.readStream\n",
    "                  .FILL_IN\n",
    "                  .FILL_IN\n",
    "                  .option(\"cloudFiles.schemaLocation\", f\"{DA.paths.checkpoints}/bronze_schema\")\n",
    "                  .load(DA.paths.source_daily)\n",
    "                  .join(F.broadcast(date_lookup_df), F.to_date((F.col(\"timestamp\")/1000).cast(\"timestamp\")) == F.col(\"date\"), \"left\")\n",
    "                  .writeStream\n",
    "                  .option(\"checkpointLocation\", f\"{DA.paths.checkpoints}/bronze\")\n",
    "                  .partitionBy(FILL_IN)\n",
    "                  .trigger(availableNow=True)\n",
    "                  .table(\"bronze\"))\n",
    " \n",
    "    query.awaitTermination()"
   ],
   "metadata": {
    "application/vnd.databricks.v1+cell": {
     "showTitle": false,
     "cellMetadata": {},
     "nuid": "7f1bc8c3-4287-417a-ba6a-d829b4283c92",
     "inputWidgets": {},
     "title": ""
    },
    "pycharm": {
     "name": "#%%\n"
    }
   },
   "outputs": [],
   "execution_count": 0
  },
  {
   "cell_type": "markdown",
   "source": [
    "Run the cell below to process an incremental batch of data."
   ],
   "metadata": {
    "application/vnd.databricks.v1+cell": {
     "showTitle": false,
     "cellMetadata": {},
     "nuid": "e0a94c3d-4f33-4b4e-badc-172fc69b749b",
     "inputWidgets": {},
     "title": ""
    },
    "pycharm": {
     "name": "#%% md\n"
    }
   }
  },
  {
   "cell_type": "code",
   "source": [
    "process_bronze()"
   ],
   "metadata": {
    "application/vnd.databricks.v1+cell": {
     "showTitle": false,
     "cellMetadata": {},
     "nuid": "526ab5c8-cc44-4035-afab-c1b2bf7b7464",
     "inputWidgets": {},
     "title": ""
    },
    "pycharm": {
     "name": "#%%\n"
    }
   },
   "outputs": [],
   "execution_count": 0
  },
  {
   "cell_type": "markdown",
   "source": [
    "Review the count of processed records."
   ],
   "metadata": {
    "application/vnd.databricks.v1+cell": {
     "showTitle": false,
     "cellMetadata": {},
     "nuid": "15c8f203-9d3d-4b00-bc17-b7d4bbccff77",
     "inputWidgets": {},
     "title": ""
    },
    "pycharm": {
     "name": "#%% md\n"
    }
   }
  },
  {
   "cell_type": "code",
   "source": [
    "%sql\n",
    "SELECT COUNT(*) FROM bronze"
   ],
   "metadata": {
    "application/vnd.databricks.v1+cell": {
     "showTitle": false,
     "cellMetadata": {},
     "nuid": "6b72e6b3-3d84-4091-9ac0-b817d7c43aea",
     "inputWidgets": {},
     "title": ""
    },
    "pycharm": {
     "name": "#%%\n"
    }
   },
   "outputs": [],
   "execution_count": 0
  },
  {
   "cell_type": "markdown",
   "source": [
    "Preview the data to ensure records are being ingested correctly."
   ],
   "metadata": {
    "application/vnd.databricks.v1+cell": {
     "showTitle": false,
     "cellMetadata": {},
     "nuid": "fbe40869-7615-4e41-b6e6-d1597fbb2b30",
     "inputWidgets": {},
     "title": ""
    },
    "pycharm": {
     "name": "#%% md\n"
    }
   }
  },
  {
   "cell_type": "code",
   "source": [
    "%sql\n",
    "SELECT * FROM bronze"
   ],
   "metadata": {
    "application/vnd.databricks.v1+cell": {
     "showTitle": false,
     "cellMetadata": {},
     "nuid": "bb0f3edc-a2e0-4db3-8e54-9a098b5a9e6c",
     "inputWidgets": {},
     "title": ""
    },
    "pycharm": {
     "name": "#%%\n"
    }
   },
   "outputs": [],
   "execution_count": 0
  },
  {
   "cell_type": "markdown",
   "source": [
    "The **`DA.daily_stream.load()`** code below is a helper class to land new data in the source directory.\n",
    "\n",
    "Executing the following cell should successfully process a new batch."
   ],
   "metadata": {
    "application/vnd.databricks.v1+cell": {
     "showTitle": false,
     "cellMetadata": {},
     "nuid": "57f091f5-d23d-42c9-9a52-464c5f8ecf3a",
     "inputWidgets": {},
     "title": ""
    },
    "pycharm": {
     "name": "#%% md\n"
    }
   }
  },
  {
   "cell_type": "code",
   "source": [
    "DA.daily_stream.load()"
   ],
   "metadata": {
    "application/vnd.databricks.v1+cell": {
     "showTitle": false,
     "cellMetadata": {},
     "nuid": "604c5648-108a-4028-bb33-63b8467ea111",
     "inputWidgets": {},
     "title": ""
    },
    "pycharm": {
     "name": "#%%\n"
    }
   },
   "outputs": [],
   "execution_count": 0
  },
  {
   "cell_type": "code",
   "source": [
    "process_bronze()"
   ],
   "metadata": {
    "application/vnd.databricks.v1+cell": {
     "showTitle": false,
     "cellMetadata": {},
     "nuid": "b79fa7c7-9e12-46dc-b5a3-8d1d935a9de9",
     "inputWidgets": {},
     "title": ""
    },
    "pycharm": {
     "name": "#%%\n"
    }
   },
   "outputs": [],
   "execution_count": 0
  },
  {
   "cell_type": "markdown",
   "source": [
    "Confirm the count is now higher."
   ],
   "metadata": {
    "application/vnd.databricks.v1+cell": {
     "showTitle": false,
     "cellMetadata": {},
     "nuid": "72859a33-356e-4c87-a203-c95b3551a972",
     "inputWidgets": {},
     "title": ""
    },
    "pycharm": {
     "name": "#%% md\n"
    }
   }
  },
  {
   "cell_type": "code",
   "source": [
    "%sql\n",
    "SELECT COUNT(*) FROM bronze"
   ],
   "metadata": {
    "application/vnd.databricks.v1+cell": {
     "showTitle": false,
     "cellMetadata": {},
     "nuid": "37f0df08-67dc-4e98-8660-877bfc0a14ce",
     "inputWidgets": {},
     "title": ""
    },
    "pycharm": {
     "name": "#%%\n"
    }
   },
   "outputs": [],
   "execution_count": 0
  },
  {
   "cell_type": "markdown",
   "source": [
    "Run the following cell to delete the tables and files associated with this lesson."
   ],
   "metadata": {
    "application/vnd.databricks.v1+cell": {
     "showTitle": false,
     "cellMetadata": {},
     "nuid": "fbd56718-3960-411e-a9cf-ba3c1fd90aa9",
     "inputWidgets": {},
     "title": ""
    },
    "pycharm": {
     "name": "#%% md\n"
    }
   }
  },
  {
   "cell_type": "code",
   "source": [
    "DA.cleanup()"
   ],
   "metadata": {
    "application/vnd.databricks.v1+cell": {
     "showTitle": false,
     "cellMetadata": {},
     "nuid": "2d3490b2-5b89-4426-81e4-13ef53329e42",
     "inputWidgets": {},
     "title": ""
    },
    "pycharm": {
     "name": "#%%\n"
    }
   },
   "outputs": [],
   "execution_count": 0
  }
 ],
 "metadata": {
  "application/vnd.databricks.v1+notebook": {
   "notebookName": "ADE 2.1 - Auto Load to Multiplex Bronze",
   "dashboards": [],
   "notebookMetadata": {
    "pythonIndentUnit": 2
   },
   "language": "python",
   "widgets": {},
   "notebookOrigID": 4185566132530523
  }
 },
 "nbformat": 4,
 "nbformat_minor": 0
}