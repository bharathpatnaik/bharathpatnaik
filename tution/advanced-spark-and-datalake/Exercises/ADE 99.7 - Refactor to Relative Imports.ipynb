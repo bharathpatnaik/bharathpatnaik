{
 "cells": [
  {
   "cell_type": "markdown",
   "source": [
    "# Refactoring to Relative Imports Demo\n",
    "\n",
    "Import this Git repo into your Databricks workspace: [cli-demo](https://github.com/databricks-academy/cli-demo)\n",
    "\n",
    "Then, navigate to the following notebooks to access demo instructions for this lesson.\n",
    "\n",
    "| Demo | Notebook Path |\n",
    "| --- | --- |\n",
    "| Refactor %run to Relative Imports | [cli-demo/notebooks/00_refactoring_to_relative_import](https://github.com/databricks-academy/cli-demo/blob/published/notebooks/00_refactoring_to_relative_import.py) |\n",
    "| Relative Imports with Python Wheel | [cli-demo/notebooks/01_installing_from_a_wheel](https://github.com/databricks-academy/cli-demo/blob/published/notebooks/01_installing_from_a_wheel.py) |"
   ],
   "metadata": {
    "application/vnd.databricks.v1+cell": {
     "showTitle": false,
     "cellMetadata": {},
     "nuid": "15e8c66e-f4f2-42ed-8820-a3896531efc4",
     "inputWidgets": {},
     "title": ""
    },
    "pycharm": {
     "name": "#%% md\n"
    }
   }
  }
 ],
 "metadata": {
  "application/vnd.databricks.v1+notebook": {
   "notebookName": "ADE 99.7 - Refactor to Relative Imports",
   "dashboards": [],
   "notebookMetadata": {
    "pythonIndentUnit": 2
   },
   "language": "python",
   "widgets": {},
   "notebookOrigID": 4185566132530151
  }
 },
 "nbformat": 4,
 "nbformat_minor": 0
}