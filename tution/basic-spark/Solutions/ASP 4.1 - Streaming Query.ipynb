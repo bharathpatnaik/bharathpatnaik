{
 "cells": [
  {
   "cell_type": "markdown",
   "source": [
    "# Streaming Query\n",
    "\n",
    "##### Objectives\n",
    "1. Build streaming DataFrames\n",
    "1. Display streaming query results\n",
    "1. Write streaming query results\n",
    "1. Monitor streaming query\n",
    "\n",
    "##### Classes\n",
    "- <a href=\"https://spark.apache.org/docs/latest/api/python/reference/api/pyspark.sql.streaming.DataStreamReader.html#pyspark.sql.streaming.DataStreamReader\" target=\"_blank\">DataStreamReader</a>\n",
    "- <a href=\"https://spark.apache.org/docs/latest/api/python/reference/api/pyspark.sql.streaming.DataStreamWriter.html#pyspark.sql.streaming.DataStreamWriter\" target=\"_blank\">DataStreamWriter</a>\n",
    "- <a href=\"https://spark.apache.org/docs/latest/api/python/reference/api/pyspark.sql.streaming.StreamingQuery.html#pyspark.sql.streaming.StreamingQuery\" target=\"_blank\">StreamingQuery</a>"
   ],
   "metadata": {
    "application/vnd.databricks.v1+cell": {
     "showTitle": false,
     "cellMetadata": {},
     "nuid": "df0a3e84-df4c-4dae-a72c-3dd9ff6fe1ca",
     "inputWidgets": {},
     "title": ""
    },
    "pycharm": {
     "name": "#%% md\n"
    }
   }
  },
  {
   "cell_type": "code",
   "source": [
    "%run ./Includes/Classroom-Setup"
   ],
   "metadata": {
    "application/vnd.databricks.v1+cell": {
     "showTitle": false,
     "cellMetadata": {},
     "nuid": "3ee08a1c-1f65-43f8-a0e8-10059d87dcfa",
     "inputWidgets": {},
     "title": ""
    },
    "pycharm": {
     "name": "#%%\n",
     "is_executing": true
    }
   },
   "outputs": [],
   "execution_count": null
  },
  {
   "cell_type": "markdown",
   "source": [
    "### Build streaming DataFrames\n",
    "\n",
    "Obtain an initial streaming DataFrame from a Parquet-format file source."
   ],
   "metadata": {
    "application/vnd.databricks.v1+cell": {
     "showTitle": false,
     "cellMetadata": {},
     "nuid": "c15b0df7-9a4a-489a-b4e5-dd950c26cc0a",
     "inputWidgets": {},
     "title": ""
    },
    "pycharm": {
     "name": "#%% md\n"
    }
   }
  },
  {
   "cell_type": "code",
   "source": [
    "schema = \"device STRING, ecommerce STRUCT<purchase_revenue_in_usd: DOUBLE, total_item_quantity: BIGINT, unique_items: BIGINT>, event_name STRING, event_previous_timestamp BIGINT, event_timestamp BIGINT, geo STRUCT<city: STRING, state: STRING>, items ARRAY<STRUCT<coupon: STRING, item_id: STRING, item_name: STRING, item_revenue_in_usd: DOUBLE, price_in_usd: DOUBLE, quantity: BIGINT>>, traffic_source STRING, user_first_touch_timestamp BIGINT, user_id STRING\"\n",
    "\n",
    "df = (spark\n",
    "      .readStream\n",
    "      .schema(schema)\n",
    "      .option(\"maxFilesPerTrigger\", 1)\n",
    "      .parquet(eventsPath)\n",
    "     )\n",
    "df.isStreaming"
   ],
   "metadata": {
    "application/vnd.databricks.v1+cell": {
     "showTitle": false,
     "cellMetadata": {},
     "nuid": "ccbf4d19-749e-4e9d-98d8-f3b30052e11d",
     "inputWidgets": {},
     "title": ""
    },
    "pycharm": {
     "name": "#%%\n"
    }
   },
   "outputs": [],
   "execution_count": 0
  },
  {
   "cell_type": "markdown",
   "source": [
    "Apply some transformations, producing new streaming DataFrames."
   ],
   "metadata": {
    "application/vnd.databricks.v1+cell": {
     "showTitle": false,
     "cellMetadata": {},
     "nuid": "d96f9d0a-0450-4054-8c23-1789616baa83",
     "inputWidgets": {},
     "title": ""
    },
    "pycharm": {
     "name": "#%% md\n"
    }
   }
  },
  {
   "cell_type": "code",
   "source": [
    "from pyspark.sql.functions import col, approx_count_distinct, count\n",
    "\n",
    "emailTrafficDF = (df\n",
    "                  .filter(col(\"traffic_source\") == \"email\")\n",
    "                  .withColumn(\"mobile\", col(\"device\").isin([\"iOS\", \"Android\"]))\n",
    "                  .select(\"user_id\", \"event_timestamp\", \"mobile\")\n",
    "                 )\n",
    "emailTrafficDF.isStreaming"
   ],
   "metadata": {
    "application/vnd.databricks.v1+cell": {
     "showTitle": false,
     "cellMetadata": {},
     "nuid": "9f291352-22d4-4022-9056-2a9bdbef837c",
     "inputWidgets": {},
     "title": ""
    },
    "pycharm": {
     "name": "#%%\n"
    }
   },
   "outputs": [],
   "execution_count": 0
  },
  {
   "cell_type": "markdown",
   "source": [
    "### Write streaming query results\n",
    "\n",
    "Take the final streaming DataFrame (our result table) and write it to a file sink in \"append\" mode."
   ],
   "metadata": {
    "application/vnd.databricks.v1+cell": {
     "showTitle": false,
     "cellMetadata": {},
     "nuid": "361fcb49-525f-4a2e-b99f-e5468bdd2759",
     "inputWidgets": {},
     "title": ""
    },
    "pycharm": {
     "name": "#%% md\n"
    }
   }
  },
  {
   "cell_type": "code",
   "source": [
    "checkpointPath = userhome + \"/email_traffic/checkpoint\"\n",
    "outputPath = userhome + \"/email_traffic/output\"\n",
    "\n",
    "devicesQuery = (emailTrafficDF\n",
    "                .writeStream\n",
    "                .outputMode(\"append\")\n",
    "                .format(\"parquet\")\n",
    "                .queryName(\"email_traffic\")\n",
    "                .trigger(processingTime=\"1 second\")\n",
    "                .option(\"checkpointLocation\", checkpointPath)\n",
    "                .start(outputPath)\n",
    "               )"
   ],
   "metadata": {
    "application/vnd.databricks.v1+cell": {
     "showTitle": false,
     "cellMetadata": {},
     "nuid": "6bd89b06-dc76-4f5f-bf1c-ecb27e292bf2",
     "inputWidgets": {},
     "title": ""
    },
    "pycharm": {
     "name": "#%%\n"
    }
   },
   "outputs": [],
   "execution_count": 0
  },
  {
   "cell_type": "markdown",
   "source": [
    "### Monitor streaming query\n",
    "\n",
    "Use the streaming query \"handle\" to monitor and control it."
   ],
   "metadata": {
    "application/vnd.databricks.v1+cell": {
     "showTitle": false,
     "cellMetadata": {},
     "nuid": "2d39f845-968b-45e1-b546-cda114d98051",
     "inputWidgets": {},
     "title": ""
    },
    "pycharm": {
     "name": "#%% md\n"
    }
   }
  },
  {
   "cell_type": "code",
   "source": [
    "devicesQuery.id"
   ],
   "metadata": {
    "application/vnd.databricks.v1+cell": {
     "showTitle": false,
     "cellMetadata": {},
     "nuid": "4727f714-b3f9-42f6-b140-ec6a1777a6ae",
     "inputWidgets": {},
     "title": ""
    },
    "pycharm": {
     "name": "#%%\n"
    }
   },
   "outputs": [],
   "execution_count": 0
  },
  {
   "cell_type": "code",
   "source": [
    "devicesQuery.status"
   ],
   "metadata": {
    "application/vnd.databricks.v1+cell": {
     "showTitle": false,
     "cellMetadata": {},
     "nuid": "d1fc62fe-8908-4bb8-b535-84f6e22b1d9e",
     "inputWidgets": {},
     "title": ""
    },
    "pycharm": {
     "name": "#%%\n"
    }
   },
   "outputs": [],
   "execution_count": 0
  },
  {
   "cell_type": "code",
   "source": [
    "devicesQuery.lastProgress"
   ],
   "metadata": {
    "application/vnd.databricks.v1+cell": {
     "showTitle": false,
     "cellMetadata": {},
     "nuid": "d59f00db-8334-495d-84ba-6f9ba19b9ef5",
     "inputWidgets": {},
     "title": ""
    },
    "pycharm": {
     "name": "#%%\n"
    }
   },
   "outputs": [],
   "execution_count": 0
  },
  {
   "cell_type": "code",
   "source": [
    "devicesQuery.awaitTermination(5)"
   ],
   "metadata": {
    "application/vnd.databricks.v1+cell": {
     "showTitle": false,
     "cellMetadata": {},
     "nuid": "631117ad-f380-47dc-ab30-6e154a2cf3a5",
     "inputWidgets": {},
     "title": ""
    },
    "pycharm": {
     "name": "#%%\n"
    }
   },
   "outputs": [],
   "execution_count": 0
  },
  {
   "cell_type": "code",
   "source": [
    "devicesQuery.stop()"
   ],
   "metadata": {
    "application/vnd.databricks.v1+cell": {
     "showTitle": false,
     "cellMetadata": {},
     "nuid": "af27f15b-fb13-4d60-a883-37ca8bb3db06",
     "inputWidgets": {},
     "title": ""
    },
    "pycharm": {
     "name": "#%%\n"
    }
   },
   "outputs": [],
   "execution_count": 0
  },
  {
   "cell_type": "markdown",
   "source": [
    "# Coupon Sales Lab\n",
    "Process and append streaming data on transactions using coupons.\n",
    "1. Read data stream\n",
    "2. Filter for transactions with coupons codes\n",
    "3. Write streaming query results to Parquet\n",
    "4. Monitor streaming query\n",
    "5. Stop streaming query\n",
    "\n",
    "##### Classes\n",
    "- <a href=\"https://spark.apache.org/docs/latest/api/python/reference/api/pyspark.sql.streaming.DataStreamReader.html#pyspark.sql.streaming.DataStreamReader\" target=\"_blank\">DataStreamReader</a>\n",
    "- <a href=\"https://spark.apache.org/docs/latest/api/python/reference/api/pyspark.sql.streaming.DataStreamWriter.html#pyspark.sql.streaming.DataStreamWriter\" target=\"_blank\">DataStreamWriter</a>\n",
    "- <a href=\"https://spark.apache.org/docs/latest/api/python/reference/api/pyspark.sql.streaming.StreamingQuery.html#pyspark.sql.streaming.StreamingQuery\" target=\"_blank\">StreamingQuery</a>"
   ],
   "metadata": {
    "application/vnd.databricks.v1+cell": {
     "showTitle": false,
     "cellMetadata": {},
     "nuid": "06d99ed5-b685-4763-b188-b8cf750f26ab",
     "inputWidgets": {},
     "title": ""
    },
    "pycharm": {
     "name": "#%% md\n"
    }
   }
  },
  {
   "cell_type": "markdown",
   "source": [
    "### 1. Read data stream\n",
    "- Use the schema stored in **`schema`**\n",
    "- Set to process 1 file per trigger\n",
    "- Read from Parquet files in the source directory specified by **`salesPath`**\n",
    "\n",
    "Assign the resulting DataFrame to **`df`**."
   ],
   "metadata": {
    "application/vnd.databricks.v1+cell": {
     "showTitle": false,
     "cellMetadata": {},
     "nuid": "96613bd4-bfab-4fd8-98b3-c2979c6f5d3b",
     "inputWidgets": {},
     "title": ""
    },
    "pycharm": {
     "name": "#%% md\n"
    }
   }
  },
  {
   "cell_type": "code",
   "source": [
    "schema = \"order_id BIGINT, email STRING, transaction_timestamp BIGINT, total_item_quantity BIGINT, purchase_revenue_in_usd DOUBLE, unique_items BIGINT, items ARRAY<STRUCT<coupon: STRING, item_id: STRING, item_name: STRING, item_revenue_in_usd: DOUBLE, price_in_usd: DOUBLE, quantity: BIGINT>>\""
   ],
   "metadata": {
    "application/vnd.databricks.v1+cell": {
     "showTitle": false,
     "cellMetadata": {},
     "nuid": "5d05c15f-3d38-49ef-aaef-f2ab679b417d",
     "inputWidgets": {},
     "title": ""
    },
    "pycharm": {
     "name": "#%%\n"
    }
   },
   "outputs": [],
   "execution_count": 0
  },
  {
   "cell_type": "code",
   "source": [
    "# ANSWER\n",
    "df = (spark\n",
    "      .readStream\n",
    "      .schema(schema)\n",
    "      .option(\"maxFilesPerTrigger\", 1)\n",
    "      .parquet(salesPath)\n",
    "     )"
   ],
   "metadata": {
    "application/vnd.databricks.v1+cell": {
     "showTitle": false,
     "cellMetadata": {},
     "nuid": "03bf7f18-45a8-4a21-b777-1b31f4813e85",
     "inputWidgets": {},
     "title": ""
    },
    "pycharm": {
     "name": "#%%\n"
    }
   },
   "outputs": [],
   "execution_count": 0
  },
  {
   "cell_type": "markdown",
   "source": [
    "**CHECK YOUR WORK**"
   ],
   "metadata": {
    "application/vnd.databricks.v1+cell": {
     "showTitle": false,
     "cellMetadata": {},
     "nuid": "609ab9af-179b-45d4-bcf3-bfabdd9388a0",
     "inputWidgets": {},
     "title": ""
    },
    "pycharm": {
     "name": "#%% md\n"
    }
   }
  },
  {
   "cell_type": "code",
   "source": [
    "assert df.isStreaming\n",
    "assert df.columns == [\"order_id\", \"email\", \"transaction_timestamp\", \"total_item_quantity\", \"purchase_revenue_in_usd\", \"unique_items\", \"items\"]"
   ],
   "metadata": {
    "application/vnd.databricks.v1+cell": {
     "showTitle": false,
     "cellMetadata": {},
     "nuid": "e9bef986-de46-46bb-ae24-3f38a24e6de4",
     "inputWidgets": {},
     "title": ""
    },
    "pycharm": {
     "name": "#%%\n"
    }
   },
   "outputs": [],
   "execution_count": 0
  },
  {
   "cell_type": "markdown",
   "source": [
    "### 2. Filter for transactions with coupon codes\n",
    "- Explode the **`items`** field in **`df`** with the results replacing the existing **`items`** field\n",
    "- Filter for records where **`items.coupon`** is not null\n",
    "\n",
    "Assign the resulting DataFrame to **`couponSalesDF`**."
   ],
   "metadata": {
    "application/vnd.databricks.v1+cell": {
     "showTitle": false,
     "cellMetadata": {},
     "nuid": "55c34cfe-7377-4943-8dda-5610cf96d22e",
     "inputWidgets": {},
     "title": ""
    },
    "pycharm": {
     "name": "#%% md\n"
    }
   }
  },
  {
   "cell_type": "code",
   "source": [
    "# ANSWER\n",
    "from pyspark.sql.functions import col, explode\n",
    "\n",
    "couponSalesDF = (df\n",
    "                 .withColumn(\"items\", explode(col(\"items\")))\n",
    "                 .filter(col(\"items.coupon\").isNotNull())\n",
    "                )"
   ],
   "metadata": {
    "application/vnd.databricks.v1+cell": {
     "showTitle": false,
     "cellMetadata": {},
     "nuid": "fe41fe97-d3bf-43a7-9ef9-cd504484609b",
     "inputWidgets": {},
     "title": ""
    },
    "pycharm": {
     "name": "#%%\n"
    }
   },
   "outputs": [],
   "execution_count": 0
  },
  {
   "cell_type": "markdown",
   "source": [
    "**CHECK YOUR WORK**"
   ],
   "metadata": {
    "application/vnd.databricks.v1+cell": {
     "showTitle": false,
     "cellMetadata": {},
     "nuid": "60369be4-714d-4d79-8099-e7d0417d6297",
     "inputWidgets": {},
     "title": ""
    },
    "pycharm": {
     "name": "#%% md\n"
    }
   }
  },
  {
   "cell_type": "code",
   "source": [
    "schemaStr = str(couponSalesDF.schema)\n",
    "assert \"StructField(items,StructType(List(StructField(coupon\" in schemaStr, \"items column was not exploded\""
   ],
   "metadata": {
    "application/vnd.databricks.v1+cell": {
     "showTitle": false,
     "cellMetadata": {},
     "nuid": "b1e7e255-1061-4787-a49a-7252834cb306",
     "inputWidgets": {},
     "title": ""
    },
    "pycharm": {
     "name": "#%%\n"
    }
   },
   "outputs": [],
   "execution_count": 0
  },
  {
   "cell_type": "markdown",
   "source": [
    "### 3. Write streaming query results to parquet\n",
    "- Configure the streaming query to write Parquet format files in \"append\" mode\n",
    "- Set the query name to \"coupon_sales\"\n",
    "- Set a trigger interval of 1 second\n",
    "- Set the checkpoint location to **`couponsCheckpointPath`**\n",
    "- Set the output path to **`couponsOutputPath`**\n",
    "\n",
    "Start the streaming query and assign the resulting handle to **`couponSalesQuery`**."
   ],
   "metadata": {
    "application/vnd.databricks.v1+cell": {
     "showTitle": false,
     "cellMetadata": {},
     "nuid": "d5c1c88f-abd0-4063-a0a8-20759bf82442",
     "inputWidgets": {},
     "title": ""
    },
    "pycharm": {
     "name": "#%% md\n"
    }
   }
  },
  {
   "cell_type": "code",
   "source": [
    "# ANSWER\n",
    "\n",
    "couponsCheckpointPath = workingDir + \"/coupon-sales/checkpoint\"\n",
    "couponsOutputPath = workingDir + \"/coupon-sales/output\"\n",
    "\n",
    "couponSalesQuery = (couponSalesDF\n",
    "                    .writeStream\n",
    "                    .outputMode(\"append\")\n",
    "                    .format(\"parquet\")\n",
    "                    .queryName(\"coupon_sales\")\n",
    "                    .trigger(processingTime=\"1 second\")\n",
    "                    .option(\"checkpointLocation\", couponsCheckpointPath)\n",
    "                    .start(couponsOutputPath)\n",
    "                   )"
   ],
   "metadata": {
    "application/vnd.databricks.v1+cell": {
     "showTitle": false,
     "cellMetadata": {},
     "nuid": "5bf21693-fd4a-4ab7-a6a5-3b906e673001",
     "inputWidgets": {},
     "title": ""
    },
    "pycharm": {
     "name": "#%%\n"
    }
   },
   "outputs": [],
   "execution_count": 0
  },
  {
   "cell_type": "markdown",
   "source": [
    "**CHECK YOUR WORK**"
   ],
   "metadata": {
    "application/vnd.databricks.v1+cell": {
     "showTitle": false,
     "cellMetadata": {},
     "nuid": "a14f90dd-bdac-4193-a1cb-1845591cf519",
     "inputWidgets": {},
     "title": ""
    },
    "pycharm": {
     "name": "#%% md\n"
    }
   }
  },
  {
   "cell_type": "code",
   "source": [
    "untilStreamIsReady(\"coupon_sales\")\n",
    "assert couponSalesQuery.isActive\n",
    "assert len(dbutils.fs.ls(couponsOutputPath)) > 0\n",
    "assert len(dbutils.fs.ls(couponsCheckpointPath)) > 0\n",
    "assert \"coupon_sales\" in couponSalesQuery.lastProgress[\"name\"]"
   ],
   "metadata": {
    "application/vnd.databricks.v1+cell": {
     "showTitle": false,
     "cellMetadata": {},
     "nuid": "f040b71f-bb9d-4a78-aee1-b07459398193",
     "inputWidgets": {},
     "title": ""
    },
    "pycharm": {
     "name": "#%%\n"
    }
   },
   "outputs": [],
   "execution_count": 0
  },
  {
   "cell_type": "markdown",
   "source": [
    "### 4. Monitor streaming query\n",
    "- Get the ID of streaming query and store it in **`queryID`**\n",
    "- Get the status of streaming query and store it in **`queryStatus`**"
   ],
   "metadata": {
    "application/vnd.databricks.v1+cell": {
     "showTitle": false,
     "cellMetadata": {},
     "nuid": "7c05df79-d3d5-4d98-907e-e20184d182ec",
     "inputWidgets": {},
     "title": ""
    },
    "pycharm": {
     "name": "#%% md\n"
    }
   }
  },
  {
   "cell_type": "code",
   "source": [
    "# ANSWER\n",
    "queryID = couponSalesQuery.id\n",
    "print(queryID)"
   ],
   "metadata": {
    "application/vnd.databricks.v1+cell": {
     "showTitle": false,
     "cellMetadata": {},
     "nuid": "a27bda54-a512-444d-9a3f-edc9a7a11e93",
     "inputWidgets": {},
     "title": ""
    },
    "pycharm": {
     "name": "#%%\n"
    }
   },
   "outputs": [],
   "execution_count": 0
  },
  {
   "cell_type": "code",
   "source": [
    "# ANSWER\n",
    "queryStatus = couponSalesQuery.status\n",
    "print(queryStatus)"
   ],
   "metadata": {
    "application/vnd.databricks.v1+cell": {
     "showTitle": false,
     "cellMetadata": {},
     "nuid": "ccdbc3cf-dea5-4a60-9db5-506feed2d0fa",
     "inputWidgets": {},
     "title": ""
    },
    "pycharm": {
     "name": "#%%\n"
    }
   },
   "outputs": [],
   "execution_count": 0
  },
  {
   "cell_type": "markdown",
   "source": [
    "**CHECK YOUR WORK**"
   ],
   "metadata": {
    "application/vnd.databricks.v1+cell": {
     "showTitle": false,
     "cellMetadata": {},
     "nuid": "515feffb-2458-47da-87bb-d40bc3ade9e9",
     "inputWidgets": {},
     "title": ""
    },
    "pycharm": {
     "name": "#%% md\n"
    }
   }
  },
  {
   "cell_type": "code",
   "source": [
    "assert type(queryID) == str\n",
    "assert list(queryStatus.keys()) == [\"message\", \"isDataAvailable\", \"isTriggerActive\"]"
   ],
   "metadata": {
    "application/vnd.databricks.v1+cell": {
     "showTitle": false,
     "cellMetadata": {},
     "nuid": "b1ff067c-e05e-450d-b272-0833b53fe10c",
     "inputWidgets": {},
     "title": ""
    },
    "pycharm": {
     "name": "#%%\n"
    }
   },
   "outputs": [],
   "execution_count": 0
  },
  {
   "cell_type": "markdown",
   "source": [
    "### 5. Stop streaming query\n",
    "- Stop the streaming query"
   ],
   "metadata": {
    "application/vnd.databricks.v1+cell": {
     "showTitle": false,
     "cellMetadata": {},
     "nuid": "313b81d7-a9cc-4457-9194-4a9e5901e7b1",
     "inputWidgets": {},
     "title": ""
    },
    "pycharm": {
     "name": "#%% md\n"
    }
   }
  },
  {
   "cell_type": "code",
   "source": [
    "# ANSWER\n",
    "couponSalesQuery.stop()"
   ],
   "metadata": {
    "application/vnd.databricks.v1+cell": {
     "showTitle": false,
     "cellMetadata": {},
     "nuid": "946fcd9f-deac-40ec-961a-abb369eda0eb",
     "inputWidgets": {},
     "title": ""
    },
    "pycharm": {
     "name": "#%%\n"
    }
   },
   "outputs": [],
   "execution_count": 0
  },
  {
   "cell_type": "markdown",
   "source": [
    "**CHECK YOUR WORK**"
   ],
   "metadata": {
    "application/vnd.databricks.v1+cell": {
     "showTitle": false,
     "cellMetadata": {},
     "nuid": "2805cb3e-6f8a-4e3d-aea7-96a915fb80be",
     "inputWidgets": {},
     "title": ""
    },
    "pycharm": {
     "name": "#%% md\n"
    }
   }
  },
  {
   "cell_type": "code",
   "source": [
    "assert not couponSalesQuery.isActive"
   ],
   "metadata": {
    "application/vnd.databricks.v1+cell": {
     "showTitle": false,
     "cellMetadata": {},
     "nuid": "4634de8c-3058-49e7-adf8-1d4223d12458",
     "inputWidgets": {},
     "title": ""
    },
    "pycharm": {
     "name": "#%%\n"
    }
   },
   "outputs": [],
   "execution_count": 0
  },
  {
   "cell_type": "markdown",
   "source": [
    "### 6. Verify the records were written in Parquet format"
   ],
   "metadata": {
    "application/vnd.databricks.v1+cell": {
     "showTitle": false,
     "cellMetadata": {},
     "nuid": "0e461e24-9301-4aab-91e1-003baa5dfad8",
     "inputWidgets": {},
     "title": ""
    },
    "pycharm": {
     "name": "#%% md\n"
    }
   }
  },
  {
   "cell_type": "code",
   "source": [
    "# ANSWER\n",
    "display(spark.read.parquet(couponsOutputPath))"
   ],
   "metadata": {
    "application/vnd.databricks.v1+cell": {
     "showTitle": false,
     "cellMetadata": {},
     "nuid": "834b9fc8-19bd-4ab8-84cb-afd2db2127b7",
     "inputWidgets": {},
     "title": ""
    },
    "pycharm": {
     "name": "#%%\n"
    }
   },
   "outputs": [],
   "execution_count": 0
  },
  {
   "cell_type": "markdown",
   "source": [
    "### Classroom Cleanup\n",
    "Run the cell below to clean up resources."
   ],
   "metadata": {
    "application/vnd.databricks.v1+cell": {
     "showTitle": false,
     "cellMetadata": {},
     "nuid": "80c0ad98-aed6-4c62-9adc-89b81c0ab9ff",
     "inputWidgets": {},
     "title": ""
    },
    "pycharm": {
     "name": "#%% md\n"
    }
   }
  },
  {
   "cell_type": "code",
   "source": [
    "%run ./Includes/Classroom-Cleanup"
   ],
   "metadata": {
    "application/vnd.databricks.v1+cell": {
     "showTitle": false,
     "cellMetadata": {},
     "nuid": "3fa71992-475d-474e-8607-a77462f497f5",
     "inputWidgets": {},
     "title": ""
    },
    "pycharm": {
     "name": "#%%\n"
    }
   },
   "outputs": [],
   "execution_count": 0
  }
 ],
 "metadata": {
  "application/vnd.databricks.v1+notebook": {
   "notebookName": "ASP 4.1 - Streaming Query",
   "dashboards": [],
   "notebookMetadata": {
    "pythonIndentUnit": 2
   },
   "language": "python",
   "widgets": {},
   "notebookOrigID": 4185566132528043
  }
 },
 "nbformat": 4,
 "nbformat_minor": 0
}