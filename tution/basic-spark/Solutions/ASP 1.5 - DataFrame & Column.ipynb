{
 "cells": [
  {
   "cell_type": "markdown",
   "source": [
    "# DataFrame & Column\n",
    "##### Objectives\n",
    "1. Construct columns\n",
    "1. Subset columns\n",
    "1. Add or replace columns\n",
    "1. Subset rows\n",
    "1. Sort rows\n",
    "\n",
    "##### Methods\n",
    "- <a href=\"https://spark.apache.org/docs/latest/api/python/reference/api/pyspark.sql.DataFrame.html\" target=\"_blank\">DataFrame</a>: `select`, `selectExpr`, `drop`, `withColumn`, `withColumnRenamed`, `filter`, `distinct`, `limit`, `sort`\n",
    "- <a href=\"https://spark.apache.org/docs/latest/api/python/reference/api/pyspark.sql.Column.html\" target=\"_blank\">Column</a>: `alias`, `isin`, `cast`, `isNotNull`, `desc`, operators"
   ],
   "metadata": {
    "application/vnd.databricks.v1+cell": {
     "showTitle": false,
     "cellMetadata": {},
     "nuid": "7f701a50-5bfb-413c-86eb-a7f5c7def389",
     "inputWidgets": {},
     "title": ""
    },
    "pycharm": {
     "name": "#%% md\n"
    }
   }
  },
  {
   "cell_type": "code",
   "source": [
    "%run ./Includes/Classroom-Setup"
   ],
   "metadata": {
    "application/vnd.databricks.v1+cell": {
     "showTitle": false,
     "cellMetadata": {},
     "nuid": "7d425332-b1e3-4464-8f20-50f47dcc8125",
     "inputWidgets": {},
     "title": ""
    },
    "pycharm": {
     "name": "#%%\n"
    }
   },
   "outputs": [],
   "execution_count": 0
  },
  {
   "cell_type": "markdown",
   "source": [
    "Let's use the BedBricks events dataset."
   ],
   "metadata": {
    "application/vnd.databricks.v1+cell": {
     "showTitle": false,
     "cellMetadata": {},
     "nuid": "d6bf7d1d-8640-4b9c-8b03-fcb6dbda8b99",
     "inputWidgets": {},
     "title": ""
    },
    "pycharm": {
     "name": "#%% md\n"
    }
   }
  },
  {
   "cell_type": "code",
   "source": [
    "eventsDF = spark.read.parquet(eventsPath)\n",
    "display(eventsDF)"
   ],
   "metadata": {
    "application/vnd.databricks.v1+cell": {
     "showTitle": false,
     "cellMetadata": {},
     "nuid": "28a8f77f-9cb7-4e07-ae6c-a4b63ba80f87",
     "inputWidgets": {},
     "title": ""
    },
    "pycharm": {
     "name": "#%%\n"
    }
   },
   "outputs": [],
   "execution_count": 0
  },
  {
   "cell_type": "markdown",
   "source": [
    "## Column Expressions\n",
    "\n",
    "A <a href=\"https://spark.apache.org/docs/latest/api/python/reference/api/pyspark.sql.Column.html\" target=\"_blank\">Column</a> is a logical construction that will be computed based on the data in a DataFrame using an expression\n",
    "\n",
    "Construct a new Column based on existing columns in a DataFrame"
   ],
   "metadata": {
    "application/vnd.databricks.v1+cell": {
     "showTitle": false,
     "cellMetadata": {},
     "nuid": "41331440-1128-43e5-bd88-115d570cc86e",
     "inputWidgets": {},
     "title": ""
    },
    "pycharm": {
     "name": "#%% md\n"
    }
   }
  },
  {
   "cell_type": "code",
   "source": [
    "from pyspark.sql.functions import col\n",
    "\n",
    "eventsDF.device\n",
    "eventsDF[\"device\"]\n",
    "col(\"device\")"
   ],
   "metadata": {
    "application/vnd.databricks.v1+cell": {
     "showTitle": false,
     "cellMetadata": {},
     "nuid": "7b7b4438-3656-4dc4-8a67-075481a68cfb",
     "inputWidgets": {},
     "title": ""
    },
    "pycharm": {
     "name": "#%%\n"
    }
   },
   "outputs": [],
   "execution_count": 0
  },
  {
   "cell_type": "markdown",
   "source": [
    "Scala supports an additional syntax for creating a new Column based on existing columns in a DataFrame"
   ],
   "metadata": {
    "application/vnd.databricks.v1+cell": {
     "showTitle": false,
     "cellMetadata": {},
     "nuid": "17261882-d810-48c4-a3c9-f75c1fed7cd4",
     "inputWidgets": {},
     "title": ""
    },
    "pycharm": {
     "name": "#%% md\n"
    }
   }
  },
  {
   "cell_type": "code",
   "source": [
    "%scala\n",
    "$\"device\""
   ],
   "metadata": {
    "application/vnd.databricks.v1+cell": {
     "showTitle": false,
     "cellMetadata": {},
     "nuid": "71a6fcd8-65f2-49fb-afab-36748c456930",
     "inputWidgets": {},
     "title": ""
    },
    "pycharm": {
     "name": "#%%\n"
    }
   },
   "outputs": [],
   "execution_count": 0
  },
  {
   "cell_type": "markdown",
   "source": [
    "### Column Operators and Methods\n",
    "| Method | Description |\n",
    "| --- | --- |\n",
    "| \\*, + , <, >= | Math and comparison operators |\n",
    "| ==, != | Equality and inequality tests (Scala operators are `===` and `=!=`) |\n",
    "| alias | Gives the column an alias |\n",
    "| cast, astype | Casts the column to a different data type |\n",
    "| isNull, isNotNull, isNan | Is null, is not null, is NaN |\n",
    "| asc, desc | Returns a sort expression based on ascending/descending order of the column |"
   ],
   "metadata": {
    "application/vnd.databricks.v1+cell": {
     "showTitle": false,
     "cellMetadata": {},
     "nuid": "41472779-5501-4b93-837d-15b3d8518cb9",
     "inputWidgets": {},
     "title": ""
    },
    "pycharm": {
     "name": "#%% md\n"
    }
   }
  },
  {
   "cell_type": "markdown",
   "source": [
    "Create complex expressions with existing columns, operators, and methods."
   ],
   "metadata": {
    "application/vnd.databricks.v1+cell": {
     "showTitle": false,
     "cellMetadata": {},
     "nuid": "ccf9e118-8284-427a-9a01-d4863614ae5e",
     "inputWidgets": {},
     "title": ""
    },
    "pycharm": {
     "name": "#%% md\n"
    }
   }
  },
  {
   "cell_type": "code",
   "source": [
    "col(\"ecommerce.purchase_revenue_in_usd\") + col(\"ecommerce.total_item_quantity\")\n",
    "col(\"event_timestamp\").desc()\n",
    "(col(\"ecommerce.purchase_revenue_in_usd\") * 100).cast(\"int\")"
   ],
   "metadata": {
    "application/vnd.databricks.v1+cell": {
     "showTitle": false,
     "cellMetadata": {},
     "nuid": "20fed686-7596-4835-a5cd-46d96a27b3b1",
     "inputWidgets": {},
     "title": ""
    },
    "pycharm": {
     "name": "#%%\n"
    }
   },
   "outputs": [],
   "execution_count": 0
  },
  {
   "cell_type": "markdown",
   "source": [
    "Here's an example of using these column expressions in the context of a DataFrame"
   ],
   "metadata": {
    "application/vnd.databricks.v1+cell": {
     "showTitle": false,
     "cellMetadata": {},
     "nuid": "45f88506-1e9e-4d8b-94de-1a6e737802ca",
     "inputWidgets": {},
     "title": ""
    },
    "pycharm": {
     "name": "#%% md\n"
    }
   }
  },
  {
   "cell_type": "code",
   "source": [
    "revDF = (eventsDF\n",
    "         .filter(col(\"ecommerce.purchase_revenue_in_usd\").isNotNull())\n",
    "         .withColumn(\"purchase_revenue\", (col(\"ecommerce.purchase_revenue_in_usd\") * 100).cast(\"int\"))\n",
    "         .withColumn(\"avg_purchase_revenue\", col(\"ecommerce.purchase_revenue_in_usd\") / col(\"ecommerce.total_item_quantity\"))\n",
    "         .sort(col(\"avg_purchase_revenue\").desc())\n",
    "        )\n",
    "\n",
    "display(revDF)"
   ],
   "metadata": {
    "application/vnd.databricks.v1+cell": {
     "showTitle": false,
     "cellMetadata": {},
     "nuid": "a977d83e-a4e4-4233-92e5-f377ff5f287d",
     "inputWidgets": {},
     "title": ""
    },
    "pycharm": {
     "name": "#%%\n"
    }
   },
   "outputs": [],
   "execution_count": 0
  },
  {
   "cell_type": "markdown",
   "source": [
    "## DataFrame Transformation Methods\n",
    "| Method | Description |\n",
    "| --- | --- |\n",
    "| select | Returns a new DataFrame by computing given expression for each element |\n",
    "| drop | Returns a new DataFrame with a column dropped |\n",
    "| withColumnRenamed | Returns a new DataFrame with a column renamed |\n",
    "| withColumn | Returns a new DataFrame by adding a column or replacing the existing column that has the same name |\n",
    "| filter, where | Filters rows using the given condition |\n",
    "| sort, orderBy | Returns a new DataFrame sorted by the given expressions |\n",
    "| dropDuplicates, distinct | Returns a new DataFrame with duplicate rows removed |\n",
    "| limit | Returns a new DataFrame by taking the first n rows |\n",
    "| groupBy | Groups the DataFrame using the specified columns, so we can run aggregation on them |"
   ],
   "metadata": {
    "application/vnd.databricks.v1+cell": {
     "showTitle": false,
     "cellMetadata": {},
     "nuid": "5f22bf4e-66bc-456f-9fdf-e45a01a2e0bc",
     "inputWidgets": {},
     "title": ""
    },
    "pycharm": {
     "name": "#%% md\n"
    }
   }
  },
  {
   "cell_type": "markdown",
   "source": [
    "### Subset columns\n",
    "Use DataFrame transformations to subset columns"
   ],
   "metadata": {
    "application/vnd.databricks.v1+cell": {
     "showTitle": false,
     "cellMetadata": {},
     "nuid": "84a87340-ae23-42d5-bece-aef1230fde48",
     "inputWidgets": {},
     "title": ""
    },
    "pycharm": {
     "name": "#%% md\n"
    }
   }
  },
  {
   "cell_type": "markdown",
   "source": [
    "#### `select()`\n",
    "Selects a list of columns or column based expressions"
   ],
   "metadata": {
    "application/vnd.databricks.v1+cell": {
     "showTitle": false,
     "cellMetadata": {},
     "nuid": "91a3f256-a218-44ae-913f-51e8fc07c08c",
     "inputWidgets": {},
     "title": ""
    },
    "pycharm": {
     "name": "#%% md\n"
    }
   }
  },
  {
   "cell_type": "code",
   "source": [
    "devicesDF = eventsDF.select(\"user_id\", \"device\")\n",
    "display(devicesDF)"
   ],
   "metadata": {
    "application/vnd.databricks.v1+cell": {
     "showTitle": false,
     "cellMetadata": {},
     "nuid": "c5d52360-1d1d-47ee-882c-777a8724143e",
     "inputWidgets": {},
     "title": ""
    },
    "pycharm": {
     "name": "#%%\n"
    }
   },
   "outputs": [],
   "execution_count": 0
  },
  {
   "cell_type": "code",
   "source": [
    "from pyspark.sql.functions import col\n",
    "\n",
    "locationsDF = eventsDF.select(\n",
    "    \"user_id\", \n",
    "    col(\"geo.city\").alias(\"city\"), \n",
    "    col(\"geo.state\").alias(\"state\")\n",
    ")\n",
    "display(locationsDF)"
   ],
   "metadata": {
    "application/vnd.databricks.v1+cell": {
     "showTitle": false,
     "cellMetadata": {},
     "nuid": "652fa68f-4a5a-435c-9439-3a80c360ff70",
     "inputWidgets": {},
     "title": ""
    },
    "pycharm": {
     "name": "#%%\n"
    }
   },
   "outputs": [],
   "execution_count": 0
  },
  {
   "cell_type": "markdown",
   "source": [
    "#### `selectExpr()`\n",
    "Selects a list of SQL expressions"
   ],
   "metadata": {
    "application/vnd.databricks.v1+cell": {
     "showTitle": false,
     "cellMetadata": {},
     "nuid": "55fc2b9c-c573-4e64-9017-18b5c941b7dd",
     "inputWidgets": {},
     "title": ""
    },
    "pycharm": {
     "name": "#%% md\n"
    }
   }
  },
  {
   "cell_type": "code",
   "source": [
    "appleDF = eventsDF.selectExpr(\"user_id\", \"device in ('macOS', 'iOS') as apple_user\")\n",
    "display(appleDF)"
   ],
   "metadata": {
    "application/vnd.databricks.v1+cell": {
     "showTitle": false,
     "cellMetadata": {},
     "nuid": "cac6bd54-79df-4df8-b8f6-b2821e42f63f",
     "inputWidgets": {},
     "title": ""
    },
    "pycharm": {
     "name": "#%%\n"
    }
   },
   "outputs": [],
   "execution_count": 0
  },
  {
   "cell_type": "markdown",
   "source": [
    "#### `drop()`\n",
    "Returns a new DataFrame after dropping the given column, specified as a string or Column object\n",
    "\n",
    "Use strings to specify multiple columns"
   ],
   "metadata": {
    "application/vnd.databricks.v1+cell": {
     "showTitle": false,
     "cellMetadata": {},
     "nuid": "cea568ee-4fcc-443b-9e2b-b4e68f383d99",
     "inputWidgets": {},
     "title": ""
    },
    "pycharm": {
     "name": "#%% md\n"
    }
   }
  },
  {
   "cell_type": "code",
   "source": [
    "anonymousDF = eventsDF.drop(\"user_id\", \"geo\", \"device\")\n",
    "display(anonymousDF)"
   ],
   "metadata": {
    "application/vnd.databricks.v1+cell": {
     "showTitle": false,
     "cellMetadata": {},
     "nuid": "5106a929-0d27-4fa8-96b9-0ce758f13a79",
     "inputWidgets": {},
     "title": ""
    },
    "pycharm": {
     "name": "#%%\n"
    }
   },
   "outputs": [],
   "execution_count": 0
  },
  {
   "cell_type": "code",
   "source": [
    "noSalesDF = eventsDF.drop(col(\"ecommerce\"))\n",
    "display(noSalesDF)"
   ],
   "metadata": {
    "application/vnd.databricks.v1+cell": {
     "showTitle": false,
     "cellMetadata": {},
     "nuid": "feac8c33-59bc-4c2a-9c96-532ee8633b30",
     "inputWidgets": {},
     "title": ""
    },
    "pycharm": {
     "name": "#%%\n"
    }
   },
   "outputs": [],
   "execution_count": 0
  },
  {
   "cell_type": "markdown",
   "source": [
    "### Add or replace columns\n",
    "Use DataFrame transformations to add or replace columns"
   ],
   "metadata": {
    "application/vnd.databricks.v1+cell": {
     "showTitle": false,
     "cellMetadata": {},
     "nuid": "23055973-8231-4b6d-85d5-2d5f8b92fd39",
     "inputWidgets": {},
     "title": ""
    },
    "pycharm": {
     "name": "#%% md\n"
    }
   }
  },
  {
   "cell_type": "markdown",
   "source": [
    "#### `withColumn()`\n",
    "Returns a new DataFrame by adding a column or replacing an existing column that has the same name."
   ],
   "metadata": {
    "application/vnd.databricks.v1+cell": {
     "showTitle": false,
     "cellMetadata": {},
     "nuid": "970227ed-7f30-454b-b24f-1f42c926f837",
     "inputWidgets": {},
     "title": ""
    },
    "pycharm": {
     "name": "#%% md\n"
    }
   }
  },
  {
   "cell_type": "code",
   "source": [
    "mobileDF = eventsDF.withColumn(\"mobile\", col(\"device\").isin(\"iOS\", \"Android\"))\n",
    "display(mobileDF)"
   ],
   "metadata": {
    "application/vnd.databricks.v1+cell": {
     "showTitle": false,
     "cellMetadata": {},
     "nuid": "ef4caa1a-7d9b-49de-9088-7149778bbc8b",
     "inputWidgets": {},
     "title": ""
    },
    "pycharm": {
     "name": "#%%\n"
    }
   },
   "outputs": [],
   "execution_count": 0
  },
  {
   "cell_type": "code",
   "source": [
    "purchaseQuantityDF = eventsDF.withColumn(\"purchase_quantity\", col(\"ecommerce.total_item_quantity\").cast(\"int\"))\n",
    "purchaseQuantityDF.printSchema()"
   ],
   "metadata": {
    "application/vnd.databricks.v1+cell": {
     "showTitle": false,
     "cellMetadata": {},
     "nuid": "4b6bdd52-510f-492c-8fdf-1e0ff11c63f0",
     "inputWidgets": {},
     "title": ""
    },
    "pycharm": {
     "name": "#%%\n"
    }
   },
   "outputs": [],
   "execution_count": 0
  },
  {
   "cell_type": "markdown",
   "source": [
    "#### `withColumnRenamed()`\n",
    "Returns a new DataFrame with a column renamed."
   ],
   "metadata": {
    "application/vnd.databricks.v1+cell": {
     "showTitle": false,
     "cellMetadata": {},
     "nuid": "632eda51-930f-4841-b3ae-67d7d0b37929",
     "inputWidgets": {},
     "title": ""
    },
    "pycharm": {
     "name": "#%% md\n"
    }
   }
  },
  {
   "cell_type": "code",
   "source": [
    "locationDF = eventsDF.withColumnRenamed(\"geo\", \"location\")\n",
    "display(locationDF)"
   ],
   "metadata": {
    "application/vnd.databricks.v1+cell": {
     "showTitle": false,
     "cellMetadata": {},
     "nuid": "362945bd-4647-4de4-8b8d-ad40150e656e",
     "inputWidgets": {},
     "title": ""
    },
    "pycharm": {
     "name": "#%%\n"
    }
   },
   "outputs": [],
   "execution_count": 0
  },
  {
   "cell_type": "markdown",
   "source": [
    "### Subset Rows\n",
    "Use DataFrame transformations to subset rows"
   ],
   "metadata": {
    "application/vnd.databricks.v1+cell": {
     "showTitle": false,
     "cellMetadata": {},
     "nuid": "16d37281-0784-4ca8-b3ea-e4658ae4aad5",
     "inputWidgets": {},
     "title": ""
    },
    "pycharm": {
     "name": "#%% md\n"
    }
   }
  },
  {
   "cell_type": "markdown",
   "source": [
    "#### `filter()`\n",
    "Filters rows using the given SQL expression or column based condition."
   ],
   "metadata": {
    "application/vnd.databricks.v1+cell": {
     "showTitle": false,
     "cellMetadata": {},
     "nuid": "ab295d66-53b9-4c47-bd8a-5e359d53623a",
     "inputWidgets": {},
     "title": ""
    },
    "pycharm": {
     "name": "#%% md\n"
    }
   }
  },
  {
   "cell_type": "code",
   "source": [
    "purchasesDF = eventsDF.filter(\"ecommerce.total_item_quantity > 0\")\n",
    "display(purchasesDF)"
   ],
   "metadata": {
    "application/vnd.databricks.v1+cell": {
     "showTitle": false,
     "cellMetadata": {},
     "nuid": "caac5686-abd2-479d-9fa7-6c429acd8615",
     "inputWidgets": {},
     "title": ""
    },
    "pycharm": {
     "name": "#%%\n"
    }
   },
   "outputs": [],
   "execution_count": 0
  },
  {
   "cell_type": "code",
   "source": [
    "revenueDF = eventsDF.filter(col(\"ecommerce.purchase_revenue_in_usd\").isNotNull())\n",
    "display(revenueDF)"
   ],
   "metadata": {
    "application/vnd.databricks.v1+cell": {
     "showTitle": false,
     "cellMetadata": {},
     "nuid": "ba465da9-7103-4ccc-88c8-a3b896aec43c",
     "inputWidgets": {},
     "title": ""
    },
    "pycharm": {
     "name": "#%%\n"
    }
   },
   "outputs": [],
   "execution_count": 0
  },
  {
   "cell_type": "code",
   "source": [
    "androidDF = eventsDF.filter((col(\"traffic_source\") != \"direct\") & (col(\"device\") == \"Android\"))\n",
    "display(androidDF)"
   ],
   "metadata": {
    "application/vnd.databricks.v1+cell": {
     "showTitle": false,
     "cellMetadata": {},
     "nuid": "c0bb1da7-7417-489d-a24c-7b209942b819",
     "inputWidgets": {},
     "title": ""
    },
    "pycharm": {
     "name": "#%%\n"
    }
   },
   "outputs": [],
   "execution_count": 0
  },
  {
   "cell_type": "markdown",
   "source": [
    "#### `dropDuplicates()`\n",
    "Returns a new DataFrame with duplicate rows removed, optionally considering only a subset of columns.\n",
    "\n",
    "##### Alias: `distinct`"
   ],
   "metadata": {
    "application/vnd.databricks.v1+cell": {
     "showTitle": false,
     "cellMetadata": {},
     "nuid": "20aeb95e-8084-45d2-a2a3-7c7092d8d4ff",
     "inputWidgets": {},
     "title": ""
    },
    "pycharm": {
     "name": "#%% md\n"
    }
   }
  },
  {
   "cell_type": "code",
   "source": [
    "eventsDF.distinct()"
   ],
   "metadata": {
    "application/vnd.databricks.v1+cell": {
     "showTitle": false,
     "cellMetadata": {},
     "nuid": "d2cf6851-b8e8-402b-b8eb-f8676212fbe9",
     "inputWidgets": {},
     "title": ""
    },
    "pycharm": {
     "name": "#%%\n"
    }
   },
   "outputs": [],
   "execution_count": 0
  },
  {
   "cell_type": "code",
   "source": [
    "distinctUsersDF = eventsDF.dropDuplicates([\"user_id\"])\n",
    "display(distinctUsersDF)"
   ],
   "metadata": {
    "application/vnd.databricks.v1+cell": {
     "showTitle": false,
     "cellMetadata": {},
     "nuid": "5dfe5be7-9604-4133-96d2-123730742530",
     "inputWidgets": {},
     "title": ""
    },
    "pycharm": {
     "name": "#%%\n"
    }
   },
   "outputs": [],
   "execution_count": 0
  },
  {
   "cell_type": "markdown",
   "source": [
    "#### `limit()`\n",
    "Returns a new DataFrame by taking the first n rows."
   ],
   "metadata": {
    "application/vnd.databricks.v1+cell": {
     "showTitle": false,
     "cellMetadata": {},
     "nuid": "c607696d-5c40-4152-8b71-fa89ba10e595",
     "inputWidgets": {},
     "title": ""
    },
    "pycharm": {
     "name": "#%% md\n"
    }
   }
  },
  {
   "cell_type": "code",
   "source": [
    "limitDF = eventsDF.limit(100)\n",
    "display(limitDF)"
   ],
   "metadata": {
    "application/vnd.databricks.v1+cell": {
     "showTitle": false,
     "cellMetadata": {},
     "nuid": "8cdafeb2-d9ef-43f4-ae57-1ac6ed9a4831",
     "inputWidgets": {},
     "title": ""
    },
    "pycharm": {
     "name": "#%%\n"
    }
   },
   "outputs": [],
   "execution_count": 0
  },
  {
   "cell_type": "markdown",
   "source": [
    "### Sort rows\n",
    "Use DataFrame transformations to sort rows"
   ],
   "metadata": {
    "application/vnd.databricks.v1+cell": {
     "showTitle": false,
     "cellMetadata": {},
     "nuid": "467e58c4-b75c-42ce-95d7-b69fa1d4ddb3",
     "inputWidgets": {},
     "title": ""
    },
    "pycharm": {
     "name": "#%% md\n"
    }
   }
  },
  {
   "cell_type": "markdown",
   "source": [
    "#### `sort()`\n",
    "Returns a new DataFrame sorted by the given columns or expressions.\n",
    "\n",
    "##### Alias: `orderBy`"
   ],
   "metadata": {
    "application/vnd.databricks.v1+cell": {
     "showTitle": false,
     "cellMetadata": {},
     "nuid": "892194db-4b34-4443-831e-5b99595d846d",
     "inputWidgets": {},
     "title": ""
    },
    "pycharm": {
     "name": "#%% md\n"
    }
   }
  },
  {
   "cell_type": "code",
   "source": [
    "increaseTimestampsDF = eventsDF.sort(\"event_timestamp\")\n",
    "display(increaseTimestampsDF)"
   ],
   "metadata": {
    "application/vnd.databricks.v1+cell": {
     "showTitle": false,
     "cellMetadata": {},
     "nuid": "c470df2c-9343-4dbf-8b5c-5cb6c79cd71c",
     "inputWidgets": {},
     "title": ""
    },
    "pycharm": {
     "name": "#%%\n"
    }
   },
   "outputs": [],
   "execution_count": 0
  },
  {
   "cell_type": "code",
   "source": [
    "decreaseTimestampsDF = eventsDF.sort(col(\"event_timestamp\").desc())\n",
    "display(decreaseTimestampsDF)"
   ],
   "metadata": {
    "application/vnd.databricks.v1+cell": {
     "showTitle": false,
     "cellMetadata": {},
     "nuid": "2e9a0a8a-011f-40bf-8247-0a72cc1e1847",
     "inputWidgets": {},
     "title": ""
    },
    "pycharm": {
     "name": "#%%\n"
    }
   },
   "outputs": [],
   "execution_count": 0
  },
  {
   "cell_type": "code",
   "source": [
    "increaseSessionsDF = eventsDF.orderBy([\"user_first_touch_timestamp\", \"event_timestamp\"])\n",
    "display(increaseSessionsDF)"
   ],
   "metadata": {
    "application/vnd.databricks.v1+cell": {
     "showTitle": false,
     "cellMetadata": {},
     "nuid": "bba1e7e8-2b75-46b5-8ef6-79d6c140435c",
     "inputWidgets": {},
     "title": ""
    },
    "pycharm": {
     "name": "#%%\n"
    }
   },
   "outputs": [],
   "execution_count": 0
  },
  {
   "cell_type": "code",
   "source": [
    "decreaseSessionsDF = eventsDF.sort(col(\"user_first_touch_timestamp\").desc(), col(\"event_timestamp\"))\n",
    "display(decreaseSessionsDF)"
   ],
   "metadata": {
    "application/vnd.databricks.v1+cell": {
     "showTitle": false,
     "cellMetadata": {},
     "nuid": "6a247edc-f44c-445b-b88d-09b8a7525ed8",
     "inputWidgets": {},
     "title": ""
    },
    "pycharm": {
     "name": "#%%\n"
    }
   },
   "outputs": [],
   "execution_count": 0
  },
  {
   "cell_type": "markdown",
   "source": [
    "# Purchase Revenues Lab\n",
    "\n",
    "Prepare dataset of events with purchase revenue.\n",
    "\n",
    "##### Tasks\n",
    "1. Extract purchase revenue for each event\n",
    "2. Filter events where revenue is not null\n",
    "3. Check what types of events have revenue\n",
    "4. Drop unneeded column\n",
    "\n",
    "##### Methods\n",
    "- DataFrame: `select`, `drop`, `withColumn`, `filter`, `dropDuplicates`\n",
    "- Column: `isNotNull`"
   ],
   "metadata": {
    "application/vnd.databricks.v1+cell": {
     "showTitle": false,
     "cellMetadata": {},
     "nuid": "6d7f1991-8547-440c-94c7-24594a6d6522",
     "inputWidgets": {},
     "title": ""
    },
    "pycharm": {
     "name": "#%% md\n"
    }
   }
  },
  {
   "cell_type": "code",
   "source": [
    "eventsDF = spark.read.parquet(eventsPath)\n",
    "display(eventsDF)"
   ],
   "metadata": {
    "application/vnd.databricks.v1+cell": {
     "showTitle": false,
     "cellMetadata": {},
     "nuid": "4d59a27a-64d5-472f-b1a0-19cda10e9ea9",
     "inputWidgets": {},
     "title": ""
    },
    "pycharm": {
     "name": "#%%\n"
    }
   },
   "outputs": [],
   "execution_count": 0
  },
  {
   "cell_type": "markdown",
   "source": [
    "### 1. Extract purchase revenue for each event\n",
    "Add new column **`revenue`** by extracting **`ecommerce.purchase_revenue_in_usd`**"
   ],
   "metadata": {
    "application/vnd.databricks.v1+cell": {
     "showTitle": false,
     "cellMetadata": {},
     "nuid": "b9e3ee9f-4bcd-4540-a19e-c21be91c13ff",
     "inputWidgets": {},
     "title": ""
    },
    "pycharm": {
     "name": "#%% md\n"
    }
   }
  },
  {
   "cell_type": "code",
   "source": [
    "# ANSWER\n",
    "revenueDF = eventsDF.withColumn(\"revenue\", col(\"ecommerce.purchase_revenue_in_usd\"))\n",
    "display(revenueDF)"
   ],
   "metadata": {
    "application/vnd.databricks.v1+cell": {
     "showTitle": false,
     "cellMetadata": {},
     "nuid": "c98aa877-231a-4ae5-8e59-04061410b677",
     "inputWidgets": {},
     "title": ""
    },
    "pycharm": {
     "name": "#%%\n"
    }
   },
   "outputs": [],
   "execution_count": 0
  },
  {
   "cell_type": "markdown",
   "source": [
    "**CHECK YOUR WORK**"
   ],
   "metadata": {
    "application/vnd.databricks.v1+cell": {
     "showTitle": false,
     "cellMetadata": {},
     "nuid": "08179a60-2e69-4758-bc49-4d0232b37565",
     "inputWidgets": {},
     "title": ""
    },
    "pycharm": {
     "name": "#%% md\n"
    }
   }
  },
  {
   "cell_type": "code",
   "source": [
    "expected1 = [5830.0, 5485.0, 5289.0, 5219.1, 5180.0, 5175.0, 5125.0, 5030.0, 4985.0, 4985.0]\n",
    "result1 = [row.revenue for row in revenueDF.sort(col(\"revenue\").desc_nulls_last()).limit(10).collect()]\n",
    "\n",
    "assert(expected1 == result1)"
   ],
   "metadata": {
    "application/vnd.databricks.v1+cell": {
     "showTitle": false,
     "cellMetadata": {},
     "nuid": "b5e6e51a-6b92-4ae9-bcb3-2d76f7ef68e1",
     "inputWidgets": {},
     "title": ""
    },
    "pycharm": {
     "name": "#%%\n"
    }
   },
   "outputs": [],
   "execution_count": 0
  },
  {
   "cell_type": "markdown",
   "source": [
    "### 2. Filter events where revenue is not null\n",
    "Filter for records where **`revenue`** is not **`null`**"
   ],
   "metadata": {
    "application/vnd.databricks.v1+cell": {
     "showTitle": false,
     "cellMetadata": {},
     "nuid": "86170af9-39d3-4840-bf4b-f49ddda22762",
     "inputWidgets": {},
     "title": ""
    },
    "pycharm": {
     "name": "#%% md\n"
    }
   }
  },
  {
   "cell_type": "code",
   "source": [
    "# ANSWER\n",
    "purchasesDF = revenueDF.filter(col(\"revenue\").isNotNull())\n",
    "display(purchasesDF)"
   ],
   "metadata": {
    "application/vnd.databricks.v1+cell": {
     "showTitle": false,
     "cellMetadata": {},
     "nuid": "8b940530-2899-4362-b866-0f3ceb605557",
     "inputWidgets": {},
     "title": ""
    },
    "pycharm": {
     "name": "#%%\n"
    }
   },
   "outputs": [],
   "execution_count": 0
  },
  {
   "cell_type": "markdown",
   "source": [
    "**CHECK YOUR WORK**"
   ],
   "metadata": {
    "application/vnd.databricks.v1+cell": {
     "showTitle": false,
     "cellMetadata": {},
     "nuid": "b9ab5fe9-b2f6-4d40-b99f-97b8d3702f00",
     "inputWidgets": {},
     "title": ""
    },
    "pycharm": {
     "name": "#%% md\n"
    }
   }
  },
  {
   "cell_type": "code",
   "source": [
    "assert purchasesDF.filter(col(\"revenue\").isNull()).count() == 0, \"Nulls in 'revenue' column\""
   ],
   "metadata": {
    "application/vnd.databricks.v1+cell": {
     "showTitle": false,
     "cellMetadata": {},
     "nuid": "20ff6165-9284-4be0-89cb-7ffb14d12158",
     "inputWidgets": {},
     "title": ""
    },
    "pycharm": {
     "name": "#%%\n"
    }
   },
   "outputs": [],
   "execution_count": 0
  },
  {
   "cell_type": "markdown",
   "source": [
    "### 3. Check what types of events have revenue\n",
    "Find unique **`event_name`** values in **`purchasesDF`** in one of two ways:\n",
    "- Select \"event_name\" and get distinct records\n",
    "- Drop duplicate records based on the \"event_name\" only\n",
    "\n",
    "<img src=\"https://files.training.databricks.com/images/icon_hint_32.png\" alt=\"Hint\"> There's only one event associated with revenues"
   ],
   "metadata": {
    "application/vnd.databricks.v1+cell": {
     "showTitle": false,
     "cellMetadata": {},
     "nuid": "616b576e-817f-4418-8018-e333efc64065",
     "inputWidgets": {},
     "title": ""
    },
    "pycharm": {
     "name": "#%% md\n"
    }
   }
  },
  {
   "cell_type": "code",
   "source": [
    "# ANSWER\n",
    "\n",
    "# Method 1\n",
    "distinctDF1 = purchasesDF.select(\"event_name\").distinct()\n",
    "\n",
    "# Method 2\n",
    "distinctDF2 = purchasesDF.dropDuplicates([\"event_name\"])\n",
    "\n",
    "display(distinctDF1)"
   ],
   "metadata": {
    "application/vnd.databricks.v1+cell": {
     "showTitle": false,
     "cellMetadata": {},
     "nuid": "d5468486-f240-4b39-a3d5-8ecaaace7cfd",
     "inputWidgets": {},
     "title": ""
    },
    "pycharm": {
     "name": "#%%\n"
    }
   },
   "outputs": [],
   "execution_count": 0
  },
  {
   "cell_type": "markdown",
   "source": [
    "### 4. Drop unneeded column\n",
    "Since there's only one event type, drop **`event_name`** from **`purchasesDF`**."
   ],
   "metadata": {
    "application/vnd.databricks.v1+cell": {
     "showTitle": false,
     "cellMetadata": {},
     "nuid": "1b8ed30d-34ab-455c-a1ee-f79705d466be",
     "inputWidgets": {},
     "title": ""
    },
    "pycharm": {
     "name": "#%% md\n"
    }
   }
  },
  {
   "cell_type": "code",
   "source": [
    "# ANSWER\n",
    "finalDF = purchasesDF.drop(\"event_name\")\n",
    "display(finalDF)"
   ],
   "metadata": {
    "application/vnd.databricks.v1+cell": {
     "showTitle": false,
     "cellMetadata": {},
     "nuid": "622f56d4-98d3-4e7b-8147-6cdbfb83e379",
     "inputWidgets": {},
     "title": ""
    },
    "pycharm": {
     "name": "#%%\n"
    }
   },
   "outputs": [],
   "execution_count": 0
  },
  {
   "cell_type": "markdown",
   "source": [
    "**CHECK YOUR WORK**"
   ],
   "metadata": {
    "application/vnd.databricks.v1+cell": {
     "showTitle": false,
     "cellMetadata": {},
     "nuid": "9299e45f-f1ac-4767-abfe-d9eb75d0ce41",
     "inputWidgets": {},
     "title": ""
    },
    "pycharm": {
     "name": "#%% md\n"
    }
   }
  },
  {
   "cell_type": "code",
   "source": [
    "expected_columns = {\"device\", \"ecommerce\", \"event_previous_timestamp\", \"event_timestamp\",\n",
    "                    \"geo\", \"items\", \"revenue\", \"traffic_source\",\n",
    "                    \"user_first_touch_timestamp\", \"user_id\"}\n",
    "assert(set(finalDF.columns) == expected_columns)"
   ],
   "metadata": {
    "application/vnd.databricks.v1+cell": {
     "showTitle": false,
     "cellMetadata": {},
     "nuid": "cfc25b74-28c1-4ee3-991b-4f2173d89eb4",
     "inputWidgets": {},
     "title": ""
    },
    "pycharm": {
     "name": "#%%\n"
    }
   },
   "outputs": [],
   "execution_count": 0
  },
  {
   "cell_type": "markdown",
   "source": [
    "### 5. Chain all the steps above excluding step 3"
   ],
   "metadata": {
    "application/vnd.databricks.v1+cell": {
     "showTitle": false,
     "cellMetadata": {},
     "nuid": "c3f16d0c-b54a-4242-9252-b86589fba96d",
     "inputWidgets": {},
     "title": ""
    },
    "pycharm": {
     "name": "#%% md\n"
    }
   }
  },
  {
   "cell_type": "code",
   "source": [
    "# ANSWER\n",
    "finalDF = (eventsDF\n",
    "           .withColumn(\"revenue\", col(\"ecommerce.purchase_revenue_in_usd\"))\n",
    "           .filter(col(\"revenue\").isNotNull())\n",
    "           .drop(\"event_name\")\n",
    "          )\n",
    "\n",
    "display(finalDF)"
   ],
   "metadata": {
    "application/vnd.databricks.v1+cell": {
     "showTitle": false,
     "cellMetadata": {},
     "nuid": "a49ebd08-9994-434d-8830-bd7c38368c54",
     "inputWidgets": {},
     "title": ""
    },
    "pycharm": {
     "name": "#%%\n"
    }
   },
   "outputs": [],
   "execution_count": 0
  },
  {
   "cell_type": "markdown",
   "source": [
    "**CHECK YOUR WORK**"
   ],
   "metadata": {
    "application/vnd.databricks.v1+cell": {
     "showTitle": false,
     "cellMetadata": {},
     "nuid": "ba052d3f-be41-4dd6-b707-1bbc134d5982",
     "inputWidgets": {},
     "title": ""
    },
    "pycharm": {
     "name": "#%% md\n"
    }
   }
  },
  {
   "cell_type": "code",
   "source": [
    "assert(finalDF.count() == 180678)"
   ],
   "metadata": {
    "application/vnd.databricks.v1+cell": {
     "showTitle": false,
     "cellMetadata": {},
     "nuid": "82ea1fa9-44d1-461c-b65b-98a27b362469",
     "inputWidgets": {},
     "title": ""
    },
    "pycharm": {
     "name": "#%%\n"
    }
   },
   "outputs": [],
   "execution_count": 0
  },
  {
   "cell_type": "code",
   "source": [
    "expected_columns = {\"device\", \"ecommerce\", \"event_previous_timestamp\", \"event_timestamp\",\n",
    "                    \"geo\", \"items\", \"revenue\", \"traffic_source\",\n",
    "                    \"user_first_touch_timestamp\", \"user_id\"}\n",
    "assert(set(finalDF.columns) == expected_columns)"
   ],
   "metadata": {
    "application/vnd.databricks.v1+cell": {
     "showTitle": false,
     "cellMetadata": {},
     "nuid": "f3361625-2009-4daa-b418-a7ec5f2b267a",
     "inputWidgets": {},
     "title": ""
    },
    "pycharm": {
     "name": "#%%\n"
    }
   },
   "outputs": [],
   "execution_count": 0
  },
  {
   "cell_type": "markdown",
   "source": [
    "### Clean up classroom"
   ],
   "metadata": {
    "application/vnd.databricks.v1+cell": {
     "showTitle": false,
     "cellMetadata": {},
     "nuid": "b475352f-e965-47a5-8155-d4945ecdb76e",
     "inputWidgets": {},
     "title": ""
    },
    "pycharm": {
     "name": "#%% md\n"
    }
   }
  },
  {
   "cell_type": "code",
   "source": [
    "%run ./Includes/Classroom-Cleanup"
   ],
   "metadata": {
    "application/vnd.databricks.v1+cell": {
     "showTitle": false,
     "cellMetadata": {},
     "nuid": "52012650-a94b-4242-aa67-bd8c9fa9a12b",
     "inputWidgets": {},
     "title": ""
    },
    "pycharm": {
     "name": "#%%\n"
    }
   },
   "outputs": [],
   "execution_count": 0
  }
 ],
 "metadata": {
  "application/vnd.databricks.v1+notebook": {
   "notebookName": "ASP 1.5 - DataFrame & Column",
   "dashboards": [],
   "notebookMetadata": {
    "pythonIndentUnit": 2
   },
   "language": "python",
   "widgets": {},
   "notebookOrigID": 4185566132527958
  }
 },
 "nbformat": 4,
 "nbformat_minor": 0
}