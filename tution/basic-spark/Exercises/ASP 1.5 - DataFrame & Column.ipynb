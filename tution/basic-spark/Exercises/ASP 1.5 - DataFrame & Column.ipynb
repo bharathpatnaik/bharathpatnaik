{
 "cells": [
  {
   "cell_type": "markdown",
   "source": [
    "# DataFrame & Column\n",
    "##### Objectives\n",
    "1. Construct columns\n",
    "1. Subset columns\n",
    "1. Add or replace columns\n",
    "1. Subset rows\n",
    "1. Sort rows\n",
    "\n",
    "##### Methods\n",
    "- <a href=\"https://spark.apache.org/docs/latest/api/python/reference/api/pyspark.sql.DataFrame.html\" target=\"_blank\">DataFrame</a>: `select`, `selectExpr`, `drop`, `withColumn`, `withColumnRenamed`, `filter`, `distinct`, `limit`, `sort`\n",
    "- <a href=\"https://spark.apache.org/docs/latest/api/python/reference/api/pyspark.sql.Column.html\" target=\"_blank\">Column</a>: `alias`, `isin`, `cast`, `isNotNull`, `desc`, operators"
   ],
   "metadata": {
    "application/vnd.databricks.v1+cell": {
     "showTitle": false,
     "cellMetadata": {},
     "nuid": "630b6dc6-58cb-4b1c-8137-a8f52b140f61",
     "inputWidgets": {},
     "title": ""
    },
    "pycharm": {
     "name": "#%% md\n"
    }
   }
  },
  {
   "cell_type": "code",
   "source": [
    "%run ./Includes/Classroom-Setup"
   ],
   "metadata": {
    "application/vnd.databricks.v1+cell": {
     "showTitle": false,
     "cellMetadata": {},
     "nuid": "b9cb6466-01b4-409c-bbe1-4d408672a9b9",
     "inputWidgets": {},
     "title": ""
    },
    "pycharm": {
     "name": "#%%\n"
    }
   },
   "outputs": [],
   "execution_count": 0
  },
  {
   "cell_type": "markdown",
   "source": [
    "Let's use the BedBricks events dataset."
   ],
   "metadata": {
    "application/vnd.databricks.v1+cell": {
     "showTitle": false,
     "cellMetadata": {},
     "nuid": "8a3932e3-a4e3-4f5e-8393-98f62017469c",
     "inputWidgets": {},
     "title": ""
    },
    "pycharm": {
     "name": "#%% md\n"
    }
   }
  },
  {
   "cell_type": "code",
   "source": [
    "eventsDF = spark.read.parquet(eventsPath)\n",
    "display(eventsDF)"
   ],
   "metadata": {
    "application/vnd.databricks.v1+cell": {
     "showTitle": false,
     "cellMetadata": {},
     "nuid": "6a10a539-eeb9-4278-85e2-021d094831ac",
     "inputWidgets": {},
     "title": ""
    },
    "pycharm": {
     "name": "#%%\n"
    }
   },
   "outputs": [],
   "execution_count": 0
  },
  {
   "cell_type": "markdown",
   "source": [
    "## Column Expressions\n",
    "\n",
    "A <a href=\"https://spark.apache.org/docs/latest/api/python/reference/api/pyspark.sql.Column.html\" target=\"_blank\">Column</a> is a logical construction that will be computed based on the data in a DataFrame using an expression\n",
    "\n",
    "Construct a new Column based on existing columns in a DataFrame"
   ],
   "metadata": {
    "application/vnd.databricks.v1+cell": {
     "showTitle": false,
     "cellMetadata": {},
     "nuid": "faff6f82-df7b-4fdb-b8d1-1fcc3aedd55b",
     "inputWidgets": {},
     "title": ""
    },
    "pycharm": {
     "name": "#%% md\n"
    }
   }
  },
  {
   "cell_type": "code",
   "source": [
    "from pyspark.sql.functions import col\n",
    "\n",
    "eventsDF.device\n",
    "eventsDF[\"device\"]\n",
    "col(\"device\")"
   ],
   "metadata": {
    "application/vnd.databricks.v1+cell": {
     "showTitle": false,
     "cellMetadata": {},
     "nuid": "f778fa76-32d7-4297-ba25-c3d443d57dea",
     "inputWidgets": {},
     "title": ""
    },
    "pycharm": {
     "name": "#%%\n"
    }
   },
   "outputs": [],
   "execution_count": 0
  },
  {
   "cell_type": "markdown",
   "source": [
    "Scala supports an additional syntax for creating a new Column based on existing columns in a DataFrame"
   ],
   "metadata": {
    "application/vnd.databricks.v1+cell": {
     "showTitle": false,
     "cellMetadata": {},
     "nuid": "b995604f-4d8e-45e6-8cdc-565f24c4868b",
     "inputWidgets": {},
     "title": ""
    },
    "pycharm": {
     "name": "#%% md\n"
    }
   }
  },
  {
   "cell_type": "code",
   "source": [
    "%scala\n",
    "$\"device\""
   ],
   "metadata": {
    "application/vnd.databricks.v1+cell": {
     "showTitle": false,
     "cellMetadata": {},
     "nuid": "69b8c40f-a967-4438-bb7b-d18ede62ca4e",
     "inputWidgets": {},
     "title": ""
    },
    "pycharm": {
     "name": "#%%\n"
    }
   },
   "outputs": [],
   "execution_count": 0
  },
  {
   "cell_type": "markdown",
   "source": [
    "### Column Operators and Methods\n",
    "| Method | Description |\n",
    "| --- | --- |\n",
    "| \\*, + , <, >= | Math and comparison operators |\n",
    "| ==, != | Equality and inequality tests (Scala operators are `===` and `=!=`) |\n",
    "| alias | Gives the column an alias |\n",
    "| cast, astype | Casts the column to a different data type |\n",
    "| isNull, isNotNull, isNan | Is null, is not null, is NaN |\n",
    "| asc, desc | Returns a sort expression based on ascending/descending order of the column |"
   ],
   "metadata": {
    "application/vnd.databricks.v1+cell": {
     "showTitle": false,
     "cellMetadata": {},
     "nuid": "fde53b4e-4e7b-4b3e-bff5-49fe4a2283d0",
     "inputWidgets": {},
     "title": ""
    },
    "pycharm": {
     "name": "#%% md\n"
    }
   }
  },
  {
   "cell_type": "markdown",
   "source": [
    "Create complex expressions with existing columns, operators, and methods."
   ],
   "metadata": {
    "application/vnd.databricks.v1+cell": {
     "showTitle": false,
     "cellMetadata": {},
     "nuid": "22fdf309-fb12-48d1-9271-76e0a2f75349",
     "inputWidgets": {},
     "title": ""
    },
    "pycharm": {
     "name": "#%% md\n"
    }
   }
  },
  {
   "cell_type": "code",
   "source": [
    "col(\"ecommerce.purchase_revenue_in_usd\") + col(\"ecommerce.total_item_quantity\")\n",
    "col(\"event_timestamp\").desc()\n",
    "(col(\"ecommerce.purchase_revenue_in_usd\") * 100).cast(\"int\")"
   ],
   "metadata": {
    "application/vnd.databricks.v1+cell": {
     "showTitle": false,
     "cellMetadata": {},
     "nuid": "7556006c-9bde-42c9-9b58-7386c2380554",
     "inputWidgets": {},
     "title": ""
    },
    "pycharm": {
     "name": "#%%\n"
    }
   },
   "outputs": [],
   "execution_count": 0
  },
  {
   "cell_type": "markdown",
   "source": [
    "Here's an example of using these column expressions in the context of a DataFrame"
   ],
   "metadata": {
    "application/vnd.databricks.v1+cell": {
     "showTitle": false,
     "cellMetadata": {},
     "nuid": "cbb7e7cb-0992-4ab2-8e20-28992f604cdf",
     "inputWidgets": {},
     "title": ""
    },
    "pycharm": {
     "name": "#%% md\n"
    }
   }
  },
  {
   "cell_type": "code",
   "source": [
    "revDF = (eventsDF\n",
    "         .filter(col(\"ecommerce.purchase_revenue_in_usd\").isNotNull())\n",
    "         .withColumn(\"purchase_revenue\", (col(\"ecommerce.purchase_revenue_in_usd\") * 100).cast(\"int\"))\n",
    "         .withColumn(\"avg_purchase_revenue\", col(\"ecommerce.purchase_revenue_in_usd\") / col(\"ecommerce.total_item_quantity\"))\n",
    "         .sort(col(\"avg_purchase_revenue\").desc())\n",
    "        )\n",
    "\n",
    "display(revDF)"
   ],
   "metadata": {
    "application/vnd.databricks.v1+cell": {
     "showTitle": false,
     "cellMetadata": {},
     "nuid": "c6040be8-6d5d-45ac-846e-bfdc0b515c15",
     "inputWidgets": {},
     "title": ""
    },
    "pycharm": {
     "name": "#%%\n"
    }
   },
   "outputs": [],
   "execution_count": 0
  },
  {
   "cell_type": "markdown",
   "source": [
    "## DataFrame Transformation Methods\n",
    "| Method | Description |\n",
    "| --- | --- |\n",
    "| select | Returns a new DataFrame by computing given expression for each element |\n",
    "| drop | Returns a new DataFrame with a column dropped |\n",
    "| withColumnRenamed | Returns a new DataFrame with a column renamed |\n",
    "| withColumn | Returns a new DataFrame by adding a column or replacing the existing column that has the same name |\n",
    "| filter, where | Filters rows using the given condition |\n",
    "| sort, orderBy | Returns a new DataFrame sorted by the given expressions |\n",
    "| dropDuplicates, distinct | Returns a new DataFrame with duplicate rows removed |\n",
    "| limit | Returns a new DataFrame by taking the first n rows |\n",
    "| groupBy | Groups the DataFrame using the specified columns, so we can run aggregation on them |"
   ],
   "metadata": {
    "application/vnd.databricks.v1+cell": {
     "showTitle": false,
     "cellMetadata": {},
     "nuid": "b62e18d2-99b9-4821-9c0e-24cae1399c09",
     "inputWidgets": {},
     "title": ""
    },
    "pycharm": {
     "name": "#%% md\n"
    }
   }
  },
  {
   "cell_type": "markdown",
   "source": [
    "### Subset columns\n",
    "Use DataFrame transformations to subset columns"
   ],
   "metadata": {
    "application/vnd.databricks.v1+cell": {
     "showTitle": false,
     "cellMetadata": {},
     "nuid": "f7d3fc70-ff5e-4d25-aba1-315786f692b1",
     "inputWidgets": {},
     "title": ""
    },
    "pycharm": {
     "name": "#%% md\n"
    }
   }
  },
  {
   "cell_type": "markdown",
   "source": [
    "#### `select()`\n",
    "Selects a list of columns or column based expressions"
   ],
   "metadata": {
    "application/vnd.databricks.v1+cell": {
     "showTitle": false,
     "cellMetadata": {},
     "nuid": "47b94771-d002-44b8-9dbb-bf86244dc4ab",
     "inputWidgets": {},
     "title": ""
    },
    "pycharm": {
     "name": "#%% md\n"
    }
   }
  },
  {
   "cell_type": "code",
   "source": [
    "devicesDF = eventsDF.select(\"user_id\", \"device\")\n",
    "display(devicesDF)"
   ],
   "metadata": {
    "application/vnd.databricks.v1+cell": {
     "showTitle": false,
     "cellMetadata": {},
     "nuid": "7668df23-6d8b-45b9-beeb-4298f3c66ad2",
     "inputWidgets": {},
     "title": ""
    },
    "pycharm": {
     "name": "#%%\n"
    }
   },
   "outputs": [],
   "execution_count": 0
  },
  {
   "cell_type": "code",
   "source": [
    "from pyspark.sql.functions import col\n",
    "\n",
    "locationsDF = eventsDF.select(\n",
    "    \"user_id\", \n",
    "    col(\"geo.city\").alias(\"city\"), \n",
    "    col(\"geo.state\").alias(\"state\")\n",
    ")\n",
    "display(locationsDF)"
   ],
   "metadata": {
    "application/vnd.databricks.v1+cell": {
     "showTitle": false,
     "cellMetadata": {},
     "nuid": "47831fb6-79f3-49c2-b831-36ce0b60650b",
     "inputWidgets": {},
     "title": ""
    },
    "pycharm": {
     "name": "#%%\n"
    }
   },
   "outputs": [],
   "execution_count": 0
  },
  {
   "cell_type": "markdown",
   "source": [
    "#### `selectExpr()`\n",
    "Selects a list of SQL expressions"
   ],
   "metadata": {
    "application/vnd.databricks.v1+cell": {
     "showTitle": false,
     "cellMetadata": {},
     "nuid": "b85930d2-3df0-4eab-bc44-2a8a8e84c5f4",
     "inputWidgets": {},
     "title": ""
    },
    "pycharm": {
     "name": "#%% md\n"
    }
   }
  },
  {
   "cell_type": "code",
   "source": [
    "appleDF = eventsDF.selectExpr(\"user_id\", \"device in ('macOS', 'iOS') as apple_user\")\n",
    "display(appleDF)"
   ],
   "metadata": {
    "application/vnd.databricks.v1+cell": {
     "showTitle": false,
     "cellMetadata": {},
     "nuid": "edec2e61-360b-4819-9a14-56613f7ba764",
     "inputWidgets": {},
     "title": ""
    },
    "pycharm": {
     "name": "#%%\n"
    }
   },
   "outputs": [],
   "execution_count": 0
  },
  {
   "cell_type": "markdown",
   "source": [
    "#### `drop()`\n",
    "Returns a new DataFrame after dropping the given column, specified as a string or Column object\n",
    "\n",
    "Use strings to specify multiple columns"
   ],
   "metadata": {
    "application/vnd.databricks.v1+cell": {
     "showTitle": false,
     "cellMetadata": {},
     "nuid": "757d03ea-81d7-4347-97e1-fdac95973335",
     "inputWidgets": {},
     "title": ""
    },
    "pycharm": {
     "name": "#%% md\n"
    }
   }
  },
  {
   "cell_type": "code",
   "source": [
    "anonymousDF = eventsDF.drop(\"user_id\", \"geo\", \"device\")\n",
    "display(anonymousDF)"
   ],
   "metadata": {
    "application/vnd.databricks.v1+cell": {
     "showTitle": false,
     "cellMetadata": {},
     "nuid": "32f50d49-8e96-4112-9836-e4ba36e0fc69",
     "inputWidgets": {},
     "title": ""
    },
    "pycharm": {
     "name": "#%%\n"
    }
   },
   "outputs": [],
   "execution_count": 0
  },
  {
   "cell_type": "code",
   "source": [
    "noSalesDF = eventsDF.drop(col(\"ecommerce\"))\n",
    "display(noSalesDF)"
   ],
   "metadata": {
    "application/vnd.databricks.v1+cell": {
     "showTitle": false,
     "cellMetadata": {},
     "nuid": "1a1ab615-2029-4d93-a527-a84ea3ffcaee",
     "inputWidgets": {},
     "title": ""
    },
    "pycharm": {
     "name": "#%%\n"
    }
   },
   "outputs": [],
   "execution_count": 0
  },
  {
   "cell_type": "markdown",
   "source": [
    "### Add or replace columns\n",
    "Use DataFrame transformations to add or replace columns"
   ],
   "metadata": {
    "application/vnd.databricks.v1+cell": {
     "showTitle": false,
     "cellMetadata": {},
     "nuid": "ed2122d8-911f-4a72-8f5c-06091b51fb1b",
     "inputWidgets": {},
     "title": ""
    },
    "pycharm": {
     "name": "#%% md\n"
    }
   }
  },
  {
   "cell_type": "markdown",
   "source": [
    "#### `withColumn()`\n",
    "Returns a new DataFrame by adding a column or replacing an existing column that has the same name."
   ],
   "metadata": {
    "application/vnd.databricks.v1+cell": {
     "showTitle": false,
     "cellMetadata": {},
     "nuid": "fba4f188-5a61-4bbf-bb1c-f909e54357ff",
     "inputWidgets": {},
     "title": ""
    },
    "pycharm": {
     "name": "#%% md\n"
    }
   }
  },
  {
   "cell_type": "code",
   "source": [
    "mobileDF = eventsDF.withColumn(\"mobile\", col(\"device\").isin(\"iOS\", \"Android\"))\n",
    "display(mobileDF)"
   ],
   "metadata": {
    "application/vnd.databricks.v1+cell": {
     "showTitle": false,
     "cellMetadata": {},
     "nuid": "60e11894-afb5-496e-864a-97087368e49f",
     "inputWidgets": {},
     "title": ""
    },
    "pycharm": {
     "name": "#%%\n"
    }
   },
   "outputs": [],
   "execution_count": 0
  },
  {
   "cell_type": "code",
   "source": [
    "purchaseQuantityDF = eventsDF.withColumn(\"purchase_quantity\", col(\"ecommerce.total_item_quantity\").cast(\"int\"))\n",
    "purchaseQuantityDF.printSchema()"
   ],
   "metadata": {
    "application/vnd.databricks.v1+cell": {
     "showTitle": false,
     "cellMetadata": {},
     "nuid": "4a70a497-c5d3-4f99-be5c-5f4e32cc0f64",
     "inputWidgets": {},
     "title": ""
    },
    "pycharm": {
     "name": "#%%\n"
    }
   },
   "outputs": [],
   "execution_count": 0
  },
  {
   "cell_type": "markdown",
   "source": [
    "#### `withColumnRenamed()`\n",
    "Returns a new DataFrame with a column renamed."
   ],
   "metadata": {
    "application/vnd.databricks.v1+cell": {
     "showTitle": false,
     "cellMetadata": {},
     "nuid": "28abcd53-3c3e-4bc1-bf3c-ba57311d9582",
     "inputWidgets": {},
     "title": ""
    },
    "pycharm": {
     "name": "#%% md\n"
    }
   }
  },
  {
   "cell_type": "code",
   "source": [
    "locationDF = eventsDF.withColumnRenamed(\"geo\", \"location\")\n",
    "display(locationDF)"
   ],
   "metadata": {
    "application/vnd.databricks.v1+cell": {
     "showTitle": false,
     "cellMetadata": {},
     "nuid": "0ab10f9d-4396-4909-a3aa-d48ce2e04a30",
     "inputWidgets": {},
     "title": ""
    },
    "pycharm": {
     "name": "#%%\n"
    }
   },
   "outputs": [],
   "execution_count": 0
  },
  {
   "cell_type": "markdown",
   "source": [
    "### Subset Rows\n",
    "Use DataFrame transformations to subset rows"
   ],
   "metadata": {
    "application/vnd.databricks.v1+cell": {
     "showTitle": false,
     "cellMetadata": {},
     "nuid": "6865f995-1419-4809-b671-fc1b59a3696e",
     "inputWidgets": {},
     "title": ""
    },
    "pycharm": {
     "name": "#%% md\n"
    }
   }
  },
  {
   "cell_type": "markdown",
   "source": [
    "#### `filter()`\n",
    "Filters rows using the given SQL expression or column based condition."
   ],
   "metadata": {
    "application/vnd.databricks.v1+cell": {
     "showTitle": false,
     "cellMetadata": {},
     "nuid": "d70f19e2-212e-438e-9749-61a17f4b6773",
     "inputWidgets": {},
     "title": ""
    },
    "pycharm": {
     "name": "#%% md\n"
    }
   }
  },
  {
   "cell_type": "code",
   "source": [
    "purchasesDF = eventsDF.filter(\"ecommerce.total_item_quantity > 0\")\n",
    "display(purchasesDF)"
   ],
   "metadata": {
    "application/vnd.databricks.v1+cell": {
     "showTitle": false,
     "cellMetadata": {},
     "nuid": "2c2dec97-bcfe-4209-8026-1367cca9c68d",
     "inputWidgets": {},
     "title": ""
    },
    "pycharm": {
     "name": "#%%\n"
    }
   },
   "outputs": [],
   "execution_count": 0
  },
  {
   "cell_type": "code",
   "source": [
    "revenueDF = eventsDF.filter(col(\"ecommerce.purchase_revenue_in_usd\").isNotNull())\n",
    "display(revenueDF)"
   ],
   "metadata": {
    "application/vnd.databricks.v1+cell": {
     "showTitle": false,
     "cellMetadata": {},
     "nuid": "5124a0af-5251-4660-94a9-eb0ce878dcc4",
     "inputWidgets": {},
     "title": ""
    },
    "pycharm": {
     "name": "#%%\n"
    }
   },
   "outputs": [],
   "execution_count": 0
  },
  {
   "cell_type": "code",
   "source": [
    "androidDF = eventsDF.filter((col(\"traffic_source\") != \"direct\") & (col(\"device\") == \"Android\"))\n",
    "display(androidDF)"
   ],
   "metadata": {
    "application/vnd.databricks.v1+cell": {
     "showTitle": false,
     "cellMetadata": {},
     "nuid": "9f8a2832-ef9a-4028-a66b-f1eb38a799db",
     "inputWidgets": {},
     "title": ""
    },
    "pycharm": {
     "name": "#%%\n"
    }
   },
   "outputs": [],
   "execution_count": 0
  },
  {
   "cell_type": "markdown",
   "source": [
    "#### `dropDuplicates()`\n",
    "Returns a new DataFrame with duplicate rows removed, optionally considering only a subset of columns.\n",
    "\n",
    "##### Alias: `distinct`"
   ],
   "metadata": {
    "application/vnd.databricks.v1+cell": {
     "showTitle": false,
     "cellMetadata": {},
     "nuid": "4762b52b-a5af-4444-a010-d252f1b0662e",
     "inputWidgets": {},
     "title": ""
    },
    "pycharm": {
     "name": "#%% md\n"
    }
   }
  },
  {
   "cell_type": "code",
   "source": [
    "eventsDF.distinct()"
   ],
   "metadata": {
    "application/vnd.databricks.v1+cell": {
     "showTitle": false,
     "cellMetadata": {},
     "nuid": "3cc7155f-1d1f-4a61-84a6-72c7ea860a68",
     "inputWidgets": {},
     "title": ""
    },
    "pycharm": {
     "name": "#%%\n"
    }
   },
   "outputs": [],
   "execution_count": 0
  },
  {
   "cell_type": "code",
   "source": [
    "distinctUsersDF = eventsDF.dropDuplicates([\"user_id\"])\n",
    "display(distinctUsersDF)"
   ],
   "metadata": {
    "application/vnd.databricks.v1+cell": {
     "showTitle": false,
     "cellMetadata": {},
     "nuid": "a5b6e606-8b71-4586-a9b7-ee5da0e80aea",
     "inputWidgets": {},
     "title": ""
    },
    "pycharm": {
     "name": "#%%\n"
    }
   },
   "outputs": [],
   "execution_count": 0
  },
  {
   "cell_type": "markdown",
   "source": [
    "#### `limit()`\n",
    "Returns a new DataFrame by taking the first n rows."
   ],
   "metadata": {
    "application/vnd.databricks.v1+cell": {
     "showTitle": false,
     "cellMetadata": {},
     "nuid": "253e5867-2ee4-489f-860b-ab11ca0ea03e",
     "inputWidgets": {},
     "title": ""
    },
    "pycharm": {
     "name": "#%% md\n"
    }
   }
  },
  {
   "cell_type": "code",
   "source": [
    "limitDF = eventsDF.limit(100)\n",
    "display(limitDF)"
   ],
   "metadata": {
    "application/vnd.databricks.v1+cell": {
     "showTitle": false,
     "cellMetadata": {},
     "nuid": "0ed068ab-f52c-4962-b403-27b61f39861a",
     "inputWidgets": {},
     "title": ""
    },
    "pycharm": {
     "name": "#%%\n"
    }
   },
   "outputs": [],
   "execution_count": 0
  },
  {
   "cell_type": "markdown",
   "source": [
    "### Sort rows\n",
    "Use DataFrame transformations to sort rows"
   ],
   "metadata": {
    "application/vnd.databricks.v1+cell": {
     "showTitle": false,
     "cellMetadata": {},
     "nuid": "a846bf96-bfc9-49c9-9943-3def08a0389f",
     "inputWidgets": {},
     "title": ""
    },
    "pycharm": {
     "name": "#%% md\n"
    }
   }
  },
  {
   "cell_type": "markdown",
   "source": [
    "#### `sort()`\n",
    "Returns a new DataFrame sorted by the given columns or expressions.\n",
    "\n",
    "##### Alias: `orderBy`"
   ],
   "metadata": {
    "application/vnd.databricks.v1+cell": {
     "showTitle": false,
     "cellMetadata": {},
     "nuid": "087239ad-97ea-45e8-b3a6-ebc35717f10e",
     "inputWidgets": {},
     "title": ""
    },
    "pycharm": {
     "name": "#%% md\n"
    }
   }
  },
  {
   "cell_type": "code",
   "source": [
    "increaseTimestampsDF = eventsDF.sort(\"event_timestamp\")\n",
    "display(increaseTimestampsDF)"
   ],
   "metadata": {
    "application/vnd.databricks.v1+cell": {
     "showTitle": false,
     "cellMetadata": {},
     "nuid": "b0696368-a78c-4176-a5a2-249f5254b348",
     "inputWidgets": {},
     "title": ""
    },
    "pycharm": {
     "name": "#%%\n"
    }
   },
   "outputs": [],
   "execution_count": 0
  },
  {
   "cell_type": "code",
   "source": [
    "decreaseTimestampsDF = eventsDF.sort(col(\"event_timestamp\").desc())\n",
    "display(decreaseTimestampsDF)"
   ],
   "metadata": {
    "application/vnd.databricks.v1+cell": {
     "showTitle": false,
     "cellMetadata": {},
     "nuid": "0cf15317-6064-4d3f-953c-04212192b0bd",
     "inputWidgets": {},
     "title": ""
    },
    "pycharm": {
     "name": "#%%\n"
    }
   },
   "outputs": [],
   "execution_count": 0
  },
  {
   "cell_type": "code",
   "source": [
    "increaseSessionsDF = eventsDF.orderBy([\"user_first_touch_timestamp\", \"event_timestamp\"])\n",
    "display(increaseSessionsDF)"
   ],
   "metadata": {
    "application/vnd.databricks.v1+cell": {
     "showTitle": false,
     "cellMetadata": {},
     "nuid": "8790f426-e697-48bb-8d47-3cb3caff0d27",
     "inputWidgets": {},
     "title": ""
    },
    "pycharm": {
     "name": "#%%\n"
    }
   },
   "outputs": [],
   "execution_count": 0
  },
  {
   "cell_type": "code",
   "source": [
    "decreaseSessionsDF = eventsDF.sort(col(\"user_first_touch_timestamp\").desc(), col(\"event_timestamp\"))\n",
    "display(decreaseSessionsDF)"
   ],
   "metadata": {
    "application/vnd.databricks.v1+cell": {
     "showTitle": false,
     "cellMetadata": {},
     "nuid": "00261898-9062-4334-88c8-8fc19dceca85",
     "inputWidgets": {},
     "title": ""
    },
    "pycharm": {
     "name": "#%%\n"
    }
   },
   "outputs": [],
   "execution_count": 0
  },
  {
   "cell_type": "markdown",
   "source": [
    "# Purchase Revenues Lab\n",
    "\n",
    "Prepare dataset of events with purchase revenue.\n",
    "\n",
    "##### Tasks\n",
    "1. Extract purchase revenue for each event\n",
    "2. Filter events where revenue is not null\n",
    "3. Check what types of events have revenue\n",
    "4. Drop unneeded column\n",
    "\n",
    "##### Methods\n",
    "- DataFrame: `select`, `drop`, `withColumn`, `filter`, `dropDuplicates`\n",
    "- Column: `isNotNull`"
   ],
   "metadata": {
    "application/vnd.databricks.v1+cell": {
     "showTitle": false,
     "cellMetadata": {},
     "nuid": "a7557c91-f07a-4ff1-b482-0b8885c6709c",
     "inputWidgets": {},
     "title": ""
    },
    "pycharm": {
     "name": "#%% md\n"
    }
   }
  },
  {
   "cell_type": "code",
   "source": [
    "eventsDF = spark.read.parquet(eventsPath)\n",
    "display(eventsDF)"
   ],
   "metadata": {
    "application/vnd.databricks.v1+cell": {
     "showTitle": false,
     "cellMetadata": {},
     "nuid": "89cf3467-6720-4f21-b0bb-bf48a1680c59",
     "inputWidgets": {},
     "title": ""
    },
    "pycharm": {
     "name": "#%%\n"
    }
   },
   "outputs": [],
   "execution_count": 0
  },
  {
   "cell_type": "markdown",
   "source": [
    "### 1. Extract purchase revenue for each event\n",
    "Add new column **`revenue`** by extracting **`ecommerce.purchase_revenue_in_usd`**"
   ],
   "metadata": {
    "application/vnd.databricks.v1+cell": {
     "showTitle": false,
     "cellMetadata": {},
     "nuid": "63c756cd-31f1-46e7-bd5c-0493f8c60cd4",
     "inputWidgets": {},
     "title": ""
    },
    "pycharm": {
     "name": "#%% md\n"
    }
   }
  },
  {
   "cell_type": "code",
   "source": [
    "# TODO\n",
    "revenueDF = eventsDF.FILL_IN\n",
    "display(revenueDF)"
   ],
   "metadata": {
    "application/vnd.databricks.v1+cell": {
     "showTitle": false,
     "cellMetadata": {},
     "nuid": "9bff53bd-2445-4077-8c6a-d07907a30f7f",
     "inputWidgets": {},
     "title": ""
    },
    "pycharm": {
     "name": "#%%\n"
    }
   },
   "outputs": [],
   "execution_count": 0
  },
  {
   "cell_type": "markdown",
   "source": [
    "**CHECK YOUR WORK**"
   ],
   "metadata": {
    "application/vnd.databricks.v1+cell": {
     "showTitle": false,
     "cellMetadata": {},
     "nuid": "03209c18-6e01-4b9b-a7e9-c83d0d8bd9aa",
     "inputWidgets": {},
     "title": ""
    },
    "pycharm": {
     "name": "#%% md\n"
    }
   }
  },
  {
   "cell_type": "code",
   "source": [
    "expected1 = [5830.0, 5485.0, 5289.0, 5219.1, 5180.0, 5175.0, 5125.0, 5030.0, 4985.0, 4985.0]\n",
    "result1 = [row.revenue for row in revenueDF.sort(col(\"revenue\").desc_nulls_last()).limit(10).collect()]\n",
    "\n",
    "assert(expected1 == result1)"
   ],
   "metadata": {
    "application/vnd.databricks.v1+cell": {
     "showTitle": false,
     "cellMetadata": {},
     "nuid": "ebea30c9-bd39-45c7-a825-fa79841f4ab1",
     "inputWidgets": {},
     "title": ""
    },
    "pycharm": {
     "name": "#%%\n"
    }
   },
   "outputs": [],
   "execution_count": 0
  },
  {
   "cell_type": "markdown",
   "source": [
    "### 2. Filter events where revenue is not null\n",
    "Filter for records where **`revenue`** is not **`null`**"
   ],
   "metadata": {
    "application/vnd.databricks.v1+cell": {
     "showTitle": false,
     "cellMetadata": {},
     "nuid": "299b59e6-e1d7-492e-8a1f-a0a3141f6b0d",
     "inputWidgets": {},
     "title": ""
    },
    "pycharm": {
     "name": "#%% md\n"
    }
   }
  },
  {
   "cell_type": "code",
   "source": [
    "# TODO\n",
    "purchasesDF = revenueDF.FILL_IN\n",
    "display(purchasesDF)"
   ],
   "metadata": {
    "application/vnd.databricks.v1+cell": {
     "showTitle": false,
     "cellMetadata": {},
     "nuid": "6ae646b7-541d-43b4-ad72-34826551c08b",
     "inputWidgets": {},
     "title": ""
    },
    "pycharm": {
     "name": "#%%\n"
    }
   },
   "outputs": [],
   "execution_count": 0
  },
  {
   "cell_type": "markdown",
   "source": [
    "**CHECK YOUR WORK**"
   ],
   "metadata": {
    "application/vnd.databricks.v1+cell": {
     "showTitle": false,
     "cellMetadata": {},
     "nuid": "1a7b093d-61d6-4168-9d77-951bb6ff05c9",
     "inputWidgets": {},
     "title": ""
    },
    "pycharm": {
     "name": "#%% md\n"
    }
   }
  },
  {
   "cell_type": "code",
   "source": [
    "assert purchasesDF.filter(col(\"revenue\").isNull()).count() == 0, \"Nulls in 'revenue' column\""
   ],
   "metadata": {
    "application/vnd.databricks.v1+cell": {
     "showTitle": false,
     "cellMetadata": {},
     "nuid": "c15d24b1-c0ae-44a9-bc7a-73dcc74bad02",
     "inputWidgets": {},
     "title": ""
    },
    "pycharm": {
     "name": "#%%\n"
    }
   },
   "outputs": [],
   "execution_count": 0
  },
  {
   "cell_type": "markdown",
   "source": [
    "### 3. Check what types of events have revenue\n",
    "Find unique **`event_name`** values in **`purchasesDF`** in one of two ways:\n",
    "- Select \"event_name\" and get distinct records\n",
    "- Drop duplicate records based on the \"event_name\" only\n",
    "\n",
    "<img src=\"https://files.training.databricks.com/images/icon_hint_32.png\" alt=\"Hint\"> There's only one event associated with revenues"
   ],
   "metadata": {
    "application/vnd.databricks.v1+cell": {
     "showTitle": false,
     "cellMetadata": {},
     "nuid": "d5368a4b-9aff-4a7b-a861-633fa6c8c258",
     "inputWidgets": {},
     "title": ""
    },
    "pycharm": {
     "name": "#%% md\n"
    }
   }
  },
  {
   "cell_type": "code",
   "source": [
    "# TODO\n",
    "distinctDF = purchasesDF.FILL_IN\n",
    "display(distinctDF)"
   ],
   "metadata": {
    "application/vnd.databricks.v1+cell": {
     "showTitle": false,
     "cellMetadata": {},
     "nuid": "31aa04b4-565d-4c02-adef-ba41ed88a8e2",
     "inputWidgets": {},
     "title": ""
    },
    "pycharm": {
     "name": "#%%\n"
    }
   },
   "outputs": [],
   "execution_count": 0
  },
  {
   "cell_type": "markdown",
   "source": [
    "### 4. Drop unneeded column\n",
    "Since there's only one event type, drop **`event_name`** from **`purchasesDF`**."
   ],
   "metadata": {
    "application/vnd.databricks.v1+cell": {
     "showTitle": false,
     "cellMetadata": {},
     "nuid": "ee2bbf95-e921-4603-a95a-4731fee56feb",
     "inputWidgets": {},
     "title": ""
    },
    "pycharm": {
     "name": "#%% md\n"
    }
   }
  },
  {
   "cell_type": "code",
   "source": [
    "# TODO\n",
    "finalDF = purchasesDF.FILL_IN\n",
    "display(finalDF)"
   ],
   "metadata": {
    "application/vnd.databricks.v1+cell": {
     "showTitle": false,
     "cellMetadata": {},
     "nuid": "b3e9ed47-9417-4d76-a273-d94546b3d18c",
     "inputWidgets": {},
     "title": ""
    },
    "pycharm": {
     "name": "#%%\n"
    }
   },
   "outputs": [],
   "execution_count": 0
  },
  {
   "cell_type": "markdown",
   "source": [
    "**CHECK YOUR WORK**"
   ],
   "metadata": {
    "application/vnd.databricks.v1+cell": {
     "showTitle": false,
     "cellMetadata": {},
     "nuid": "6a0a7396-5291-4a79-8340-66fe7f298987",
     "inputWidgets": {},
     "title": ""
    },
    "pycharm": {
     "name": "#%% md\n"
    }
   }
  },
  {
   "cell_type": "code",
   "source": [
    "expected_columns = {\"device\", \"ecommerce\", \"event_previous_timestamp\", \"event_timestamp\",\n",
    "                    \"geo\", \"items\", \"revenue\", \"traffic_source\",\n",
    "                    \"user_first_touch_timestamp\", \"user_id\"}\n",
    "assert(set(finalDF.columns) == expected_columns)"
   ],
   "metadata": {
    "application/vnd.databricks.v1+cell": {
     "showTitle": false,
     "cellMetadata": {},
     "nuid": "2585fbeb-fe20-4e36-b19e-4e039f955498",
     "inputWidgets": {},
     "title": ""
    },
    "pycharm": {
     "name": "#%%\n"
    }
   },
   "outputs": [],
   "execution_count": 0
  },
  {
   "cell_type": "markdown",
   "source": [
    "### 5. Chain all the steps above excluding step 3"
   ],
   "metadata": {
    "application/vnd.databricks.v1+cell": {
     "showTitle": false,
     "cellMetadata": {},
     "nuid": "cb675f29-44ff-4a76-be5a-215cfdca41aa",
     "inputWidgets": {},
     "title": ""
    },
    "pycharm": {
     "name": "#%% md\n"
    }
   }
  },
  {
   "cell_type": "code",
   "source": [
    "# TODO\n",
    "finalDF = (eventsDF\n",
    "  .FILL_IN\n",
    ")\n",
    "\n",
    "display(finalDF)"
   ],
   "metadata": {
    "application/vnd.databricks.v1+cell": {
     "showTitle": false,
     "cellMetadata": {},
     "nuid": "d7e1f274-1b0b-446f-a4f2-213348e8a8ac",
     "inputWidgets": {},
     "title": ""
    },
    "pycharm": {
     "name": "#%%\n"
    }
   },
   "outputs": [],
   "execution_count": 0
  },
  {
   "cell_type": "markdown",
   "source": [
    "**CHECK YOUR WORK**"
   ],
   "metadata": {
    "application/vnd.databricks.v1+cell": {
     "showTitle": false,
     "cellMetadata": {},
     "nuid": "2378ffe5-a940-43b7-be82-8255129ecb9c",
     "inputWidgets": {},
     "title": ""
    },
    "pycharm": {
     "name": "#%% md\n"
    }
   }
  },
  {
   "cell_type": "code",
   "source": [
    "assert(finalDF.count() == 180678)"
   ],
   "metadata": {
    "application/vnd.databricks.v1+cell": {
     "showTitle": false,
     "cellMetadata": {},
     "nuid": "9251138f-725a-4411-ad0a-0438ed0af44d",
     "inputWidgets": {},
     "title": ""
    },
    "pycharm": {
     "name": "#%%\n"
    }
   },
   "outputs": [],
   "execution_count": 0
  },
  {
   "cell_type": "code",
   "source": [
    "expected_columns = {\"device\", \"ecommerce\", \"event_previous_timestamp\", \"event_timestamp\",\n",
    "                    \"geo\", \"items\", \"revenue\", \"traffic_source\",\n",
    "                    \"user_first_touch_timestamp\", \"user_id\"}\n",
    "assert(set(finalDF.columns) == expected_columns)"
   ],
   "metadata": {
    "application/vnd.databricks.v1+cell": {
     "showTitle": false,
     "cellMetadata": {},
     "nuid": "9c01f5e0-3608-43d6-af33-cc6480c0785c",
     "inputWidgets": {},
     "title": ""
    },
    "pycharm": {
     "name": "#%%\n"
    }
   },
   "outputs": [],
   "execution_count": 0
  },
  {
   "cell_type": "markdown",
   "source": [
    "### Clean up classroom"
   ],
   "metadata": {
    "application/vnd.databricks.v1+cell": {
     "showTitle": false,
     "cellMetadata": {},
     "nuid": "eb12fd61-ba43-4408-9262-ca0efb4c809e",
     "inputWidgets": {},
     "title": ""
    },
    "pycharm": {
     "name": "#%% md\n"
    }
   }
  },
  {
   "cell_type": "code",
   "source": [
    "%run ./Includes/Classroom-Cleanup"
   ],
   "metadata": {
    "application/vnd.databricks.v1+cell": {
     "showTitle": false,
     "cellMetadata": {},
     "nuid": "04d91de7-51ce-41b9-83b7-817b6001e156",
     "inputWidgets": {},
     "title": ""
    },
    "pycharm": {
     "name": "#%%\n"
    }
   },
   "outputs": [],
   "execution_count": 0
  }
 ],
 "metadata": {
  "application/vnd.databricks.v1+notebook": {
   "notebookName": "ASP 1.5 - DataFrame & Column",
   "dashboards": [],
   "notebookMetadata": {
    "pythonIndentUnit": 2
   },
   "language": "python",
   "widgets": {},
   "notebookOrigID": 4185566132527190
  }
 },
 "nbformat": 4,
 "nbformat_minor": 0
}