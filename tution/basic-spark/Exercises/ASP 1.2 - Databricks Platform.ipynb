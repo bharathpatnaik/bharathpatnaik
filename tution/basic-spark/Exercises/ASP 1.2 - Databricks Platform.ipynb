{
 "cells": [
  {
   "cell_type": "markdown",
   "source": [
    "# Databricks Platform\n",
    "\n",
    "Demonstrate basic functionality and identify terms related to working in the Databricks workspace.\n",
    "\n",
    "\n",
    "##### Objectives\n",
    "1. Execute code in multiple languages\n",
    "1. Create documentation cells\n",
    "1. Access DBFS (Databricks File System)\n",
    "1. Create database and table\n",
    "1. Query table and plot results\n",
    "1. Add notebook parameters with widgets\n",
    "\n",
    "\n",
    "##### Databricks Notebook Utilities\n",
    "- <a href=\"https://docs.databricks.com/notebooks/notebooks-use.html#language-magic\" target=\"_blank\">Magic commands</a>: `%python`, `%scala`, `%sql`, `%r`, `%sh`, `%md`\n",
    "- <a href=\"https://docs.databricks.com/dev-tools/databricks-utils.html\" target=\"_blank\">DBUtils</a>: `dbutils.fs` (`%fs`), `dbutils.notebooks` (`%run`), `dbutils.widgets`\n",
    "- <a href=\"https://docs.databricks.com/notebooks/visualizations/index.html\" target=\"_blank\">Visualization</a>: `display`, `displayHTML`"
   ],
   "metadata": {
    "application/vnd.databricks.v1+cell": {
     "showTitle": false,
     "cellMetadata": {},
     "nuid": "9da4e4b5-008e-409b-a1c7-9e70c37c5f19",
     "inputWidgets": {},
     "title": ""
    },
    "pycharm": {
     "name": "#%% md\n"
    }
   }
  },
  {
   "cell_type": "markdown",
   "source": [
    "### Setup\n",
    "Run classroom setup to mount Databricks training datasets and create your own database for BedBricks.\n",
    "\n",
    "Use the `%run` magic command to run another notebook within a notebook"
   ],
   "metadata": {
    "application/vnd.databricks.v1+cell": {
     "showTitle": false,
     "cellMetadata": {},
     "nuid": "9db7cd57-ac31-41e2-9c7c-88115bfc49e8",
     "inputWidgets": {},
     "title": ""
    },
    "pycharm": {
     "name": "#%% md\n"
    }
   }
  },
  {
   "cell_type": "code",
   "source": [
    "%run ./Includes/Classroom-Setup"
   ],
   "metadata": {
    "application/vnd.databricks.v1+cell": {
     "showTitle": false,
     "cellMetadata": {},
     "nuid": "904707fb-14a9-4372-8cd3-a3c98a3b1fb7",
     "inputWidgets": {},
     "title": ""
    },
    "pycharm": {
     "name": "#%%\n"
    }
   },
   "outputs": [],
   "execution_count": 0
  },
  {
   "cell_type": "markdown",
   "source": [
    "### Execute code in multiple languages\n",
    "Run default language of notebook"
   ],
   "metadata": {
    "application/vnd.databricks.v1+cell": {
     "showTitle": false,
     "cellMetadata": {},
     "nuid": "5e559ae1-ab24-4bdd-9d93-f5e7f0a28d02",
     "inputWidgets": {},
     "title": ""
    },
    "pycharm": {
     "name": "#%% md\n"
    }
   }
  },
  {
   "cell_type": "code",
   "source": [
    "print(\"Run default language\")"
   ],
   "metadata": {
    "application/vnd.databricks.v1+cell": {
     "showTitle": false,
     "cellMetadata": {},
     "nuid": "d75c455e-7b69-4cdb-9d66-2a3f6c403938",
     "inputWidgets": {},
     "title": ""
    },
    "pycharm": {
     "name": "#%%\n"
    }
   },
   "outputs": [],
   "execution_count": 0
  },
  {
   "cell_type": "markdown",
   "source": [
    "Run language specified by language magic commands: `%python`, `%scala`, `%sql`, `%r`"
   ],
   "metadata": {
    "application/vnd.databricks.v1+cell": {
     "showTitle": false,
     "cellMetadata": {},
     "nuid": "217cdbc7-f237-497b-8d33-46b594ca7152",
     "inputWidgets": {},
     "title": ""
    },
    "pycharm": {
     "name": "#%% md\n"
    }
   }
  },
  {
   "cell_type": "code",
   "source": [
    "%python\n",
    "print(\"Run python\")"
   ],
   "metadata": {
    "application/vnd.databricks.v1+cell": {
     "showTitle": false,
     "cellMetadata": {},
     "nuid": "d6e7b489-8cc7-4e45-a309-3d116700db90",
     "inputWidgets": {},
     "title": ""
    },
    "pycharm": {
     "name": "#%%\n"
    }
   },
   "outputs": [],
   "execution_count": 0
  },
  {
   "cell_type": "code",
   "source": [
    "%scala\n",
    "println(\"Run scala\")"
   ],
   "metadata": {
    "application/vnd.databricks.v1+cell": {
     "showTitle": false,
     "cellMetadata": {},
     "nuid": "e2771d27-7708-46b2-a9e4-5e9f76b99506",
     "inputWidgets": {},
     "title": ""
    },
    "pycharm": {
     "name": "#%%\n"
    }
   },
   "outputs": [],
   "execution_count": 0
  },
  {
   "cell_type": "code",
   "source": [
    "%sql\n",
    "select \"Run SQL\""
   ],
   "metadata": {
    "application/vnd.databricks.v1+cell": {
     "showTitle": false,
     "cellMetadata": {},
     "nuid": "262412a8-2e61-4ce2-9bc5-72e63f2f6f3b",
     "inputWidgets": {},
     "title": ""
    },
    "pycharm": {
     "name": "#%%\n"
    }
   },
   "outputs": [],
   "execution_count": 0
  },
  {
   "cell_type": "code",
   "source": [
    "%r\n",
    "print(\"Run R\", quote=FALSE)"
   ],
   "metadata": {
    "application/vnd.databricks.v1+cell": {
     "showTitle": false,
     "cellMetadata": {},
     "nuid": "69867793-e518-4a82-8aba-6377ed0d0884",
     "inputWidgets": {},
     "title": ""
    },
    "pycharm": {
     "name": "#%%\n"
    }
   },
   "outputs": [],
   "execution_count": 0
  },
  {
   "cell_type": "markdown",
   "source": [
    "Run shell commands on the driver using the magic command: `%sh`"
   ],
   "metadata": {
    "application/vnd.databricks.v1+cell": {
     "showTitle": false,
     "cellMetadata": {},
     "nuid": "2533b424-8ccb-4603-b0a9-1749044dcfe7",
     "inputWidgets": {},
     "title": ""
    },
    "pycharm": {
     "name": "#%% md\n"
    }
   }
  },
  {
   "cell_type": "code",
   "source": [
    "%sh ps | grep 'java'"
   ],
   "metadata": {
    "application/vnd.databricks.v1+cell": {
     "showTitle": false,
     "cellMetadata": {},
     "nuid": "4ae3b2d8-d27c-4b93-9000-dba7dabe813a",
     "inputWidgets": {},
     "title": ""
    },
    "pycharm": {
     "name": "#%%\n"
    }
   },
   "outputs": [],
   "execution_count": 0
  },
  {
   "cell_type": "markdown",
   "source": [
    "Render HTML using the function: `displayHTML` (available in Python, Scala, and R)"
   ],
   "metadata": {
    "application/vnd.databricks.v1+cell": {
     "showTitle": false,
     "cellMetadata": {},
     "nuid": "6c599f41-08db-48a1-9ff7-1ade8d152dfc",
     "inputWidgets": {},
     "title": ""
    },
    "pycharm": {
     "name": "#%% md\n"
    }
   }
  },
  {
   "cell_type": "code",
   "source": [
    "html = \"\"\"<h1 style=\"color:orange;text-align:center;font-family:Courier\">Render HTML</h1>\"\"\"\n",
    "displayHTML(html)"
   ],
   "metadata": {
    "application/vnd.databricks.v1+cell": {
     "showTitle": false,
     "cellMetadata": {},
     "nuid": "650c3ec0-8aa4-4266-93e8-0bd87d16c4c9",
     "inputWidgets": {},
     "title": ""
    },
    "pycharm": {
     "name": "#%%\n"
    }
   },
   "outputs": [],
   "execution_count": 0
  },
  {
   "cell_type": "markdown",
   "source": [
    "## Create documentation cells\n",
    "Render cell as <a href=\"https://www.markdownguide.org/cheat-sheet/\" target=\"_blank\">Markdown</a> using the magic command: `%md`  \n",
    "\n",
    "Below are some examples of how you can use Markdown to format documentation. Click this cell and press `Enter` to view the underlying Markdown syntax.\n",
    "\n",
    "\n",
    "# Heading 1\n",
    "### Heading 3\n",
    "> block quote\n",
    "\n",
    "1. **bold**\n",
    "2. *italicized*\n",
    "3. ~~strikethrough~~\n",
    "\n",
    "---\n",
    "\n",
    "- [link](https://www.markdownguide.org/cheat-sheet/)\n",
    "- `code`\n",
    "\n",
    "```\n",
    "{\n",
    "  \"message\": \"This is a code block\",\n",
    "  \"method\": \"https://www.markdownguide.org/extended-syntax/#fenced-code-blocks\",\n",
    "  \"alternative\": \"https://www.markdownguide.org/basic-syntax/#code-blocks\"\n",
    "}\n",
    "```\n",
    "\n",
    "![Spark Logo](https://files.training.databricks.com/images/Apache-Spark-Logo_TM_200px.png)\n",
    "\n",
    "| Element         | Markdown Syntax |\n",
    "|-----------------|-----------------|\n",
    "| Heading         | `#H1` `##H2` `###H3` `#### H4` `##### H5` `###### H6` |\n",
    "| Block quote     | `> blockquote` |\n",
    "| Bold            | `**bold**` |\n",
    "| Italic          | `*italicized*` |\n",
    "| Strikethrough   | `~~strikethrough~~` |\n",
    "| Horizontal Rule | `---` |\n",
    "| Code            | ``` `code` ``` |\n",
    "| Link            | `[text](https://www.example.com)` |\n",
    "| Image           | `[alt text](image.jpg)`|\n",
    "| Ordered List    | `1. First items` <br> `2. Second Item` <br> `3. Third Item` |\n",
    "| Unordered List  | `- First items` <br> `- Second Item` <br> `- Third Item` |\n",
    "| Code Block      | ```` ``` ```` <br> `code block` <br> ```` ``` ````|\n",
    "| Table           |<code> &#124; col &#124; col &#124; col &#124; </code> <br> <code> &#124;---&#124;---&#124;---&#124; </code> <br> <code> &#124; val &#124; val &#124; val &#124; </code> <br> <code> &#124; val &#124; val &#124; val &#124; </code> <br>|"
   ],
   "metadata": {
    "application/vnd.databricks.v1+cell": {
     "showTitle": false,
     "cellMetadata": {},
     "nuid": "7c463bd2-cd06-49e4-a6de-a308223ef9cc",
     "inputWidgets": {},
     "title": ""
    },
    "pycharm": {
     "name": "#%% md\n"
    }
   }
  },
  {
   "cell_type": "markdown",
   "source": [
    "## Access DBFS (Databricks File System)\n",
    "The <a href=\"https://docs.databricks.com/data/databricks-file-system.html\" target=\"_blank\">Databricks File System</a> (DBFS) is a virtual file system that allows you to treat cloud object storage as though it were local files and directories on the cluster.\n",
    "\n",
    "Run file system commands on DBFS using the magic command: `%fs`"
   ],
   "metadata": {
    "application/vnd.databricks.v1+cell": {
     "showTitle": false,
     "cellMetadata": {},
     "nuid": "dd052bbe-faad-4ab7-93cd-b90545f4f118",
     "inputWidgets": {},
     "title": ""
    },
    "pycharm": {
     "name": "#%% md\n"
    }
   }
  },
  {
   "cell_type": "code",
   "source": [
    "%fs ls"
   ],
   "metadata": {
    "application/vnd.databricks.v1+cell": {
     "showTitle": false,
     "cellMetadata": {},
     "nuid": "ffeb1fb1-7a54-4d6e-bb91-27d043f419ea",
     "inputWidgets": {},
     "title": ""
    },
    "pycharm": {
     "name": "#%%\n"
    }
   },
   "outputs": [],
   "execution_count": 0
  },
  {
   "cell_type": "code",
   "source": [
    "%fs ls /databricks-datasets"
   ],
   "metadata": {
    "application/vnd.databricks.v1+cell": {
     "showTitle": false,
     "cellMetadata": {},
     "nuid": "54196804-d372-405c-9993-1d06ec3e4fdc",
     "inputWidgets": {},
     "title": ""
    },
    "pycharm": {
     "name": "#%%\n"
    }
   },
   "outputs": [],
   "execution_count": 0
  },
  {
   "cell_type": "code",
   "source": [
    "%fs head /databricks-datasets/README.md"
   ],
   "metadata": {
    "application/vnd.databricks.v1+cell": {
     "showTitle": false,
     "cellMetadata": {},
     "nuid": "efdbf286-4873-463e-9e4e-70fb34719e9d",
     "inputWidgets": {},
     "title": ""
    },
    "pycharm": {
     "name": "#%%\n"
    }
   },
   "outputs": [],
   "execution_count": 0
  },
  {
   "cell_type": "code",
   "source": [
    "%fs mounts"
   ],
   "metadata": {
    "application/vnd.databricks.v1+cell": {
     "showTitle": false,
     "cellMetadata": {},
     "nuid": "72f068a3-e803-4377-9b1d-fabb4cbac940",
     "inputWidgets": {},
     "title": ""
    },
    "pycharm": {
     "name": "#%%\n"
    }
   },
   "outputs": [],
   "execution_count": 0
  },
  {
   "cell_type": "markdown",
   "source": [
    "`%fs` is shorthand for the <a href=\"https://docs.databricks.com/dev-tools/databricks-utils.html\" target=\"_blank\">DBUtils</a> module: `dbutils.fs`"
   ],
   "metadata": {
    "application/vnd.databricks.v1+cell": {
     "showTitle": false,
     "cellMetadata": {},
     "nuid": "de644fa4-7cbe-4202-a27f-872fd7be5243",
     "inputWidgets": {},
     "title": ""
    },
    "pycharm": {
     "name": "#%% md\n"
    }
   }
  },
  {
   "cell_type": "code",
   "source": [
    "%fs help"
   ],
   "metadata": {
    "application/vnd.databricks.v1+cell": {
     "showTitle": false,
     "cellMetadata": {},
     "nuid": "ffb33cdc-1cfc-45b0-ae99-bcd0c8401869",
     "inputWidgets": {},
     "title": ""
    },
    "pycharm": {
     "name": "#%%\n"
    }
   },
   "outputs": [],
   "execution_count": 0
  },
  {
   "cell_type": "markdown",
   "source": [
    "Run file system commands on DBFS using DBUtils directly"
   ],
   "metadata": {
    "application/vnd.databricks.v1+cell": {
     "showTitle": false,
     "cellMetadata": {},
     "nuid": "0e852857-d078-4e83-8e20-a97ec97b918c",
     "inputWidgets": {},
     "title": ""
    },
    "pycharm": {
     "name": "#%% md\n"
    }
   }
  },
  {
   "cell_type": "code",
   "source": [
    "dbutils.fs.ls(\"/databricks-datasets\")"
   ],
   "metadata": {
    "application/vnd.databricks.v1+cell": {
     "showTitle": false,
     "cellMetadata": {},
     "nuid": "5f51495d-c906-4f9a-b7d1-17e52008ff16",
     "inputWidgets": {},
     "title": ""
    },
    "pycharm": {
     "name": "#%%\n"
    }
   },
   "outputs": [],
   "execution_count": 0
  },
  {
   "cell_type": "markdown",
   "source": [
    "Visualize results in a table using the Databricks <a href=\"https://docs.databricks.com/notebooks/visualizations/index.html#display-function-1\" target=\"_blank\">display</a> function"
   ],
   "metadata": {
    "application/vnd.databricks.v1+cell": {
     "showTitle": false,
     "cellMetadata": {},
     "nuid": "61a895e6-61a9-4474-a091-ba94541587e6",
     "inputWidgets": {},
     "title": ""
    },
    "pycharm": {
     "name": "#%% md\n"
    }
   }
  },
  {
   "cell_type": "code",
   "source": [
    "files = dbutils.fs.ls(\"/databricks-datasets\")\n",
    "display(files)"
   ],
   "metadata": {
    "application/vnd.databricks.v1+cell": {
     "showTitle": false,
     "cellMetadata": {},
     "nuid": "9d417cfa-4f02-4d27-81e1-7131e6fab664",
     "inputWidgets": {},
     "title": ""
    },
    "pycharm": {
     "name": "#%%\n"
    }
   },
   "outputs": [],
   "execution_count": 0
  },
  {
   "cell_type": "markdown",
   "source": [
    "## Create table\n",
    "Run <a href=\"https://docs.databricks.com/spark/latest/spark-sql/language-manual/index.html#sql-reference\" target=\"_blank\">Databricks SQL Commands</a> to create a table named `events` using BedBricks event files on DBFS."
   ],
   "metadata": {
    "application/vnd.databricks.v1+cell": {
     "showTitle": false,
     "cellMetadata": {},
     "nuid": "25b96f01-44e9-4f97-8504-1df0eee22e87",
     "inputWidgets": {},
     "title": ""
    },
    "pycharm": {
     "name": "#%% md\n"
    }
   }
  },
  {
   "cell_type": "code",
   "source": [
    "%sql\n",
    "CREATE TABLE IF NOT EXISTS events USING parquet OPTIONS (path \"/mnt/training/ecommerce/events/events.parquet\");"
   ],
   "metadata": {
    "application/vnd.databricks.v1+cell": {
     "showTitle": false,
     "cellMetadata": {},
     "nuid": "a1b22a1c-2481-4833-a9a1-e1ca41811549",
     "inputWidgets": {},
     "title": ""
    },
    "pycharm": {
     "name": "#%%\n"
    }
   },
   "outputs": [],
   "execution_count": 0
  },
  {
   "cell_type": "markdown",
   "source": [
    "This table was saved in the database created for you in the classroom setup. See the database name printed below."
   ],
   "metadata": {
    "application/vnd.databricks.v1+cell": {
     "showTitle": false,
     "cellMetadata": {},
     "nuid": "9746ad72-950e-4363-b028-57de326d24db",
     "inputWidgets": {},
     "title": ""
    },
    "pycharm": {
     "name": "#%% md\n"
    }
   }
  },
  {
   "cell_type": "code",
   "source": [
    "print(databaseName)"
   ],
   "metadata": {
    "application/vnd.databricks.v1+cell": {
     "showTitle": false,
     "cellMetadata": {},
     "nuid": "5fa34307-9bb3-4659-8fd6-6827dde6a6a7",
     "inputWidgets": {},
     "title": ""
    },
    "pycharm": {
     "name": "#%%\n"
    }
   },
   "outputs": [],
   "execution_count": 0
  },
  {
   "cell_type": "markdown",
   "source": [
    "View your database and table in the Data tab of the UI."
   ],
   "metadata": {
    "application/vnd.databricks.v1+cell": {
     "showTitle": false,
     "cellMetadata": {},
     "nuid": "88a334ac-13e0-4d1c-9a48-65a3f1a8d1bc",
     "inputWidgets": {},
     "title": ""
    },
    "pycharm": {
     "name": "#%% md\n"
    }
   }
  },
  {
   "cell_type": "markdown",
   "source": [
    "## Query table and plot results\n",
    "Use SQL to query the `events` table"
   ],
   "metadata": {
    "application/vnd.databricks.v1+cell": {
     "showTitle": false,
     "cellMetadata": {},
     "nuid": "4dbcbad6-ab0f-4391-b7c1-b8bca456bceb",
     "inputWidgets": {},
     "title": ""
    },
    "pycharm": {
     "name": "#%% md\n"
    }
   }
  },
  {
   "cell_type": "code",
   "source": [
    "%sql\n",
    "SELECT * FROM events"
   ],
   "metadata": {
    "application/vnd.databricks.v1+cell": {
     "showTitle": false,
     "cellMetadata": {},
     "nuid": "fd591d7a-f576-4ce8-b02a-2c035644f19d",
     "inputWidgets": {},
     "title": ""
    },
    "pycharm": {
     "name": "#%%\n"
    }
   },
   "outputs": [],
   "execution_count": 0
  },
  {
   "cell_type": "markdown",
   "source": [
    "Run the query below and then <a href=\"https://docs.databricks.com/notebooks/visualizations/index.html#plot-types\" target=\"_blank\">plot</a> results by selecting the bar chart icon."
   ],
   "metadata": {
    "application/vnd.databricks.v1+cell": {
     "showTitle": false,
     "cellMetadata": {},
     "nuid": "a9e29a02-64c1-46e7-8fb5-2df0b10aeb3e",
     "inputWidgets": {},
     "title": ""
    },
    "pycharm": {
     "name": "#%% md\n"
    }
   }
  },
  {
   "cell_type": "code",
   "source": [
    "%sql\n",
    "SELECT traffic_source, SUM(ecommerce.purchase_revenue_in_usd) AS total_revenue\n",
    "FROM events\n",
    "GROUP BY traffic_source"
   ],
   "metadata": {
    "application/vnd.databricks.v1+cell": {
     "showTitle": false,
     "cellMetadata": {},
     "nuid": "63a36ebe-4247-4f32-8c17-6f9cae26e493",
     "inputWidgets": {},
     "title": ""
    },
    "pycharm": {
     "name": "#%%\n"
    }
   },
   "outputs": [],
   "execution_count": 0
  },
  {
   "cell_type": "markdown",
   "source": [
    "## Add notebook parameters with widgets\n",
    "Use <a href=\"https://docs.databricks.com/notebooks/widgets.html\" target=\"_blank\">widgets</a> to add input parameters to your notebook.\n",
    "\n",
    "Create a text input widget using SQL."
   ],
   "metadata": {
    "application/vnd.databricks.v1+cell": {
     "showTitle": false,
     "cellMetadata": {},
     "nuid": "493d6033-c945-4a3f-8d37-979d24e9d238",
     "inputWidgets": {},
     "title": ""
    },
    "pycharm": {
     "name": "#%% md\n"
    }
   }
  },
  {
   "cell_type": "code",
   "source": [
    "%sql\n",
    "CREATE WIDGET TEXT state DEFAULT \"CA\""
   ],
   "metadata": {
    "application/vnd.databricks.v1+cell": {
     "showTitle": false,
     "cellMetadata": {},
     "nuid": "744281f2-8cab-4bdb-85dd-600f61e67e40",
     "inputWidgets": {},
     "title": ""
    },
    "pycharm": {
     "name": "#%%\n"
    }
   },
   "outputs": [],
   "execution_count": 0
  },
  {
   "cell_type": "markdown",
   "source": [
    "Access the current value of the widget using the function `getArgument`"
   ],
   "metadata": {
    "application/vnd.databricks.v1+cell": {
     "showTitle": false,
     "cellMetadata": {},
     "nuid": "fdc0759c-ac37-413b-acaf-1c956b4febeb",
     "inputWidgets": {},
     "title": ""
    },
    "pycharm": {
     "name": "#%% md\n"
    }
   }
  },
  {
   "cell_type": "code",
   "source": [
    "%sql\n",
    "SELECT *\n",
    "FROM events\n",
    "WHERE geo.state = getArgument(\"state\")"
   ],
   "metadata": {
    "application/vnd.databricks.v1+cell": {
     "showTitle": false,
     "cellMetadata": {},
     "nuid": "5254b666-7866-4fdd-9165-56722627b220",
     "inputWidgets": {},
     "title": ""
    },
    "pycharm": {
     "name": "#%%\n"
    }
   },
   "outputs": [],
   "execution_count": 0
  },
  {
   "cell_type": "markdown",
   "source": [
    "Remove the text widget"
   ],
   "metadata": {
    "application/vnd.databricks.v1+cell": {
     "showTitle": false,
     "cellMetadata": {},
     "nuid": "6c5480f3-62b6-43ed-8a23-f513ca9d014b",
     "inputWidgets": {},
     "title": ""
    },
    "pycharm": {
     "name": "#%% md\n"
    }
   }
  },
  {
   "cell_type": "code",
   "source": [
    "%sql\n",
    "REMOVE WIDGET state"
   ],
   "metadata": {
    "application/vnd.databricks.v1+cell": {
     "showTitle": false,
     "cellMetadata": {},
     "nuid": "a638e63d-b121-40dc-bba7-c52506cf4225",
     "inputWidgets": {},
     "title": ""
    },
    "pycharm": {
     "name": "#%%\n"
    }
   },
   "outputs": [],
   "execution_count": 0
  },
  {
   "cell_type": "markdown",
   "source": [
    "To create widgets in Python, Scala, and R, use the DBUtils module: `dbutils.widgets`"
   ],
   "metadata": {
    "application/vnd.databricks.v1+cell": {
     "showTitle": false,
     "cellMetadata": {},
     "nuid": "b95921a0-d328-4d7a-8b1d-d290877bc880",
     "inputWidgets": {},
     "title": ""
    },
    "pycharm": {
     "name": "#%% md\n"
    }
   }
  },
  {
   "cell_type": "code",
   "source": [
    "dbutils.widgets.text(\"name\", \"Brickster\", \"Name\")\n",
    "dbutils.widgets.multiselect(\"colors\", \"orange\", [\"red\", \"orange\", \"black\", \"blue\"], \"Traffic Sources\")"
   ],
   "metadata": {
    "application/vnd.databricks.v1+cell": {
     "showTitle": false,
     "cellMetadata": {},
     "nuid": "708c22d9-0083-4bcf-a22d-246a880d9e5d",
     "inputWidgets": {},
     "title": ""
    },
    "pycharm": {
     "name": "#%%\n"
    }
   },
   "outputs": [],
   "execution_count": 0
  },
  {
   "cell_type": "markdown",
   "source": [
    "Access the current value of the widget using the `dbutils.widgets` function `get`"
   ],
   "metadata": {
    "application/vnd.databricks.v1+cell": {
     "showTitle": false,
     "cellMetadata": {},
     "nuid": "3408a4c4-9c95-4e55-946e-5d067aa91c44",
     "inputWidgets": {},
     "title": ""
    },
    "pycharm": {
     "name": "#%% md\n"
    }
   }
  },
  {
   "cell_type": "code",
   "source": [
    "name = dbutils.widgets.get(\"name\")\n",
    "colors = dbutils.widgets.get(\"colors\").split(\",\")\n",
    "\n",
    "html = \"<div>Hi {}! Select your color preference.</div>\".format(name)\n",
    "for c in colors:\n",
    "    html += \"\"\"<label for=\"{}\" style=\"color:{}\"><input type=\"radio\"> {}</label><br>\"\"\".format(c, c, c)\n",
    "\n",
    "displayHTML(html)"
   ],
   "metadata": {
    "application/vnd.databricks.v1+cell": {
     "showTitle": false,
     "cellMetadata": {},
     "nuid": "4150c3d8-a05d-497d-9a25-ead990d784b8",
     "inputWidgets": {},
     "title": ""
    },
    "pycharm": {
     "name": "#%%\n"
    }
   },
   "outputs": [],
   "execution_count": 0
  },
  {
   "cell_type": "markdown",
   "source": [
    "Remove all widgets"
   ],
   "metadata": {
    "application/vnd.databricks.v1+cell": {
     "showTitle": false,
     "cellMetadata": {},
     "nuid": "cc967c7e-563a-4e48-8b05-748d31c8f66c",
     "inputWidgets": {},
     "title": ""
    },
    "pycharm": {
     "name": "#%% md\n"
    }
   }
  },
  {
   "cell_type": "code",
   "source": [
    "dbutils.widgets.removeAll()"
   ],
   "metadata": {
    "application/vnd.databricks.v1+cell": {
     "showTitle": false,
     "cellMetadata": {},
     "nuid": "a45ab813-aa4b-48ad-839b-35f601ea76d1",
     "inputWidgets": {},
     "title": ""
    },
    "pycharm": {
     "name": "#%%\n"
    }
   },
   "outputs": [],
   "execution_count": 0
  },
  {
   "cell_type": "markdown",
   "source": [
    "# Explore Datasets Lab\n",
    "\n",
    "We will use tools introduced in this lesson to explore the datasets used in this course.\n",
    "\n",
    "### BedBricks Case Study\n",
    "This course uses a case study that explores clickstream data for the online mattress retailer, BedBricks.  \n",
    "You are an analyst at BedBricks working with the following datasets: `events`, `sales`, `users`, and `products`.\n",
    "\n",
    "##### Tasks\n",
    "1. View data files in DBFS using magic commands\n",
    "1. View data files in DBFS using dbutils\n",
    "1. Create tables from files in DBFS\n",
    "1. Execute SQL to answer questions on BedBricks datasets"
   ],
   "metadata": {
    "application/vnd.databricks.v1+cell": {
     "showTitle": false,
     "cellMetadata": {},
     "nuid": "172faf8c-899e-458b-b592-9baf671d90eb",
     "inputWidgets": {},
     "title": ""
    },
    "pycharm": {
     "name": "#%% md\n"
    }
   }
  },
  {
   "cell_type": "markdown",
   "source": [
    "### 1. List data files in DBFS using magic commands\n",
    "Use a magic command to display files located in the DBFS directory: **`/mnt/training/ecommerce`**\n",
    "\n",
    "<img src=\"https://files.training.databricks.com/images/icon_hint_32.png\" alt=\"Hint\"> You should see four items: `events`, `products`, `sales`, `users`"
   ],
   "metadata": {
    "application/vnd.databricks.v1+cell": {
     "showTitle": false,
     "cellMetadata": {},
     "nuid": "e057facc-b16e-4dc1-8005-836573d078ed",
     "inputWidgets": {},
     "title": ""
    },
    "pycharm": {
     "name": "#%% md\n"
    }
   }
  },
  {
   "cell_type": "code",
   "source": [
    "# TODO"
   ],
   "metadata": {
    "application/vnd.databricks.v1+cell": {
     "showTitle": false,
     "cellMetadata": {},
     "nuid": "a494ff9f-8aac-4909-934a-4d6968828f20",
     "inputWidgets": {},
     "title": ""
    },
    "pycharm": {
     "name": "#%%\n"
    }
   },
   "outputs": [],
   "execution_count": 0
  },
  {
   "cell_type": "markdown",
   "source": [
    "### 2. List data files in DBFS using dbutils\n",
    "- Use **`dbutils`** to get the files at the directory above and save it to the variable **`files`**\n",
    "- Use the Databricks display() function to display the contents in **`files`**\n",
    "\n",
    "<img src=\"https://files.training.databricks.com/images/icon_hint_32.png\" alt=\"Hint\"> You should see four items: `events`, `items`, `sales`, `users`"
   ],
   "metadata": {
    "application/vnd.databricks.v1+cell": {
     "showTitle": false,
     "cellMetadata": {},
     "nuid": "0a4f5b73-1a30-415f-a939-f7c85e76e6c8",
     "inputWidgets": {},
     "title": ""
    },
    "pycharm": {
     "name": "#%% md\n"
    }
   }
  },
  {
   "cell_type": "code",
   "source": [
    "# TODO\n",
    "files = dbutils.FILL_IN\n",
    "display(files)"
   ],
   "metadata": {
    "application/vnd.databricks.v1+cell": {
     "showTitle": false,
     "cellMetadata": {},
     "nuid": "ca39e2dd-6966-4040-aa52-0e6db9731348",
     "inputWidgets": {},
     "title": ""
    },
    "pycharm": {
     "name": "#%%\n"
    }
   },
   "outputs": [],
   "execution_count": 0
  },
  {
   "cell_type": "markdown",
   "source": [
    "### 3. Create tables below from files in DBFS\n",
    "- Create `users` table using files at location `\"/mnt/training/ecommerce/users/users.parquet\"` \n",
    "- Create `sales` table using files at location `\"/mnt/training/ecommerce/sales/sales.parquet\"` \n",
    "- Create `products` table using files at location `\"/mnt/training/ecommerce/products/products.parquet\"` \n",
    "\n",
    "(We created `events` table earlier using files at location `\"/mnt/training/ecommerce/events/events.parquet\"`)"
   ],
   "metadata": {
    "application/vnd.databricks.v1+cell": {
     "showTitle": false,
     "cellMetadata": {},
     "nuid": "255bc2b8-c844-477d-b7db-2a83221c168f",
     "inputWidgets": {},
     "title": ""
    },
    "pycharm": {
     "name": "#%% md\n"
    }
   }
  },
  {
   "cell_type": "code",
   "source": [
    "# TODO"
   ],
   "metadata": {
    "application/vnd.databricks.v1+cell": {
     "showTitle": false,
     "cellMetadata": {},
     "nuid": "a372479a-6cbd-4fe2-b009-b10127619723",
     "inputWidgets": {},
     "title": ""
    },
    "pycharm": {
     "name": "#%%\n"
    }
   },
   "outputs": [],
   "execution_count": 0
  },
  {
   "cell_type": "markdown",
   "source": [
    "Use the data tab of the workspace UI to confirm your tables were created."
   ],
   "metadata": {
    "application/vnd.databricks.v1+cell": {
     "showTitle": false,
     "cellMetadata": {},
     "nuid": "f122e9e2-6584-4178-a5b2-e6c2001496d5",
     "inputWidgets": {},
     "title": ""
    },
    "pycharm": {
     "name": "#%% md\n"
    }
   }
  },
  {
   "cell_type": "markdown",
   "source": [
    "### 4. Execute SQL to explore BedBricks datasets\n",
    "Run SQL queries on the `products`, `sales`, and `events` tables to answer the following questions. \n",
    "- What products are available for purchase at BedBricks?\n",
    "- What is the average purchase revenue for a transaction at BedBricks?\n",
    "- What types of events are recorded on the BedBricks website?\n",
    "\n",
    "The schema of the relevant dataset is provided for each question in the cells below."
   ],
   "metadata": {
    "application/vnd.databricks.v1+cell": {
     "showTitle": false,
     "cellMetadata": {},
     "nuid": "131815aa-6075-4c81-acad-bafbf7c3f728",
     "inputWidgets": {},
     "title": ""
    },
    "pycharm": {
     "name": "#%% md\n"
    }
   }
  },
  {
   "cell_type": "markdown",
   "source": [
    "#### Q1: What products are available for purchase at BedBricks?\n",
    "\n",
    "The **`products`** dataset contains the ID, name, and price of products on the BedBricks retail site.\n",
    "\n",
    "| field | type | description\n",
    "| --- | --- | --- |\n",
    "| item_id | string | unique item identifier |\n",
    "| name | string | item name in plain text |\n",
    "| price | double | price of item |\n",
    "\n",
    "Execute a SQL query that selects all from the **`products`** table. \n",
    "\n",
    "<img src=\"https://files.training.databricks.com/images/icon_hint_32.png\" alt=\"Hint\"> You should see 12 products."
   ],
   "metadata": {
    "application/vnd.databricks.v1+cell": {
     "showTitle": false,
     "cellMetadata": {},
     "nuid": "6f2507ad-2d53-4b4e-b182-0dd7648bd21d",
     "inputWidgets": {},
     "title": ""
    },
    "pycharm": {
     "name": "#%% md\n"
    }
   }
  },
  {
   "cell_type": "code",
   "source": [
    "# TODO"
   ],
   "metadata": {
    "application/vnd.databricks.v1+cell": {
     "showTitle": false,
     "cellMetadata": {},
     "nuid": "176076ba-ce33-435f-863f-6e2ccd95bacd",
     "inputWidgets": {},
     "title": ""
    },
    "pycharm": {
     "name": "#%%\n"
    }
   },
   "outputs": [],
   "execution_count": 0
  },
  {
   "cell_type": "markdown",
   "source": [
    "#### Q2: What is the average purchase revenue for a transaction at BedBricks?\n",
    "\n",
    "The **`sales`** dataset contains order information representing successfully processed sales.  \n",
    "Most fields correspond directly with fields from the clickstream data associated with a sale finalization event.\n",
    "\n",
    "| field | type | description|\n",
    "| --- | --- | --- |\n",
    "| order_id | long | unique identifier |\n",
    "| email | string | the email address to which sales configuration was sent |\n",
    "| transaction_timestamp | long | timestamp at which the order was processed, recorded in milliseconds since epoch |\n",
    "| total_item_quantity | long | number of individual items in the order |\n",
    "| purchase_revenue_in_usd | double | total revenue from order |\n",
    "| unique_items | long | number of unique products in the order |\n",
    "| items | array | provided as a list of JSON data, which is interpreted by Spark as an array of structs |\n",
    "\n",
    "Execute a SQL query that computes the average **`purchase_revenue_in_usd`** from the **`sales`** table.\n",
    "\n",
    "<img src=\"https://files.training.databricks.com/images/icon_hint_32.png\" alt=\"Hint\"> The result should be `1042.79`."
   ],
   "metadata": {
    "application/vnd.databricks.v1+cell": {
     "showTitle": false,
     "cellMetadata": {},
     "nuid": "eb3a303f-42d2-4e9e-a429-e8d1113da87c",
     "inputWidgets": {},
     "title": ""
    },
    "pycharm": {
     "name": "#%% md\n"
    }
   }
  },
  {
   "cell_type": "code",
   "source": [
    "# TODO"
   ],
   "metadata": {
    "application/vnd.databricks.v1+cell": {
     "showTitle": false,
     "cellMetadata": {},
     "nuid": "c735e1be-95ea-4ad1-ac67-1dc437959b43",
     "inputWidgets": {},
     "title": ""
    },
    "pycharm": {
     "name": "#%%\n"
    }
   },
   "outputs": [],
   "execution_count": 0
  },
  {
   "cell_type": "markdown",
   "source": [
    "#### Q3: What types of events are recorded on the BedBricks website?\n",
    "\n",
    "The **`events`** dataset contains two weeks worth of parsed JSON records, created by consuming updates to an operational database.  \n",
    "Records are received whenever: (1) a new user visits the site, (2) a user provides their email for the first time.\n",
    "\n",
    "| field | type | description|\n",
    "| --- | --- | --- |\n",
    "| device | string | operating system of the user device |\n",
    "| user_id | string | unique identifier for user/session |\n",
    "| user_first_touch_timestamp | long | first time the user was seen in microseconds since epoch |\n",
    "| traffic_source | string | referral source |\n",
    "| geo (city, state) | struct | city and state information derived from IP address |\n",
    "| event_timestamp | long | event time recorded as microseconds since epoch |\n",
    "| event_previous_timestamp | long | time of previous event in microseconds since epoch |\n",
    "| event_name | string | name of events as registered in clickstream tracker |\n",
    "| items (item_id, item_name, price_in_usd, quantity, item_revenue in usd, coupon)| array | an array of structs for each unique item in the user’s cart |\n",
    "| ecommerce (total_item_quantity, unique_items, purchase_revenue_in_usd)  |  struct  | purchase data (this field is only non-null in those events that correspond to a sales finalization) |\n",
    "\n",
    "Execute a SQL query that selects distinct values in **`event_name`** from the **`events`** table\n",
    "\n",
    "<img src=\"https://files.training.databricks.com/images/icon_hint_32.png\" alt=\"Hint\"> You should see 23 distinct **`event_name`** values."
   ],
   "metadata": {
    "application/vnd.databricks.v1+cell": {
     "showTitle": false,
     "cellMetadata": {},
     "nuid": "f9919584-ab39-4d51-a2e2-eeb0298280bc",
     "inputWidgets": {},
     "title": ""
    },
    "pycharm": {
     "name": "#%% md\n"
    }
   }
  },
  {
   "cell_type": "code",
   "source": [
    "# TODO"
   ],
   "metadata": {
    "application/vnd.databricks.v1+cell": {
     "showTitle": false,
     "cellMetadata": {},
     "nuid": "c85206b6-4901-4895-bcb5-3abb4b970ac4",
     "inputWidgets": {},
     "title": ""
    },
    "pycharm": {
     "name": "#%%\n"
    }
   },
   "outputs": [],
   "execution_count": 0
  },
  {
   "cell_type": "markdown",
   "source": [
    "### Clean up classroom"
   ],
   "metadata": {
    "application/vnd.databricks.v1+cell": {
     "showTitle": false,
     "cellMetadata": {},
     "nuid": "7a558f4d-8085-4a13-af27-581cf42b1d53",
     "inputWidgets": {},
     "title": ""
    },
    "pycharm": {
     "name": "#%% md\n"
    }
   }
  },
  {
   "cell_type": "code",
   "source": [
    "%run ./Includes/Classroom-Cleanup"
   ],
   "metadata": {
    "application/vnd.databricks.v1+cell": {
     "showTitle": false,
     "cellMetadata": {},
     "nuid": "823b27e1-3e71-444b-b8ef-ee5ab77f8fc7",
     "inputWidgets": {},
     "title": ""
    },
    "pycharm": {
     "name": "#%%\n"
    }
   },
   "outputs": [],
   "execution_count": 0
  }
 ],
 "metadata": {
  "application/vnd.databricks.v1+notebook": {
   "notebookName": "ASP 1.2 - Databricks Platform",
   "dashboards": [],
   "notebookMetadata": {
    "pythonIndentUnit": 2
   },
   "language": "python",
   "widgets": {},
   "notebookOrigID": 4185566132528427
  }
 },
 "nbformat": 4,
 "nbformat_minor": 0
}