{
 "cells": [
  {
   "cell_type": "markdown",
   "source": [
    "# Spark SQL\n",
    "\n",
    "Demonstrate fundamental concepts in Spark SQL using the DataFrame API.\n",
    "\n",
    "##### Objectives\n",
    "1. Run a SQL query\n",
    "1. Create a DataFrame from a table\n",
    "1. Write the same query using DataFrame transformations\n",
    "1. Trigger computation with DataFrame actions\n",
    "1. Convert between DataFrames and SQL\n",
    "\n",
    "##### Methods\n",
    "- <a href=\"https://spark.apache.org/docs/latest/api/python/reference/pyspark.sql.html#spark-session-apis\" target=\"_blank\">SparkSession</a>: `sql`, `table`\n",
    "- <a href=\"https://spark.apache.org/docs/latest/api/python/reference/api/pyspark.sql.DataFrame.html\" target=\"_blank\">DataFrame</a>:\n",
    "  - Transformations:  `select`, `where`, `orderBy`\n",
    "  - Actions: `show`, `count`, `take`\n",
    "  - Other methods: `printSchema`, `schema`, `createOrReplaceTempView`"
   ],
   "metadata": {
    "application/vnd.databricks.v1+cell": {
     "showTitle": false,
     "cellMetadata": {},
     "nuid": "05a2eac1-e1a0-47c3-a385-4bcf1db54097",
     "inputWidgets": {},
     "title": ""
    },
    "pycharm": {
     "name": "#%% md\n"
    }
   }
  },
  {
   "cell_type": "code",
   "source": [
    "%run ./Includes/Classroom-Setup-SQL"
   ],
   "metadata": {
    "application/vnd.databricks.v1+cell": {
     "showTitle": false,
     "cellMetadata": {},
     "nuid": "105427f2-b864-44a3-a76b-a891c4aa2479",
     "inputWidgets": {},
     "title": ""
    },
    "pycharm": {
     "name": "#%%\n"
    }
   },
   "outputs": [],
   "execution_count": 0
  },
  {
   "cell_type": "markdown",
   "source": [
    "## Multiple Interfaces\n",
    "Spark SQL is a module for structured data processing with multiple interfaces.  \n",
    "\n",
    "We can interact with Spark SQL in two ways:\n",
    "1. Executing SQL queries\n",
    "1. Working with the DataFrame API."
   ],
   "metadata": {
    "application/vnd.databricks.v1+cell": {
     "showTitle": false,
     "cellMetadata": {},
     "nuid": "ff88c70b-32d7-45ef-814c-3e47a0a0cd04",
     "inputWidgets": {},
     "title": ""
    },
    "pycharm": {
     "name": "#%% md\n"
    }
   }
  },
  {
   "cell_type": "markdown",
   "source": [
    "**Method 1: Executing SQL queries**  \n",
    "\n",
    "This is how we interacted with Spark SQL in the previous lesson."
   ],
   "metadata": {
    "application/vnd.databricks.v1+cell": {
     "showTitle": false,
     "cellMetadata": {},
     "nuid": "9e3b1827-2a13-4541-a70b-780879bcfebf",
     "inputWidgets": {},
     "title": ""
    },
    "pycharm": {
     "name": "#%% md\n"
    }
   }
  },
  {
   "cell_type": "code",
   "source": [
    "%sql\n",
    "SELECT name, price\n",
    "FROM products\n",
    "WHERE price < 200\n",
    "ORDER BY price"
   ],
   "metadata": {
    "application/vnd.databricks.v1+cell": {
     "showTitle": false,
     "cellMetadata": {},
     "nuid": "18010dc8-d877-4d08-b00e-4662cc39de81",
     "inputWidgets": {},
     "title": ""
    },
    "pycharm": {
     "name": "#%%\n"
    }
   },
   "outputs": [],
   "execution_count": 0
  },
  {
   "cell_type": "markdown",
   "source": [
    "**Method 2: Working with the DataFrame API**\n",
    "\n",
    "We can also express Spark SQL queries using the DataFrame API.  \n",
    "The following cell returns a DataFrame containing the same results as those retrieved above."
   ],
   "metadata": {
    "application/vnd.databricks.v1+cell": {
     "showTitle": false,
     "cellMetadata": {},
     "nuid": "3e07a7b4-2fec-42a5-89a7-1f0af30a8d0e",
     "inputWidgets": {},
     "title": ""
    },
    "pycharm": {
     "name": "#%% md\n"
    }
   }
  },
  {
   "cell_type": "code",
   "source": [
    "display(spark.table(\"products\")\n",
    "  .select(\"name\", \"price\")\n",
    "  .where(\"price < 200\")\n",
    "  .orderBy(\"price\"))"
   ],
   "metadata": {
    "application/vnd.databricks.v1+cell": {
     "showTitle": false,
     "cellMetadata": {},
     "nuid": "e789cbe6-cc32-41bb-a408-564993cd4af2",
     "inputWidgets": {},
     "title": ""
    },
    "pycharm": {
     "name": "#%%\n"
    }
   },
   "outputs": [],
   "execution_count": 0
  },
  {
   "cell_type": "markdown",
   "source": [
    "We'll go over the syntax for the DataFrame API later in the lesson, but you can see this builder design pattern allows us to chain a sequence of operations very similar to those we find in SQL."
   ],
   "metadata": {
    "application/vnd.databricks.v1+cell": {
     "showTitle": false,
     "cellMetadata": {},
     "nuid": "5b5d4b65-9bbe-43df-bab4-2e8a40f57253",
     "inputWidgets": {},
     "title": ""
    },
    "pycharm": {
     "name": "#%% md\n"
    }
   }
  },
  {
   "cell_type": "markdown",
   "source": [
    "## Query Execution\n",
    "We can express the same query using any interface. The Spark SQL engine generates the same query plan used to optimize and execute on our Spark cluster.\n",
    "\n",
    "![query execution engine](https://files.training.databricks.com/images/aspwd/spark_sql_query_execution_engine.png)\n",
    "\n",
    "<img src=\"https://files.training.databricks.com/images/icon_note_32.png\" alt=\"Note\"> Resilient Distributed Datasets (RDDs) are the low-level representation of datasets processed by a Spark cluster. In early versions of Spark, you had to write <a href=\"https://spark.apache.org/docs/latest/rdd-programming-guide.html\" target=\"_blank\">code manipulating RDDs directly</a>. In modern versions of Spark you should instead use the higher-level DataFrame APIs, which Spark automatically compiles into low-level RDD operations."
   ],
   "metadata": {
    "application/vnd.databricks.v1+cell": {
     "showTitle": false,
     "cellMetadata": {},
     "nuid": "bfab5f47-f5d0-4022-86db-340cf8a124cf",
     "inputWidgets": {},
     "title": ""
    },
    "pycharm": {
     "name": "#%% md\n"
    }
   }
  },
  {
   "cell_type": "markdown",
   "source": [
    "## Spark API Documentation\n",
    "\n",
    "To learn how we work with DataFrames in Spark SQL, let's first look at the Spark API documentation.  \n",
    "The main Spark [documentation](https://spark.apache.org/docs/latest/) page includes links to API docs and helpful guides for each version of Spark.  \n",
    "\n",
    "The [Scala API](https://spark.apache.org/docs/latest/api/scala/org/apache/spark/index.html) and [Python API](https://spark.apache.org/docs/latest/api/python/index.html) are most commonly used, and it's often helpful to reference the documentation for both languages.  \n",
    "Scala docs tend to be more comprehensive, and Python docs tend to have more code examples.\n",
    "\n",
    "#### Navigating Docs for the Spark SQL Module\n",
    "Find the Spark SQL module by navigating to `org.apache.spark.sql` in the Scala API or `pyspark.sql` in the Python API.  \n",
    "The first class we'll explore in this module is the `SparkSession` class. You can find this by entering \"SparkSession\" in the search bar."
   ],
   "metadata": {
    "application/vnd.databricks.v1+cell": {
     "showTitle": false,
     "cellMetadata": {},
     "nuid": "cdc8016a-be57-405e-af21-b8234534a987",
     "inputWidgets": {},
     "title": ""
    },
    "pycharm": {
     "name": "#%% md\n"
    }
   }
  },
  {
   "cell_type": "markdown",
   "source": [
    "## SparkSession\n",
    "The `SparkSession` class is the single entry point to all functionality in Spark using the DataFrame API. \n",
    "\n",
    "In Databricks notebooks, the SparkSession is created for you, stored in a variable called `spark`."
   ],
   "metadata": {
    "application/vnd.databricks.v1+cell": {
     "showTitle": false,
     "cellMetadata": {},
     "nuid": "6d1a125e-da84-4e29-8a7e-0131c756702c",
     "inputWidgets": {},
     "title": ""
    },
    "pycharm": {
     "name": "#%% md\n"
    }
   }
  },
  {
   "cell_type": "code",
   "source": [
    "spark"
   ],
   "metadata": {
    "application/vnd.databricks.v1+cell": {
     "showTitle": false,
     "cellMetadata": {},
     "nuid": "19722db0-6378-46b9-9849-560433611c6e",
     "inputWidgets": {},
     "title": ""
    },
    "pycharm": {
     "name": "#%%\n"
    }
   },
   "outputs": [],
   "execution_count": 0
  },
  {
   "cell_type": "markdown",
   "source": [
    "The example from the beginning of this lesson used the SparkSession method `table` to create a DataFrame from the `products` table. Let's save this in the variable `productsDF`."
   ],
   "metadata": {
    "application/vnd.databricks.v1+cell": {
     "showTitle": false,
     "cellMetadata": {},
     "nuid": "cf05104f-75a5-4098-9acb-1b928d8a3dea",
     "inputWidgets": {},
     "title": ""
    },
    "pycharm": {
     "name": "#%% md\n"
    }
   }
  },
  {
   "cell_type": "code",
   "source": [
    "productsDF = spark.table(\"products\")"
   ],
   "metadata": {
    "application/vnd.databricks.v1+cell": {
     "showTitle": false,
     "cellMetadata": {},
     "nuid": "8eae68a9-8d26-486a-8f94-dc7c3921ac6e",
     "inputWidgets": {},
     "title": ""
    },
    "pycharm": {
     "name": "#%%\n"
    }
   },
   "outputs": [],
   "execution_count": 0
  },
  {
   "cell_type": "markdown",
   "source": [
    "Below are several additional methods we can use to create DataFrames. All of these can be found in the <a href=\"https://spark.apache.org/docs/latest/api/python/reference/api/pyspark.sql.SparkSession.html\" target=\"_blank\">documentation</a> for `SparkSession`.\n",
    "\n",
    "#### `SparkSession` Methods\n",
    "| Method | Description |\n",
    "| --- | --- |\n",
    "| sql | Returns a DataFrame representing the result of the given query | \n",
    "| table | Returns the specified table as a DataFrame |\n",
    "| read | Returns a DataFrameReader that can be used to read data in as a DataFrame |\n",
    "| range | Create a DataFrame with a column containing elements in a range from start to end (exclusive) with step value and number of partitions |\n",
    "| createDataFrame | Creates a DataFrame from a list of tuples, primarily used for testing |"
   ],
   "metadata": {
    "application/vnd.databricks.v1+cell": {
     "showTitle": false,
     "cellMetadata": {},
     "nuid": "d98a97ab-9603-479d-9f79-acdc3bdf90f4",
     "inputWidgets": {},
     "title": ""
    },
    "pycharm": {
     "name": "#%% md\n"
    }
   }
  },
  {
   "cell_type": "markdown",
   "source": [
    "Let's use a SparkSession method to run SQL."
   ],
   "metadata": {
    "application/vnd.databricks.v1+cell": {
     "showTitle": false,
     "cellMetadata": {},
     "nuid": "7e4122b8-372b-43e9-bc0c-5ae7478c34cd",
     "inputWidgets": {},
     "title": ""
    },
    "pycharm": {
     "name": "#%% md\n"
    }
   }
  },
  {
   "cell_type": "code",
   "source": [
    "resultDF = spark.sql(\"\"\"\n",
    "SELECT name, price\n",
    "FROM products\n",
    "WHERE price < 200\n",
    "ORDER BY price\n",
    "\"\"\")\n",
    "\n",
    "display(resultDF)"
   ],
   "metadata": {
    "application/vnd.databricks.v1+cell": {
     "showTitle": false,
     "cellMetadata": {},
     "nuid": "7a70199d-9442-4436-83cf-0b7ad69bec72",
     "inputWidgets": {},
     "title": ""
    },
    "pycharm": {
     "name": "#%%\n"
    }
   },
   "outputs": [],
   "execution_count": 0
  },
  {
   "cell_type": "markdown",
   "source": [
    "## DataFrames\n",
    "Recall that expressing our query using methods in the DataFrame API returns results in a DataFrame. Let's store this in the variable `budgetDF`.\n",
    "\n",
    "A **DataFrame** is a distributed collection of data grouped into named columns."
   ],
   "metadata": {
    "application/vnd.databricks.v1+cell": {
     "showTitle": false,
     "cellMetadata": {},
     "nuid": "611e77a4-bb5a-48c2-ba54-a17842f3f76d",
     "inputWidgets": {},
     "title": ""
    },
    "pycharm": {
     "name": "#%% md\n"
    }
   }
  },
  {
   "cell_type": "code",
   "source": [
    "budgetDF = (spark.table(\"products\")\n",
    "  .select(\"name\", \"price\")\n",
    "  .where(\"price < 200\")\n",
    "  .orderBy(\"price\"))"
   ],
   "metadata": {
    "application/vnd.databricks.v1+cell": {
     "showTitle": false,
     "cellMetadata": {},
     "nuid": "caaf49b5-9e32-46ca-b0cc-aa81b9059957",
     "inputWidgets": {},
     "title": ""
    },
    "pycharm": {
     "name": "#%%\n"
    }
   },
   "outputs": [],
   "execution_count": 0
  },
  {
   "cell_type": "markdown",
   "source": [
    "We can use `display()` to output the results of a dataframe."
   ],
   "metadata": {
    "application/vnd.databricks.v1+cell": {
     "showTitle": false,
     "cellMetadata": {},
     "nuid": "e659f9c0-b061-4d0b-bdf7-c8b61fe534e9",
     "inputWidgets": {},
     "title": ""
    },
    "pycharm": {
     "name": "#%% md\n"
    }
   }
  },
  {
   "cell_type": "code",
   "source": [
    "display(budgetDF)"
   ],
   "metadata": {
    "application/vnd.databricks.v1+cell": {
     "showTitle": false,
     "cellMetadata": {},
     "nuid": "ea5a3237-dc51-4dd1-9347-03c030bea27d",
     "inputWidgets": {},
     "title": ""
    },
    "pycharm": {
     "name": "#%%\n"
    }
   },
   "outputs": [],
   "execution_count": 0
  },
  {
   "cell_type": "markdown",
   "source": [
    "The **schema** defines the column names and types of a dataframe.\n",
    "\n",
    "Access a dataframe's schema using the `schema` attribute."
   ],
   "metadata": {
    "application/vnd.databricks.v1+cell": {
     "showTitle": false,
     "cellMetadata": {},
     "nuid": "061b4bc9-297c-42d6-8187-def3869d4837",
     "inputWidgets": {},
     "title": ""
    },
    "pycharm": {
     "name": "#%% md\n"
    }
   }
  },
  {
   "cell_type": "code",
   "source": [
    "budgetDF.schema"
   ],
   "metadata": {
    "application/vnd.databricks.v1+cell": {
     "showTitle": false,
     "cellMetadata": {},
     "nuid": "2fd647cd-e198-4dad-8281-edbc174e9fb1",
     "inputWidgets": {},
     "title": ""
    },
    "pycharm": {
     "name": "#%%\n"
    }
   },
   "outputs": [],
   "execution_count": 0
  },
  {
   "cell_type": "markdown",
   "source": [
    "View a nicer output for this schema using the `printSchema()` method."
   ],
   "metadata": {
    "application/vnd.databricks.v1+cell": {
     "showTitle": false,
     "cellMetadata": {},
     "nuid": "dacffadc-d366-4223-96f2-110cee0bb3bd",
     "inputWidgets": {},
     "title": ""
    },
    "pycharm": {
     "name": "#%% md\n"
    }
   }
  },
  {
   "cell_type": "code",
   "source": [
    "budgetDF.printSchema()"
   ],
   "metadata": {
    "application/vnd.databricks.v1+cell": {
     "showTitle": false,
     "cellMetadata": {},
     "nuid": "325850e5-039d-4d8f-955f-bc69737c4ac0",
     "inputWidgets": {},
     "title": ""
    },
    "pycharm": {
     "name": "#%%\n"
    }
   },
   "outputs": [],
   "execution_count": 0
  },
  {
   "cell_type": "markdown",
   "source": [
    "## Transformations\n",
    "When we created `budgetDF`, we used a series of DataFrame transformation methods e.g. `select`, `where`, `orderBy`. \n",
    "\n",
    "```\n",
    "productsDF\n",
    "  .select(\"name\", \"price\")\n",
    "  .where(\"price < 200\")\n",
    "  .orderBy(\"price\")\n",
    "```\n",
    "Transformations operate on and return DataFrames, allowing us to chain transformation methods together to construct new DataFrames.  \n",
    "However, these operations can't execute on their own, as transformation methods are **lazily evaluated**. \n",
    "\n",
    "Running the following cell does not trigger any computation."
   ],
   "metadata": {
    "application/vnd.databricks.v1+cell": {
     "showTitle": false,
     "cellMetadata": {},
     "nuid": "d338a08f-3c57-4f8b-9961-af785018b2bb",
     "inputWidgets": {},
     "title": ""
    },
    "pycharm": {
     "name": "#%% md\n"
    }
   }
  },
  {
   "cell_type": "code",
   "source": [
    "(productsDF\n",
    "  .select(\"name\", \"price\")\n",
    "  .where(\"price < 200\")\n",
    "  .orderBy(\"price\"))"
   ],
   "metadata": {
    "application/vnd.databricks.v1+cell": {
     "showTitle": false,
     "cellMetadata": {},
     "nuid": "80461fb1-1d35-4a86-870c-bd004eb9d5c4",
     "inputWidgets": {},
     "title": ""
    },
    "pycharm": {
     "name": "#%%\n"
    }
   },
   "outputs": [],
   "execution_count": 0
  },
  {
   "cell_type": "markdown",
   "source": [
    "## Actions\n",
    "Conversely, DataFrame actions are methods that **trigger computation**.  \n",
    "Actions are needed to trigger the execution of any DataFrame transformations. \n",
    "\n",
    "The `show` action causes the following cell to execute transformations."
   ],
   "metadata": {
    "application/vnd.databricks.v1+cell": {
     "showTitle": false,
     "cellMetadata": {},
     "nuid": "f273ff4a-ad23-4d14-b84f-78f7e36bc3d2",
     "inputWidgets": {},
     "title": ""
    },
    "pycharm": {
     "name": "#%% md\n"
    }
   }
  },
  {
   "cell_type": "code",
   "source": [
    "(productsDF\n",
    "  .select(\"name\", \"price\")\n",
    "  .where(\"price < 200\")\n",
    "  .orderBy(\"price\")\n",
    "  .show())"
   ],
   "metadata": {
    "application/vnd.databricks.v1+cell": {
     "showTitle": false,
     "cellMetadata": {},
     "nuid": "441fa6a3-9f91-4ef1-a374-3858fd6d8558",
     "inputWidgets": {},
     "title": ""
    },
    "pycharm": {
     "name": "#%%\n"
    }
   },
   "outputs": [],
   "execution_count": 0
  },
  {
   "cell_type": "markdown",
   "source": [
    "Below are several examples of <a href=\"https://spark.apache.org/docs/latest/api/python/reference/pyspark.sql.html#dataframe-apis\" target=\"_blank\">DataFrame</a> actions.\n",
    "\n",
    "### DataFrame Action Methods\n",
    "| Method | Description |\n",
    "| --- | --- |\n",
    "| show | Displays the top n rows of DataFrame in a tabular form |\n",
    "| count | Returns the number of rows in the DataFrame |\n",
    "| describe,  summary | Computes basic statistics for numeric and string columns |\n",
    "| first, head | Returns the the first row |\n",
    "| collect | Returns an array that contains all rows in this DataFrame |\n",
    "| take | Returns an array of the first n rows in the DataFrame |"
   ],
   "metadata": {
    "application/vnd.databricks.v1+cell": {
     "showTitle": false,
     "cellMetadata": {},
     "nuid": "7f73bc0c-37c3-481e-94da-bfe9b193614c",
     "inputWidgets": {},
     "title": ""
    },
    "pycharm": {
     "name": "#%% md\n"
    }
   }
  },
  {
   "cell_type": "markdown",
   "source": [
    "`count` returns the number of records in a DataFrame."
   ],
   "metadata": {
    "application/vnd.databricks.v1+cell": {
     "showTitle": false,
     "cellMetadata": {},
     "nuid": "268f42d7-feac-4cb1-8b54-03beb37e9d3b",
     "inputWidgets": {},
     "title": ""
    },
    "pycharm": {
     "name": "#%% md\n"
    }
   }
  },
  {
   "cell_type": "code",
   "source": [
    "budgetDF.count()"
   ],
   "metadata": {
    "application/vnd.databricks.v1+cell": {
     "showTitle": false,
     "cellMetadata": {},
     "nuid": "3db86916-1171-46e5-bb51-5674d34597e7",
     "inputWidgets": {},
     "title": ""
    },
    "pycharm": {
     "name": "#%%\n"
    }
   },
   "outputs": [],
   "execution_count": 0
  },
  {
   "cell_type": "markdown",
   "source": [
    "`collect` returns an array of all rows in a DataFrame."
   ],
   "metadata": {
    "application/vnd.databricks.v1+cell": {
     "showTitle": false,
     "cellMetadata": {},
     "nuid": "e2a97cfb-b046-4e1b-8eaa-2a6f816c4b87",
     "inputWidgets": {},
     "title": ""
    },
    "pycharm": {
     "name": "#%% md\n"
    }
   }
  },
  {
   "cell_type": "code",
   "source": [
    "budgetDF.collect() "
   ],
   "metadata": {
    "application/vnd.databricks.v1+cell": {
     "showTitle": false,
     "cellMetadata": {},
     "nuid": "7b46e0d2-d8a7-4100-9a54-30b665b8b832",
     "inputWidgets": {},
     "title": ""
    },
    "pycharm": {
     "name": "#%%\n"
    }
   },
   "outputs": [],
   "execution_count": 0
  },
  {
   "cell_type": "markdown",
   "source": [
    "## Convert between DataFrames and SQL"
   ],
   "metadata": {
    "application/vnd.databricks.v1+cell": {
     "showTitle": false,
     "cellMetadata": {},
     "nuid": "a09ba136-1d0d-4a1f-b143-e92ff743771f",
     "inputWidgets": {},
     "title": ""
    },
    "pycharm": {
     "name": "#%% md\n"
    }
   }
  },
  {
   "cell_type": "markdown",
   "source": [
    "`createOrReplaceTempView` creates a temporary view based on the DataFrame. The lifetime of the temporary view is tied to the SparkSession that was used to create the DataFrame."
   ],
   "metadata": {
    "application/vnd.databricks.v1+cell": {
     "showTitle": false,
     "cellMetadata": {},
     "nuid": "d4f96d5a-7088-4771-b172-25e84b43420b",
     "inputWidgets": {},
     "title": ""
    },
    "pycharm": {
     "name": "#%% md\n"
    }
   }
  },
  {
   "cell_type": "code",
   "source": [
    "budgetDF.createOrReplaceTempView(\"budget\")"
   ],
   "metadata": {
    "application/vnd.databricks.v1+cell": {
     "showTitle": false,
     "cellMetadata": {},
     "nuid": "9d1ac1f7-d527-4dce-a2cc-0640196ef21a",
     "inputWidgets": {},
     "title": ""
    },
    "pycharm": {
     "name": "#%%\n"
    }
   },
   "outputs": [],
   "execution_count": 0
  },
  {
   "cell_type": "code",
   "source": [
    "display(spark.sql(\"SELECT * FROM budget\"))"
   ],
   "metadata": {
    "application/vnd.databricks.v1+cell": {
     "showTitle": false,
     "cellMetadata": {},
     "nuid": "a59326e6-e27d-46db-9612-7fab838d79ff",
     "inputWidgets": {},
     "title": ""
    },
    "pycharm": {
     "name": "#%%\n"
    }
   },
   "outputs": [],
   "execution_count": 0
  },
  {
   "cell_type": "markdown",
   "source": [
    "# Spark SQL Lab\n",
    "\n",
    "##### Tasks\n",
    "1. Create a DataFrame from the `events` table\n",
    "1. Display the DataFrame and inspect its schema\n",
    "1. Apply transformations to filter and sort `macOS` events\n",
    "1. Count results and take the first 5 rows\n",
    "1. Create the same DataFrame using a SQL query\n",
    "\n",
    "##### Methods\n",
    "- <a href=\"https://spark.apache.org/docs/latest/api/python/reference/api/pyspark.sql.SparkSession.html?highlight=sparksession\" target=\"_blank\">SparkSession</a>: `sql`, `table`\n",
    "- <a href=\"https://spark.apache.org/docs/latest/api/python/reference/api/pyspark.sql.DataFrame.html\" target=\"_blank\">DataFrame</a> transformations: `select`, `where`, `orderBy`\n",
    "- <a href=\"https://spark.apache.org/docs/latest/api/python/reference/api/pyspark.sql.DataFrame.html\" target=\"_blank\">DataFrame</a> actions: `select`, `count`, `take`\n",
    "- Other <a href=\"https://spark.apache.org/docs/latest/api/python/reference/api/pyspark.sql.DataFrame.html\" target=\"_blank\">DataFrame</a> methods: `printSchema`, `schema`, `createOrReplaceTempView`"
   ],
   "metadata": {
    "application/vnd.databricks.v1+cell": {
     "showTitle": false,
     "cellMetadata": {},
     "nuid": "55c722ce-9613-4214-b727-8fa04bf10667",
     "inputWidgets": {},
     "title": ""
    },
    "pycharm": {
     "name": "#%% md\n"
    }
   }
  },
  {
   "cell_type": "markdown",
   "source": [
    "### 1. Create a DataFrame from the `events` table\n",
    "- Use SparkSession to create a DataFrame from the `events` table"
   ],
   "metadata": {
    "application/vnd.databricks.v1+cell": {
     "showTitle": false,
     "cellMetadata": {},
     "nuid": "51b97c6a-b946-474c-b641-6318b4dd86bf",
     "inputWidgets": {},
     "title": ""
    },
    "pycharm": {
     "name": "#%% md\n"
    }
   }
  },
  {
   "cell_type": "code",
   "source": [
    "# TODO\n",
    "eventsDF = FILL_IN"
   ],
   "metadata": {
    "application/vnd.databricks.v1+cell": {
     "showTitle": false,
     "cellMetadata": {},
     "nuid": "4965b30a-5a62-468b-a4ba-7b5c5e545cf4",
     "inputWidgets": {},
     "title": ""
    },
    "pycharm": {
     "name": "#%%\n"
    }
   },
   "outputs": [],
   "execution_count": 0
  },
  {
   "cell_type": "markdown",
   "source": [
    "### 2. Display DataFrame and inspect schema\n",
    "- Use methods above to inspect DataFrame contents and schema"
   ],
   "metadata": {
    "application/vnd.databricks.v1+cell": {
     "showTitle": false,
     "cellMetadata": {},
     "nuid": "1e0891ab-17dd-443e-8251-ff2068381243",
     "inputWidgets": {},
     "title": ""
    },
    "pycharm": {
     "name": "#%% md\n"
    }
   }
  },
  {
   "cell_type": "code",
   "source": [
    "# TODO"
   ],
   "metadata": {
    "application/vnd.databricks.v1+cell": {
     "showTitle": false,
     "cellMetadata": {},
     "nuid": "1f203288-7ba5-4667-b67d-3e62521fce98",
     "inputWidgets": {},
     "title": ""
    },
    "pycharm": {
     "name": "#%%\n"
    }
   },
   "outputs": [],
   "execution_count": 0
  },
  {
   "cell_type": "markdown",
   "source": [
    "### 3. Apply transformations to filter and sort `macOS` events\n",
    "- Filter for rows where `device` is `macOS`\n",
    "- Sort rows by `event_timestamp`\n",
    "\n",
    "<img src=\"https://files.training.databricks.com/images/icon_hint_32.png\" alt=\"Hint\"> Use single and double quotes in your filter SQL expression"
   ],
   "metadata": {
    "application/vnd.databricks.v1+cell": {
     "showTitle": false,
     "cellMetadata": {},
     "nuid": "06c993ef-0d0b-474f-a12d-56cf8297e90c",
     "inputWidgets": {},
     "title": ""
    },
    "pycharm": {
     "name": "#%% md\n"
    }
   }
  },
  {
   "cell_type": "code",
   "source": [
    "# TODO\n",
    "macDF = (eventsDF\n",
    "         .FILL_IN\n",
    ")"
   ],
   "metadata": {
    "application/vnd.databricks.v1+cell": {
     "showTitle": false,
     "cellMetadata": {},
     "nuid": "c77a4904-292b-4ebd-a2de-d9175c222655",
     "inputWidgets": {},
     "title": ""
    },
    "pycharm": {
     "name": "#%%\n"
    }
   },
   "outputs": [],
   "execution_count": 0
  },
  {
   "cell_type": "markdown",
   "source": [
    "### 4. Count results and take first 5 rows\n",
    "- Use DataFrame actions to count and take rows"
   ],
   "metadata": {
    "application/vnd.databricks.v1+cell": {
     "showTitle": false,
     "cellMetadata": {},
     "nuid": "b68a44a5-53b0-4fc2-b202-ef6e3d0c50a1",
     "inputWidgets": {},
     "title": ""
    },
    "pycharm": {
     "name": "#%% md\n"
    }
   }
  },
  {
   "cell_type": "code",
   "source": [
    "# TODO\n",
    "numRows = macDF.FILL_IN\n",
    "rows = macDF.FILL_IN"
   ],
   "metadata": {
    "application/vnd.databricks.v1+cell": {
     "showTitle": false,
     "cellMetadata": {},
     "nuid": "8d4ba93e-1caa-4055-941e-91b1e6ca9847",
     "inputWidgets": {},
     "title": ""
    },
    "pycharm": {
     "name": "#%%\n"
    }
   },
   "outputs": [],
   "execution_count": 0
  },
  {
   "cell_type": "markdown",
   "source": [
    "**CHECK YOUR WORK**"
   ],
   "metadata": {
    "application/vnd.databricks.v1+cell": {
     "showTitle": false,
     "cellMetadata": {},
     "nuid": "fb2e57af-a4ea-4eb9-8726-58b22d9204e2",
     "inputWidgets": {},
     "title": ""
    },
    "pycharm": {
     "name": "#%% md\n"
    }
   }
  },
  {
   "cell_type": "code",
   "source": [
    "from pyspark.sql import Row\n",
    "\n",
    "assert(numRows == 1938215)\n",
    "assert(len(rows) == 5)\n",
    "assert(type(rows[0]) == Row)"
   ],
   "metadata": {
    "application/vnd.databricks.v1+cell": {
     "showTitle": false,
     "cellMetadata": {},
     "nuid": "2c2ae39e-3bf4-4491-bc19-00161ceb2248",
     "inputWidgets": {},
     "title": ""
    },
    "pycharm": {
     "name": "#%%\n"
    }
   },
   "outputs": [],
   "execution_count": 0
  },
  {
   "cell_type": "markdown",
   "source": [
    "### 5. Create the same DataFrame using SQL query\n",
    "- Use SparkSession to run a SQL query on the `events` table\n",
    "- Use SQL commands to write the same filter and sort query used earlier"
   ],
   "metadata": {
    "application/vnd.databricks.v1+cell": {
     "showTitle": false,
     "cellMetadata": {},
     "nuid": "86ea54e3-40f5-4511-86ae-3404266ef584",
     "inputWidgets": {},
     "title": ""
    },
    "pycharm": {
     "name": "#%% md\n"
    }
   }
  },
  {
   "cell_type": "code",
   "source": [
    "# TODO\n",
    "macSQLDF = spark.FILL_IN\n",
    "\n",
    "display(macSQLDF)"
   ],
   "metadata": {
    "application/vnd.databricks.v1+cell": {
     "showTitle": false,
     "cellMetadata": {},
     "nuid": "588ff533-dd5d-4ed6-bb40-972b21859d07",
     "inputWidgets": {},
     "title": ""
    },
    "pycharm": {
     "name": "#%%\n"
    }
   },
   "outputs": [],
   "execution_count": 0
  },
  {
   "cell_type": "markdown",
   "source": [
    "**CHECK YOUR WORK**\n",
    "- You should only see `macOS` values in the `device` column\n",
    "- The fifth row should be an event with timestamp `1592539226602157`"
   ],
   "metadata": {
    "application/vnd.databricks.v1+cell": {
     "showTitle": false,
     "cellMetadata": {},
     "nuid": "944439af-82fe-4fe3-9627-a4226d3c2a38",
     "inputWidgets": {},
     "title": ""
    },
    "pycharm": {
     "name": "#%% md\n"
    }
   }
  },
  {
   "cell_type": "code",
   "source": [
    "verify_rows = macSQLDF.take(5)\n",
    "assert (macSQLDF.select(\"device\").distinct().count() == 1 and len(verify_rows) == 5 and verify_rows[0]['device'] == \"macOS\"), \"Incorrect filter condition\"\n",
    "assert (verify_rows[4]['event_timestamp'] == 1592539226602157), \"Incorrect sorting\"\n",
    "del verify_rows"
   ],
   "metadata": {
    "application/vnd.databricks.v1+cell": {
     "showTitle": false,
     "cellMetadata": {},
     "nuid": "322ecd3c-1fcc-4cdf-9c44-9ecd52fc20d2",
     "inputWidgets": {},
     "title": ""
    },
    "pycharm": {
     "name": "#%%\n"
    }
   },
   "outputs": [],
   "execution_count": 0
  },
  {
   "cell_type": "markdown",
   "source": [
    "### Classroom Cleanup"
   ],
   "metadata": {
    "application/vnd.databricks.v1+cell": {
     "showTitle": false,
     "cellMetadata": {},
     "nuid": "192d79bf-e6e7-49e8-a835-104e519dbdf3",
     "inputWidgets": {},
     "title": ""
    },
    "pycharm": {
     "name": "#%% md\n"
    }
   }
  },
  {
   "cell_type": "code",
   "source": [
    "%run ./Includes/Classroom-Cleanup"
   ],
   "metadata": {
    "application/vnd.databricks.v1+cell": {
     "showTitle": false,
     "cellMetadata": {},
     "nuid": "6382e99d-9af8-40b8-9aad-bfc1223e12c0",
     "inputWidgets": {},
     "title": ""
    },
    "pycharm": {
     "name": "#%%\n"
    }
   },
   "outputs": [],
   "execution_count": 0
  }
 ],
 "metadata": {
  "application/vnd.databricks.v1+notebook": {
   "notebookName": "ASP 1.3 - Spark SQL",
   "dashboards": [],
   "notebookMetadata": {
    "pythonIndentUnit": 2
   },
   "language": "python",
   "widgets": {},
   "notebookOrigID": 4185566132527105
  }
 },
 "nbformat": 4,
 "nbformat_minor": 0
}