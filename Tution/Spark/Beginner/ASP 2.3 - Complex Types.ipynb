{
 "cells": [
  {
   "cell_type": "markdown",
   "source": [
    "# Complex Types\n",
    "\n",
    "Explore built-in functions for working with collections and strings.\n",
    "\n",
    "##### Objectives\n",
    "1. Apply collection functions to process arrays\n",
    "1. Union DataFrames together\n",
    "\n",
    "##### Methods\n",
    "- <a href=\"https://spark.apache.org/docs/latest/api/python/reference/api/pyspark.sql.DataFrame.html\" target=\"_blank\">DataFrame</a>: `unionByName`\n",
    "- <a href=\"https://spark.apache.org/docs/latest/api/python/reference/pyspark.sql.html?#functions\" target=\"_blank\">Built-In Functions</a>:\n",
    "  - Aggregate: `collect_set`\n",
    "  - Collection: `array_contains`, `element_at`, `explode`\n",
    "  - String: `split`"
   ],
   "metadata": {
    "application/vnd.databricks.v1+cell": {
     "showTitle": false,
     "cellMetadata": {},
     "nuid": "86c4270d-4152-4034-ae71-4233fd8e020c",
     "inputWidgets": {},
     "title": ""
    },
    "pycharm": {
     "name": "#%% md\n"
    }
   }
  },
  {
   "cell_type": "code",
   "source": [
    "%run ./Includes/Classroom-Setup"
   ],
   "metadata": {
    "application/vnd.databricks.v1+cell": {
     "showTitle": false,
     "cellMetadata": {},
     "nuid": "39ed801f-795d-4c3f-bada-0e4edc268d51",
     "inputWidgets": {},
     "title": ""
    },
    "pycharm": {
     "name": "#%%\n"
    }
   },
   "outputs": [],
   "execution_count": 0
  },
  {
   "cell_type": "markdown",
   "source": [
    "In this demo, we're going to use the sales data set."
   ],
   "metadata": {
    "application/vnd.databricks.v1+cell": {
     "showTitle": false,
     "cellMetadata": {},
     "nuid": "a45c95dc-57fd-4347-baa0-a4044281755d",
     "inputWidgets": {},
     "title": ""
    },
    "pycharm": {
     "name": "#%% md\n"
    }
   }
  },
  {
   "cell_type": "code",
   "source": [
    "df = spark.read.parquet(salesPath)\n",
    "display(df)"
   ],
   "metadata": {
    "application/vnd.databricks.v1+cell": {
     "showTitle": false,
     "cellMetadata": {},
     "nuid": "f8a321c2-a892-403b-9117-0cc139592ac5",
     "inputWidgets": {},
     "title": ""
    },
    "pycharm": {
     "name": "#%%\n"
    }
   },
   "outputs": [],
   "execution_count": 0
  },
  {
   "cell_type": "markdown",
   "source": [
    "### String Functions\n",
    "Here are some of the built-in functions available for manipulating strings.\n",
    "\n",
    "| Method | Description |\n",
    "| --- | --- |\n",
    "| translate | Translate any character in the src by a character in replaceString |\n",
    "| regexp_replace | Replace all substrings of the specified string value that match regexp with rep |\n",
    "| regexp_extract | Extract a specific group matched by a Java regex, from the specified string column |\n",
    "| ltrim | Removes the leading space characters from the specified string column |\n",
    "| lower | Converts a string column to lowercase |\n",
    "| split | Splits str around matches of the given pattern |"
   ],
   "metadata": {
    "application/vnd.databricks.v1+cell": {
     "showTitle": false,
     "cellMetadata": {},
     "nuid": "233d61e1-ba1e-4e86-8663-517ebf4eb613",
     "inputWidgets": {},
     "title": ""
    },
    "pycharm": {
     "name": "#%% md\n"
    }
   }
  },
  {
   "cell_type": "markdown",
   "source": [
    "### Collection Functions\n",
    "\n",
    "Here are some of the built-in functions available for working with arrays.\n",
    "\n",
    "| Method | Description |\n",
    "| --- | --- |\n",
    "| array_contains | Returns null if the array is null, true if the array contains value, and false otherwise. |\n",
    "| element_at | Returns element of array at given index. Array elements are numbered starting with **1**. |\n",
    "| explode | Creates a new row for each element in the given array or map column. |\n",
    "| collect_set | Returns a set of objects with duplicate elements eliminated. |"
   ],
   "metadata": {
    "application/vnd.databricks.v1+cell": {
     "showTitle": false,
     "cellMetadata": {},
     "nuid": "6391f47b-6b70-48c6-8dfb-f641ee6eefed",
     "inputWidgets": {},
     "title": ""
    },
    "pycharm": {
     "name": "#%% md\n"
    }
   }
  },
  {
   "cell_type": "markdown",
   "source": [
    "### Aggregate Functions\n",
    "\n",
    "Here are some of the built-in aggregate functions available for creating arrays, typically from GroupedData.\n",
    "\n",
    "| Method | Description |\n",
    "| --- | --- |\n",
    "| collect_list | Returns an array consisting of all values within the group. |\n",
    "| collect_set | Returns an array consisting of all unique values within the group. |"
   ],
   "metadata": {
    "application/vnd.databricks.v1+cell": {
     "showTitle": false,
     "cellMetadata": {},
     "nuid": "33799ea5-93a3-4b69-8268-22e776e36c42",
     "inputWidgets": {},
     "title": ""
    },
    "pycharm": {
     "name": "#%% md\n"
    }
   }
  },
  {
   "cell_type": "markdown",
   "source": [
    "# User Purchases\n",
    "\n",
    "List all size and quality options purchased by each buyer.\n",
    "1. Extract item details from purchases\n",
    "2. Extract size and quality options from mattress purchases\n",
    "3. Extract size and quality options from pillow purchases\n",
    "4. Combine data for mattress and pillows\n",
    "5. List all size and quality options bought by each user"
   ],
   "metadata": {
    "application/vnd.databricks.v1+cell": {
     "showTitle": false,
     "cellMetadata": {},
     "nuid": "29b94680-4194-4f29-9235-a0d62f988ec1",
     "inputWidgets": {},
     "title": ""
    },
    "pycharm": {
     "name": "#%% md\n"
    }
   }
  },
  {
   "cell_type": "markdown",
   "source": [
    "### 1. Extract item details from purchases\n",
    "\n",
    "- Explode the **`items`** field in **`df`** with the results replacing the existing **`items`** field\n",
    "- Select the **`email`** and **`item.item_name`** fields\n",
    "- Split the words in **`item_name`** into an array and alias the column to \"details\"\n",
    "\n",
    "Assign the resulting DataFrame to **`detailsDF`**."
   ],
   "metadata": {
    "application/vnd.databricks.v1+cell": {
     "showTitle": false,
     "cellMetadata": {},
     "nuid": "a9d9617b-b8a6-47ad-b21c-c6f24dfc70e6",
     "inputWidgets": {},
     "title": ""
    },
    "pycharm": {
     "name": "#%% md\n"
    }
   }
  },
  {
   "cell_type": "code",
   "source": [
    "from pyspark.sql.functions import *\n",
    "\n",
    "detailsDF = (df\n",
    "             .withColumn(\"items\", explode(\"items\"))\n",
    "             .select(\"email\", \"items.item_name\")\n",
    "             .withColumn(\"details\", split(col(\"item_name\"), \" \"))\n",
    "            )\n",
    "display(detailsDF)"
   ],
   "metadata": {
    "application/vnd.databricks.v1+cell": {
     "showTitle": false,
     "cellMetadata": {},
     "nuid": "93947a79-c886-4be1-bb44-b789c36cedf5",
     "inputWidgets": {},
     "title": ""
    },
    "pycharm": {
     "name": "#%%\n"
    }
   },
   "outputs": [],
   "execution_count": 0
  },
  {
   "cell_type": "markdown",
   "source": [
    "So you can see that our **`details`** column is now an array containing the quality, size, and object type."
   ],
   "metadata": {
    "application/vnd.databricks.v1+cell": {
     "showTitle": false,
     "cellMetadata": {},
     "nuid": "35d8e57f-a3ef-4d1c-8a76-04fa854bdd1a",
     "inputWidgets": {},
     "title": ""
    },
    "pycharm": {
     "name": "#%% md\n"
    }
   }
  },
  {
   "cell_type": "markdown",
   "source": [
    "### 2. Extract size and quality options from mattress purchases\n",
    "\n",
    "- Filter **`detailsDF`** for records where **`details`** contains \"Mattress\"\n",
    "- Add a **`size`** column by extracting the element at position 2\n",
    "- Add a **`quality`** column by extracting the element at position 1\n",
    "\n",
    "Save the result as **`mattressDF`**."
   ],
   "metadata": {
    "application/vnd.databricks.v1+cell": {
     "showTitle": false,
     "cellMetadata": {},
     "nuid": "49115536-f283-4b4e-b395-632d1db21a94",
     "inputWidgets": {},
     "title": ""
    },
    "pycharm": {
     "name": "#%% md\n"
    }
   }
  },
  {
   "cell_type": "code",
   "source": [
    "mattressDF = (detailsDF\n",
    "              .filter(array_contains(col(\"details\"), \"Mattress\"))\n",
    "              .withColumn(\"size\", element_at(col(\"details\"), 2))\n",
    "              .withColumn(\"quality\", element_at(col(\"details\"), 1))\n",
    "             )\n",
    "display(mattressDF)"
   ],
   "metadata": {
    "application/vnd.databricks.v1+cell": {
     "showTitle": false,
     "cellMetadata": {},
     "nuid": "53620670-c84a-410f-ad53-ae51662e4e81",
     "inputWidgets": {},
     "title": ""
    },
    "pycharm": {
     "name": "#%%\n"
    }
   },
   "outputs": [],
   "execution_count": 0
  },
  {
   "cell_type": "markdown",
   "source": [
    "Next we're going to do the same thing for pillow purchases."
   ],
   "metadata": {
    "application/vnd.databricks.v1+cell": {
     "showTitle": false,
     "cellMetadata": {},
     "nuid": "063c4207-b710-40c6-ac0e-312800fedc29",
     "inputWidgets": {},
     "title": ""
    },
    "pycharm": {
     "name": "#%% md\n"
    }
   }
  },
  {
   "cell_type": "markdown",
   "source": [
    "### 3. Extract size and quality options from pillow purchases\n",
    "- Filter **`detailsDF`** for records where **`details`** contains \"Pillow\"\n",
    "- Add a **`size`** column by extracting the element at position 1\n",
    "- Add a **`quality`** column by extracting the element at position 2\n",
    "\n",
    "Note the positions of **`size`** and **`quality`** are switched for mattresses and pillows.\n",
    "\n",
    "Save result as **`pillowDF`**."
   ],
   "metadata": {
    "application/vnd.databricks.v1+cell": {
     "showTitle": false,
     "cellMetadata": {},
     "nuid": "c4f89108-f859-4ddc-8278-47a1ebab6e01",
     "inputWidgets": {},
     "title": ""
    },
    "pycharm": {
     "name": "#%% md\n"
    }
   }
  },
  {
   "cell_type": "code",
   "source": [
    "pillowDF = (detailsDF\n",
    "            .filter(array_contains(col(\"details\"), \"Pillow\"))\n",
    "            .withColumn(\"size\", element_at(col(\"details\"), 1))\n",
    "            .withColumn(\"quality\", element_at(col(\"details\"), 2))\n",
    "           )\n",
    "display(pillowDF)"
   ],
   "metadata": {
    "application/vnd.databricks.v1+cell": {
     "showTitle": false,
     "cellMetadata": {},
     "nuid": "b2651067-c178-4758-aa8c-6705fad1a588",
     "inputWidgets": {},
     "title": ""
    },
    "pycharm": {
     "name": "#%%\n"
    }
   },
   "outputs": [],
   "execution_count": 0
  },
  {
   "cell_type": "markdown",
   "source": [
    "### 4. Combine data for mattress and pillows\n",
    "\n",
    "- Perform a union on **`mattressDF`** and **`pillowDF`** by column names\n",
    "- Drop the **`details`** column\n",
    "\n",
    "Save the result as **`unionDF`**.\n",
    "\n",
    "<img src=\"https://files.training.databricks.com/images/icon_warn_32.png\" alt=\"Warning\"> The DataFrame <a href=\"https://spark.apache.org/docs/latest/api/python/reference/api/pyspark.sql.DataFrame.union.html\" target=\"_blank\">`union`</a> method resolves columns by position, as in standard SQL. You should use it only if the two DataFrames have exactly the same schema, including the column order. In contrast, the DataFrame <a href=\"https://spark.apache.org/docs/latest/api/python/reference/api/pyspark.sql.DataFrame.unionByName.html\" target=\"_blank\">`unionByName`</a> method resolves columns by name."
   ],
   "metadata": {
    "application/vnd.databricks.v1+cell": {
     "showTitle": false,
     "cellMetadata": {},
     "nuid": "e8c7d938-b36f-4564-a22f-f17a5b636093",
     "inputWidgets": {},
     "title": ""
    },
    "pycharm": {
     "name": "#%% md\n"
    }
   }
  },
  {
   "cell_type": "code",
   "source": [
    "unionDF = mattressDF.unionByName(pillowDF).drop(\"details\")\n",
    "display(unionDF)"
   ],
   "metadata": {
    "application/vnd.databricks.v1+cell": {
     "showTitle": false,
     "cellMetadata": {},
     "nuid": "4de2a742-c5b4-4af2-979a-a1ddac02d730",
     "inputWidgets": {},
     "title": ""
    },
    "pycharm": {
     "name": "#%%\n"
    }
   },
   "outputs": [],
   "execution_count": 0
  },
  {
   "cell_type": "markdown",
   "source": [
    "### 5. List all size and quality options bought by each user\n",
    "\n",
    "- Group rows in **`unionDF`** by **`email`**\n",
    "  - Collect the set of all items in **`size`** for each user and alias the column to \"size options\"\n",
    "  - Collect the set of all items in **`quality`** for each user and alias the column to \"quality options\"\n",
    "\n",
    "Save the result as **`optionsDF`**."
   ],
   "metadata": {
    "application/vnd.databricks.v1+cell": {
     "showTitle": false,
     "cellMetadata": {},
     "nuid": "e776266f-adf7-4e77-886c-7614e9306e74",
     "inputWidgets": {},
     "title": ""
    },
    "pycharm": {
     "name": "#%% md\n"
    }
   }
  },
  {
   "cell_type": "code",
   "source": [
    "optionsDF = (unionDF\n",
    "             .groupBy(\"email\")\n",
    "             .agg(collect_set(\"size\").alias(\"size options\"),\n",
    "                  collect_set(\"quality\").alias(\"quality options\"))\n",
    "            )\n",
    "display(optionsDF)"
   ],
   "metadata": {
    "application/vnd.databricks.v1+cell": {
     "showTitle": false,
     "cellMetadata": {},
     "nuid": "878763c0-931e-4fe2-ab9b-feb7380aaf55",
     "inputWidgets": {},
     "title": ""
    },
    "pycharm": {
     "name": "#%%\n"
    }
   },
   "outputs": [],
   "execution_count": 0
  },
  {
   "cell_type": "markdown",
   "source": [
    "### Clean up classroom\n",
    "\n",
    "And lastly, we'll clean up the classroom."
   ],
   "metadata": {
    "application/vnd.databricks.v1+cell": {
     "showTitle": false,
     "cellMetadata": {},
     "nuid": "095825a3-2272-4b11-993d-0ff75e72de34",
     "inputWidgets": {},
     "title": ""
    },
    "pycharm": {
     "name": "#%% md\n"
    }
   }
  },
  {
   "cell_type": "code",
   "source": [
    "%run ./Includes/Classroom-Cleanup"
   ],
   "metadata": {
    "application/vnd.databricks.v1+cell": {
     "showTitle": false,
     "cellMetadata": {},
     "nuid": "fb40e4a0-2c28-4022-a5fb-4b910bbcf08a",
     "inputWidgets": {},
     "title": ""
    },
    "pycharm": {
     "name": "#%%\n"
    }
   },
   "outputs": [],
   "execution_count": 0
  }
 ],
 "metadata": {
  "application/vnd.databricks.v1+notebook": {
   "notebookName": "ASP 2.3 - Complex Types",
   "dashboards": [],
   "notebookMetadata": {
    "pythonIndentUnit": 2
   },
   "language": "python",
   "widgets": {},
   "notebookOrigID": 4185566132527261
  }
 },
 "nbformat": 4,
 "nbformat_minor": 0
}