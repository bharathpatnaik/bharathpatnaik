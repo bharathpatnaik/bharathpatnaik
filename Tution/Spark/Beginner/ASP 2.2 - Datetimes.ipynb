{
 "cells": [
  {
   "cell_type": "markdown",
   "source": [
    "# Datetime Functions\n",
    "\n",
    "##### Objectives\n",
    "1. Cast to timestamp\n",
    "2. Format datetimes\n",
    "3. Extract from timestamp\n",
    "4. Convert to date\n",
    "5. Manipulate datetimes\n",
    "\n",
    "##### Methods\n",
    "- <a href=\"https://spark.apache.org/docs/latest/api/python/reference/api/pyspark.sql.Column.html#pyspark.sql.Column\" target=\"_blank\">Column</a>: `cast`\n",
    "- <a href=\"https://spark.apache.org/docs/latest/api/python/reference/pyspark.sql.html?#functions\" target=\"_blank\">Built-In Functions</a>: `date_format`, `to_date`, `date_add`, `year`, `month`, `dayofweek`, `minute`, `second`"
   ],
   "metadata": {
    "application/vnd.databricks.v1+cell": {
     "showTitle": false,
     "cellMetadata": {},
     "nuid": "0b186c22-c68c-43c4-8b65-20d893bd958b",
     "inputWidgets": {},
     "title": ""
    },
    "pycharm": {
     "name": "#%% md\n"
    }
   }
  },
  {
   "cell_type": "code",
   "source": [
    "%run ./Includes/Classroom-Setup"
   ],
   "metadata": {
    "application/vnd.databricks.v1+cell": {
     "showTitle": false,
     "cellMetadata": {},
     "nuid": "cca8cc5a-3e5e-4dea-9a85-d903680c93e4",
     "inputWidgets": {},
     "title": ""
    },
    "pycharm": {
     "name": "#%%\n"
    }
   },
   "outputs": [],
   "execution_count": 0
  },
  {
   "cell_type": "markdown",
   "source": [
    "Let's use a subset of the BedBricks events dataset to practice working with date times."
   ],
   "metadata": {
    "application/vnd.databricks.v1+cell": {
     "showTitle": false,
     "cellMetadata": {},
     "nuid": "4112b0a8-35f1-4c66-889b-4981e238e2bf",
     "inputWidgets": {},
     "title": ""
    },
    "pycharm": {
     "name": "#%% md\n"
    }
   }
  },
  {
   "cell_type": "code",
   "source": [
    "from pyspark.sql.functions import col\n",
    "\n",
    "df = spark.read.parquet(eventsPath).select(\"user_id\", col(\"event_timestamp\").alias(\"timestamp\"))\n",
    "display(df)"
   ],
   "metadata": {
    "application/vnd.databricks.v1+cell": {
     "showTitle": false,
     "cellMetadata": {},
     "nuid": "ce5dc166-e7a9-4f22-bf1b-b5dd760cd157",
     "inputWidgets": {},
     "title": ""
    },
    "pycharm": {
     "name": "#%%\n"
    }
   },
   "outputs": [],
   "execution_count": 0
  },
  {
   "cell_type": "markdown",
   "source": [
    "### Built-In Functions: Date Time Functions\n",
    "Here are a few built-in functions to manipulate dates and times in Spark.\n",
    "\n",
    "| Method | Description |\n",
    "| --- | --- |\n",
    "| add_months | Returns the date that is numMonths after startDate |\n",
    "| current_timestamp | Returns the current timestamp at the start of query evaluation as a timestamp column |\n",
    "| date_format | Converts a date/timestamp/string to a value of string in the format specified by the date format given by the second argument. |\n",
    "| dayofweek | Extracts the day of the month as an integer from a given date/timestamp/string |\n",
    "| from_unixtime | Converts the number of seconds from unix epoch (1970-01-01 00:00:00 UTC) to a string representing the timestamp of that moment in the current system time zone in the yyyy-MM-dd HH:mm:ss format |\n",
    "| minute | Extracts the minutes as an integer from a given date/timestamp/string. |\n",
    "| unix_timestamp | Converts time string with given pattern to Unix timestamp (in seconds) |"
   ],
   "metadata": {
    "application/vnd.databricks.v1+cell": {
     "showTitle": false,
     "cellMetadata": {},
     "nuid": "acc88598-40b8-4839-a717-8b0470233133",
     "inputWidgets": {},
     "title": ""
    },
    "pycharm": {
     "name": "#%% md\n"
    }
   }
  },
  {
   "cell_type": "markdown",
   "source": [
    "### Cast to Timestamp"
   ],
   "metadata": {
    "application/vnd.databricks.v1+cell": {
     "showTitle": false,
     "cellMetadata": {},
     "nuid": "d3c138ad-5107-4707-9540-53f872bd2627",
     "inputWidgets": {},
     "title": ""
    },
    "pycharm": {
     "name": "#%% md\n"
    }
   }
  },
  {
   "cell_type": "markdown",
   "source": [
    "#### `cast()`\n",
    "Casts column to a different data type, specified using string representation or DataType."
   ],
   "metadata": {
    "application/vnd.databricks.v1+cell": {
     "showTitle": false,
     "cellMetadata": {},
     "nuid": "2cc4c342-05ae-4a6a-906f-d8172d855f39",
     "inputWidgets": {},
     "title": ""
    },
    "pycharm": {
     "name": "#%% md\n"
    }
   }
  },
  {
   "cell_type": "code",
   "source": [
    "timestampDF = df.withColumn(\"timestamp\", (col(\"timestamp\") / 1e6).cast(\"timestamp\"))\n",
    "display(timestampDF)"
   ],
   "metadata": {
    "application/vnd.databricks.v1+cell": {
     "showTitle": false,
     "cellMetadata": {},
     "nuid": "7910a343-03b6-4783-b208-9f1907e80f40",
     "inputWidgets": {},
     "title": ""
    },
    "pycharm": {
     "name": "#%%\n"
    }
   },
   "outputs": [],
   "execution_count": 0
  },
  {
   "cell_type": "code",
   "source": [
    "from pyspark.sql.types import TimestampType\n",
    "\n",
    "timestampDF = df.withColumn(\"timestamp\", (col(\"timestamp\") / 1e6).cast(TimestampType()))\n",
    "display(timestampDF)"
   ],
   "metadata": {
    "application/vnd.databricks.v1+cell": {
     "showTitle": false,
     "cellMetadata": {},
     "nuid": "0f335c93-9430-4cbd-8486-d336ca1fe1f1",
     "inputWidgets": {},
     "title": ""
    },
    "pycharm": {
     "name": "#%%\n"
    }
   },
   "outputs": [],
   "execution_count": 0
  },
  {
   "cell_type": "markdown",
   "source": [
    "### Datetime Patterns for Formatting and Parsing\n",
    "There are several common scenarios for datetime usage in Spark:\n",
    "\n",
    "- CSV/JSON datasources use the pattern string for parsing and formatting datetime content.\n",
    "- Datetime functions related to convert StringType to/from DateType or TimestampType e.g. `unix_timestamp`, `date_format`, `from_unixtime`, `to_date`, `to_timestamp`, etc.\n",
    "\n",
    "Spark uses <a href=\"https://spark.apache.org/docs/latest/sql-ref-datetime-pattern.html\" target=\"_blank\">pattern letters for date and timestamp parsing and formatting</a>. A subset of these patterns are shown below.\n",
    "\n",
    "| Symbol | Meaning         | Presentation | Examples               |\n",
    "| ------ | --------------- | ------------ | ---------------------- |\n",
    "| G      | era             | text         | AD; Anno Domini        |\n",
    "| y      | year            | year         | 2020; 20               |\n",
    "| D      | day-of-year     | number(3)    | 189                    |\n",
    "| M/L    | month-of-year   | month        | 7; 07; Jul; July       |\n",
    "| d      | day-of-month    | number(3)    | 28                     |\n",
    "| Q/q    | quarter-of-year | number/text  | 3; 03; Q3; 3rd quarter |\n",
    "| E      | day-of-week     | text         | Tue; Tuesday           |\n",
    "\n",
    "<img src=\"https://files.training.databricks.com/images/icon_warn_32.png\" alt=\"Warning\"> Spark's handling of dates and timestamps changed in version 3.0, and the patterns used for parsing and formatting these values changed as well. For a discussion of these changes, please reference <a href=\"https://databricks.com/blog/2020/07/22/a-comprehensive-look-at-dates-and-timestamps-in-apache-spark-3-0.html\" target=\"_blank\">this Databricks blog post</a>."
   ],
   "metadata": {
    "application/vnd.databricks.v1+cell": {
     "showTitle": false,
     "cellMetadata": {},
     "nuid": "dd32dda8-dfeb-450b-b0c8-873d4893cd0a",
     "inputWidgets": {},
     "title": ""
    },
    "pycharm": {
     "name": "#%% md\n"
    }
   }
  },
  {
   "cell_type": "markdown",
   "source": [
    "### Format date"
   ],
   "metadata": {
    "application/vnd.databricks.v1+cell": {
     "showTitle": false,
     "cellMetadata": {},
     "nuid": "61a08d1e-b90d-4b5b-bb9c-5804f8371b60",
     "inputWidgets": {},
     "title": ""
    },
    "pycharm": {
     "name": "#%% md\n"
    }
   }
  },
  {
   "cell_type": "markdown",
   "source": [
    "#### `date_format()`\n",
    "Converts a date/timestamp/string to a string formatted with the given date time pattern."
   ],
   "metadata": {
    "application/vnd.databricks.v1+cell": {
     "showTitle": false,
     "cellMetadata": {},
     "nuid": "7ed1a747-6237-41a1-bf65-b4ed53e12cca",
     "inputWidgets": {},
     "title": ""
    },
    "pycharm": {
     "name": "#%% md\n"
    }
   }
  },
  {
   "cell_type": "code",
   "source": [
    "from pyspark.sql.functions import date_format\n",
    "\n",
    "formattedDF = (timestampDF\n",
    "               .withColumn(\"date string\", date_format(\"timestamp\", \"MMMM dd, yyyy\"))\n",
    "               .withColumn(\"time string\", date_format(\"timestamp\", \"HH:mm:ss.SSSSSS\"))\n",
    "              )\n",
    "display(formattedDF)"
   ],
   "metadata": {
    "application/vnd.databricks.v1+cell": {
     "showTitle": false,
     "cellMetadata": {},
     "nuid": "ebf42586-8ea9-40ab-9859-009fd5b387f2",
     "inputWidgets": {},
     "title": ""
    },
    "pycharm": {
     "name": "#%%\n"
    }
   },
   "outputs": [],
   "execution_count": 0
  },
  {
   "cell_type": "markdown",
   "source": [
    "### Extract datetime attribute from timestamp"
   ],
   "metadata": {
    "application/vnd.databricks.v1+cell": {
     "showTitle": false,
     "cellMetadata": {},
     "nuid": "03d316ba-fdf3-4934-9dcf-1145ecbab296",
     "inputWidgets": {},
     "title": ""
    },
    "pycharm": {
     "name": "#%% md\n"
    }
   }
  },
  {
   "cell_type": "markdown",
   "source": [
    "#### `year`\n",
    "Extracts the year as an integer from a given date/timestamp/string.\n",
    "\n",
    "##### Similar methods: `month`, `dayofweek`, `minute`, `second`, etc."
   ],
   "metadata": {
    "application/vnd.databricks.v1+cell": {
     "showTitle": false,
     "cellMetadata": {},
     "nuid": "37c1f281-eeb7-46b7-b94c-848ba68916d6",
     "inputWidgets": {},
     "title": ""
    },
    "pycharm": {
     "name": "#%% md\n"
    }
   }
  },
  {
   "cell_type": "code",
   "source": [
    "from pyspark.sql.functions import year, month, dayofweek, minute, second\n",
    "\n",
    "datetimeDF = (timestampDF\n",
    "              .withColumn(\"year\", year(col(\"timestamp\")))\n",
    "              .withColumn(\"month\", month(col(\"timestamp\")))\n",
    "              .withColumn(\"dayofweek\", dayofweek(col(\"timestamp\")))\n",
    "              .withColumn(\"minute\", minute(col(\"timestamp\")))\n",
    "              .withColumn(\"second\", second(col(\"timestamp\")))\n",
    "             )\n",
    "display(datetimeDF)"
   ],
   "metadata": {
    "application/vnd.databricks.v1+cell": {
     "showTitle": false,
     "cellMetadata": {},
     "nuid": "1fa6551e-e386-409c-8fc6-7a68cadcb043",
     "inputWidgets": {},
     "title": ""
    },
    "pycharm": {
     "name": "#%%\n"
    }
   },
   "outputs": [],
   "execution_count": 0
  },
  {
   "cell_type": "markdown",
   "source": [
    "### Convert to Date"
   ],
   "metadata": {
    "application/vnd.databricks.v1+cell": {
     "showTitle": false,
     "cellMetadata": {},
     "nuid": "b3a52bb5-240c-49af-9c9a-6952ee1fb017",
     "inputWidgets": {},
     "title": ""
    },
    "pycharm": {
     "name": "#%% md\n"
    }
   }
  },
  {
   "cell_type": "markdown",
   "source": [
    "#### `to_date`\n",
    "Converts the column into DateType by casting rules to DateType."
   ],
   "metadata": {
    "application/vnd.databricks.v1+cell": {
     "showTitle": false,
     "cellMetadata": {},
     "nuid": "9bf34b2e-e05f-48bd-b854-58ec523375e1",
     "inputWidgets": {},
     "title": ""
    },
    "pycharm": {
     "name": "#%% md\n"
    }
   }
  },
  {
   "cell_type": "code",
   "source": [
    "from pyspark.sql.functions import to_date\n",
    "\n",
    "dateDF = timestampDF.withColumn(\"date\", to_date(col(\"timestamp\")))\n",
    "display(dateDF)"
   ],
   "metadata": {
    "application/vnd.databricks.v1+cell": {
     "showTitle": false,
     "cellMetadata": {},
     "nuid": "5b1953e3-fc22-4eda-a2ae-e08c23de7de3",
     "inputWidgets": {},
     "title": ""
    },
    "pycharm": {
     "name": "#%%\n"
    }
   },
   "outputs": [],
   "execution_count": 0
  },
  {
   "cell_type": "markdown",
   "source": [
    "### Manipulate Datetimes"
   ],
   "metadata": {
    "application/vnd.databricks.v1+cell": {
     "showTitle": false,
     "cellMetadata": {},
     "nuid": "540bf17e-146b-4f6c-91e3-b519b2636aad",
     "inputWidgets": {},
     "title": ""
    },
    "pycharm": {
     "name": "#%% md\n"
    }
   }
  },
  {
   "cell_type": "markdown",
   "source": [
    "#### `date_add`\n",
    "Returns the date that is the given number of days after start"
   ],
   "metadata": {
    "application/vnd.databricks.v1+cell": {
     "showTitle": false,
     "cellMetadata": {},
     "nuid": "45f771c0-ca36-4ead-809f-6ee5ee559e40",
     "inputWidgets": {},
     "title": ""
    },
    "pycharm": {
     "name": "#%% md\n"
    }
   }
  },
  {
   "cell_type": "code",
   "source": [
    "from pyspark.sql.functions import date_add\n",
    "\n",
    "plus2DF = timestampDF.withColumn(\"plus_two_days\", date_add(col(\"timestamp\"), 2))\n",
    "display(plus2DF)"
   ],
   "metadata": {
    "application/vnd.databricks.v1+cell": {
     "showTitle": false,
     "cellMetadata": {},
     "nuid": "e44123c1-d805-4c36-a5d2-af0b5505d9f1",
     "inputWidgets": {},
     "title": ""
    },
    "pycharm": {
     "name": "#%%\n"
    }
   },
   "outputs": [],
   "execution_count": 0
  },
  {
   "cell_type": "markdown",
   "source": [
    "# Active Users Lab\n",
    "Plot daily active users and average active users by day of week.\n",
    "1. Extract timestamp and date of events\n",
    "2. Get daily active users\n",
    "3. Get average number of active users by day of week\n",
    "4. Sort day of week in correct order"
   ],
   "metadata": {
    "application/vnd.databricks.v1+cell": {
     "showTitle": false,
     "cellMetadata": {},
     "nuid": "fde98c38-20af-42ad-8fe7-2b48493ba72f",
     "inputWidgets": {},
     "title": ""
    },
    "pycharm": {
     "name": "#%% md\n"
    }
   }
  },
  {
   "cell_type": "markdown",
   "source": [
    "### Setup\n",
    "Run the cell below to create the starting DataFrame of user IDs and timestamps of events logged on the BedBricks website."
   ],
   "metadata": {
    "application/vnd.databricks.v1+cell": {
     "showTitle": false,
     "cellMetadata": {},
     "nuid": "c0270013-eb22-4b72-88ce-bb1d5df4ea2e",
     "inputWidgets": {},
     "title": ""
    },
    "pycharm": {
     "name": "#%% md\n"
    }
   }
  },
  {
   "cell_type": "code",
   "source": [
    "df = (spark\n",
    "      .read\n",
    "      .parquet(eventsPath)\n",
    "      .select(\"user_id\", col(\"event_timestamp\").alias(\"ts\"))\n",
    "     )\n",
    "\n",
    "display(df)"
   ],
   "metadata": {
    "application/vnd.databricks.v1+cell": {
     "showTitle": false,
     "cellMetadata": {},
     "nuid": "d4c45dd7-baab-4996-a3ca-fa1a8dc49bf0",
     "inputWidgets": {},
     "title": ""
    },
    "pycharm": {
     "name": "#%%\n"
    }
   },
   "outputs": [],
   "execution_count": 0
  },
  {
   "cell_type": "markdown",
   "source": [
    "### 1. Extract timestamp and date of events\n",
    "- Convert **`ts`** from microseconds to seconds by dividing by 1 million and cast to timestamp\n",
    "- Add **`date`** column by converting **`ts`** to date"
   ],
   "metadata": {
    "application/vnd.databricks.v1+cell": {
     "showTitle": false,
     "cellMetadata": {},
     "nuid": "0f23dbc9-aa9f-4bf7-8a9a-1663eae821bb",
     "inputWidgets": {},
     "title": ""
    },
    "pycharm": {
     "name": "#%% md\n"
    }
   }
  },
  {
   "cell_type": "code",
   "source": [
    "# TODO\n",
    "datetimeDF = (df.FILL_IN\n",
    ")\n",
    "display(datetimeDF)"
   ],
   "metadata": {
    "application/vnd.databricks.v1+cell": {
     "showTitle": false,
     "cellMetadata": {},
     "nuid": "38d9a6de-5b68-495a-8e24-0940055925c9",
     "inputWidgets": {},
     "title": ""
    },
    "pycharm": {
     "name": "#%%\n"
    }
   },
   "outputs": [],
   "execution_count": 0
  },
  {
   "cell_type": "markdown",
   "source": [
    "**CHECK YOUR WORK**"
   ],
   "metadata": {
    "application/vnd.databricks.v1+cell": {
     "showTitle": false,
     "cellMetadata": {},
     "nuid": "db27f267-df52-4430-867c-ddc7e7db1166",
     "inputWidgets": {},
     "title": ""
    },
    "pycharm": {
     "name": "#%% md\n"
    }
   }
  },
  {
   "cell_type": "code",
   "source": [
    "from pyspark.sql.types import DateType, StringType, StructField, StructType, TimestampType\n",
    "\n",
    "expected1a = StructType([StructField(\"user_id\", StringType(), True),\n",
    "                         StructField(\"ts\", TimestampType(), True),\n",
    "                         StructField(\"date\", DateType(), True)])\n",
    "\n",
    "result1a = datetimeDF.schema\n",
    "\n",
    "assert expected1a == result1a, \"datetimeDF does not have the expected schema\""
   ],
   "metadata": {
    "application/vnd.databricks.v1+cell": {
     "showTitle": false,
     "cellMetadata": {},
     "nuid": "c128ab37-c84b-43a3-8230-a0b8b8817c36",
     "inputWidgets": {},
     "title": ""
    },
    "pycharm": {
     "name": "#%%\n"
    }
   },
   "outputs": [],
   "execution_count": 0
  },
  {
   "cell_type": "code",
   "source": [
    "import datetime\n",
    "\n",
    "expected1b = datetime.date(2020, 6, 19)\n",
    "result1b = datetimeDF.sort(\"date\").first().date\n",
    "\n",
    "assert expected1b == result1b, \"datetimeDF does not have the expected date values\""
   ],
   "metadata": {
    "application/vnd.databricks.v1+cell": {
     "showTitle": false,
     "cellMetadata": {},
     "nuid": "d1901cec-dcc7-462c-bc69-5e23f19a56f1",
     "inputWidgets": {},
     "title": ""
    },
    "pycharm": {
     "name": "#%%\n"
    }
   },
   "outputs": [],
   "execution_count": 0
  },
  {
   "cell_type": "markdown",
   "source": [
    "### 2. Get daily active users\n",
    "- Group by date\n",
    "- Aggregate approximate count of distinct **`user_id`** and alias to \"active_users\"\n",
    "  - Recall built-in function to get approximate count distinct\n",
    "- Sort by date\n",
    "- Plot as line graph"
   ],
   "metadata": {
    "application/vnd.databricks.v1+cell": {
     "showTitle": false,
     "cellMetadata": {},
     "nuid": "171b4404-3732-4b5f-9273-d2382fd8b5b7",
     "inputWidgets": {},
     "title": ""
    },
    "pycharm": {
     "name": "#%% md\n"
    }
   }
  },
  {
   "cell_type": "code",
   "source": [
    "# TODO\n",
    "activeUsersDF = (datetimeDF.FILL_IN\n",
    ")\n",
    "display(activeUsersDF)"
   ],
   "metadata": {
    "application/vnd.databricks.v1+cell": {
     "showTitle": false,
     "cellMetadata": {},
     "nuid": "f80a209e-9fd0-49da-ba39-81e04b451fa6",
     "inputWidgets": {},
     "title": ""
    },
    "pycharm": {
     "name": "#%%\n"
    }
   },
   "outputs": [],
   "execution_count": 0
  },
  {
   "cell_type": "markdown",
   "source": [
    "**CHECK YOUR WORK**"
   ],
   "metadata": {
    "application/vnd.databricks.v1+cell": {
     "showTitle": false,
     "cellMetadata": {},
     "nuid": "ce112236-da40-4e00-a59a-4c282eb5a9df",
     "inputWidgets": {},
     "title": ""
    },
    "pycharm": {
     "name": "#%% md\n"
    }
   }
  },
  {
   "cell_type": "code",
   "source": [
    "from pyspark.sql.types import LongType\n",
    "\n",
    "expected2a = StructType([StructField(\"date\", DateType(), True),\n",
    "                         StructField(\"active_users\", LongType(), False)])\n",
    "\n",
    "result2a = activeUsersDF.schema\n",
    "\n",
    "assert expected2a == result2a, \"activeUsersDF does not have the expected schema\""
   ],
   "metadata": {
    "application/vnd.databricks.v1+cell": {
     "showTitle": false,
     "cellMetadata": {},
     "nuid": "1f3f7961-cbe2-4496-8a6c-b4c996077de9",
     "inputWidgets": {},
     "title": ""
    },
    "pycharm": {
     "name": "#%%\n"
    }
   },
   "outputs": [],
   "execution_count": 0
  },
  {
   "cell_type": "code",
   "source": [
    "expected2b = [(datetime.date(2020, 6, 19), 251573), (datetime.date(2020, 6, 20), 357215), (datetime.date(2020, 6, 21), 305055), (datetime.date(2020, 6, 22), 239094), (datetime.date(2020, 6, 23), 243117)]\n",
    "\n",
    "result2b = [(row.date, row.active_users) for row in activeUsersDF.take(5)]\n",
    "\n",
    "assert expected2b == result2b, \"activeUsersDF does not have the expected values\""
   ],
   "metadata": {
    "application/vnd.databricks.v1+cell": {
     "showTitle": false,
     "cellMetadata": {},
     "nuid": "004c7019-b2d9-4ec4-9c4c-78af709aa1a4",
     "inputWidgets": {},
     "title": ""
    },
    "pycharm": {
     "name": "#%%\n"
    }
   },
   "outputs": [],
   "execution_count": 0
  },
  {
   "cell_type": "markdown",
   "source": [
    "### 3. Get average number of active users by day of week\n",
    "- Add **`day`** column by extracting day of week from **`date`** using a datetime pattern string\n",
    "- Group by **`day`**\n",
    "- Aggregate average of **`active_users`** and alias to \"avg_users\""
   ],
   "metadata": {
    "application/vnd.databricks.v1+cell": {
     "showTitle": false,
     "cellMetadata": {},
     "nuid": "4c21af8a-7820-43af-bae4-5c9ee820da87",
     "inputWidgets": {},
     "title": ""
    },
    "pycharm": {
     "name": "#%% md\n"
    }
   }
  },
  {
   "cell_type": "code",
   "source": [
    "# TODO\n",
    "activeDowDF = (activeUsersDF.FILL_IN\n",
    ")\n",
    "display(activeDowDF)"
   ],
   "metadata": {
    "application/vnd.databricks.v1+cell": {
     "showTitle": false,
     "cellMetadata": {},
     "nuid": "bf97eddb-9be5-4b74-8444-6e8e11455262",
     "inputWidgets": {},
     "title": ""
    },
    "pycharm": {
     "name": "#%%\n"
    }
   },
   "outputs": [],
   "execution_count": 0
  },
  {
   "cell_type": "markdown",
   "source": [
    "**CHECK YOUR WORK**"
   ],
   "metadata": {
    "application/vnd.databricks.v1+cell": {
     "showTitle": false,
     "cellMetadata": {},
     "nuid": "7a4a78c7-de97-4c81-9f72-b70e77da21a6",
     "inputWidgets": {},
     "title": ""
    },
    "pycharm": {
     "name": "#%% md\n"
    }
   }
  },
  {
   "cell_type": "code",
   "source": [
    "from pyspark.sql.types import DoubleType\n",
    "\n",
    "expected3a = StructType([StructField(\"day\", StringType(), True),\n",
    "                         StructField(\"avg_users\", DoubleType(), True)])\n",
    "\n",
    "result3a = activeDowDF.schema\n",
    "\n",
    "assert expected3a == result3a, \"activeDowDF does not have the expected schema\""
   ],
   "metadata": {
    "application/vnd.databricks.v1+cell": {
     "showTitle": false,
     "cellMetadata": {},
     "nuid": "2086f6b2-edf3-4cae-881d-087bb0812efb",
     "inputWidgets": {},
     "title": ""
    },
    "pycharm": {
     "name": "#%%\n"
    }
   },
   "outputs": [],
   "execution_count": 0
  },
  {
   "cell_type": "code",
   "source": [
    "expected3b = [(\"Fri\", 247180.66666666666), (\"Mon\", 238195.5), (\"Sat\", 278482.0), (\"Sun\", 282905.5), (\"Thu\", 264620.0), (\"Tue\", 260942.5), (\"Wed\", 227214.0)]\n",
    "\n",
    "result3b = [(row.day, row.avg_users) for row in activeDowDF.sort(\"day\").collect()]\n",
    "\n",
    "assert expected3b == result3b, \"activeDowDF does not have the expected values\""
   ],
   "metadata": {
    "application/vnd.databricks.v1+cell": {
     "showTitle": false,
     "cellMetadata": {},
     "nuid": "ef17e9f3-e1a3-4ac8-9523-e2780d4f3b4d",
     "inputWidgets": {},
     "title": ""
    },
    "pycharm": {
     "name": "#%%\n"
    }
   },
   "outputs": [],
   "execution_count": 0
  },
  {
   "cell_type": "markdown",
   "source": [
    "### Clean up classroom"
   ],
   "metadata": {
    "application/vnd.databricks.v1+cell": {
     "showTitle": false,
     "cellMetadata": {},
     "nuid": "45db2a68-1191-4971-8534-bbbb8ef188c4",
     "inputWidgets": {},
     "title": ""
    },
    "pycharm": {
     "name": "#%% md\n"
    }
   }
  },
  {
   "cell_type": "code",
   "source": [
    "%run ./Includes/Classroom-Cleanup"
   ],
   "metadata": {
    "application/vnd.databricks.v1+cell": {
     "showTitle": false,
     "cellMetadata": {},
     "nuid": "3299af8b-0e2b-47a0-84cb-86e8799b57c4",
     "inputWidgets": {},
     "title": ""
    },
    "pycharm": {
     "name": "#%%\n"
    }
   },
   "outputs": [],
   "execution_count": 0
  }
 ],
 "metadata": {
  "application/vnd.databricks.v1+notebook": {
   "notebookName": "ASP 2.2 - Datetimes",
   "dashboards": [],
   "notebookMetadata": {
    "pythonIndentUnit": 2
   },
   "language": "python",
   "widgets": {},
   "notebookOrigID": 4185566132527473
  }
 },
 "nbformat": 4,
 "nbformat_minor": 0
}