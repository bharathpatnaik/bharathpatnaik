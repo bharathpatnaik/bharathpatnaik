{
 "cells": [
  {
   "cell_type": "markdown",
   "source": [
    "# Additional Functions\n",
    "\n",
    "##### Objectives\n",
    "1. Apply built-in functions to generate data for new columns\n",
    "1. Apply DataFrame NA functions to handle null values\n",
    "1. Join DataFrames\n",
    "\n",
    "##### Methods\n",
    "- <a href=\"https://spark.apache.org/docs/latest/api/python/reference/api/pyspark.sql.DataFrameNaFunctions.html\" target=\"_blank\">DataFrameNaFunctions</a>: `fill`\n",
    "- <a href=\"https://spark.apache.org/docs/latest/api/python/reference/pyspark.sql.html?#functions\" target=\"_blank\">Built-In Functions</a>:\n",
    "  - Aggregate: `collect_set`\n",
    "  - Collection: `explode`\n",
    "  - Non-aggregate and miscellaneous: `col`, `lit`"
   ],
   "metadata": {
    "application/vnd.databricks.v1+cell": {
     "showTitle": false,
     "cellMetadata": {},
     "nuid": "b47a4ca6-a6e8-4973-9cf1-b02078ff8454",
     "inputWidgets": {},
     "title": ""
    },
    "pycharm": {
     "name": "#%% md\n"
    }
   }
  },
  {
   "cell_type": "markdown",
   "source": [
    "### DataFrameNaFunctions\n",
    "<a href=\"https://spark.apache.org/docs/latest/api/python/reference/api/pyspark.sql.DataFrameNaFunctions.html\" target=\"_blank\">DataFrameNaFunctions</a> is a DataFrame submodule with methods for handling null values. Obtain an instance of DataFrameNaFunctions by accessing the `na` attribute of a DataFrame.\n",
    "\n",
    "| Method | Description |\n",
    "| --- | --- |\n",
    "| drop | Returns a new DataFrame omitting rows with any, all, or a specified number of null values, considering an optional subset of columns |\n",
    "| fill | Replace null values with the specified value for an optional subset of columns |\n",
    "| replace | Returns a new DataFrame replacing a value with another value, considering an optional subset of columns |"
   ],
   "metadata": {
    "application/vnd.databricks.v1+cell": {
     "showTitle": false,
     "cellMetadata": {},
     "nuid": "ba2bed87-f8e9-421d-a343-2e43147a45a0",
     "inputWidgets": {},
     "title": ""
    },
    "pycharm": {
     "name": "#%% md\n"
    }
   }
  },
  {
   "cell_type": "markdown",
   "source": [
    "### Non-aggregate and Miscellaneous Functions\n",
    "Here are a few additional non-aggregate and miscellaneous built-in functions.\n",
    "\n",
    "| Method | Description |\n",
    "| --- | --- |\n",
    "| col / column | Returns a Column based on the given column name. |\n",
    "| lit | Creates a Column of literal value |\n",
    "| isnull | Return true iff the column is null |\n",
    "| rand | Generate a random column with independent and identically distributed (i.i.d.) samples uniformly distributed in [0.0, 1.0) |"
   ],
   "metadata": {
    "application/vnd.databricks.v1+cell": {
     "showTitle": false,
     "cellMetadata": {},
     "nuid": "f87644a6-63dd-47bd-9ffa-d2de67535a2b",
     "inputWidgets": {},
     "title": ""
    },
    "pycharm": {
     "name": "#%% md\n"
    }
   }
  },
  {
   "cell_type": "markdown",
   "source": [
    "### Joining DataFrames\n",
    "The DataFrame <a href=\"https://spark.apache.org/docs/latest/api/python/reference/api/pyspark.sql.DataFrame.join.html?highlight=join#pyspark.sql.DataFrame.join\" target=\"_blank\">`join`</a> method joins two DataFrames based on a given join expression. Several different types of joins are supported. For example:\n",
    "\n",
    "```\n",
    "# Inner join based on equal values of a shared column called 'name' (i.e., an equi join)\n",
    "df1.join(df2, 'name')\n",
    "\n",
    "# Inner join based on equal values of the shared columns called 'name' and 'age'\n",
    "df1.join(df2, ['name', 'age'])\n",
    "\n",
    "# Full outer join based on equal values of a shared column called 'name'\n",
    "df1.join(df2, 'name', 'outer')\n",
    "\n",
    "# Left outer join based on an explicit column expression\n",
    "df1.join(df2, df1['customer_name'] == df2['account_name'], 'left_outer')\n",
    "```"
   ],
   "metadata": {
    "application/vnd.databricks.v1+cell": {
     "showTitle": false,
     "cellMetadata": {},
     "nuid": "9db74427-c33e-42f1-ad0d-f3d832fbc4ca",
     "inputWidgets": {},
     "title": ""
    },
    "pycharm": {
     "name": "#%% md\n"
    }
   }
  },
  {
   "cell_type": "markdown",
   "source": [
    "# Abandoned Carts Lab\n",
    "Get abandoned cart items for email without purchases.\n",
    "1. Get emails of converted users from transactions\n",
    "2. Join emails with user IDs\n",
    "3. Get cart item history for each user\n",
    "4. Join cart item history with emails\n",
    "5. Filter for emails with abandoned cart items\n",
    "\n",
    "##### Methods\n",
    "- <a href=\"https://spark.apache.org/docs/latest/api/python/reference/api/pyspark.sql.DataFrame.html\" target=\"_blank\">DataFrame</a>: `join`\n",
    "- <a href=\"https://spark.apache.org/docs/latest/api/python/reference/pyspark.sql.html?#functions\" target=\"_blank\">Built-In Functions</a>: `collect_set`, `explode`, `lit`\n",
    "- <a href=\"https://spark.apache.org/docs/latest/api/python/reference/api/pyspark.sql.DataFrameNaFunctions.html\" target=\"_blank\">DataFrameNaFunctions</a>: `fill`"
   ],
   "metadata": {
    "application/vnd.databricks.v1+cell": {
     "showTitle": false,
     "cellMetadata": {},
     "nuid": "66c5ee6b-e8d0-4234-96a0-79163e883226",
     "inputWidgets": {},
     "title": ""
    },
    "pycharm": {
     "name": "#%% md\n"
    }
   }
  },
  {
   "cell_type": "markdown",
   "source": [
    "### Setup\n",
    "Run the cells below to create DataFrames **`salesDF`**, **`usersDF`**, and **`eventsDF`**."
   ],
   "metadata": {
    "application/vnd.databricks.v1+cell": {
     "showTitle": false,
     "cellMetadata": {},
     "nuid": "047b8374-44b9-4062-9f82-9c7af6d175fc",
     "inputWidgets": {},
     "title": ""
    },
    "pycharm": {
     "name": "#%% md\n"
    }
   }
  },
  {
   "cell_type": "code",
   "source": [
    "%run ./Includes/Classroom-Setup"
   ],
   "metadata": {
    "application/vnd.databricks.v1+cell": {
     "showTitle": false,
     "cellMetadata": {},
     "nuid": "3a6a0004-a70b-4c4c-8c9a-938f4bb592ba",
     "inputWidgets": {},
     "title": ""
    },
    "pycharm": {
     "name": "#%%\n"
    }
   },
   "outputs": [],
   "execution_count": 0
  },
  {
   "cell_type": "code",
   "source": [
    "# sale transactions at BedBricks\n",
    "salesDF = spark.read.parquet(salesPath)\n",
    "display(salesDF)"
   ],
   "metadata": {
    "application/vnd.databricks.v1+cell": {
     "showTitle": false,
     "cellMetadata": {},
     "nuid": "2540a1ad-ca90-41e9-87c2-f15ff4597950",
     "inputWidgets": {},
     "title": ""
    },
    "pycharm": {
     "name": "#%%\n"
    }
   },
   "outputs": [],
   "execution_count": 0
  },
  {
   "cell_type": "code",
   "source": [
    "# user IDs and emails at BedBricks\n",
    "usersDF = spark.read.parquet(usersPath)\n",
    "display(usersDF)"
   ],
   "metadata": {
    "application/vnd.databricks.v1+cell": {
     "showTitle": false,
     "cellMetadata": {},
     "nuid": "a32921b4-3269-4f84-890d-499a79aa4a86",
     "inputWidgets": {},
     "title": ""
    },
    "pycharm": {
     "name": "#%%\n"
    }
   },
   "outputs": [],
   "execution_count": 0
  },
  {
   "cell_type": "code",
   "source": [
    "# events logged on the BedBricks website\n",
    "eventsDF = spark.read.parquet(eventsPath)\n",
    "display(eventsDF)"
   ],
   "metadata": {
    "application/vnd.databricks.v1+cell": {
     "showTitle": false,
     "cellMetadata": {},
     "nuid": "1784409b-dad7-465f-aea7-4ced61a9cece",
     "inputWidgets": {},
     "title": ""
    },
    "pycharm": {
     "name": "#%%\n"
    }
   },
   "outputs": [],
   "execution_count": 0
  },
  {
   "cell_type": "markdown",
   "source": [
    "### 1-A: Get emails of converted users from transactions\n",
    "- Select the **`email`** column in **`salesDF`** and remove duplicates\n",
    "- Add a new column **`converted`** with the value **`True`** for all rows\n",
    "\n",
    "Save the result as **`convertedUsersDF`**."
   ],
   "metadata": {
    "application/vnd.databricks.v1+cell": {
     "showTitle": false,
     "cellMetadata": {},
     "nuid": "3a5cc9a4-8019-424a-b0bb-51726056700d",
     "inputWidgets": {},
     "title": ""
    },
    "pycharm": {
     "name": "#%% md\n"
    }
   }
  },
  {
   "cell_type": "code",
   "source": [
    "# TODO\n",
    "from pyspark.sql.functions import *\n",
    "convertedUsersDF = (salesDF.FILL_IN\n",
    ")\n",
    "display(convertedUsersDF)"
   ],
   "metadata": {
    "application/vnd.databricks.v1+cell": {
     "showTitle": false,
     "cellMetadata": {},
     "nuid": "c0f648aa-1b45-4bf0-a779-e77f792ed40b",
     "inputWidgets": {},
     "title": ""
    },
    "pycharm": {
     "name": "#%%\n"
    }
   },
   "outputs": [],
   "execution_count": 0
  },
  {
   "cell_type": "markdown",
   "source": [
    "#### 1-B: Check Your Work\n",
    "\n",
    "Run the following cell to verify that your solution works:"
   ],
   "metadata": {
    "application/vnd.databricks.v1+cell": {
     "showTitle": false,
     "cellMetadata": {},
     "nuid": "b94dda65-215d-4035-9927-32d26edb3a15",
     "inputWidgets": {},
     "title": ""
    },
    "pycharm": {
     "name": "#%% md\n"
    }
   }
  },
  {
   "cell_type": "code",
   "source": [
    "expectedColumns = [\"email\", \"converted\"]\n",
    "\n",
    "expectedCount = 210370\n",
    "\n",
    "assert convertedUsersDF.columns == expectedColumns, \"convertedUsersDF does not have the correct columns\"\n",
    "\n",
    "assert convertedUsersDF.count() == expectedCount, \"convertedUsersDF does not have the correct number of rows\"\n",
    "\n",
    "assert convertedUsersDF.select(col(\"converted\")).first()[0] == True, \"converted column not correct\""
   ],
   "metadata": {
    "application/vnd.databricks.v1+cell": {
     "showTitle": false,
     "cellMetadata": {},
     "nuid": "14ac40c1-4e84-43f6-bf8d-ed1ba80933be",
     "inputWidgets": {},
     "title": ""
    },
    "pycharm": {
     "name": "#%%\n"
    }
   },
   "outputs": [],
   "execution_count": 0
  },
  {
   "cell_type": "markdown",
   "source": [
    "### 2-A: Join emails with user IDs\n",
    "- Perform an outer join on **`convertedUsersDF`** and **`usersDF`** with the **`email`** field\n",
    "- Filter for users where **`email`** is not null\n",
    "- Fill null values in **`converted`** as **`False`**\n",
    "\n",
    "Save the result as **`conversionsDF`**."
   ],
   "metadata": {
    "application/vnd.databricks.v1+cell": {
     "showTitle": false,
     "cellMetadata": {},
     "nuid": "9b0755b6-122a-448a-8679-1a188746b292",
     "inputWidgets": {},
     "title": ""
    },
    "pycharm": {
     "name": "#%% md\n"
    }
   }
  },
  {
   "cell_type": "code",
   "source": [
    "# TODO\n",
    "conversionsDF = (usersDF.FILL_IN\n",
    ")\n",
    "display(conversionsDF)"
   ],
   "metadata": {
    "application/vnd.databricks.v1+cell": {
     "showTitle": false,
     "cellMetadata": {},
     "nuid": "f3be5996-7e5e-4323-bb25-ab2e4b03fcca",
     "inputWidgets": {},
     "title": ""
    },
    "pycharm": {
     "name": "#%%\n"
    }
   },
   "outputs": [],
   "execution_count": 0
  },
  {
   "cell_type": "markdown",
   "source": [
    "#### 2-B: Check Your Work\n",
    "\n",
    "Run the following cell to verify that your solution works:"
   ],
   "metadata": {
    "application/vnd.databricks.v1+cell": {
     "showTitle": false,
     "cellMetadata": {},
     "nuid": "01a38acc-2966-4284-819e-c16ab932debd",
     "inputWidgets": {},
     "title": ""
    },
    "pycharm": {
     "name": "#%% md\n"
    }
   }
  },
  {
   "cell_type": "code",
   "source": [
    "expectedColumns = [\"email\", \"user_id\", \"user_first_touch_timestamp\", \"converted\"]\n",
    "\n",
    "expectedCount = 782749\n",
    "\n",
    "expectedFalseCount = 572379\n",
    "\n",
    "assert conversionsDF.columns == expectedColumns, \"Columns are not correct\"\n",
    "\n",
    "assert conversionsDF.filter(col(\"email\").isNull()).count() == 0, \"Email column contains null\"\n",
    "\n",
    "assert conversionsDF.count() == expectedCount, \"There is an incorrect number of rows\"\n",
    "\n",
    "assert conversionsDF.filter(col(\"converted\") == False).count() == expectedFalseCount, \"There is an incorrect number of false entries in converted column\""
   ],
   "metadata": {
    "application/vnd.databricks.v1+cell": {
     "showTitle": false,
     "cellMetadata": {},
     "nuid": "5dccf728-55f1-4c8c-a36a-b940a2e30744",
     "inputWidgets": {},
     "title": ""
    },
    "pycharm": {
     "name": "#%%\n"
    }
   },
   "outputs": [],
   "execution_count": 0
  },
  {
   "cell_type": "markdown",
   "source": [
    "### 3-A: Get cart item history for each user\n",
    "- Explode the **`items`** field in **`eventsDF`** with the results replacing the existing **`items`** field\n",
    "- Group by **`user_id`**\n",
    "  - Collect a set of all **`items.item_id`** objects for each user and alias the column to \"cart\"\n",
    "\n",
    "Save the result as **`cartsDF`**."
   ],
   "metadata": {
    "application/vnd.databricks.v1+cell": {
     "showTitle": false,
     "cellMetadata": {},
     "nuid": "9ddaa555-4f85-465a-b310-896827f8a719",
     "inputWidgets": {},
     "title": ""
    },
    "pycharm": {
     "name": "#%% md\n"
    }
   }
  },
  {
   "cell_type": "code",
   "source": [
    "# TODO\n",
    "cartsDF = (eventsDF.FILL_IN\n",
    ")\n",
    "display(cartsDF)"
   ],
   "metadata": {
    "application/vnd.databricks.v1+cell": {
     "showTitle": false,
     "cellMetadata": {},
     "nuid": "25586ada-4251-4b7d-9678-bb219915ad17",
     "inputWidgets": {},
     "title": ""
    },
    "pycharm": {
     "name": "#%%\n"
    }
   },
   "outputs": [],
   "execution_count": 0
  },
  {
   "cell_type": "markdown",
   "source": [
    "#### 3-B: Check Your Work\n",
    "\n",
    "Run the following cell to verify that your solution works:"
   ],
   "metadata": {
    "application/vnd.databricks.v1+cell": {
     "showTitle": false,
     "cellMetadata": {},
     "nuid": "0dffe83a-4933-40ea-a4dc-685a43fab5d9",
     "inputWidgets": {},
     "title": ""
    },
    "pycharm": {
     "name": "#%% md\n"
    }
   }
  },
  {
   "cell_type": "code",
   "source": [
    "expectedColumns = [\"user_id\", \"cart\"]\n",
    "\n",
    "expectedCount = 488403\n",
    "\n",
    "assert cartsDF.columns == expectedColumns, \"Incorrect columns\"\n",
    "\n",
    "assert cartsDF.count() == expectedCount, \"Incorrect number of rows\"\n",
    "\n",
    "assert cartsDF.select(col(\"user_id\")).drop_duplicates().count() == expectedCount, \"Duplicate user_ids present\""
   ],
   "metadata": {
    "application/vnd.databricks.v1+cell": {
     "showTitle": false,
     "cellMetadata": {},
     "nuid": "01d9dc03-93a0-4755-8087-d7a67e4e9549",
     "inputWidgets": {},
     "title": ""
    },
    "pycharm": {
     "name": "#%%\n"
    }
   },
   "outputs": [],
   "execution_count": 0
  },
  {
   "cell_type": "markdown",
   "source": [
    "### 4-A: Join cart item history with emails\n",
    "- Perform a left join on **`conversionsDF`** and **`cartsDF`** on the **`user_id`** field\n",
    "\n",
    "Save result as **`emailCartsDF`**."
   ],
   "metadata": {
    "application/vnd.databricks.v1+cell": {
     "showTitle": false,
     "cellMetadata": {},
     "nuid": "6a48b7e9-1f6e-47ff-ba5d-e18d1294c4a7",
     "inputWidgets": {},
     "title": ""
    },
    "pycharm": {
     "name": "#%% md\n"
    }
   }
  },
  {
   "cell_type": "code",
   "source": [
    "# TODO\n",
    "emailCartsDF = conversionsDF.FILL_IN\n",
    "display(emailCartsDF)"
   ],
   "metadata": {
    "application/vnd.databricks.v1+cell": {
     "showTitle": false,
     "cellMetadata": {},
     "nuid": "a9021408-b97e-4c6e-8d5e-40fac81f6ec1",
     "inputWidgets": {},
     "title": ""
    },
    "pycharm": {
     "name": "#%%\n"
    }
   },
   "outputs": [],
   "execution_count": 0
  },
  {
   "cell_type": "markdown",
   "source": [
    "#### 4-B: Check Your Work\n",
    "\n",
    "Run the following cell to verify that your solution works:"
   ],
   "metadata": {
    "application/vnd.databricks.v1+cell": {
     "showTitle": false,
     "cellMetadata": {},
     "nuid": "984b17de-fd1f-4ea8-9fa2-ab545cae3b82",
     "inputWidgets": {},
     "title": ""
    },
    "pycharm": {
     "name": "#%% md\n"
    }
   }
  },
  {
   "cell_type": "code",
   "source": [
    "expectedColumns = [\"user_id\", \"email\", \"user_first_touch_timestamp\", \"converted\", \"cart\"]\n",
    "\n",
    "expectedCount = 782749\n",
    "\n",
    "expectedCartNullCount = 397799\n",
    "\n",
    "assert emailCartsDF.columns == expectedColumns, \"Columns do not match\"\n",
    "\n",
    "assert emailCartsDF.count() == expectedCount, \"Counts do not match\"\n",
    "\n",
    "assert emailCartsDF.filter(col(\"cart\").isNull()).count() == expectedCartNullCount, \"Cart null counts incorrect from join\""
   ],
   "metadata": {
    "application/vnd.databricks.v1+cell": {
     "showTitle": false,
     "cellMetadata": {},
     "nuid": "a903e136-8ed1-4477-8de1-1382ecc246c7",
     "inputWidgets": {},
     "title": ""
    },
    "pycharm": {
     "name": "#%%\n"
    }
   },
   "outputs": [],
   "execution_count": 0
  },
  {
   "cell_type": "markdown",
   "source": [
    "### 5-A: Filter for emails with abandoned cart items\n",
    "- Filter **`emailCartsDF`** for users where **`converted`** is False\n",
    "- Filter for users with non-null carts\n",
    "\n",
    "Save result as **`abandonedItemsDF`**."
   ],
   "metadata": {
    "application/vnd.databricks.v1+cell": {
     "showTitle": false,
     "cellMetadata": {},
     "nuid": "5ce268dc-54cc-4f27-a278-29acbbc902c0",
     "inputWidgets": {},
     "title": ""
    },
    "pycharm": {
     "name": "#%% md\n"
    }
   }
  },
  {
   "cell_type": "code",
   "source": [
    "# TODO\n",
    "abandonedCartsDF = (emailCartsDF.FILL_IN\n",
    ")\n",
    "display(abandonedCartsDF)"
   ],
   "metadata": {
    "application/vnd.databricks.v1+cell": {
     "showTitle": false,
     "cellMetadata": {},
     "nuid": "8f87099e-415b-4545-9675-269858f2d856",
     "inputWidgets": {},
     "title": ""
    },
    "pycharm": {
     "name": "#%%\n"
    }
   },
   "outputs": [],
   "execution_count": 0
  },
  {
   "cell_type": "markdown",
   "source": [
    "#### 5-B: Check Your Work\n",
    "\n",
    "Run the following cell to verify that your solution works:"
   ],
   "metadata": {
    "application/vnd.databricks.v1+cell": {
     "showTitle": false,
     "cellMetadata": {},
     "nuid": "b87df646-8f5e-457b-be6f-b4bc6bae7495",
     "inputWidgets": {},
     "title": ""
    },
    "pycharm": {
     "name": "#%% md\n"
    }
   }
  },
  {
   "cell_type": "code",
   "source": [
    "expectedColumns = [\"user_id\", \"email\", \"user_first_touch_timestamp\", \"converted\", \"cart\"]\n",
    "\n",
    "expectedCount = 204272\n",
    "\n",
    "assert abandonedCartsDF.columns == expectedColumns, \"Columns do not match\"\n",
    "\n",
    "assert abandonedCartsDF.count() == expectedCount, \"Counts do not match\""
   ],
   "metadata": {
    "application/vnd.databricks.v1+cell": {
     "showTitle": false,
     "cellMetadata": {},
     "nuid": "9f059dc7-7185-46ca-94a3-7b94ef3bb8e7",
     "inputWidgets": {},
     "title": ""
    },
    "pycharm": {
     "name": "#%%\n"
    }
   },
   "outputs": [],
   "execution_count": 0
  },
  {
   "cell_type": "markdown",
   "source": [
    "### 6-A: Bonus Activity\n",
    "Plot number of abandoned cart items by product"
   ],
   "metadata": {
    "application/vnd.databricks.v1+cell": {
     "showTitle": false,
     "cellMetadata": {},
     "nuid": "8b7c2e03-7afd-45bd-b4a8-f8a476f323b7",
     "inputWidgets": {},
     "title": ""
    },
    "pycharm": {
     "name": "#%% md\n"
    }
   }
  },
  {
   "cell_type": "code",
   "source": [
    "# TODO\n",
    "abandonedItemsDF = (abandonedCartsDF.FILL_IN\n",
    ")\n",
    "display(abandonedItemsDF)"
   ],
   "metadata": {
    "application/vnd.databricks.v1+cell": {
     "showTitle": false,
     "cellMetadata": {},
     "nuid": "edbe939f-c65a-48a8-a9d2-d2f2f18701cb",
     "inputWidgets": {},
     "title": ""
    },
    "pycharm": {
     "name": "#%%\n"
    }
   },
   "outputs": [],
   "execution_count": 0
  },
  {
   "cell_type": "markdown",
   "source": [
    "#### 6-B: Check Your Work\n",
    "\n",
    "Run the following cell to verify that your solution works:"
   ],
   "metadata": {
    "application/vnd.databricks.v1+cell": {
     "showTitle": false,
     "cellMetadata": {},
     "nuid": "d3e3fdec-c5dd-49c0-93d3-4243f5329dc5",
     "inputWidgets": {},
     "title": ""
    },
    "pycharm": {
     "name": "#%% md\n"
    }
   }
  },
  {
   "cell_type": "code",
   "source": [
    "abandonedItemsDF.count()"
   ],
   "metadata": {
    "application/vnd.databricks.v1+cell": {
     "showTitle": false,
     "cellMetadata": {},
     "nuid": "61ba7671-ee11-4544-bb74-9f0210b0109d",
     "inputWidgets": {},
     "title": ""
    },
    "pycharm": {
     "name": "#%%\n"
    }
   },
   "outputs": [],
   "execution_count": 0
  },
  {
   "cell_type": "code",
   "source": [
    "expectedColumns = [\"items\", \"count\"]\n",
    "\n",
    "expectedCount = 12\n",
    "\n",
    "assert abandonedItemsDF.count() == expectedCount, \"Counts do not match\"\n",
    "\n",
    "assert abandonedItemsDF.columns == expectedColumns, \"Columns do not match\""
   ],
   "metadata": {
    "application/vnd.databricks.v1+cell": {
     "showTitle": false,
     "cellMetadata": {},
     "nuid": "cf7d03dd-5814-4c15-9eca-c98ef9796ecd",
     "inputWidgets": {},
     "title": ""
    },
    "pycharm": {
     "name": "#%%\n"
    }
   },
   "outputs": [],
   "execution_count": 0
  },
  {
   "cell_type": "markdown",
   "source": [
    "### Clean up classroom"
   ],
   "metadata": {
    "application/vnd.databricks.v1+cell": {
     "showTitle": false,
     "cellMetadata": {},
     "nuid": "ffe193c5-74e9-405e-bf8a-fedb11e24f69",
     "inputWidgets": {},
     "title": ""
    },
    "pycharm": {
     "name": "#%% md\n"
    }
   }
  },
  {
   "cell_type": "code",
   "source": [
    "%run ./Includes/Classroom-Cleanup"
   ],
   "metadata": {
    "application/vnd.databricks.v1+cell": {
     "showTitle": false,
     "cellMetadata": {},
     "nuid": "c52e58f2-59f8-4858-8f4a-7c8f99f25fbb",
     "inputWidgets": {},
     "title": ""
    },
    "pycharm": {
     "name": "#%%\n"
    }
   },
   "outputs": [],
   "execution_count": 0
  }
 ],
 "metadata": {
  "application/vnd.databricks.v1+notebook": {
   "notebookName": "ASP 2.4 - Additional Functions",
   "dashboards": [],
   "notebookMetadata": {
    "pythonIndentUnit": 2
   },
   "language": "python",
   "widgets": {},
   "notebookOrigID": 4185566132528375
  }
 },
 "nbformat": 4,
 "nbformat_minor": 0
}