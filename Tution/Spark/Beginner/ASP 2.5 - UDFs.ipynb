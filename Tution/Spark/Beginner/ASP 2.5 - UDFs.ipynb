{
 "cells": [
  {
   "cell_type": "markdown",
   "source": [
    "# User-Defined Functions\n",
    "\n",
    "##### Objectives\n",
    "1. Define a function\n",
    "1. Create and apply a UDF\n",
    "1. Register the UDF to use in SQL\n",
    "1. Create and register a UDF with Python decorator syntax\n",
    "1. Create and apply a Pandas (vectorized) UDF\n",
    "\n",
    "##### Methods\n",
    "- <a href=\"https://spark.apache.org/docs/latest/api/python/reference/api/pyspark.sql.functions.udf.html?#pyspark.sql.functions.udf\" target=\"_blank\">UDF Registration (`spark.udf`)</a>: `register`\n",
    "- <a href=\"https://spark.apache.org/docs/latest/api/python/reference/pyspark.sql.html?#functions\" target=\"_blank\">Built-In Functions</a>: `udf`\n",
    "- <a href=\"https://docs.databricks.com/spark/latest/spark-sql/udf-python.html#use-udf-with-dataframes\" target=\"_blank\">Python UDF Decorator</a>: `@udf`\n",
    "- <a href=\"https://docs.databricks.com/spark/latest/spark-sql/udf-python-pandas.html#pandas-user-defined-functions\" target=\"_blank\">Pandas UDF Decorator</a>: `@pandas_udf`"
   ],
   "metadata": {
    "application/vnd.databricks.v1+cell": {
     "showTitle": false,
     "cellMetadata": {},
     "nuid": "e4bc3bbc-3e4b-49ee-a516-1bebad809018",
     "inputWidgets": {},
     "title": ""
    },
    "pycharm": {
     "name": "#%% md\n"
    }
   }
  },
  {
   "cell_type": "markdown",
   "source": [
    "### User-Defined Function (UDF)\n",
    "A custom column transformation function\n",
    "\n",
    "- Can’t be optimized by Catalyst Optimizer\n",
    "- Function is serialized and sent to executors\n",
    "- Row data is deserialized from Spark's native binary format to pass to the UDF, and the results are serialized back into Spark's native format\n",
    "- For Python UDFs, additional interprocess communication overhead between the executor and a Python interpreter running on each worker node"
   ],
   "metadata": {
    "application/vnd.databricks.v1+cell": {
     "showTitle": false,
     "cellMetadata": {},
     "nuid": "a57893fe-7b28-4ae5-9e0c-d4f57c69c213",
     "inputWidgets": {},
     "title": ""
    },
    "pycharm": {
     "name": "#%% md\n"
    }
   }
  },
  {
   "cell_type": "code",
   "source": [
    "%run ./Includes/Classroom-Setup"
   ],
   "metadata": {
    "application/vnd.databricks.v1+cell": {
     "showTitle": false,
     "cellMetadata": {},
     "nuid": "6d21a482-25a5-494b-a73f-68d86b3a7fcc",
     "inputWidgets": {},
     "title": ""
    },
    "pycharm": {
     "name": "#%%\n"
    }
   },
   "outputs": [],
   "execution_count": 0
  },
  {
   "cell_type": "markdown",
   "source": [
    "For this demo, we're going to use the sales data."
   ],
   "metadata": {
    "application/vnd.databricks.v1+cell": {
     "showTitle": false,
     "cellMetadata": {},
     "nuid": "558c6f3d-9064-4db5-9ab0-db269f9a9f92",
     "inputWidgets": {},
     "title": ""
    },
    "pycharm": {
     "name": "#%% md\n"
    }
   }
  },
  {
   "cell_type": "code",
   "source": [
    "salesDF = spark.read.parquet(salesPath)\n",
    "display(salesDF)"
   ],
   "metadata": {
    "application/vnd.databricks.v1+cell": {
     "showTitle": false,
     "cellMetadata": {},
     "nuid": "bafa59d2-8e34-4530-aa29-968fa6535acf",
     "inputWidgets": {},
     "title": ""
    },
    "pycharm": {
     "name": "#%%\n"
    }
   },
   "outputs": [],
   "execution_count": 0
  },
  {
   "cell_type": "markdown",
   "source": [
    "### Define a function\n",
    "\n",
    "Define a function (on the driver) to get the first letter of a string from the `email` field."
   ],
   "metadata": {
    "application/vnd.databricks.v1+cell": {
     "showTitle": false,
     "cellMetadata": {},
     "nuid": "64a11e19-5cb1-4e37-ad56-25fd1722bf10",
     "inputWidgets": {},
     "title": ""
    },
    "pycharm": {
     "name": "#%% md\n"
    }
   }
  },
  {
   "cell_type": "code",
   "source": [
    "def firstLetterFunction(email):\n",
    "    return email[0]\n",
    "\n",
    "firstLetterFunction(\"annagray@kaufman.com\")"
   ],
   "metadata": {
    "application/vnd.databricks.v1+cell": {
     "showTitle": false,
     "cellMetadata": {},
     "nuid": "97f03bdd-ae02-42e2-9f0d-bbd8257d18e1",
     "inputWidgets": {},
     "title": ""
    },
    "pycharm": {
     "name": "#%%\n"
    }
   },
   "outputs": [],
   "execution_count": 0
  },
  {
   "cell_type": "markdown",
   "source": [
    "### Create and apply UDF\n",
    "Register the function as a UDF. This serializes the function and sends it to executors to be able to transform DataFrame records."
   ],
   "metadata": {
    "application/vnd.databricks.v1+cell": {
     "showTitle": false,
     "cellMetadata": {},
     "nuid": "83465dba-1412-4b0e-ab6d-6f971409d1d3",
     "inputWidgets": {},
     "title": ""
    },
    "pycharm": {
     "name": "#%% md\n"
    }
   }
  },
  {
   "cell_type": "code",
   "source": [
    "firstLetterUDF = udf(firstLetterFunction)"
   ],
   "metadata": {
    "application/vnd.databricks.v1+cell": {
     "showTitle": false,
     "cellMetadata": {},
     "nuid": "4fb5e855-a2bb-4d22-a130-39ef70ecb82d",
     "inputWidgets": {},
     "title": ""
    },
    "pycharm": {
     "name": "#%%\n"
    }
   },
   "outputs": [],
   "execution_count": 0
  },
  {
   "cell_type": "markdown",
   "source": [
    "Apply the UDF on the `email` column."
   ],
   "metadata": {
    "application/vnd.databricks.v1+cell": {
     "showTitle": false,
     "cellMetadata": {},
     "nuid": "f7b6d442-acf3-4013-9285-37915d1e6e20",
     "inputWidgets": {},
     "title": ""
    },
    "pycharm": {
     "name": "#%% md\n"
    }
   }
  },
  {
   "cell_type": "code",
   "source": [
    "from pyspark.sql.functions import col\n",
    "\n",
    "display(salesDF.select(firstLetterUDF(col(\"email\"))))"
   ],
   "metadata": {
    "application/vnd.databricks.v1+cell": {
     "showTitle": false,
     "cellMetadata": {},
     "nuid": "404a2811-c64b-408a-a313-d553a49638b2",
     "inputWidgets": {},
     "title": ""
    },
    "pycharm": {
     "name": "#%%\n"
    }
   },
   "outputs": [],
   "execution_count": 0
  },
  {
   "cell_type": "markdown",
   "source": [
    "### Register UDF to use in SQL\n",
    "Register the UDF using `spark.udf.register` to also make it available for use in the SQL namespace."
   ],
   "metadata": {
    "application/vnd.databricks.v1+cell": {
     "showTitle": false,
     "cellMetadata": {},
     "nuid": "a3181c1f-65f6-4199-90fa-559944b0f4cd",
     "inputWidgets": {},
     "title": ""
    },
    "pycharm": {
     "name": "#%% md\n"
    }
   }
  },
  {
   "cell_type": "code",
   "source": [
    "salesDF.createOrReplaceTempView(\"sales\")\n",
    "\n",
    "firstLetterUDF = spark.udf.register(\"sql_udf\", firstLetterFunction)"
   ],
   "metadata": {
    "application/vnd.databricks.v1+cell": {
     "showTitle": false,
     "cellMetadata": {},
     "nuid": "e81eebfc-d1eb-4b87-b039-e576672bcecc",
     "inputWidgets": {},
     "title": ""
    },
    "pycharm": {
     "name": "#%%\n"
    }
   },
   "outputs": [],
   "execution_count": 0
  },
  {
   "cell_type": "code",
   "source": [
    "# You can still apply the UDF from Python\n",
    "display(salesDF.select(firstLetterUDF(col(\"email\"))))"
   ],
   "metadata": {
    "application/vnd.databricks.v1+cell": {
     "showTitle": false,
     "cellMetadata": {},
     "nuid": "88a0311a-0699-4885-84e4-5ba6cb43fd8a",
     "inputWidgets": {},
     "title": ""
    },
    "pycharm": {
     "name": "#%%\n"
    }
   },
   "outputs": [],
   "execution_count": 0
  },
  {
   "cell_type": "code",
   "source": [
    "%sql\n",
    "-- You can now also apply the UDF from SQL\n",
    "SELECT sql_udf(email) AS firstLetter FROM sales"
   ],
   "metadata": {
    "application/vnd.databricks.v1+cell": {
     "showTitle": false,
     "cellMetadata": {},
     "nuid": "de6be98c-2d01-4807-b4e8-588a3eb492fd",
     "inputWidgets": {},
     "title": ""
    },
    "pycharm": {
     "name": "#%%\n"
    }
   },
   "outputs": [],
   "execution_count": 0
  },
  {
   "cell_type": "markdown",
   "source": [
    "### Use Decorator Syntax (Python Only)\n",
    "\n",
    "Alternatively, you can define and register a UDF using <a href=\"https://realpython.com/primer-on-python-decorators/\" target=\"_blank\">Python decorator syntax</a>. The `@udf` decorator parameter is the Column datatype the function returns.\n",
    "\n",
    "You will no longer be able to call the local Python function (i.e., `firstLetterUDF(\"annagray@kaufman.com\")` will not work).\n",
    "\n",
    "<img src=\"https://files.training.databricks.com/images/icon_note_32.png\" alt=\"Note\"> This example also uses <a href=\"https://docs.python.org/3/library/typing.html\" target=\"_blank\">Python type hints</a>, which were introduced in Python 3.5. Type hints are not required for this example, but instead serve as \"documentation\" to help developers use the function correctly. They are used in this example to emphasize that the UDF processes one record at a time, taking a single `str` argument and returning a `str` value."
   ],
   "metadata": {
    "application/vnd.databricks.v1+cell": {
     "showTitle": false,
     "cellMetadata": {},
     "nuid": "e30ac81e-f0de-4da8-b6e1-1319f3887594",
     "inputWidgets": {},
     "title": ""
    },
    "pycharm": {
     "name": "#%% md\n"
    }
   }
  },
  {
   "cell_type": "code",
   "source": [
    "# Our input/output is a string\n",
    "@udf(\"string\")\n",
    "def firstLetterUDF(email: str) -> str:\n",
    "    return email[0]"
   ],
   "metadata": {
    "application/vnd.databricks.v1+cell": {
     "showTitle": false,
     "cellMetadata": {},
     "nuid": "d57b9dc5-1b0b-4ca8-8964-94c78187a774",
     "inputWidgets": {},
     "title": ""
    },
    "pycharm": {
     "name": "#%%\n"
    }
   },
   "outputs": [],
   "execution_count": 0
  },
  {
   "cell_type": "markdown",
   "source": [
    "And let's use our decorator UDF here."
   ],
   "metadata": {
    "application/vnd.databricks.v1+cell": {
     "showTitle": false,
     "cellMetadata": {},
     "nuid": "6a9175ae-e699-4206-8d32-c35882dac1f0",
     "inputWidgets": {},
     "title": ""
    },
    "pycharm": {
     "name": "#%% md\n"
    }
   }
  },
  {
   "cell_type": "code",
   "source": [
    "from pyspark.sql.functions import col\n",
    "\n",
    "salesDF = spark.read.parquet(\"/mnt/training/ecommerce/sales/sales.parquet\")\n",
    "display(salesDF.select(firstLetterUDF(col(\"email\"))))"
   ],
   "metadata": {
    "application/vnd.databricks.v1+cell": {
     "showTitle": false,
     "cellMetadata": {},
     "nuid": "133a8fa5-217c-45f6-8ded-bdee9ae0ec67",
     "inputWidgets": {},
     "title": ""
    },
    "pycharm": {
     "name": "#%%\n"
    }
   },
   "outputs": [],
   "execution_count": 0
  },
  {
   "cell_type": "markdown",
   "source": [
    "### Pandas/Vectorized UDFs\n",
    "\n",
    "As of Spark 2.3, there are Pandas UDFs available in Python to improve the efficiency of UDFs. Pandas UDFs utilize Apache Arrow to speed up computation.\n",
    "\n",
    "* <a href=\"https://databricks.com/blog/2017/10/30/introducing-vectorized-udfs-for-pyspark.html\" target=\"_blank\">Blog post</a>\n",
    "* <a href=\"https://spark.apache.org/docs/latest/api/python/user_guide/sql/arrow_pandas.html?highlight=arrow\" target=\"_blank\">Documentation</a>\n",
    "\n",
    "<img src=\"https://databricks.com/wp-content/uploads/2017/10/image1-4.png\" alt=\"Benchmark\" width =\"500\" height=\"1500\">\n",
    "\n",
    "The user-defined functions are executed using: \n",
    "* <a href=\"https://arrow.apache.org/\" target=\"_blank\">Apache Arrow</a>, an in-memory columnar data format that is used in Spark to efficiently transfer data between JVM and Python processes with near-zero (de)serialization cost\n",
    "* Pandas inside the function, to work with Pandas instances and APIs\n",
    "\n",
    "<img src=\"https://files.training.databricks.com/images/icon_warn_32.png\" alt=\"Warning\"> As of Spark 3.0, you should **always** define your Pandas UDF using Python type hints."
   ],
   "metadata": {
    "application/vnd.databricks.v1+cell": {
     "showTitle": false,
     "cellMetadata": {},
     "nuid": "d5dd7917-dec6-40ed-8877-1c7009cff155",
     "inputWidgets": {},
     "title": ""
    },
    "pycharm": {
     "name": "#%% md\n"
    }
   }
  },
  {
   "cell_type": "code",
   "source": [
    "import pandas as pd\n",
    "from pyspark.sql.functions import pandas_udf\n",
    "\n",
    "# We have a string input/output\n",
    "@pandas_udf(\"string\")\n",
    "def vectorizedUDF(email: pd.Series) -> pd.Series:\n",
    "    return email.str[0]\n",
    "\n",
    "# Alternatively\n",
    "# def vectorizedUDF(email: pd.Series) -> pd.Series:\n",
    "#     return email.str[0]\n",
    "# vectorizedUDF = pandas_udf(vectorizedUDF, \"string\")"
   ],
   "metadata": {
    "application/vnd.databricks.v1+cell": {
     "showTitle": false,
     "cellMetadata": {},
     "nuid": "ba5713d2-210a-4d3d-aaee-dc6214ec39ae",
     "inputWidgets": {},
     "title": ""
    },
    "pycharm": {
     "name": "#%%\n"
    }
   },
   "outputs": [],
   "execution_count": 0
  },
  {
   "cell_type": "code",
   "source": [
    "display(salesDF.select(vectorizedUDF(col(\"email\"))))"
   ],
   "metadata": {
    "application/vnd.databricks.v1+cell": {
     "showTitle": false,
     "cellMetadata": {},
     "nuid": "14bd6cfe-cc1c-401d-b880-c8203214bb8c",
     "inputWidgets": {},
     "title": ""
    },
    "pycharm": {
     "name": "#%%\n"
    }
   },
   "outputs": [],
   "execution_count": 0
  },
  {
   "cell_type": "markdown",
   "source": [
    "We can also register these Pandas UDFs to the SQL namespace."
   ],
   "metadata": {
    "application/vnd.databricks.v1+cell": {
     "showTitle": false,
     "cellMetadata": {},
     "nuid": "a8496907-65e8-4435-b7f7-ba04415ea550",
     "inputWidgets": {},
     "title": ""
    },
    "pycharm": {
     "name": "#%% md\n"
    }
   }
  },
  {
   "cell_type": "code",
   "source": [
    "spark.udf.register(\"sql_vectorized_udf\", vectorizedUDF)"
   ],
   "metadata": {
    "application/vnd.databricks.v1+cell": {
     "showTitle": false,
     "cellMetadata": {},
     "nuid": "d4cef90f-41db-4ebf-a855-a1862da01340",
     "inputWidgets": {},
     "title": ""
    },
    "pycharm": {
     "name": "#%%\n"
    }
   },
   "outputs": [],
   "execution_count": 0
  },
  {
   "cell_type": "code",
   "source": [
    "%sql\n",
    "-- Use the Pandas UDF from SQL\n",
    "SELECT sql_vectorized_udf(email) AS firstLetter FROM sales"
   ],
   "metadata": {
    "application/vnd.databricks.v1+cell": {
     "showTitle": false,
     "cellMetadata": {},
     "nuid": "158f95d8-5da0-4161-8754-9236809f365f",
     "inputWidgets": {},
     "title": ""
    },
    "pycharm": {
     "name": "#%%\n"
    }
   },
   "outputs": [],
   "execution_count": 0
  },
  {
   "cell_type": "markdown",
   "source": [
    "# Sort Day Lab\n",
    "\n",
    "##### Tasks\n",
    "1. Define a UDF to label the day of week\n",
    "1. Apply the UDF to label and sort by day of week\n",
    "1. Plot active users by day of week as a bar graph"
   ],
   "metadata": {
    "application/vnd.databricks.v1+cell": {
     "showTitle": false,
     "cellMetadata": {},
     "nuid": "eb054eef-0f3d-495b-8ddc-495dc3348a3c",
     "inputWidgets": {},
     "title": ""
    },
    "pycharm": {
     "name": "#%% md\n"
    }
   }
  },
  {
   "cell_type": "markdown",
   "source": [
    "Start with a DataFrame of the average number of active users by day of week.\n",
    "\n",
    "This was the resulting `df` in a previous lab."
   ],
   "metadata": {
    "application/vnd.databricks.v1+cell": {
     "showTitle": false,
     "cellMetadata": {},
     "nuid": "3a50027b-df33-45d0-a3d7-7078ebeda33b",
     "inputWidgets": {},
     "title": ""
    },
    "pycharm": {
     "name": "#%% md\n"
    }
   }
  },
  {
   "cell_type": "code",
   "source": [
    "from pyspark.sql.functions import approx_count_distinct, avg, col, date_format, to_date\n",
    "\n",
    "df = (spark\n",
    "      .read\n",
    "      .parquet(eventsPath)\n",
    "      .withColumn(\"ts\", (col(\"event_timestamp\") / 1e6).cast(\"timestamp\"))\n",
    "      .withColumn(\"date\", to_date(\"ts\"))\n",
    "      .groupBy(\"date\").agg(approx_count_distinct(\"user_id\").alias(\"active_users\"))\n",
    "      .withColumn(\"day\", date_format(col(\"date\"), \"E\"))\n",
    "      .groupBy(\"day\").agg(avg(col(\"active_users\")).alias(\"avg_users\"))\n",
    "     )\n",
    "\n",
    "display(df)"
   ],
   "metadata": {
    "application/vnd.databricks.v1+cell": {
     "showTitle": false,
     "cellMetadata": {},
     "nuid": "5a0ffa70-9600-4e9e-92cc-fdda6f5b631e",
     "inputWidgets": {},
     "title": ""
    },
    "pycharm": {
     "name": "#%%\n"
    }
   },
   "outputs": [],
   "execution_count": 0
  },
  {
   "cell_type": "markdown",
   "source": [
    "### 1. Define UDF to label day of week\n",
    "\n",
    "Use the **`labelDayOfWeek`** function provided below to create the UDF **`labelDowUDF`**"
   ],
   "metadata": {
    "application/vnd.databricks.v1+cell": {
     "showTitle": false,
     "cellMetadata": {},
     "nuid": "a86b4d57-4b6f-4586-a80c-d7adaa871b85",
     "inputWidgets": {},
     "title": ""
    },
    "pycharm": {
     "name": "#%% md\n"
    }
   }
  },
  {
   "cell_type": "code",
   "source": [
    "def labelDayOfWeek(day: str) -> str:\n",
    "    dow = {\"Mon\": \"1\", \"Tue\": \"2\", \"Wed\": \"3\", \"Thu\": \"4\",\n",
    "           \"Fri\": \"5\", \"Sat\": \"6\", \"Sun\": \"7\"}\n",
    "    return dow.get(day) + \"-\" + day"
   ],
   "metadata": {
    "application/vnd.databricks.v1+cell": {
     "showTitle": false,
     "cellMetadata": {},
     "nuid": "d9bfb1a0-d327-42d1-abf7-41a3f40386b8",
     "inputWidgets": {},
     "title": ""
    },
    "pycharm": {
     "name": "#%%\n"
    }
   },
   "outputs": [],
   "execution_count": 0
  },
  {
   "cell_type": "code",
   "source": [
    "# TODO\n",
    "labelDowUDF = FILL_IN"
   ],
   "metadata": {
    "application/vnd.databricks.v1+cell": {
     "showTitle": false,
     "cellMetadata": {},
     "nuid": "291308c5-35ef-4c51-9e63-0ebe8a6a713e",
     "inputWidgets": {},
     "title": ""
    },
    "pycharm": {
     "name": "#%%\n"
    }
   },
   "outputs": [],
   "execution_count": 0
  },
  {
   "cell_type": "markdown",
   "source": [
    "### 2. Apply UDF to label and sort by day of week\n",
    "- Update the **`day`** column by applying the UDF and replacing this column\n",
    "- Sort by **`day`**\n",
    "- Plot as a bar graph"
   ],
   "metadata": {
    "application/vnd.databricks.v1+cell": {
     "showTitle": false,
     "cellMetadata": {},
     "nuid": "415a0d34-7890-44f8-8d36-efca1ed5618b",
     "inputWidgets": {},
     "title": ""
    },
    "pycharm": {
     "name": "#%% md\n"
    }
   }
  },
  {
   "cell_type": "code",
   "source": [
    "# TODO\n",
    "finalDF = FILL_IN\n",
    "\n",
    "display(finalDF)"
   ],
   "metadata": {
    "application/vnd.databricks.v1+cell": {
     "showTitle": false,
     "cellMetadata": {},
     "nuid": "af0aafd9-1a45-490e-9afc-19b626616a67",
     "inputWidgets": {},
     "title": ""
    },
    "pycharm": {
     "name": "#%%\n"
    }
   },
   "outputs": [],
   "execution_count": 0
  },
  {
   "cell_type": "markdown",
   "source": [
    "### Clean up classroom"
   ],
   "metadata": {
    "application/vnd.databricks.v1+cell": {
     "showTitle": false,
     "cellMetadata": {},
     "nuid": "897379c6-cea7-434b-a61c-437cad4185fe",
     "inputWidgets": {},
     "title": ""
    },
    "pycharm": {
     "name": "#%% md\n"
    }
   }
  },
  {
   "cell_type": "code",
   "source": [
    "%run ./Includes/Classroom-Cleanup"
   ],
   "metadata": {
    "application/vnd.databricks.v1+cell": {
     "showTitle": false,
     "cellMetadata": {},
     "nuid": "13ce6594-6e73-4bb8-9116-f3b616562eab",
     "inputWidgets": {},
     "title": ""
    },
    "pycharm": {
     "name": "#%%\n"
    }
   },
   "outputs": [],
   "execution_count": 0
  }
 ],
 "metadata": {
  "application/vnd.databricks.v1+notebook": {
   "notebookName": "ASP 2.5 - UDFs",
   "dashboards": [],
   "notebookMetadata": {
    "pythonIndentUnit": 2
   },
   "language": "python",
   "widgets": {},
   "notebookOrigID": 4185566132527435
  }
 },
 "nbformat": 4,
 "nbformat_minor": 0
}