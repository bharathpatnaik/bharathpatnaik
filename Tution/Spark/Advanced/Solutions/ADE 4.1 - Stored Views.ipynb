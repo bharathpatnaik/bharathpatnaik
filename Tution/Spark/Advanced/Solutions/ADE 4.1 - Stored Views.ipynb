{
 "cells": [
  {
   "cell_type": "markdown",
   "source": [
    "# Stored Views\n",
    "\n",
    "In this notebook, we'll give a quick overview of how stored views are created and managed. Recall that stored views differ from DataFrames and temp views by persisting to a database (allowing other users to leverage pre-defined logic to materialize results). Views register the logic required to calculate a result (which will be evaluated when the query is executed). Views defined against Delta Lake sources are guaranteed to always query the latest version of each data source.\n",
    "\n",
    "The goal of this notebook is to generate a view that allows the analysts from our partner gyms to examine how use of Moovio devices and workouts impact gym activity.\n",
    "\n",
    "<img src=\"https://files.training.databricks.com/images/ade/ADE_arch_gym_report.png\" width=\"60%\" />\n",
    "\n",
    "## Learning Objectives\n",
    "By the end of this lesson, students will be able to:\n",
    "- Display the query plan associated with a view\n",
    "- Describe how results are materialized from Delta Lake tables"
   ],
   "metadata": {
    "application/vnd.databricks.v1+cell": {
     "showTitle": false,
     "cellMetadata": {},
     "nuid": "b3f1d1fc-d29c-4548-b754-5a7de397387f",
     "inputWidgets": {},
     "title": ""
    },
    "pycharm": {
     "name": "#%% md\n"
    }
   }
  },
  {
   "cell_type": "markdown",
   "source": [
    "## Setup"
   ],
   "metadata": {
    "application/vnd.databricks.v1+cell": {
     "showTitle": false,
     "cellMetadata": {},
     "nuid": "3123e916-93f4-44f5-83eb-c8e6a786b249",
     "inputWidgets": {},
     "title": ""
    },
    "pycharm": {
     "name": "#%% md\n"
    }
   }
  },
  {
   "cell_type": "code",
   "source": [
    "%run ../Includes/Classroom-Setup-5.1"
   ],
   "metadata": {
    "application/vnd.databricks.v1+cell": {
     "showTitle": false,
     "cellMetadata": {},
     "nuid": "978a9dd4-2563-4704-b5e8-c1f143c7075d",
     "inputWidgets": {},
     "title": ""
    },
    "pycharm": {
     "name": "#%%\n"
    }
   },
   "outputs": [],
   "execution_count": 0
  },
  {
   "cell_type": "markdown",
   "source": [
    "## Examine Gym Logs\n",
    "\n",
    "Start by reviewing the schema for your gym logs."
   ],
   "metadata": {
    "application/vnd.databricks.v1+cell": {
     "showTitle": false,
     "cellMetadata": {},
     "nuid": "a445c472-897f-492b-ae42-35ed6f6f5d05",
     "inputWidgets": {},
     "title": ""
    },
    "pycharm": {
     "name": "#%% md\n"
    }
   }
  },
  {
   "cell_type": "code",
   "source": [
    "gymDF = spark.table(\"gym_mac_logs\")\n",
    "gymDF.printSchema()"
   ],
   "metadata": {
    "application/vnd.databricks.v1+cell": {
     "showTitle": false,
     "cellMetadata": {},
     "nuid": "2d1de861-e0f8-4f10-879b-155ef08d75d4",
     "inputWidgets": {},
     "title": ""
    },
    "pycharm": {
     "name": "#%%\n"
    }
   },
   "outputs": [],
   "execution_count": 0
  },
  {
   "cell_type": "markdown",
   "source": [
    "A Spark DataFrame and a view are nearly identical constructs. By calling **`explain`** on our DataFrame, we can see that our source table is a set of instructions to deserialize the files containing our data."
   ],
   "metadata": {
    "application/vnd.databricks.v1+cell": {
     "showTitle": false,
     "cellMetadata": {},
     "nuid": "9d8ae8bb-3f5b-4d99-ae52-5ad8c0ecf089",
     "inputWidgets": {},
     "title": ""
    },
    "pycharm": {
     "name": "#%% md\n"
    }
   }
  },
  {
   "cell_type": "code",
   "source": [
    "gymDF.explain(\"formatted\")"
   ],
   "metadata": {
    "application/vnd.databricks.v1+cell": {
     "showTitle": false,
     "cellMetadata": {},
     "nuid": "7597ba4e-f122-49ad-9ab5-eebf32669371",
     "inputWidgets": {},
     "title": ""
    },
    "pycharm": {
     "name": "#%%\n"
    }
   },
   "outputs": [],
   "execution_count": 0
  },
  {
   "cell_type": "markdown",
   "source": [
    "## Examine Workout Data\n",
    "\n",
    "Rather than trying to capture every possible metric in our view, we'll create a summary of values that might be of interest to our gym analysts.\n",
    "\n",
    "The data we're receiving from our gyms indicates the first and last timestamp recorded for user devices, indicated by mac address."
   ],
   "metadata": {
    "application/vnd.databricks.v1+cell": {
     "showTitle": false,
     "cellMetadata": {},
     "nuid": "e6016a1f-2758-44a6-9ee4-ecbc7e0478b0",
     "inputWidgets": {},
     "title": ""
    },
    "pycharm": {
     "name": "#%% md\n"
    }
   }
  },
  {
   "cell_type": "code",
   "source": [
    "%sql\n",
    "SELECT * FROM gym_mac_logs"
   ],
   "metadata": {
    "application/vnd.databricks.v1+cell": {
     "showTitle": false,
     "cellMetadata": {},
     "nuid": "2b83e0ca-4a97-465a-ab37-51a46399a86d",
     "inputWidgets": {},
     "title": ""
    },
    "pycharm": {
     "name": "#%%\n"
    }
   },
   "outputs": [],
   "execution_count": 0
  },
  {
   "cell_type": "markdown",
   "source": [
    "## Construct a Query\n",
    "\n",
    "Our **`completed_workouts`** table indicates start and stop time for each user workout.\n",
    "\n",
    "Use the cell below to construct a query that identifies:\n",
    "- Each date a user completed at least one workout\n",
    "- The earliest **`start_time`** for any workout each day\n",
    "- The latest **`end_time`** for any workout each day\n",
    "- The list of all workouts completed by a user each day"
   ],
   "metadata": {
    "application/vnd.databricks.v1+cell": {
     "showTitle": false,
     "cellMetadata": {},
     "nuid": "68fde9e0-3bab-455e-a6c3-8a9a05dee40b",
     "inputWidgets": {},
     "title": ""
    },
    "pycharm": {
     "name": "#%% md\n"
    }
   }
  },
  {
   "cell_type": "code",
   "source": [
    "%sql\n",
    "-- ANSWER\n",
    "SELECT user_id, to_date(start_time) date, collect_set(workout_id), min(start_time), max(end_time)\n",
    "FROM completed_workouts\n",
    "GROUP BY user_id, to_date(start_time)"
   ],
   "metadata": {
    "application/vnd.databricks.v1+cell": {
     "showTitle": false,
     "cellMetadata": {},
     "nuid": "4177f3d5-513e-49a0-92f7-079244dec7ab",
     "inputWidgets": {},
     "title": ""
    },
    "pycharm": {
     "name": "#%%\n"
    }
   },
   "outputs": [],
   "execution_count": 0
  },
  {
   "cell_type": "markdown",
   "source": [
    "## Expand on the Query\n",
    "\n",
    "Now we'll join this data back to the MAC logs sent by the gym to create our view.\n",
    "\n",
    "We'll retain the **`mac_address`** as our identifier, which we can grab from the **`user_lookup`** table.\n",
    "\n",
    "We'll also add columns to calculate the total number of minutes elapsed during a user's visit to the gym, as well as the total number of minutes elapsed between the beginning of their first workout and the end of their final workout."
   ],
   "metadata": {
    "application/vnd.databricks.v1+cell": {
     "showTitle": false,
     "cellMetadata": {},
     "nuid": "29393d5b-0401-4144-b9e8-6f8b740f0445",
     "inputWidgets": {},
     "title": ""
    },
    "pycharm": {
     "name": "#%% md\n"
    }
   }
  },
  {
   "cell_type": "code",
   "source": [
    "%sql\n",
    "SELECT gym, mac_address, date, workouts, (last_timestamp - first_timestamp)/60 minutes_in_gym, (to_unix_timestamp(end_workout) - to_unix_timestamp(start_workout))/60 minutes_exercising\n",
    "FROM gym_mac_logs c\n",
    "INNER JOIN (\n",
    "  SELECT b.mac_address, to_date(start_time) date, collect_set(workout_id) workouts, min(start_time) start_workout, max(end_time) end_workout\n",
    "      FROM completed_workouts a\n",
    "      INNER JOIN user_lookup b\n",
    "      ON a.user_id = b.user_id\n",
    "      GROUP BY mac_address, to_date(start_time)\n",
    "  ) d\n",
    "  ON c.mac = d.mac_address AND to_date(CAST(c.first_timestamp AS timestamp)) = d.date"
   ],
   "metadata": {
    "application/vnd.databricks.v1+cell": {
     "showTitle": false,
     "cellMetadata": {},
     "nuid": "f171bfef-36a8-4450-9fde-573da91dceda",
     "inputWidgets": {},
     "title": ""
    },
    "pycharm": {
     "name": "#%%\n"
    }
   },
   "outputs": [],
   "execution_count": 0
  },
  {
   "cell_type": "markdown",
   "source": [
    "## Register View with Final Logic\n",
    "\n",
    "Create a (non-temporary) view called **`gym_user_stats`** using the query above.\n",
    "\n",
    "**`CREATE VIEW IF NOT EXISTS gym_user_stats AS (...)`**"
   ],
   "metadata": {
    "application/vnd.databricks.v1+cell": {
     "showTitle": false,
     "cellMetadata": {},
     "nuid": "88174360-f4a3-4306-9206-298463a40e4b",
     "inputWidgets": {},
     "title": ""
    },
    "pycharm": {
     "name": "#%% md\n"
    }
   }
  },
  {
   "cell_type": "code",
   "source": [
    "%sql\n",
    "-- ANSWER\n",
    "CREATE VIEW IF NOT EXISTS gym_user_stats AS (\n",
    "  SELECT gym, mac_address, date, workouts, (last_timestamp - first_timestamp)/60 minutes_in_gym, (to_unix_timestamp(end_workout) - to_unix_timestamp(start_workout))/60 minutes_exercising\n",
    "  FROM gym_mac_logs c\n",
    "  INNER JOIN (\n",
    "    SELECT b.mac_address, to_date(start_time) date, collect_set(workout_id) workouts, min(start_time) start_workout, max(end_time) end_workout\n",
    "        FROM completed_workouts a\n",
    "        INNER JOIN user_lookup b\n",
    "        ON a.user_id = b.user_id\n",
    "        GROUP BY mac_address, to_date(start_time)\n",
    "    ) d\n",
    "    ON c.mac = d.mac_address AND to_date(CAST(c.first_timestamp AS timestamp)) = d.date\n",
    ")"
   ],
   "metadata": {
    "application/vnd.databricks.v1+cell": {
     "showTitle": false,
     "cellMetadata": {},
     "nuid": "c22e0a2a-bd44-4c67-ac82-40fd5ea8e5a3",
     "inputWidgets": {},
     "title": ""
    },
    "pycharm": {
     "name": "#%%\n"
    }
   },
   "outputs": [],
   "execution_count": 0
  },
  {
   "cell_type": "code",
   "source": [
    "# Check your work\n",
    "assert spark.sql(\"SHOW TABLES\").filter(\"tableName='gym_user_stats'\").count() >= 1, \"View 'gym_user_stats' does not exist.\"\n",
    "assert spark.sql(\"SHOW TABLES\").filter(\"tableName='gym_user_stats'\").first()[\"isTemporary\"]==False, \"View 'gym_user_stats' should be not temporary.\"\n",
    "assert spark.sql(\"DESCRIBE EXTENDED gym_user_stats\").filter(\"col_name='Type'\").first()['data_type']=='VIEW', \"Found a table 'gym_user_stats' when a view was expected.\"\n",
    "assert spark.table(\"gym_user_stats\").count() == 304, \"Incorrect query used for view 'gym_user_stats'.\"\n",
    "print(\"All tests passed.\")"
   ],
   "metadata": {
    "application/vnd.databricks.v1+cell": {
     "showTitle": false,
     "cellMetadata": {},
     "nuid": "ad43fb2d-26d5-49de-a1e6-81ebbfdc35b0",
     "inputWidgets": {},
     "title": ""
    },
    "pycharm": {
     "name": "#%%\n"
    }
   },
   "outputs": [],
   "execution_count": 0
  },
  {
   "cell_type": "markdown",
   "source": [
    "We can see that our view is simply storing the Spark plan for our query."
   ],
   "metadata": {
    "application/vnd.databricks.v1+cell": {
     "showTitle": false,
     "cellMetadata": {},
     "nuid": "2277f2ae-f8a3-458e-b86f-be897ac1590b",
     "inputWidgets": {},
     "title": ""
    },
    "pycharm": {
     "name": "#%% md\n"
    }
   }
  },
  {
   "cell_type": "code",
   "source": [
    "spark.table(\"gym_user_stats\").explain(\"formatted\")"
   ],
   "metadata": {
    "application/vnd.databricks.v1+cell": {
     "showTitle": false,
     "cellMetadata": {},
     "nuid": "b9dc9321-9002-4773-96dc-7a520c6195bc",
     "inputWidgets": {},
     "title": ""
    },
    "pycharm": {
     "name": "#%%\n"
    }
   },
   "outputs": [],
   "execution_count": 0
  },
  {
   "cell_type": "markdown",
   "source": [
    "When we execute a query against this view, we will process the plan to generate the logically correct result.\n",
    "\n",
    "Note that while the data may end up in the Delta Cache, this result is not guaranteed to be persisted, and is only cached for the currently active cluster."
   ],
   "metadata": {
    "application/vnd.databricks.v1+cell": {
     "showTitle": false,
     "cellMetadata": {},
     "nuid": "9e8acd71-c39d-457b-8275-46cfd39b3da0",
     "inputWidgets": {},
     "title": ""
    },
    "pycharm": {
     "name": "#%% md\n"
    }
   }
  },
  {
   "cell_type": "code",
   "source": [
    "%sql\n",
    "SELECT *\n",
    "FROM gym_user_stats\n",
    "WHERE gym = 5"
   ],
   "metadata": {
    "application/vnd.databricks.v1+cell": {
     "showTitle": false,
     "cellMetadata": {},
     "nuid": "5c6bc500-2205-4968-a963-af041b3064ef",
     "inputWidgets": {},
     "title": ""
    },
    "pycharm": {
     "name": "#%%\n"
    }
   },
   "outputs": [],
   "execution_count": 0
  },
  {
   "cell_type": "markdown",
   "source": [
    "## An Aside on ACLs\n",
    "\n",
    "While Databricks has extensive support for ACLs, by default these are not enforced for standard data engineering clusters. As such, the default permissions for this view are set to all users, and no owner has been declared."
   ],
   "metadata": {
    "application/vnd.databricks.v1+cell": {
     "showTitle": false,
     "cellMetadata": {},
     "nuid": "d8f4f252-ca2d-48de-a1f6-6071104d365e",
     "inputWidgets": {},
     "title": ""
    },
    "pycharm": {
     "name": "#%% md\n"
    }
   }
  },
  {
   "cell_type": "code",
   "source": [
    "import py4j\n",
    "\n",
    "try:\n",
    "    spark.sql(\"SHOW GRANT ON VIEW gym_user_stats\")\n",
    "    \n",
    "except py4j.protocol.Py4JJavaError as e:\n",
    "    print(\"Error: \" + e.java_exception.getMessage())\n",
    "    print(\"Solution: Consider enabling Table Access Control to demonstrate this feature.\")"
   ],
   "metadata": {
    "application/vnd.databricks.v1+cell": {
     "showTitle": false,
     "cellMetadata": {},
     "nuid": "672a91a0-ac47-407c-881e-edecd3a560f2",
     "inputWidgets": {},
     "title": ""
    },
    "pycharm": {
     "name": "#%%\n"
    }
   },
   "outputs": [],
   "execution_count": 0
  },
  {
   "cell_type": "markdown",
   "source": [
    "While the privileges for this view may not be especially sensitive, we can see that our bronze table (which contains ALL our raw data) is also currently stored in this fashion.\n",
    "\n",
    "Again, ACLs are primarily intended for managing data access within the Databricks workspace for BI and data science use cases. For sensitive data engineering data, you will want to make sure that you limit access to the storage containers using your cloud identity management."
   ],
   "metadata": {
    "application/vnd.databricks.v1+cell": {
     "showTitle": false,
     "cellMetadata": {},
     "nuid": "731db6c7-74f0-4adc-91c7-107299bf99e7",
     "inputWidgets": {},
     "title": ""
    },
    "pycharm": {
     "name": "#%% md\n"
    }
   }
  },
  {
   "cell_type": "code",
   "source": [
    "try:\n",
    "    spark.sql(\"SHOW GRANT ON TABLE bronze\")\n",
    "    \n",
    "except py4j.protocol.Py4JJavaError as e:\n",
    "    print(\"Error: \" + e.java_exception.getMessage())\n",
    "    print(\"Solution: Consider enabling Table Access Control to demonstrate this feature.\")"
   ],
   "metadata": {
    "application/vnd.databricks.v1+cell": {
     "showTitle": false,
     "cellMetadata": {},
     "nuid": "d536654f-2aa2-4a2a-b750-c00c134f6bf5",
     "inputWidgets": {},
     "title": ""
    },
    "pycharm": {
     "name": "#%%\n"
    }
   },
   "outputs": [],
   "execution_count": 0
  },
  {
   "cell_type": "markdown",
   "source": [
    "Run the following cell to delete the tables and files associated with this lesson."
   ],
   "metadata": {
    "application/vnd.databricks.v1+cell": {
     "showTitle": false,
     "cellMetadata": {},
     "nuid": "e959081c-8fc6-4c00-9950-d39a7f65750d",
     "inputWidgets": {},
     "title": ""
    },
    "pycharm": {
     "name": "#%% md\n"
    }
   }
  },
  {
   "cell_type": "code",
   "source": [
    "DA.cleanup()"
   ],
   "metadata": {
    "application/vnd.databricks.v1+cell": {
     "showTitle": false,
     "cellMetadata": {},
     "nuid": "deceb596-853d-47fc-9fea-637ef7df6a27",
     "inputWidgets": {},
     "title": ""
    },
    "pycharm": {
     "name": "#%%\n"
    }
   },
   "outputs": [],
   "execution_count": 0
  }
 ],
 "metadata": {
  "application/vnd.databricks.v1+notebook": {
   "notebookName": "ADE 4.1 - Stored Views",
   "dashboards": [],
   "notebookMetadata": {
    "pythonIndentUnit": 2
   },
   "language": "python",
   "widgets": {},
   "notebookOrigID": 4185566132529167
  }
 },
 "nbformat": 4,
 "nbformat_minor": 0
}