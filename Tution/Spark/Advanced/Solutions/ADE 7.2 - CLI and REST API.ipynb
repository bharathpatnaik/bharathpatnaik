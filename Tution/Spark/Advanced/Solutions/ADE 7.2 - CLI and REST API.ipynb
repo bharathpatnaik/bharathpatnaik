{
 "cells": [
  {
   "cell_type": "markdown",
   "source": [
    "# CLI and REST API Lab\n",
    "\n",
    "Import this Git repo into your Databricks workspace: [cli-demo](https://github.com/databricks-academy/cli-demo)\n",
    "\n",
    "Then, navigate to the following Markdown files to access demo instructions for this lesson.\n",
    "| Demo | File Path |\n",
    "| --- | --- |\n",
    "| Working with the Databricks CLI | [cli-demo/cli-orch.md](https://github.com/databricks-academy/cli-demo/blob/published/cli-orch.md) |\n",
    "| Configuring and Using the Databricks REST API | [cli-demo/api-demo.md](https://github.com/databricks-academy/cli-demo/blob/published/api-demo.md) |"
   ],
   "metadata": {
    "application/vnd.databricks.v1+cell": {
     "showTitle": false,
     "cellMetadata": {},
     "nuid": "eb5a6eee-f798-4fc5-a3e6-87bddfb5f41b",
     "inputWidgets": {},
     "title": ""
    },
    "pycharm": {
     "name": "#%% md\n"
    }
   }
  }
 ],
 "metadata": {
  "application/vnd.databricks.v1+notebook": {
   "notebookName": "ADE 7.2 - CLI and REST API",
   "dashboards": [],
   "notebookMetadata": {
    "pythonIndentUnit": 2
   },
   "language": "python",
   "widgets": {},
   "notebookOrigID": 4185566132528681
  }
 },
 "nbformat": 4,
 "nbformat_minor": 0
}