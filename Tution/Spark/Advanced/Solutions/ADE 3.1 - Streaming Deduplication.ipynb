{
 "cells": [
  {
   "cell_type": "markdown",
   "source": [
    "# Streaming Deduplication\n",
    "\n",
    "In this notebook, you'll learn how to eliminate duplicate records while working with Structured Streaming and Delta Lake. While Spark Structured Streaming provides exactly-once processing guarantees, many source systems will introduce duplicate records, which must be removed in order for joins and updates to produce logically correct results in downstream queries.\n",
    "\n",
    "## Learning Objectives\n",
    "By the end of this lesson, you should be able to:\n",
    "- Apply **`dropDuplicates`** to streaming data\n",
    "- Use watermarking to manage state information\n",
    "- Write an insert-only merge to prevent inserting duplicate records into a Delta table\n",
    "- Use **`foreachBatch`** to perform a streaming upsert"
   ],
   "metadata": {
    "application/vnd.databricks.v1+cell": {
     "showTitle": false,
     "cellMetadata": {},
     "nuid": "c1543706-7811-4040-85c7-2bff3c615f4f",
     "inputWidgets": {},
     "title": ""
    },
    "pycharm": {
     "name": "#%% md\n"
    }
   }
  },
  {
   "cell_type": "markdown",
   "source": [
    "## Setup\n",
    "Declare a database and set all path variables."
   ],
   "metadata": {
    "application/vnd.databricks.v1+cell": {
     "showTitle": false,
     "cellMetadata": {},
     "nuid": "59a39e95-9766-409d-90ea-3b1536fc8215",
     "inputWidgets": {},
     "title": ""
    },
    "pycharm": {
     "name": "#%% md\n"
    }
   }
  },
  {
   "cell_type": "code",
   "source": [
    "%run ../Includes/Classroom-Setup-4.1"
   ],
   "metadata": {
    "application/vnd.databricks.v1+cell": {
     "showTitle": false,
     "cellMetadata": {},
     "nuid": "88c780d0-d74d-478d-8e4f-639ea5c24abf",
     "inputWidgets": {},
     "title": ""
    },
    "pycharm": {
     "name": "#%%\n"
    }
   },
   "outputs": [],
   "execution_count": 0
  },
  {
   "cell_type": "markdown",
   "source": [
    "## Identify Duplicate Records\n",
    "\n",
    "Because Kafka provides at-least-once guarantees on data delivery, all Kafka consumers should be prepared to handle duplicate records.\n",
    "\n",
    "The de-duplication methods shown here can also be applied when necessary in other parts of your Delta Lake applications.\n",
    "\n",
    "Let's start by identifying the number of duplicate records in our **`bpm`** topic of the bronze table."
   ],
   "metadata": {
    "application/vnd.databricks.v1+cell": {
     "showTitle": false,
     "cellMetadata": {},
     "nuid": "38dc99dc-31a2-4b35-b7b2-fcd973495735",
     "inputWidgets": {},
     "title": ""
    },
    "pycharm": {
     "name": "#%% md\n"
    }
   }
  },
  {
   "cell_type": "code",
   "source": [
    "total = (spark.read\n",
    "              .table(\"bronze\")\n",
    "              .filter(\"topic = 'bpm'\")\n",
    "              .count())\n",
    "\n",
    "print(f\"Total: {total:,}\")"
   ],
   "metadata": {
    "application/vnd.databricks.v1+cell": {
     "showTitle": false,
     "cellMetadata": {},
     "nuid": "ef6aafbb-a0dc-49bd-ae04-c7d58f2000b1",
     "inputWidgets": {},
     "title": ""
    },
    "pycharm": {
     "name": "#%%\n"
    }
   },
   "outputs": [],
   "execution_count": 0
  },
  {
   "cell_type": "code",
   "source": [
    "from pyspark.sql import functions as F\n",
    "\n",
    "json_schema = \"device_id LONG, time TIMESTAMP, heartrate DOUBLE\"\n",
    "\n",
    "old_total = (spark.read\n",
    "                  .table(\"bronze\")\n",
    "                  .filter(\"topic = 'bpm'\")\n",
    "                  .select(F.from_json(F.col(\"value\").cast(\"string\"), json_schema).alias(\"v\"))\n",
    "                  .select(\"v.*\")\n",
    "                  .dropDuplicates([\"device_id\", \"time\"])\n",
    "                  .count())\n",
    "\n",
    "print(f\"Old Total: {old_total:,}\")"
   ],
   "metadata": {
    "application/vnd.databricks.v1+cell": {
     "showTitle": false,
     "cellMetadata": {},
     "nuid": "2a0b1c92-a89b-426e-a87a-446df39f8e4c",
     "inputWidgets": {},
     "title": ""
    },
    "pycharm": {
     "name": "#%%\n"
    }
   },
   "outputs": [],
   "execution_count": 0
  },
  {
   "cell_type": "markdown",
   "source": [
    "It appears that around 10-20% of our records are duplicates. Note that here we're choosing to apply deduplication at the silver rather than the bronze level. While we are storing some duplicate records, our bronze table retains a history of the true state of our streaming source, presenting all records as they arrived (with some additional metadata recorded). This allows us to recreate any state of our downstream system, if necessary, and prevents potential data loss due to overly aggressive quality enforcement at the initial ingestion as well as minimizing latencies for data ingestion."
   ],
   "metadata": {
    "application/vnd.databricks.v1+cell": {
     "showTitle": false,
     "cellMetadata": {},
     "nuid": "9a791bd3-082b-4336-aa32-5ba018548245",
     "inputWidgets": {},
     "title": ""
    },
    "pycharm": {
     "name": "#%% md\n"
    }
   }
  },
  {
   "cell_type": "markdown",
   "source": [
    "## Define a Streaming Read on the Bronze BPM Records\n",
    "\n",
    "Here we'll bring back in our final logic from our last notebook."
   ],
   "metadata": {
    "application/vnd.databricks.v1+cell": {
     "showTitle": false,
     "cellMetadata": {},
     "nuid": "fa849ff8-b0c7-4a84-b4b5-7a22ddaec171",
     "inputWidgets": {},
     "title": ""
    },
    "pycharm": {
     "name": "#%% md\n"
    }
   }
  },
  {
   "cell_type": "code",
   "source": [
    "json_schema = \"device_id LONG, time TIMESTAMP, heartrate DOUBLE\"\n",
    "\n",
    "bpm_df = (spark.readStream\n",
    "               .table(\"bronze\")\n",
    "               .filter(\"topic = 'bpm'\")\n",
    "               .select(F.from_json(F.col(\"value\").cast(\"string\"), json_schema).alias(\"v\"))\n",
    "               .select(\"v.*\"))"
   ],
   "metadata": {
    "application/vnd.databricks.v1+cell": {
     "showTitle": false,
     "cellMetadata": {},
     "nuid": "7804de65-3f7b-4458-aeff-2d0d76a591c0",
     "inputWidgets": {},
     "title": ""
    },
    "pycharm": {
     "name": "#%%\n"
    }
   },
   "outputs": [],
   "execution_count": 0
  },
  {
   "cell_type": "markdown",
   "source": [
    "When dealing with streaming deduplication, there is a level of complexity compared to static data.\n",
    "\n",
    "As each micro-batch is processed, we need to ensure:\n",
    "- No duplicate records exist in the microbatch\n",
    "- Records to be inserted are not already in the target table\n",
    "\n",
    "Spark Structured Streaming can track state information for the unique keys to ensure that duplicate records do not exist within or between microbatches. Over time, this state information will scale to represent all history. Applying a watermark of appropriate duration allows us to only track state information for a window of time in which we reasonably expect records could be delayed. Here, we'll define that watermark as 30 seconds.\n",
    "\n",
    "The cell below updates our previous query."
   ],
   "metadata": {
    "application/vnd.databricks.v1+cell": {
     "showTitle": false,
     "cellMetadata": {},
     "nuid": "c79c4046-54de-4853-940a-1ed5af2091f2",
     "inputWidgets": {},
     "title": ""
    },
    "pycharm": {
     "name": "#%% md\n"
    }
   }
  },
  {
   "cell_type": "code",
   "source": [
    "json_schema = \"device_id LONG, time TIMESTAMP, heartrate DOUBLE\"\n",
    "\n",
    "deduped_df = (spark.readStream\n",
    "                   .table(\"bronze\")\n",
    "                   .filter(\"topic = 'bpm'\")\n",
    "                   .select(F.from_json(F.col(\"value\").cast(\"string\"), json_schema).alias(\"v\"))\n",
    "                   .select(\"v.*\")\n",
    "                   .withWatermark(\"time\", \"30 seconds\")\n",
    "                   .dropDuplicates([\"device_id\", \"time\"]))"
   ],
   "metadata": {
    "application/vnd.databricks.v1+cell": {
     "showTitle": false,
     "cellMetadata": {},
     "nuid": "14bc7c39-a886-4f60-a0a3-d7c833e75032",
     "inputWidgets": {},
     "title": ""
    },
    "pycharm": {
     "name": "#%%\n"
    }
   },
   "outputs": [],
   "execution_count": 0
  },
  {
   "cell_type": "markdown",
   "source": [
    "## Insert Only Merge\n",
    "Delta Lake has optimized functionality for insert-only merges. This operation is ideal for de-duplication: define logic to match on unique keys, and only insert those records for keys that don't already exist.\n",
    "\n",
    "Note that in this application, we proceed in this fashion because we know two records with the same matching keys represent the same information. If the later arriving records indicated a necessary change to an existing record, we would need to change our logic to include a **`WHEN MATCHED`** clause.\n",
    "\n",
    "A merge into query is defined in SQL below against a view titled **`stream_updates`**."
   ],
   "metadata": {
    "application/vnd.databricks.v1+cell": {
     "showTitle": false,
     "cellMetadata": {},
     "nuid": "7f558ec3-5843-4d2e-9f5f-7a63eee74437",
     "inputWidgets": {},
     "title": ""
    },
    "pycharm": {
     "name": "#%% md\n"
    }
   }
  },
  {
   "cell_type": "code",
   "source": [
    "sql_query = \"\"\"\n",
    "  MERGE INTO heart_rate_silver a\n",
    "  USING stream_updates b\n",
    "  ON a.device_id=b.device_id AND a.time=b.time\n",
    "  WHEN NOT MATCHED THEN INSERT *\n",
    "\"\"\""
   ],
   "metadata": {
    "application/vnd.databricks.v1+cell": {
     "showTitle": false,
     "cellMetadata": {},
     "nuid": "51ba7ab9-b423-4c23-b479-8cc095f75ed7",
     "inputWidgets": {},
     "title": ""
    },
    "pycharm": {
     "name": "#%%\n"
    }
   },
   "outputs": [],
   "execution_count": 0
  },
  {
   "cell_type": "markdown",
   "source": [
    "## Defining a Microbatch Function for **`foreachBatch`**\n",
    "\n",
    "The Spark Structured Streaming **`foreachBatch`** method allows users to define custom logic when writing.\n",
    "\n",
    "The logic applied during **`foreachBatch`** addresses the present microbatch as if it were a batch (rather than streaming) data.\n",
    "\n",
    "The class defined in the following cell defines simple logic that will allow us to register any SQL **`MERGE INTO`** query for use in a Structured Streaming write."
   ],
   "metadata": {
    "application/vnd.databricks.v1+cell": {
     "showTitle": false,
     "cellMetadata": {},
     "nuid": "6c3c9aed-5e96-4a08-94c4-ad056b1df1a0",
     "inputWidgets": {},
     "title": ""
    },
    "pycharm": {
     "name": "#%% md\n"
    }
   }
  },
  {
   "cell_type": "code",
   "source": [
    "class Upsert:\n",
    "    def __init__(self, sql_query, update_temp=\"stream_updates\"):\n",
    "        self.sql_query = sql_query\n",
    "        self.update_temp = update_temp \n",
    "        \n",
    "    def upsert_to_delta(self, microBatchDF, batch):\n",
    "        microBatchDF.createOrReplaceTempView(self.update_temp)\n",
    "        microBatchDF._jdf.sparkSession().sql(self.sql_query)"
   ],
   "metadata": {
    "application/vnd.databricks.v1+cell": {
     "showTitle": false,
     "cellMetadata": {},
     "nuid": "672e9802-9fe6-49ec-bd6b-9de185b0f654",
     "inputWidgets": {},
     "title": ""
    },
    "pycharm": {
     "name": "#%%\n"
    }
   },
   "outputs": [],
   "execution_count": 0
  },
  {
   "cell_type": "markdown",
   "source": [
    "Because we're using SQL to write to our Delta table, we'll need to make sure this table exists before we begin."
   ],
   "metadata": {
    "application/vnd.databricks.v1+cell": {
     "showTitle": false,
     "cellMetadata": {},
     "nuid": "bb2aea00-e93d-46ca-91be-f1c445904154",
     "inputWidgets": {},
     "title": ""
    },
    "pycharm": {
     "name": "#%% md\n"
    }
   }
  },
  {
   "cell_type": "code",
   "source": [
    "%sql\n",
    "\n",
    "CREATE TABLE IF NOT EXISTS heart_rate_silver \n",
    "(device_id LONG, time TIMESTAMP, heartrate DOUBLE)\n",
    "USING DELTA\n",
    "LOCATION '${da.paths.user_db}/heart_rate_silver'"
   ],
   "metadata": {
    "application/vnd.databricks.v1+cell": {
     "showTitle": false,
     "cellMetadata": {},
     "nuid": "a30b1a4a-df89-45d2-a2fb-102340f99a52",
     "inputWidgets": {},
     "title": ""
    },
    "pycharm": {
     "name": "#%%\n"
    }
   },
   "outputs": [],
   "execution_count": 0
  },
  {
   "cell_type": "markdown",
   "source": [
    "Now pass the previously defined **`sql_query`** to the **`Upsert`** class."
   ],
   "metadata": {
    "application/vnd.databricks.v1+cell": {
     "showTitle": false,
     "cellMetadata": {},
     "nuid": "03819d24-3f3f-4b20-9db2-d259a4193ac4",
     "inputWidgets": {},
     "title": ""
    },
    "pycharm": {
     "name": "#%% md\n"
    }
   }
  },
  {
   "cell_type": "code",
   "source": [
    "streaming_merge = Upsert(sql_query)"
   ],
   "metadata": {
    "application/vnd.databricks.v1+cell": {
     "showTitle": false,
     "cellMetadata": {},
     "nuid": "90b36ef0-a259-4793-ac9a-cc8d2e6b441c",
     "inputWidgets": {},
     "title": ""
    },
    "pycharm": {
     "name": "#%%\n"
    }
   },
   "outputs": [],
   "execution_count": 0
  },
  {
   "cell_type": "markdown",
   "source": [
    "And then use this class in our **`foreachBatch`** logic."
   ],
   "metadata": {
    "application/vnd.databricks.v1+cell": {
     "showTitle": false,
     "cellMetadata": {},
     "nuid": "40e9e9c8-443e-47c2-a09b-283d8c425d53",
     "inputWidgets": {},
     "title": ""
    },
    "pycharm": {
     "name": "#%% md\n"
    }
   }
  },
  {
   "cell_type": "code",
   "source": [
    "query = (deduped_df.writeStream\n",
    "                   .foreachBatch(streaming_merge.upsert_to_delta)\n",
    "                   .outputMode(\"update\")\n",
    "                   .option(\"checkpointLocation\", f\"{DA.paths.checkpoints}/recordings\")\n",
    "                   .trigger(availableNow=True)\n",
    "                   .start())\n",
    "\n",
    "query.awaitTermination()"
   ],
   "metadata": {
    "application/vnd.databricks.v1+cell": {
     "showTitle": false,
     "cellMetadata": {},
     "nuid": "55458d2b-b9cd-47c3-ab11-998b41573d7a",
     "inputWidgets": {},
     "title": ""
    },
    "pycharm": {
     "name": "#%%\n"
    }
   },
   "outputs": [],
   "execution_count": 0
  },
  {
   "cell_type": "markdown",
   "source": [
    "We can see that our number of unique entries that have been processed to the **`heart_rate_silver`** table matches our batch de-duplication query from above."
   ],
   "metadata": {
    "application/vnd.databricks.v1+cell": {
     "showTitle": false,
     "cellMetadata": {},
     "nuid": "a7689348-9283-4d9f-969e-1946d0cc6519",
     "inputWidgets": {},
     "title": ""
    },
    "pycharm": {
     "name": "#%% md\n"
    }
   }
  },
  {
   "cell_type": "code",
   "source": [
    "new_total = spark.read.table(\"heart_rate_silver\").count()\n",
    "\n",
    "print(f\"Old Total: {old_total:,}\")\n",
    "print(f\"New Total: {new_total:,}\")"
   ],
   "metadata": {
    "application/vnd.databricks.v1+cell": {
     "showTitle": false,
     "cellMetadata": {},
     "nuid": "c46ddb10-28dc-464c-9826-0479ff735fc6",
     "inputWidgets": {},
     "title": ""
    },
    "pycharm": {
     "name": "#%%\n"
    }
   },
   "outputs": [],
   "execution_count": 0
  },
  {
   "cell_type": "markdown",
   "source": [
    "Run the following cell to delete the tables and files associated with this lesson."
   ],
   "metadata": {
    "application/vnd.databricks.v1+cell": {
     "showTitle": false,
     "cellMetadata": {},
     "nuid": "f1cd6de0-91c0-45b7-b018-1fc3bf3fe3e3",
     "inputWidgets": {},
     "title": ""
    },
    "pycharm": {
     "name": "#%% md\n"
    }
   }
  },
  {
   "cell_type": "code",
   "source": [
    "DA.cleanup()"
   ],
   "metadata": {
    "application/vnd.databricks.v1+cell": {
     "showTitle": false,
     "cellMetadata": {},
     "nuid": "a726fe32-022f-4ae7-875c-ad2070206074",
     "inputWidgets": {},
     "title": ""
    },
    "pycharm": {
     "name": "#%%\n"
    }
   },
   "outputs": [],
   "execution_count": 0
  }
 ],
 "metadata": {
  "application/vnd.databricks.v1+notebook": {
   "notebookName": "ADE 3.1 - Streaming Deduplication",
   "dashboards": [],
   "notebookMetadata": {
    "pythonIndentUnit": 2
   },
   "language": "python",
   "widgets": {},
   "notebookOrigID": 4185566132529063
  }
 },
 "nbformat": 4,
 "nbformat_minor": 0
}