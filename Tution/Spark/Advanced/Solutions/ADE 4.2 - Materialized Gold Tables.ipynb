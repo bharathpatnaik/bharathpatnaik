{
 "cells": [
  {
   "cell_type": "markdown",
   "source": [
    "# Materialized Gold Tables\n",
    "\n",
    "Because the lakehouse combines on-demand compute resources with infinitely scalable cloud object storage to optimize cost and performance, the concept of a materialized view most closely maps to that of a gold table. Rather than caching the results to the view for quick access, results are stored in Delta Lake for efficient deserialization.\n",
    "\n",
    "**NOTE**: Databricks SQL leverages <a href=\"https://docs.databricks.com/sql/admin/query-caching.html#query-caching\" target=\"_blank\">Delta caching and query caching</a>, so subsequent execution of queries will use cached results.\n",
    "\n",
    "Gold tables refer to highly refined, generally aggregate views of the data persisted to Delta Lake.\n",
    "\n",
    "These tables are intended to drive core business logic, dashboards, and applications.\n",
    "\n",
    "The necessity of gold tables will evolve over time; as more analysts and data scientists use your Lakehouse, analyzing query history will reveal trends in how data is queried, when, and by whom. Collaborating across teams, data engineers and platform admins can define SLAs to make highly valuable data available to teams in a timely fashion, all while cutting down the potential costs and latency associated with larger ad hoc queries.\n",
    "\n",
    "In this notebook, we'll create a gold table that stores summary statistics about each completed workout alongside binned demographic information. In this way, our application can quickly populate statistics about how other users performed on the same workouts.\n",
    "\n",
    "<img src=\"https://files.training.databricks.com/images/ade/ADE_arch_bpm_summary.png\" width=\"60%\" />\n",
    "\n",
    "## Learning Objectives\n",
    "By the end of this lesson, students will be able to:\n",
    "- Describe performance differences between views and tables\n",
    "- Implement a streaming aggregate table"
   ],
   "metadata": {
    "application/vnd.databricks.v1+cell": {
     "showTitle": false,
     "cellMetadata": {},
     "nuid": "914cf21c-3a72-4ce4-980c-cf6b9432f0d4",
     "inputWidgets": {},
     "title": ""
    },
    "pycharm": {
     "name": "#%% md\n"
    }
   }
  },
  {
   "cell_type": "markdown",
   "source": [
    "## Setup\n",
    "Set up path and checkpoint variables (these will be used later)."
   ],
   "metadata": {
    "application/vnd.databricks.v1+cell": {
     "showTitle": false,
     "cellMetadata": {},
     "nuid": "27ad68d1-e0d0-4bb2-967a-b7c2898926e2",
     "inputWidgets": {},
     "title": ""
    },
    "pycharm": {
     "name": "#%% md\n"
    }
   }
  },
  {
   "cell_type": "code",
   "source": [
    "%run ../Includes/Classroom-Setup-5.2"
   ],
   "metadata": {
    "application/vnd.databricks.v1+cell": {
     "showTitle": false,
     "cellMetadata": {},
     "nuid": "6e1a6d74-4a31-44ea-b29b-828dc9a2bb10",
     "inputWidgets": {},
     "title": ""
    },
    "pycharm": {
     "name": "#%%\n"
    }
   },
   "outputs": [],
   "execution_count": 0
  },
  {
   "cell_type": "markdown",
   "source": [
    "## Explore Workout BPM\n",
    "Recall that our **`workout_bpm`** table has already matched all completed workouts to user bpm recordings.\n",
    "\n",
    "Explore this data below."
   ],
   "metadata": {
    "application/vnd.databricks.v1+cell": {
     "showTitle": false,
     "cellMetadata": {},
     "nuid": "636463d6-3284-4c23-8977-372ef7d1e7b0",
     "inputWidgets": {},
     "title": ""
    },
    "pycharm": {
     "name": "#%% md\n"
    }
   }
  },
  {
   "cell_type": "code",
   "source": [
    "%sql\n",
    "SELECT * \n",
    "FROM workout_bpm\n",
    "LIMIT 10"
   ],
   "metadata": {
    "application/vnd.databricks.v1+cell": {
     "showTitle": false,
     "cellMetadata": {},
     "nuid": "5c7ee865-94a8-43ee-831c-0d745ceda0e5",
     "inputWidgets": {},
     "title": ""
    },
    "pycharm": {
     "name": "#%%\n"
    }
   },
   "outputs": [],
   "execution_count": 0
  },
  {
   "cell_type": "markdown",
   "source": [
    "Here we calculate some summary statistics for our workouts."
   ],
   "metadata": {
    "application/vnd.databricks.v1+cell": {
     "showTitle": false,
     "cellMetadata": {},
     "nuid": "196f190d-4148-4dcd-bde9-d17de753bd16",
     "inputWidgets": {},
     "title": ""
    },
    "pycharm": {
     "name": "#%% md\n"
    }
   }
  },
  {
   "cell_type": "code",
   "source": [
    "%sql\n",
    "SELECT user_id, workout_id, session_id, MIN(heartrate) min_bpm, MEAN(heartrate) avg_bpm, MAX(heartrate) max_bpm, COUNT(heartrate) num_recordings\n",
    "FROM workout_bpm\n",
    "GROUP BY user_id, workout_id, session_id"
   ],
   "metadata": {
    "application/vnd.databricks.v1+cell": {
     "showTitle": false,
     "cellMetadata": {},
     "nuid": "e1e1d53e-1e9a-4fd5-b4a7-bbc09eefdec4",
     "inputWidgets": {},
     "title": ""
    },
    "pycharm": {
     "name": "#%%\n"
    }
   },
   "outputs": [],
   "execution_count": 0
  },
  {
   "cell_type": "markdown",
   "source": [
    "And now we can use our **`user_lookup`** table to match this back to our binned demographic information."
   ],
   "metadata": {
    "application/vnd.databricks.v1+cell": {
     "showTitle": false,
     "cellMetadata": {},
     "nuid": "53707910-608e-42c3-8a57-694faf498fca",
     "inputWidgets": {},
     "title": ""
    },
    "pycharm": {
     "name": "#%% md\n"
    }
   }
  },
  {
   "cell_type": "code",
   "source": [
    "%sql\n",
    "SELECT workout_id, session_id, a.user_id, age, gender, city, state, min_bpm, avg_bpm, max_bpm, num_recordings\n",
    "FROM user_bins a\n",
    "INNER JOIN \n",
    "  (SELECT user_id, workout_id, session_id, \n",
    "          min(heartrate) AS min_bpm, \n",
    "          mean(heartrate) AS avg_bpm,\n",
    "          max(heartrate) AS max_bpm, \n",
    "          count(heartrate) AS num_recordings\n",
    "   FROM workout_bpm\n",
    "   GROUP BY user_id, workout_id, session_id) b\n",
    "ON a.user_id = b.user_id"
   ],
   "metadata": {
    "application/vnd.databricks.v1+cell": {
     "showTitle": false,
     "cellMetadata": {},
     "nuid": "d1af692d-222c-4fcb-8272-0903a5359c28",
     "inputWidgets": {},
     "title": ""
    },
    "pycharm": {
     "name": "#%%\n"
    }
   },
   "outputs": [],
   "execution_count": 0
  },
  {
   "cell_type": "markdown",
   "source": [
    "## Perform an Incremental Batch Table Update\n",
    "Because our **`workout_bpm`** table was written as an append-only stream, we can update our aggregation using a streaming job as well."
   ],
   "metadata": {
    "application/vnd.databricks.v1+cell": {
     "showTitle": false,
     "cellMetadata": {},
     "nuid": "a1a9e606-a548-4d7f-8ab5-49f6cb16ff9f",
     "inputWidgets": {},
     "title": ""
    },
    "pycharm": {
     "name": "#%% md\n"
    }
   }
  },
  {
   "cell_type": "code",
   "source": [
    "(spark.readStream\n",
    "      .table(\"workout_bpm\")\n",
    "      .createOrReplaceTempView(\"TEMP_workout_bpm\"))"
   ],
   "metadata": {
    "application/vnd.databricks.v1+cell": {
     "showTitle": false,
     "cellMetadata": {},
     "nuid": "80951876-da9b-4c7d-9d74-1ea18381e997",
     "inputWidgets": {},
     "title": ""
    },
    "pycharm": {
     "name": "#%%\n"
    }
   },
   "outputs": [],
   "execution_count": 0
  },
  {
   "cell_type": "markdown",
   "source": [
    "Using trigger-available-now logic with Delta Lake, we can ensure that we'll only calculate new results if records have changed in the upstream source tables."
   ],
   "metadata": {
    "application/vnd.databricks.v1+cell": {
     "showTitle": false,
     "cellMetadata": {},
     "nuid": "65fef94a-6858-454d-ab39-8e3dc7087274",
     "inputWidgets": {},
     "title": ""
    },
    "pycharm": {
     "name": "#%% md\n"
    }
   }
  },
  {
   "cell_type": "code",
   "source": [
    "user_bins_df = spark.sql(\"\"\"\n",
    "    SELECT workout_id, session_id, a.user_id, age, gender, city, state, min_bpm, avg_bpm, max_bpm, num_recordings\n",
    "    FROM user_bins a\n",
    "    INNER JOIN\n",
    "      (SELECT user_id, workout_id, session_id, \n",
    "              min(heartrate) AS min_bpm, \n",
    "              mean(heartrate) AS avg_bpm, \n",
    "              max(heartrate) AS max_bpm, \n",
    "              count(heartrate) AS num_recordings\n",
    "       FROM TEMP_workout_bpm\n",
    "       GROUP BY user_id, workout_id, session_id) b\n",
    "    ON a.user_id = b.user_id\n",
    "    \"\"\")\n",
    "\n",
    "(user_bins_df\n",
    "     .writeStream\n",
    "     .format(\"delta\")\n",
    "     .option(\"checkpointLocation\", f\"{DA.paths.checkpoints}/workout_bpm_summary\")\n",
    "     .option(\"path\", f\"{DA.paths.user_db}/workout_bpm_summary.delta\")\n",
    "     .outputMode(\"complete\")\n",
    "     .trigger(availableNow=True)\n",
    "     .table(\"workout_bpm_summary\")\n",
    "     .awaitTermination())"
   ],
   "metadata": {
    "application/vnd.databricks.v1+cell": {
     "showTitle": false,
     "cellMetadata": {},
     "nuid": "f749c954-aaaf-46d9-afb9-7e3d31a75aed",
     "inputWidgets": {},
     "title": ""
    },
    "pycharm": {
     "name": "#%%\n"
    }
   },
   "outputs": [],
   "execution_count": 0
  },
  {
   "cell_type": "markdown",
   "source": [
    "## Query Results\n",
    "\n",
    "Note that the primary benefit to scheduling updates to gold tables as opposed to defining views is the ability to control costs associated with materializing results.\n",
    "\n",
    "While returning results from this table will use some compute to scan the **`workout_bpm_summary`** table, this design avoids having to scan and join files from multiple tables every time this data is referenced."
   ],
   "metadata": {
    "application/vnd.databricks.v1+cell": {
     "showTitle": false,
     "cellMetadata": {},
     "nuid": "03d63dc7-89c8-4406-a485-39c2d35299ae",
     "inputWidgets": {},
     "title": ""
    },
    "pycharm": {
     "name": "#%% md\n"
    }
   }
  },
  {
   "cell_type": "code",
   "source": [
    "%sql\n",
    "SELECT * FROM workout_bpm_summary"
   ],
   "metadata": {
    "application/vnd.databricks.v1+cell": {
     "showTitle": false,
     "cellMetadata": {},
     "nuid": "3f31929d-cd50-4377-b343-f4e36e76f964",
     "inputWidgets": {},
     "title": ""
    },
    "pycharm": {
     "name": "#%%\n"
    }
   },
   "outputs": [],
   "execution_count": 0
  },
  {
   "cell_type": "markdown",
   "source": [
    "Run the following cell to delete the tables and files associated with this lesson."
   ],
   "metadata": {
    "application/vnd.databricks.v1+cell": {
     "showTitle": false,
     "cellMetadata": {},
     "nuid": "44500f28-f50e-49c7-bc86-9bf8543f3b56",
     "inputWidgets": {},
     "title": ""
    },
    "pycharm": {
     "name": "#%% md\n"
    }
   }
  },
  {
   "cell_type": "code",
   "source": [
    "DA.cleanup()"
   ],
   "metadata": {
    "application/vnd.databricks.v1+cell": {
     "showTitle": false,
     "cellMetadata": {},
     "nuid": "940645dd-ec8c-4736-b3d0-1e7066ec3f26",
     "inputWidgets": {},
     "title": ""
    },
    "pycharm": {
     "name": "#%%\n"
    }
   },
   "outputs": [],
   "execution_count": 0
  }
 ],
 "metadata": {
  "application/vnd.databricks.v1+notebook": {
   "notebookName": "ADE 4.2 - Materialized Gold Tables",
   "dashboards": [],
   "notebookMetadata": {
    "pythonIndentUnit": 2
   },
   "language": "python",
   "widgets": {},
   "notebookOrigID": 4185566132529196
  }
 },
 "nbformat": 4,
 "nbformat_minor": 0
}