{
 "cells": [
  {
   "cell_type": "markdown",
   "source": [
    "# Ingest Data with Auto Loader\n",
    "\n",
    "Databricks Auto Loader is the recommended method for streaming raw data from cloud object storage. Auto Loader provides efficient, incremental, idempotent processing of data files from cloud object storage locations. Several enhancements to this ingestion method make it greatly preferred to directly streaming from the file source using open source Structured Streaming APIs.\n",
    "\n",
    "For small datasets, the default **directory listing** execution mode will provide provide exceptional performance and cost savings. As the size of your data scales, the preferred execution method is **file notification**, which requires configuring a connection to your storage queue service and event notification, which will allow Databricks to idempotently track and process all files as they arrive in your storage account.\n",
    "\n",
    "In this notebook, we'll go through the basic configuration to ingest the log files for device MAC addresses from partner gyms.\n",
    "\n",
    "<img src=\"https://files.training.databricks.com/images/ade/ADE_arch_gym_logs.png\" width=\"60%\" />\n",
    "\n",
    "## Learning Objectives\n",
    "By the end of this lesson, students will be able to:\n",
    "- Use Auto Loader to incrementally, idempotently load data from object storage to Delta Tables\n",
    "- Locate operation metrics using the **`DESCRIBE HISTORY`** command"
   ],
   "metadata": {
    "application/vnd.databricks.v1+cell": {
     "showTitle": false,
     "cellMetadata": {},
     "nuid": "840c9a7e-d83a-45bc-a0e8-a8b392a4cc96",
     "inputWidgets": {},
     "title": ""
    },
    "pycharm": {
     "name": "#%% md\n"
    }
   }
  },
  {
   "cell_type": "markdown",
   "source": [
    "## File Detection Modes\n",
    "\n",
    "![](https://files.training.databricks.com/images/autoloader-detection-modes.png)\n",
    "\n",
    "Auto Loader can be configured with two different file detection modes. While directory listing mode is the default and works well for small datasets and testing, file notification mode is preferred for large scale production applications.\n",
    "\n",
    "| **Directory Listing Mode** | **File Notification Mode** |\n",
    "| --- | --- |\n",
    "| Default mode | Requires some security permissions to other cloud services |\n",
    "| Easily stream files from object storage without configuration | Uses cloud storage queue service and event notifications to track files |\n",
    "| Creates file queue through parallel listing of input directory | Configurations handled automatically by Databricks |\n",
    "| Good for smaller source directories | Scales well as data grows |\n",
    "\n",
    "**NOTE**: Only directory listing mode will be shown in this notebook."
   ],
   "metadata": {
    "application/vnd.databricks.v1+cell": {
     "showTitle": false,
     "cellMetadata": {},
     "nuid": "4fe61f2d-8f83-4299-a214-bb34bf0c15c2",
     "inputWidgets": {},
     "title": ""
    },
    "pycharm": {
     "name": "#%% md\n"
    }
   }
  },
  {
   "cell_type": "markdown",
   "source": [
    "## Schema Inference and Evolution\n",
    "Auto Loader has advanced support for working with data sources with unknown or changing schemas, including the ability to:\n",
    "* Identify schema on stream initialization\n",
    "* Auto-detect changes and evolve schema to capture new fields\n",
    "* Add type hints for enforcement when schema is known\n",
    "* Rescue data that does not meet expectations\n",
    "\n",
    "Full documentation of this functionality is available <a href=\"https://docs.databricks.com/spark/latest/structured-streaming/auto-loader-schema.html\" target=\"_blank\">here</a>."
   ],
   "metadata": {
    "application/vnd.databricks.v1+cell": {
     "showTitle": false,
     "cellMetadata": {},
     "nuid": "9d623ce2-855d-4034-9829-b6b95dd0c80d",
     "inputWidgets": {},
     "title": ""
    },
    "pycharm": {
     "name": "#%% md\n"
    }
   }
  },
  {
   "cell_type": "markdown",
   "source": [
    "## Setup\n",
    "\n",
    "The notebook below defines a function to allow us to manually trigger new data landing in our source container. \n",
    "\n",
    "This will allow us to see Auto Loader in action."
   ],
   "metadata": {
    "application/vnd.databricks.v1+cell": {
     "showTitle": false,
     "cellMetadata": {},
     "nuid": "cb0a55c9-fd62-4bb8-9bd7-4a88ede74021",
     "inputWidgets": {},
     "title": ""
    },
    "pycharm": {
     "name": "#%% md\n"
    }
   }
  },
  {
   "cell_type": "code",
   "source": [
    "%run ../Includes/Classroom-Setup-1.5"
   ],
   "metadata": {
    "application/vnd.databricks.v1+cell": {
     "showTitle": false,
     "cellMetadata": {},
     "nuid": "297aedf9-7539-4e75-a194-251207590ce1",
     "inputWidgets": {},
     "title": ""
    },
    "pycharm": {
     "name": "#%%\n"
    }
   },
   "outputs": [],
   "execution_count": 0
  },
  {
   "cell_type": "markdown",
   "source": [
    "Our source directory contains a number of JSON files representing about a week of data."
   ],
   "metadata": {
    "application/vnd.databricks.v1+cell": {
     "showTitle": false,
     "cellMetadata": {},
     "nuid": "f757d72d-2af0-4a75-9209-ecb9587eab30",
     "inputWidgets": {},
     "title": ""
    },
    "pycharm": {
     "name": "#%% md\n"
    }
   }
  },
  {
   "cell_type": "code",
   "source": [
    "files = dbutils.fs.ls(DA.paths.gym_mac_logs_json)\n",
    "display(files)"
   ],
   "metadata": {
    "application/vnd.databricks.v1+cell": {
     "showTitle": false,
     "cellMetadata": {},
     "nuid": "efddebd1-a5bb-42a6-83cc-b0e2c2bc6f31",
     "inputWidgets": {},
     "title": ""
    },
    "pycharm": {
     "name": "#%%\n"
    }
   },
   "outputs": [],
   "execution_count": 0
  },
  {
   "cell_type": "markdown",
   "source": [
    "## Using CloudFiles\n",
    "\n",
    "Configuring Auto Loader requires using the **`cloudFiles`** format. \n",
    "\n",
    "The syntax for this format differs only slightly from a standard streaming read.\n",
    "\n",
    "To configure we need to:\n",
    "1. Specify the format as **`cloudFiles`**\n",
    "2. Specify the file format via **`cloudFiles.format`** as **`json`**\n",
    "3. Provide the location that Auto Loader will store the inferred schema via **`cloudFiles.schemaLocation`**\n",
    "4. Optionally configure Auto Loader to use cloud notifications via **`cloudFiles.useNotifications`**<br/>\n",
    "as opposed to listing the target directory. \n",
    "\n",
    "**Note:** The cloud-notifications feature does require additonal cloud configuration.\n",
    "\n",
    "See the <a href=\"https://docs.databricks.com/spark/latest/structured-streaming/auto-loader.html#configuration\" target=\"_blank\">Auto-Loader documentation</a> for more information."
   ],
   "metadata": {
    "application/vnd.databricks.v1+cell": {
     "showTitle": false,
     "cellMetadata": {},
     "nuid": "b0436668-dae9-4d7d-a020-b9030bfcc469",
     "inputWidgets": {},
     "title": ""
    },
    "pycharm": {
     "name": "#%% md\n"
    }
   }
  },
  {
   "cell_type": "code",
   "source": [
    "def load_gym_logs():\n",
    "    query = (spark.readStream\n",
    "                  .format(\"cloudFiles\")\n",
    "                  .option(\"cloudFiles.format\", \"json\")\n",
    "                  .option(\"cloudFiles.schemaLocation\", f\"{DA.paths.checkpoints}/gym_mac_logs_schema\")\n",
    "                  # .option(\"cloudFiles.useNotifications\",\"true\") # Set this option for file notification mode\n",
    "                  .load(DA.paths.gym_mac_logs_json)\n",
    "                  .writeStream\n",
    "                  .format(\"delta\")\n",
    "                  .option(\"checkpointLocation\", f\"{DA.paths.checkpoints}/gym_mac_logs\")\n",
    "                  .trigger(availableNow=True)\n",
    "                  .table(\"gym_mac_logs\"))\n",
    "    \n",
    "    query.awaitTermination()"
   ],
   "metadata": {
    "application/vnd.databricks.v1+cell": {
     "showTitle": false,
     "cellMetadata": {},
     "nuid": "5041d077-3a7a-4a54-b54b-4a274e015c8d",
     "inputWidgets": {},
     "title": ""
    },
    "pycharm": {
     "name": "#%%\n"
    }
   },
   "outputs": [],
   "execution_count": 0
  },
  {
   "cell_type": "markdown",
   "source": [
    "Note that we're using **trigger-available-now** logic for batch execution.  trigger-available-now is very similar to **trigger-once** but can run\n",
    "multiple batches until all available data is consumed instead of one big batch, and is introduced in <a href=\"https://spark.apache.org/releases/spark-release-3-3-0.html\" target=\"_blank\">Spark 3.3.0</a> and <a href=\"https://docs.databricks.com/release-notes/runtime/10.4.html\" target=\"_blank\">Databricks Runtime 10.4 LTS</a>. While we may not have the latency requirements of a Structured Streaming workload, Auto Loader prevents any CDC on our file source, allowing us to simply trigger a cron job daily to process all new data that's arrived."
   ],
   "metadata": {
    "application/vnd.databricks.v1+cell": {
     "showTitle": false,
     "cellMetadata": {},
     "nuid": "c713abca-003b-4966-9cdf-7478df4a41a1",
     "inputWidgets": {},
     "title": ""
    },
    "pycharm": {
     "name": "#%% md\n"
    }
   }
  },
  {
   "cell_type": "code",
   "source": [
    "load_gym_logs()"
   ],
   "metadata": {
    "application/vnd.databricks.v1+cell": {
     "showTitle": false,
     "cellMetadata": {},
     "nuid": "c8f97e0e-14d5-4a9e-b4fc-72a51739be23",
     "inputWidgets": {},
     "title": ""
    },
    "pycharm": {
     "name": "#%%\n"
    }
   },
   "outputs": [],
   "execution_count": 0
  },
  {
   "cell_type": "markdown",
   "source": [
    "As always, each batch of newly processed data will create a new version of our table."
   ],
   "metadata": {
    "application/vnd.databricks.v1+cell": {
     "showTitle": false,
     "cellMetadata": {},
     "nuid": "6cb374a7-838a-47be-85b6-93da5c800f13",
     "inputWidgets": {},
     "title": ""
    },
    "pycharm": {
     "name": "#%% md\n"
    }
   }
  },
  {
   "cell_type": "code",
   "source": [
    "%sql \n",
    "DESCRIBE HISTORY gym_mac_logs"
   ],
   "metadata": {
    "application/vnd.databricks.v1+cell": {
     "showTitle": false,
     "cellMetadata": {},
     "nuid": "405b267d-c8ef-42ce-83bb-757c16645098",
     "inputWidgets": {},
     "title": ""
    },
    "pycharm": {
     "name": "#%%\n"
    }
   },
   "outputs": [],
   "execution_count": 0
  },
  {
   "cell_type": "markdown",
   "source": [
    "The helper method below will load an additional day of data."
   ],
   "metadata": {
    "application/vnd.databricks.v1+cell": {
     "showTitle": false,
     "cellMetadata": {},
     "nuid": "635b7c81-80dd-4be5-acc7-60be3d6cc0d1",
     "inputWidgets": {},
     "title": ""
    },
    "pycharm": {
     "name": "#%% md\n"
    }
   }
  },
  {
   "cell_type": "code",
   "source": [
    "DA.gym_mac_stream.load()"
   ],
   "metadata": {
    "application/vnd.databricks.v1+cell": {
     "showTitle": false,
     "cellMetadata": {},
     "nuid": "ebed4cd0-e9c4-49d0-b814-0dec80f71f6e",
     "inputWidgets": {},
     "title": ""
    },
    "pycharm": {
     "name": "#%%\n"
    }
   },
   "outputs": [],
   "execution_count": 0
  },
  {
   "cell_type": "markdown",
   "source": [
    "CloudFiles will ignore previously processed data; only those newly written files will be processed."
   ],
   "metadata": {
    "application/vnd.databricks.v1+cell": {
     "showTitle": false,
     "cellMetadata": {},
     "nuid": "ffa0380f-0e59-4acb-bbae-b2fb28b0f4d1",
     "inputWidgets": {},
     "title": ""
    },
    "pycharm": {
     "name": "#%% md\n"
    }
   }
  },
  {
   "cell_type": "code",
   "source": [
    "load_gym_logs()"
   ],
   "metadata": {
    "application/vnd.databricks.v1+cell": {
     "showTitle": false,
     "cellMetadata": {},
     "nuid": "df07daa4-8e22-47d5-bfcd-13fbad1b06dc",
     "inputWidgets": {},
     "title": ""
    },
    "pycharm": {
     "name": "#%%\n"
    }
   },
   "outputs": [],
   "execution_count": 0
  },
  {
   "cell_type": "code",
   "source": [
    "%sql DESCRIBE HISTORY gym_mac_logs"
   ],
   "metadata": {
    "application/vnd.databricks.v1+cell": {
     "showTitle": false,
     "cellMetadata": {},
     "nuid": "62badcb7-7d25-4a69-aaf2-e65635b6d4e3",
     "inputWidgets": {},
     "title": ""
    },
    "pycharm": {
     "name": "#%%\n"
    }
   },
   "outputs": [],
   "execution_count": 0
  },
  {
   "cell_type": "markdown",
   "source": [
    "Run the cell below to process the remainder of the data provided."
   ],
   "metadata": {
    "application/vnd.databricks.v1+cell": {
     "showTitle": false,
     "cellMetadata": {},
     "nuid": "9a7412f6-c2f1-4920-857a-2f484e011094",
     "inputWidgets": {},
     "title": ""
    },
    "pycharm": {
     "name": "#%% md\n"
    }
   }
  },
  {
   "cell_type": "code",
   "source": [
    "DA.gym_mac_stream.load(continuous=True)\n",
    "load_gym_logs()"
   ],
   "metadata": {
    "application/vnd.databricks.v1+cell": {
     "showTitle": false,
     "cellMetadata": {},
     "nuid": "58a412a8-178d-4d0f-8737-bfe9b304931d",
     "inputWidgets": {},
     "title": ""
    },
    "pycharm": {
     "name": "#%%\n"
    }
   },
   "outputs": [],
   "execution_count": 0
  },
  {
   "cell_type": "code",
   "source": [
    "%sql DESCRIBE HISTORY gym_mac_logs"
   ],
   "metadata": {
    "application/vnd.databricks.v1+cell": {
     "showTitle": false,
     "cellMetadata": {},
     "nuid": "99d14499-543c-48bd-96b0-c4e590edacec",
     "inputWidgets": {},
     "title": ""
    },
    "pycharm": {
     "name": "#%%\n"
    }
   },
   "outputs": [],
   "execution_count": 0
  },
  {
   "cell_type": "markdown",
   "source": [
    "Now we can use SQL to examine our data."
   ],
   "metadata": {
    "application/vnd.databricks.v1+cell": {
     "showTitle": false,
     "cellMetadata": {},
     "nuid": "340a4c88-314a-4940-8c1b-bcadc32b293d",
     "inputWidgets": {},
     "title": ""
    },
    "pycharm": {
     "name": "#%% md\n"
    }
   }
  },
  {
   "cell_type": "code",
   "source": [
    "%sql\n",
    "SELECT * FROM gym_mac_logs"
   ],
   "metadata": {
    "application/vnd.databricks.v1+cell": {
     "showTitle": false,
     "cellMetadata": {},
     "nuid": "b04e3b18-259e-4f32-9606-0b49c8b75c59",
     "inputWidgets": {},
     "title": ""
    },
    "pycharm": {
     "name": "#%%\n"
    }
   },
   "outputs": [],
   "execution_count": 0
  },
  {
   "cell_type": "markdown",
   "source": [
    "Run the following cell to delete the tables and files associated with this lesson."
   ],
   "metadata": {
    "application/vnd.databricks.v1+cell": {
     "showTitle": false,
     "cellMetadata": {},
     "nuid": "ac6e10b5-3a2a-4c29-8321-0dd570fc2469",
     "inputWidgets": {},
     "title": ""
    },
    "pycharm": {
     "name": "#%% md\n"
    }
   }
  },
  {
   "cell_type": "code",
   "source": [
    "DA.cleanup()"
   ],
   "metadata": {
    "application/vnd.databricks.v1+cell": {
     "showTitle": false,
     "cellMetadata": {},
     "nuid": "632f54f4-5021-452f-bac5-b57623bd3e54",
     "inputWidgets": {},
     "title": ""
    },
    "pycharm": {
     "name": "#%%\n"
    }
   },
   "outputs": [],
   "execution_count": 0
  }
 ],
 "metadata": {
  "application/vnd.databricks.v1+notebook": {
   "notebookName": "ADE 99.5 - Auto Loader",
   "dashboards": [],
   "notebookMetadata": {
    "pythonIndentUnit": 2
   },
   "language": "python",
   "widgets": {},
   "notebookOrigID": 4185566132529340
  }
 },
 "nbformat": 4,
 "nbformat_minor": 0
}