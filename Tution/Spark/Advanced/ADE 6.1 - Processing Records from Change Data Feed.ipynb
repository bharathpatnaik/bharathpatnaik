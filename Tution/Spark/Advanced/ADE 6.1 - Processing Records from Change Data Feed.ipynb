{
 "cells": [
  {
   "cell_type": "markdown",
   "source": [
    "# Processing Records from Delta Change Data Feed\n",
    "\n",
    "In this notebook, we'll demonstrate an end-to-end of how you can easily propagate changes through a Lakehouse with Delta Lake Change Data Feed (CDF).\n",
    "\n",
    "For this demo, we'll work with a slightly different dataset representing patient information for medical records. Descriptions of the data at various stages follow.\n",
    "\n",
    "### Bronze Table\n",
    "Here we store all records as consumed. A row represents:\n",
    "1. A new patient providing data for the first time\n",
    "1. An existing patient confirming that their information is still correct\n",
    "1. An existing patient updating some of their information\n",
    "\n",
    "The type of action a row represents is not captured.\n",
    "\n",
    "### Silver Table\n",
    "This is the validated view of our data. Each patient will appear only once in this table. An upsert statement will be used to identify rows that have changed.\n",
    "\n",
    "### Gold Table\n",
    "For this example, we'll create a simple gold table that captures patients that have a new address.\n",
    "\n",
    "## Learning Objectives\n",
    "By the end of this lesson, students will be able to:\n",
    "- Enable Change Data Feed on a cluster or for a particular table\n",
    "- Describe how changes are recorded\n",
    "- Read CDF output with Spark SQL or PySpark\n",
    "- Refactor ELT code to process CDF output"
   ],
   "metadata": {
    "application/vnd.databricks.v1+cell": {
     "showTitle": false,
     "cellMetadata": {},
     "nuid": "76e39897-9c5a-46b9-948f-db4fe5f6b448",
     "inputWidgets": {},
     "title": ""
    },
    "pycharm": {
     "name": "#%% md\n"
    }
   }
  },
  {
   "cell_type": "markdown",
   "source": [
    "### Setup\n",
    "\n",
    "The following code defines some paths, a demo database, and clears out previous runs of the demo.\n",
    "\n",
    "It also defines another data factory that we'll use to land raw data in our source directory, allowing us to process new records as if they were arriving in production."
   ],
   "metadata": {
    "application/vnd.databricks.v1+cell": {
     "showTitle": false,
     "cellMetadata": {},
     "nuid": "d6455574-a631-460f-9c94-4db10bfe9ad6",
     "inputWidgets": {},
     "title": ""
    },
    "pycharm": {
     "name": "#%% md\n"
    }
   }
  },
  {
   "cell_type": "code",
   "source": [
    "%run ../Includes/Classroom-Setup-7.1"
   ],
   "metadata": {
    "application/vnd.databricks.v1+cell": {
     "showTitle": false,
     "cellMetadata": {},
     "nuid": "3f95f3d5-7b61-4cbe-9a62-fe1f8b00b4c4",
     "inputWidgets": {},
     "title": ""
    },
    "pycharm": {
     "name": "#%%\n"
    }
   },
   "outputs": [],
   "execution_count": 0
  },
  {
   "cell_type": "markdown",
   "source": [
    "Enable CDF using Spark conf setting in a notebook or on a cluster will ensure it's used on all newly created Delta tables in that scope."
   ],
   "metadata": {
    "application/vnd.databricks.v1+cell": {
     "showTitle": false,
     "cellMetadata": {},
     "nuid": "b35816d4-4d42-48ad-b61a-c5ae57d3cd2b",
     "inputWidgets": {},
     "title": ""
    },
    "pycharm": {
     "name": "#%% md\n"
    }
   }
  },
  {
   "cell_type": "code",
   "source": [
    "spark.conf.set(\"spark.databricks.delta.properties.defaults.enableChangeDataFeed\", True)"
   ],
   "metadata": {
    "application/vnd.databricks.v1+cell": {
     "showTitle": false,
     "cellMetadata": {},
     "nuid": "7d4c6ab1-f9c1-487c-8201-c84f97460ec6",
     "inputWidgets": {},
     "title": ""
    },
    "pycharm": {
     "name": "#%%\n"
    }
   },
   "outputs": [],
   "execution_count": 0
  },
  {
   "cell_type": "markdown",
   "source": [
    "## Ingest Data with Auto Loader\n",
    "\n",
    "Here we'll use Auto Loader to ingest data as it arrives.\n",
    "\n",
    "The steps below include:\n",
    "* Declaring the target table\n",
    "* Creating & starting the stream\n",
    "* Load some data into our source directory"
   ],
   "metadata": {
    "application/vnd.databricks.v1+cell": {
     "showTitle": false,
     "cellMetadata": {},
     "nuid": "a8784d04-ff29-482e-9c01-1e7330ac0406",
     "inputWidgets": {},
     "title": ""
    },
    "pycharm": {
     "name": "#%% md\n"
    }
   }
  },
  {
   "cell_type": "markdown",
   "source": [
    "Create the bronze table."
   ],
   "metadata": {
    "application/vnd.databricks.v1+cell": {
     "showTitle": false,
     "cellMetadata": {},
     "nuid": "efc862ed-f5cc-4d85-88d6-0367f6f1281e",
     "inputWidgets": {},
     "title": ""
    },
    "pycharm": {
     "name": "#%% md\n"
    }
   }
  },
  {
   "cell_type": "code",
   "source": [
    "%sql\n",
    "CREATE TABLE IF NOT EXISTS bronze\n",
    "  (mrn BIGINT, dob DATE, sex STRING, gender STRING, first_name STRING, last_name STRING, street_address STRING, zip BIGINT, city STRING, state STRING, updated timestamp) \n",
    "LOCATION '${da.paths.working_dir}/bronze'"
   ],
   "metadata": {
    "application/vnd.databricks.v1+cell": {
     "showTitle": false,
     "cellMetadata": {},
     "nuid": "9a312226-ce15-4522-a862-3a2070b98eab",
     "inputWidgets": {},
     "title": ""
    },
    "pycharm": {
     "name": "#%%\n"
    }
   },
   "outputs": [],
   "execution_count": 0
  },
  {
   "cell_type": "markdown",
   "source": [
    "Create and start the stream.\n",
    "\n",
    "For this example, we will:\n",
    "* Use continuous processing as opposed to trigger-once or trigger-available-now\n",
    "* Specify the schema as opposed to inferring it"
   ],
   "metadata": {
    "application/vnd.databricks.v1+cell": {
     "showTitle": false,
     "cellMetadata": {},
     "nuid": "de35ccb5-d3f6-4b1c-b2c5-cb0ebf078411",
     "inputWidgets": {},
     "title": ""
    },
    "pycharm": {
     "name": "#%% md\n"
    }
   }
  },
  {
   "cell_type": "code",
   "source": [
    "schema = \"mrn BIGINT, dob DATE, sex STRING, gender STRING, first_name STRING, last_name STRING, street_address STRING, zip BIGINT, city STRING, state STRING, updated TIMESTAMP\"\n",
    "\n",
    "bronze_query = (spark.readStream\n",
    "                     .format(\"cloudFiles\")\n",
    "                     .option(\"cloudFiles.format\", \"json\")\n",
    "                     .schema(schema)\n",
    "                     .load(DA.paths.cdc_stream)\n",
    "                     .writeStream\n",
    "                     .format(\"delta\")\n",
    "                     .outputMode(\"append\")\n",
    "                     #.trigger(availableNow=True)\n",
    "                     .trigger(processingTime='5 seconds')\n",
    "                     .option(\"checkpointLocation\", f\"{DA.paths.checkpoints}/bronze\")\n",
    "                     .table(\"bronze\"))\n",
    "\n",
    "DA.block_until_stream_is_ready(bronze_query)"
   ],
   "metadata": {
    "application/vnd.databricks.v1+cell": {
     "showTitle": false,
     "cellMetadata": {},
     "nuid": "a188e62d-fd6b-4787-9a46-7780d01e015b",
     "inputWidgets": {},
     "title": ""
    },
    "pycharm": {
     "name": "#%%\n"
    }
   },
   "outputs": [],
   "execution_count": 0
  },
  {
   "cell_type": "markdown",
   "source": [
    "Expand the stream monitor above to see the progress of your stream. \n",
    "\n",
    "No files should have been ingested.\n",
    "\n",
    "Use the cell below to land a batch of data; you should see these records processed as a single batch."
   ],
   "metadata": {
    "application/vnd.databricks.v1+cell": {
     "showTitle": false,
     "cellMetadata": {},
     "nuid": "24ae3d85-bcc9-4580-9108-5e9da112f4dd",
     "inputWidgets": {},
     "title": ""
    },
    "pycharm": {
     "name": "#%% md\n"
    }
   }
  },
  {
   "cell_type": "code",
   "source": [
    "DA.cdc_stream.load()"
   ],
   "metadata": {
    "application/vnd.databricks.v1+cell": {
     "showTitle": false,
     "cellMetadata": {},
     "nuid": "4f4e25c8-de43-43ae-98ba-82f9edc985d4",
     "inputWidgets": {},
     "title": ""
    },
    "pycharm": {
     "name": "#%%\n"
    }
   },
   "outputs": [],
   "execution_count": 0
  },
  {
   "cell_type": "markdown",
   "source": [
    "## Create a Target Table\n",
    "\n",
    "Here we use **`DEEP CLONE`** to move read-only data from PROD to our DEV environment (where we have full write/delete access)."
   ],
   "metadata": {
    "application/vnd.databricks.v1+cell": {
     "showTitle": false,
     "cellMetadata": {},
     "nuid": "f5d87f19-4be6-49bb-bc1a-d7d489ce547d",
     "inputWidgets": {},
     "title": ""
    },
    "pycharm": {
     "name": "#%% md\n"
    }
   }
  },
  {
   "cell_type": "code",
   "source": [
    "%sql\n",
    "CREATE TABLE silver\n",
    "DEEP CLONE delta.`${da.paths.silver_source}`\n",
    "LOCATION '${da.paths.user_db}/silver'"
   ],
   "metadata": {
    "application/vnd.databricks.v1+cell": {
     "showTitle": false,
     "cellMetadata": {},
     "nuid": "c6b6e9f4-05cf-4bbc-b5bc-6eeb57329aed",
     "inputWidgets": {},
     "title": ""
    },
    "pycharm": {
     "name": "#%%\n"
    }
   },
   "outputs": [],
   "execution_count": 0
  },
  {
   "cell_type": "markdown",
   "source": [
    "Tables that were not created with CDF enabled will not have it turned on by default, but can be altered to capture changes with the following syntax.\n",
    "\n",
    "Note that editing properties will version a table. \n",
    "\n",
    "Note: CDC data is **NOT** captured during **`CLONE`** operations."
   ],
   "metadata": {
    "application/vnd.databricks.v1+cell": {
     "showTitle": false,
     "cellMetadata": {},
     "nuid": "7e09d444-1c03-4342-a61e-0abdc6c3e4df",
     "inputWidgets": {},
     "title": ""
    },
    "pycharm": {
     "name": "#%% md\n"
    }
   }
  },
  {
   "cell_type": "code",
   "source": [
    "%sql\n",
    "ALTER TABLE silver \n",
    "SET TBLPROPERTIES (delta.enableChangeDataFeed = true);"
   ],
   "metadata": {
    "application/vnd.databricks.v1+cell": {
     "showTitle": false,
     "cellMetadata": {},
     "nuid": "1cce34bf-7581-4713-a49c-6c6ad22bc1e8",
     "inputWidgets": {},
     "title": ""
    },
    "pycharm": {
     "name": "#%%\n"
    }
   },
   "outputs": [],
   "execution_count": 0
  },
  {
   "cell_type": "code",
   "source": [
    "%sql\n",
    "DESCRIBE TABLE EXTENDED silver"
   ],
   "metadata": {
    "application/vnd.databricks.v1+cell": {
     "showTitle": false,
     "cellMetadata": {},
     "nuid": "9db4479d-b62d-4ddb-a96c-122ebe0c2c3e",
     "inputWidgets": {},
     "title": ""
    },
    "pycharm": {
     "name": "#%%\n"
    }
   },
   "outputs": [],
   "execution_count": 0
  },
  {
   "cell_type": "markdown",
   "source": [
    "## Upsert Data with Delta Lake\n",
    "\n",
    "Here we define upsert logic into the silver table using a streaming read against the bronze table, matching on our unique identifier **`mrn`**.\n",
    "\n",
    "We specify an additional conditional check to ensure that a field in the data has changed before inserting the new record."
   ],
   "metadata": {
    "application/vnd.databricks.v1+cell": {
     "showTitle": false,
     "cellMetadata": {},
     "nuid": "38382643-c833-45d7-bf06-b72f79694d29",
     "inputWidgets": {},
     "title": ""
    },
    "pycharm": {
     "name": "#%% md\n"
    }
   }
  },
  {
   "cell_type": "code",
   "source": [
    "def upsert_to_delta(microBatchDF, batchId):\n",
    "    microBatchDF.createOrReplaceTempView(\"updates\")\n",
    "    microBatchDF._jdf.sparkSession().sql(\"\"\"\n",
    "        MERGE INTO silver s\n",
    "        USING updates u\n",
    "        ON s.mrn = u.mrn\n",
    "        WHEN MATCHED AND s.dob <> u.dob OR\n",
    "                         s.sex <> u.sex OR\n",
    "                         s.gender <> u.gender OR\n",
    "                         s.first_name <> u.first_name OR\n",
    "                         s.last_name <> u.last_name OR\n",
    "                         s.street_address <> u.street_address OR\n",
    "                         s.zip <> u.zip OR\n",
    "                         s.city <> u.city OR\n",
    "                         s.state <> u.state OR\n",
    "                         s.updated <> u.updated\n",
    "            THEN UPDATE SET *\n",
    "        WHEN NOT MATCHED\n",
    "            THEN INSERT *\n",
    "    \"\"\")"
   ],
   "metadata": {
    "application/vnd.databricks.v1+cell": {
     "showTitle": false,
     "cellMetadata": {},
     "nuid": "656f89e9-ae98-430f-ad9e-9a775201c36f",
     "inputWidgets": {},
     "title": ""
    },
    "pycharm": {
     "name": "#%%\n"
    }
   },
   "outputs": [],
   "execution_count": 0
  },
  {
   "cell_type": "code",
   "source": [
    "query = (spark.readStream\n",
    "              .table(\"bronze\")\n",
    "              .writeStream\n",
    "              .foreachBatch(upsert_to_delta)\n",
    "              .outputMode(\"update\")\n",
    "              # .trigger(availableNow=True)\n",
    "              .trigger(processingTime='5 seconds')\n",
    "              .start())\n",
    "\n",
    "DA.block_until_stream_is_ready(query)"
   ],
   "metadata": {
    "application/vnd.databricks.v1+cell": {
     "showTitle": false,
     "cellMetadata": {},
     "nuid": "1c1cd188-dda1-4150-b0c4-ea05c28f2c77",
     "inputWidgets": {},
     "title": ""
    },
    "pycharm": {
     "name": "#%%\n"
    }
   },
   "outputs": [],
   "execution_count": 0
  },
  {
   "cell_type": "markdown",
   "source": [
    "Note that we have an additional metadata directory nested in our table directory, **`_change_data`**"
   ],
   "metadata": {
    "application/vnd.databricks.v1+cell": {
     "showTitle": false,
     "cellMetadata": {},
     "nuid": "7747f645-4223-443d-9de6-b15a4e1d1fbd",
     "inputWidgets": {},
     "title": ""
    },
    "pycharm": {
     "name": "#%% md\n"
    }
   }
  },
  {
   "cell_type": "code",
   "source": [
    "files = dbutils.fs.ls(f\"{DA.paths.user_db}/silver\")\n",
    "display(files)"
   ],
   "metadata": {
    "application/vnd.databricks.v1+cell": {
     "showTitle": false,
     "cellMetadata": {},
     "nuid": "b345dac2-294b-4126-9430-048f295387ef",
     "inputWidgets": {},
     "title": ""
    },
    "pycharm": {
     "name": "#%%\n"
    }
   },
   "outputs": [],
   "execution_count": 0
  },
  {
   "cell_type": "markdown",
   "source": [
    "We can see this directory also contains parquet files."
   ],
   "metadata": {
    "application/vnd.databricks.v1+cell": {
     "showTitle": false,
     "cellMetadata": {},
     "nuid": "d22be594-db91-41a5-a502-9962df2d6e28",
     "inputWidgets": {},
     "title": ""
    },
    "pycharm": {
     "name": "#%% md\n"
    }
   }
  },
  {
   "cell_type": "code",
   "source": [
    "files = dbutils.fs.ls(f\"{DA.paths.user_db}/silver/_change_data\")\n",
    "display(files)"
   ],
   "metadata": {
    "application/vnd.databricks.v1+cell": {
     "showTitle": false,
     "cellMetadata": {},
     "nuid": "eef46332-230b-429e-88eb-17995a393167",
     "inputWidgets": {},
     "title": ""
    },
    "pycharm": {
     "name": "#%%\n"
    }
   },
   "outputs": [],
   "execution_count": 0
  },
  {
   "cell_type": "markdown",
   "source": [
    "## Read the Change Data Feed\n",
    "\n",
    "To pick up the recorded CDC data, we add two options:\n",
    "- **`readChangeData`**\n",
    "- **`startingVersion`** (can use **`startingTimestamp`** instead)\n",
    "\n",
    "Here we'll do a streaming display of just those patients in LA. Note that users with changes have two records present."
   ],
   "metadata": {
    "application/vnd.databricks.v1+cell": {
     "showTitle": false,
     "cellMetadata": {},
     "nuid": "e11b1b45-4284-4375-9dad-c2c135b3feb6",
     "inputWidgets": {},
     "title": ""
    },
    "pycharm": {
     "name": "#%% md\n"
    }
   }
  },
  {
   "cell_type": "code",
   "source": [
    "cdc_df = (spark.readStream\n",
    "               .format(\"delta\")\n",
    "               .option(\"readChangeData\", True)\n",
    "               .option(\"startingVersion\", 0)\n",
    "               .table(\"silver\"))\n",
    "\n",
    "cdc_la_df = cdc_df.filter(\"city = 'Los Angeles'\")\n",
    "\n",
    "display(cdc_la_df, streamName = \"display_la\")\n",
    "DA.block_until_stream_is_ready(name = \"display_la\")"
   ],
   "metadata": {
    "application/vnd.databricks.v1+cell": {
     "showTitle": false,
     "cellMetadata": {},
     "nuid": "edbba15b-a1bf-4d88-8ed0-985adba6172b",
     "inputWidgets": {},
     "title": ""
    },
    "pycharm": {
     "name": "#%%\n"
    }
   },
   "outputs": [],
   "execution_count": 0
  },
  {
   "cell_type": "markdown",
   "source": [
    "If we land another file in our source directory and wait a few seconds, we'll see that we now have captured CDC changes for multiple **`_commit_version`** (change the sort order of the **`_commit_version`** column in the display above to see this)."
   ],
   "metadata": {
    "application/vnd.databricks.v1+cell": {
     "showTitle": false,
     "cellMetadata": {},
     "nuid": "9db019ac-ea48-4d59-8498-3b8497b980aa",
     "inputWidgets": {},
     "title": ""
    },
    "pycharm": {
     "name": "#%% md\n"
    }
   }
  },
  {
   "cell_type": "code",
   "source": [
    "DA.cdc_stream.load()"
   ],
   "metadata": {
    "application/vnd.databricks.v1+cell": {
     "showTitle": false,
     "cellMetadata": {},
     "nuid": "f31f22ad-8441-4387-a1d1-f8d9df0d73bd",
     "inputWidgets": {},
     "title": ""
    },
    "pycharm": {
     "name": "#%%\n"
    }
   },
   "outputs": [],
   "execution_count": 0
  },
  {
   "cell_type": "markdown",
   "source": [
    "## Gold Table\n",
    "Our gold table will capture all of those patients that have a new address, and record this information alongside 2 timestamps: the time at which this change was made in our source system (currently labeled **`updated`**) and the time this was processed into our silver table (captured by the **`_commit_timestamp`** generated CDC field).\n",
    "\n",
    "Within silver table CDC records:\n",
    "- check for max **`_commit_version`** for each record\n",
    "- if new version and address change, insert to gold table\n",
    "- record **`updated_timestamp`** and **`processed_timestamp`**\n",
    "\n",
    "#### Gold Table Schema\n",
    "| field | type |\n",
    "| --- | --- |\n",
    "| mrn | long |\n",
    "| new_street_address | string |\n",
    "| new_zip | long |\n",
    "| new_city | string |\n",
    "| new_state | string |\n",
    "| old_street_address | string |\n",
    "| old_zip | long |\n",
    "| old_city | string |\n",
    "| old_state | string |\n",
    "| updated_timestamp | timestamp |\n",
    "| processed_timestamp | timestamp |"
   ],
   "metadata": {
    "application/vnd.databricks.v1+cell": {
     "showTitle": false,
     "cellMetadata": {},
     "nuid": "da26c35a-aafc-4d59-94c7-f378ad8806e7",
     "inputWidgets": {},
     "title": ""
    },
    "pycharm": {
     "name": "#%% md\n"
    }
   }
  },
  {
   "cell_type": "code",
   "source": [
    "%sql\n",
    "CREATE TABLE gold (mrn BIGINT,\n",
    "                   new_street_address STRING,\n",
    "                   new_zip BIGINT,\n",
    "                   new_city STRING,\n",
    "                   new_state STRING,\n",
    "                   old_street_address STRING,\n",
    "                   old_zip BIGINT,\n",
    "                   old_city STRING,\n",
    "                   old_state STRING,\n",
    "                   updated_timestamp TIMESTAMP,\n",
    "                   processed_timestamp TIMESTAMP)\n",
    "USING DELTA\n",
    "LOCATION '${da.paths.working_dir}/gold'"
   ],
   "metadata": {
    "application/vnd.databricks.v1+cell": {
     "showTitle": false,
     "cellMetadata": {},
     "nuid": "54aef5a3-7f74-43fd-a31f-7575080ca91e",
     "inputWidgets": {},
     "title": ""
    },
    "pycharm": {
     "name": "#%%\n"
    }
   },
   "outputs": [],
   "execution_count": 0
  },
  {
   "cell_type": "markdown",
   "source": [
    "Note that we are using a table that has updates written to it as a streaming source! \n",
    "\n",
    "This is a **huge** value add, and something that historically has required extensive workarounds to process correctly."
   ],
   "metadata": {
    "application/vnd.databricks.v1+cell": {
     "showTitle": false,
     "cellMetadata": {},
     "nuid": "c4f4f261-2eda-4fe5-b216-f26ec83c5e0c",
     "inputWidgets": {},
     "title": ""
    },
    "pycharm": {
     "name": "#%% md\n"
    }
   }
  },
  {
   "cell_type": "code",
   "source": [
    "silver_stream_df = (spark.readStream\n",
    "                         .format(\"delta\")\n",
    "                         .option(\"readChangeData\", True)\n",
    "                         .option(\"startingVersion\", 0)\n",
    "                         .table(\"silver\"))"
   ],
   "metadata": {
    "application/vnd.databricks.v1+cell": {
     "showTitle": false,
     "cellMetadata": {},
     "nuid": "eaf992b2-71f2-4ce3-b1e7-1b18526cf5d5",
     "inputWidgets": {},
     "title": ""
    },
    "pycharm": {
     "name": "#%%\n"
    }
   },
   "outputs": [],
   "execution_count": 0
  },
  {
   "cell_type": "markdown",
   "source": [
    "Our **`_change_type`** field lets us easily distinguish valid and invalid records.\n",
    "\n",
    "New valid rows will have the **`update_postimage`** or **`insert`** label.\n",
    "New invalid rows will have the **`update_preimage`** or **`delete`** label. \n",
    "\n",
    "(**NOTE**: We'll demonstrate logic for propagating deletes a little later)\n",
    "\n",
    "In the cell below, we'll define two queries against our streaming source to perform a stream-stream merge on our data."
   ],
   "metadata": {
    "application/vnd.databricks.v1+cell": {
     "showTitle": false,
     "cellMetadata": {},
     "nuid": "929448fd-5307-4862-b640-a8e3f89000ab",
     "inputWidgets": {},
     "title": ""
    },
    "pycharm": {
     "name": "#%% md\n"
    }
   }
  },
  {
   "cell_type": "code",
   "source": [
    "from pyspark.sql import functions as F\n",
    "\n",
    "new_df = (silver_stream_df\n",
    "         .filter(F.col(\"_change_type\").isin([\"update_postimage\", \"insert\"]))\n",
    "         .selectExpr(\"mrn\",\n",
    "                     \"street_address AS new_street_address\",\n",
    "                     \"zip AS new_zip\",\n",
    "                     \"city AS new_city\",\n",
    "                     \"state AS new_state\",\n",
    "                     \"updated AS updated_timestamp\",\n",
    "                     \"_commit_timestamp AS processed_timestamp\"))\n",
    "                                                                                         \n",
    "old_df = (silver_stream_df\n",
    "         .filter(F.col(\"_change_type\").isin([\"update_preimage\"]))\n",
    "         .selectExpr(\"mrn\",\n",
    "                     \"street_address AS old_street_address\",\n",
    "                     \"zip AS old_zip\",\n",
    "                     \"city AS old_city\",\n",
    "                     \"state AS old_state\",\n",
    "                     \"_commit_timestamp AS processed_timestamp\"))"
   ],
   "metadata": {
    "application/vnd.databricks.v1+cell": {
     "showTitle": false,
     "cellMetadata": {},
     "nuid": "a0260514-418e-41b2-875e-d02212420a3d",
     "inputWidgets": {},
     "title": ""
    },
    "pycharm": {
     "name": "#%%\n"
    }
   },
   "outputs": [],
   "execution_count": 0
  },
  {
   "cell_type": "markdown",
   "source": [
    "Assuming that we have properly deduplicated our data to ensure that only a single record for our **`mrn`** can be processed to our silver table, **`mrn`** and **`_commit_timestamp`** (aliased to **`processed_timestamp`** here) serve as a unique composite key.\n",
    "\n",
    "Our join will allow us to match up the current and previous states of our data to track all changes.\n",
    "\n",
    "This table could drive further downstream processes, such as triggering confirmation emails or automatic mailings for patients with updated addresses.\n",
    "\n",
    "Our CDC data arrives as a stream, so only newly changed data at the silver level will be processed. Therefore, we can write to our gold table in append mode and maintain the grain of our data."
   ],
   "metadata": {
    "application/vnd.databricks.v1+cell": {
     "showTitle": false,
     "cellMetadata": {},
     "nuid": "bd57eca6-35f3-474b-ab7d-f0c614b3c0d0",
     "inputWidgets": {},
     "title": ""
    },
    "pycharm": {
     "name": "#%% md\n"
    }
   }
  },
  {
   "cell_type": "code",
   "source": [
    "query = (new_df.withWatermark(\"processed_timestamp\", \"3 minutes\")\n",
    "               .join(old_df, [\"mrn\", \"processed_timestamp\"], \"left\")\n",
    "               .filter(\"new_street_address <> old_street_address OR old_street_address IS NULL\")\n",
    "               .writeStream\n",
    "               .outputMode(\"append\")\n",
    "               #.trigger(availableNow=True)\n",
    "               .trigger(processingTime=\"5 seconds\")\n",
    "               .option(\"checkpointLocation\", f\"{DA.paths.checkpoints}/gold\")\n",
    "               .table(\"gold\"))\n",
    "\n",
    "DA.block_until_stream_is_ready(query)"
   ],
   "metadata": {
    "application/vnd.databricks.v1+cell": {
     "showTitle": false,
     "cellMetadata": {},
     "nuid": "225a8717-6989-433e-8b6d-4e0b37075f45",
     "inputWidgets": {},
     "title": ""
    },
    "pycharm": {
     "name": "#%%\n"
    }
   },
   "outputs": [],
   "execution_count": 0
  },
  {
   "cell_type": "markdown",
   "source": [
    "Note the number of rows in our gold table."
   ],
   "metadata": {
    "application/vnd.databricks.v1+cell": {
     "showTitle": false,
     "cellMetadata": {},
     "nuid": "0209d464-89a2-4a36-8b5d-847bd7fd26bc",
     "inputWidgets": {},
     "title": ""
    },
    "pycharm": {
     "name": "#%% md\n"
    }
   }
  },
  {
   "cell_type": "code",
   "source": [
    "%sql\n",
    "SELECT * FROM gold"
   ],
   "metadata": {
    "application/vnd.databricks.v1+cell": {
     "showTitle": false,
     "cellMetadata": {},
     "nuid": "7e09c7e0-5d13-4962-bfbc-b4fdfba08a94",
     "inputWidgets": {},
     "title": ""
    },
    "pycharm": {
     "name": "#%%\n"
    }
   },
   "outputs": [],
   "execution_count": 0
  },
  {
   "cell_type": "markdown",
   "source": [
    "If we land a new raw file and wait a few seconds, we can see that all of our changes have propagated through our pipeline.\n",
    "\n",
    "(This assumes you're using **`processingTime`** instead of trigger-once or trigger-available-now processing. Scroll up to the gold table streaming write to wait for a new peak in the processing rate to know your data has arrived.)"
   ],
   "metadata": {
    "application/vnd.databricks.v1+cell": {
     "showTitle": false,
     "cellMetadata": {},
     "nuid": "f63905a6-a144-468a-a36b-1a8aacaf5e23",
     "inputWidgets": {},
     "title": ""
    },
    "pycharm": {
     "name": "#%% md\n"
    }
   }
  },
  {
   "cell_type": "code",
   "source": [
    "DA.cdc_stream.load()"
   ],
   "metadata": {
    "application/vnd.databricks.v1+cell": {
     "showTitle": false,
     "cellMetadata": {},
     "nuid": "03a7d409-891f-4c49-81e9-1c1073fc600d",
     "inputWidgets": {},
     "title": ""
    },
    "pycharm": {
     "name": "#%%\n"
    }
   },
   "outputs": [],
   "execution_count": 0
  },
  {
   "cell_type": "markdown",
   "source": [
    "You should be able to see a jump in the number of records in your gold table."
   ],
   "metadata": {
    "application/vnd.databricks.v1+cell": {
     "showTitle": false,
     "cellMetadata": {},
     "nuid": "ad720a72-3c66-4ca5-8da5-1181f576d70f",
     "inputWidgets": {},
     "title": ""
    },
    "pycharm": {
     "name": "#%% md\n"
    }
   }
  },
  {
   "cell_type": "code",
   "source": [
    "%sql\n",
    "SELECT * FROM gold"
   ],
   "metadata": {
    "application/vnd.databricks.v1+cell": {
     "showTitle": false,
     "cellMetadata": {},
     "nuid": "edbf9a6c-e9d1-4af7-ac02-6074b59ddf82",
     "inputWidgets": {},
     "title": ""
    },
    "pycharm": {
     "name": "#%%\n"
    }
   },
   "outputs": [],
   "execution_count": 0
  },
  {
   "cell_type": "markdown",
   "source": [
    "Make sure to run the following cell to stop all active streams."
   ],
   "metadata": {
    "application/vnd.databricks.v1+cell": {
     "showTitle": false,
     "cellMetadata": {},
     "nuid": "758e5f11-a623-4694-8b5f-a685cb2d3882",
     "inputWidgets": {},
     "title": ""
    },
    "pycharm": {
     "name": "#%% md\n"
    }
   }
  },
  {
   "cell_type": "code",
   "source": [
    "for stream in spark.streams.active:\n",
    "    stream.stop()\n",
    "    stream.awaitTermination()"
   ],
   "metadata": {
    "application/vnd.databricks.v1+cell": {
     "showTitle": false,
     "cellMetadata": {},
     "nuid": "c0091cc8-2283-4534-bb28-ad094256d38e",
     "inputWidgets": {},
     "title": ""
    },
    "pycharm": {
     "name": "#%%\n"
    }
   },
   "outputs": [],
   "execution_count": 0
  },
  {
   "cell_type": "markdown",
   "source": [
    "## Propagating Deletes\n",
    "\n",
    "While some use cases may require processing deletes alongside updates and inserts, the most important delete requests are those that allow companies to maintain compliance with privacy regulations such as GDPR and CCPA. Most companies have stated SLAs around how long these requests will take to process, but for various reasons, these are often handled in pipelines separate from their core ETL.\n",
    "\n",
    "Here, we should a single user being deleted from our **`silver`** table."
   ],
   "metadata": {
    "application/vnd.databricks.v1+cell": {
     "showTitle": false,
     "cellMetadata": {},
     "nuid": "c4d692c1-bc56-4d56-913e-0cb9c71c4a66",
     "inputWidgets": {},
     "title": ""
    },
    "pycharm": {
     "name": "#%% md\n"
    }
   }
  },
  {
   "cell_type": "code",
   "source": [
    "%sql\n",
    "DELETE FROM silver WHERE mrn = 14125426"
   ],
   "metadata": {
    "application/vnd.databricks.v1+cell": {
     "showTitle": false,
     "cellMetadata": {},
     "nuid": "c43e5f94-82c5-4f8b-b934-e6cc962ebb62",
     "inputWidgets": {},
     "title": ""
    },
    "pycharm": {
     "name": "#%%\n"
    }
   },
   "outputs": [],
   "execution_count": 0
  },
  {
   "cell_type": "markdown",
   "source": [
    "As expected, when we try to locate this user in our **`silver`** table, we'll get no result."
   ],
   "metadata": {
    "application/vnd.databricks.v1+cell": {
     "showTitle": false,
     "cellMetadata": {},
     "nuid": "8cef24b4-ff1c-4c6d-815d-8c4e13acf36b",
     "inputWidgets": {},
     "title": ""
    },
    "pycharm": {
     "name": "#%% md\n"
    }
   }
  },
  {
   "cell_type": "code",
   "source": [
    "%sql\n",
    "SELECT * FROM silver WHERE mrn = 14125426"
   ],
   "metadata": {
    "application/vnd.databricks.v1+cell": {
     "showTitle": false,
     "cellMetadata": {},
     "nuid": "f6ef5efb-fcdf-42db-8186-b3f1a75b30ab",
     "inputWidgets": {},
     "title": ""
    },
    "pycharm": {
     "name": "#%%\n"
    }
   },
   "outputs": [],
   "execution_count": 0
  },
  {
   "cell_type": "markdown",
   "source": [
    "This change has been captured in our Change Data Feed."
   ],
   "metadata": {
    "application/vnd.databricks.v1+cell": {
     "showTitle": false,
     "cellMetadata": {},
     "nuid": "d0619ac4-57bc-405c-a950-1896a67ca250",
     "inputWidgets": {},
     "title": ""
    },
    "pycharm": {
     "name": "#%% md\n"
    }
   }
  },
  {
   "cell_type": "code",
   "source": [
    "%sql\n",
    "SELECT * \n",
    "FROM table_changes(\"silver\", 0)\n",
    "WHERE mrn = 14125426\n",
    "ORDER BY _commit_version"
   ],
   "metadata": {
    "application/vnd.databricks.v1+cell": {
     "showTitle": false,
     "cellMetadata": {},
     "nuid": "2ff10989-45ea-45c4-8ce3-7d065f89e200",
     "inputWidgets": {},
     "title": ""
    },
    "pycharm": {
     "name": "#%%\n"
    }
   },
   "outputs": [],
   "execution_count": 0
  },
  {
   "cell_type": "markdown",
   "source": [
    "Because we have a record of this delete action, we can define logic that propagates deletes to our **`gold`** table."
   ],
   "metadata": {
    "application/vnd.databricks.v1+cell": {
     "showTitle": false,
     "cellMetadata": {},
     "nuid": "7c141a4d-cd53-4629-b7f2-7ad66373624e",
     "inputWidgets": {},
     "title": ""
    },
    "pycharm": {
     "name": "#%% md\n"
    }
   }
  },
  {
   "cell_type": "code",
   "source": [
    "%sql\n",
    "WITH deletes AS (\n",
    "  SELECT mrn\n",
    "  FROM table_changes(\"silver\", 0)\n",
    "  WHERE _change_type='delete'\n",
    ")\n",
    "\n",
    "MERGE INTO gold g\n",
    "USING deletes d\n",
    "ON d.mrn=g.mrn\n",
    "WHEN MATCHED\n",
    "  THEN DELETE"
   ],
   "metadata": {
    "application/vnd.databricks.v1+cell": {
     "showTitle": false,
     "cellMetadata": {},
     "nuid": "5a131dd5-476b-484a-baa4-2441202bd0fc",
     "inputWidgets": {},
     "title": ""
    },
    "pycharm": {
     "name": "#%%\n"
    }
   },
   "outputs": [],
   "execution_count": 0
  },
  {
   "cell_type": "markdown",
   "source": [
    "This drastically simplifies deleting user data, and allows the keys and logic used in your ETL to also be used for propagating delete requests."
   ],
   "metadata": {
    "application/vnd.databricks.v1+cell": {
     "showTitle": false,
     "cellMetadata": {},
     "nuid": "0a3ca5f4-cd5e-4610-8dd7-5bad96c42bf6",
     "inputWidgets": {},
     "title": ""
    },
    "pycharm": {
     "name": "#%% md\n"
    }
   }
  },
  {
   "cell_type": "code",
   "source": [
    "%sql\n",
    "SELECT * FROM gold WHERE mrn = 14125426"
   ],
   "metadata": {
    "application/vnd.databricks.v1+cell": {
     "showTitle": false,
     "cellMetadata": {},
     "nuid": "8b5582de-ea5c-40ac-be56-82ad728b1451",
     "inputWidgets": {},
     "title": ""
    },
    "pycharm": {
     "name": "#%%\n"
    }
   },
   "outputs": [],
   "execution_count": 0
  },
  {
   "cell_type": "markdown",
   "source": [
    "Run the following cell to delete the tables and files associated with this lesson."
   ],
   "metadata": {
    "application/vnd.databricks.v1+cell": {
     "showTitle": false,
     "cellMetadata": {},
     "nuid": "b4861d0b-0008-463d-952d-a64ef685b40a",
     "inputWidgets": {},
     "title": ""
    },
    "pycharm": {
     "name": "#%% md\n"
    }
   }
  },
  {
   "cell_type": "code",
   "source": [
    "DA.cleanup()"
   ],
   "metadata": {
    "application/vnd.databricks.v1+cell": {
     "showTitle": false,
     "cellMetadata": {},
     "nuid": "c5782564-81f7-4c56-8efa-0fdcf3f8dc4f",
     "inputWidgets": {},
     "title": ""
    },
    "pycharm": {
     "name": "#%%\n"
    }
   },
   "outputs": [],
   "execution_count": 0
  }
 ],
 "metadata": {
  "application/vnd.databricks.v1+notebook": {
   "notebookName": "ADE 6.1 - Processing Records from Change Data Feed",
   "dashboards": [],
   "notebookMetadata": {
    "pythonIndentUnit": 2
   },
   "language": "python",
   "widgets": {},
   "notebookOrigID": 4185566132530050
  }
 },
 "nbformat": 4,
 "nbformat_minor": 0
}