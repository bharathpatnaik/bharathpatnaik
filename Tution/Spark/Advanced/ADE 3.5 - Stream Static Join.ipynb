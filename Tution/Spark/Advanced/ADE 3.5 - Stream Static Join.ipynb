{
 "cells": [
  {
   "cell_type": "markdown",
   "source": [
    "# Stream-Static Joins\n",
    "\n",
    "In this lesson, you'll join streaming heart rate data with the completed workouts table.\n",
    "\n",
    "We'll be creating the table **`workout_bpm`** in our architectural diagram.\n",
    "\n",
    "This pattern will take advantage of Delta Lake's ability to guarantee that the latest version of a table is returned each time it is queried.\n",
    "\n",
    "\n",
    "\n",
    "<img src=\"https://files.training.databricks.com/images/ade/ADE_arch_workout_bpm.png\" width=\"60%\" />\n",
    "\n",
    "## Learning Objectives\n",
    "By the end of this lesson, students will be able to:\n",
    "- Describe guarantees around versioning and matching for stream-static joins\n",
    "- Leverage Spark SQL and PySpark to process stream-static joins"
   ],
   "metadata": {
    "application/vnd.databricks.v1+cell": {
     "showTitle": false,
     "cellMetadata": {},
     "nuid": "9901f53d-2b94-438a-8172-e53c911ca8c1",
     "inputWidgets": {},
     "title": ""
    },
    "pycharm": {
     "name": "#%% md\n"
    }
   }
  },
  {
   "cell_type": "markdown",
   "source": [
    "## Setup\n",
    "\n",
    "**NOTE**: The setup script includes logic to define a **`user_lookup`** table required for the join below."
   ],
   "metadata": {
    "application/vnd.databricks.v1+cell": {
     "showTitle": false,
     "cellMetadata": {},
     "nuid": "8d6cf198-f556-4e34-8ebb-4ba710372005",
     "inputWidgets": {},
     "title": ""
    },
    "pycharm": {
     "name": "#%% md\n"
    }
   }
  },
  {
   "cell_type": "code",
   "source": [
    "%run ../Includes/Classroom-Setup-4.5"
   ],
   "metadata": {
    "application/vnd.databricks.v1+cell": {
     "showTitle": false,
     "cellMetadata": {},
     "nuid": "937dadce-b192-448f-8204-4452b3e0e4cd",
     "inputWidgets": {},
     "title": ""
    },
    "pycharm": {
     "name": "#%%\n"
    }
   },
   "outputs": [],
   "execution_count": 0
  },
  {
   "cell_type": "markdown",
   "source": [
    "Set up your streaming temp view. Note that we will only be streaming from **one** of our tables. The **`completed_workouts`** table is no longer streamable as it breaks the requirement of an ever-appending source for Structured Streaming. However, when performing a stream-static join with a Delta table, each batch will confirm that the newest version of the static Delta table is being used."
   ],
   "metadata": {
    "application/vnd.databricks.v1+cell": {
     "showTitle": false,
     "cellMetadata": {},
     "nuid": "e3770562-a65b-444f-9d9c-076b1deb489a",
     "inputWidgets": {},
     "title": ""
    },
    "pycharm": {
     "name": "#%% md\n"
    }
   }
  },
  {
   "cell_type": "code",
   "source": [
    "(spark.readStream\n",
    "      .table(\"heart_rate_silver\")\n",
    "      .createOrReplaceTempView(\"TEMP_heart_rate_silver\"))"
   ],
   "metadata": {
    "application/vnd.databricks.v1+cell": {
     "showTitle": false,
     "cellMetadata": {},
     "nuid": "de601467-a0ed-49f9-bda6-ea62ac79880f",
     "inputWidgets": {},
     "title": ""
    },
    "pycharm": {
     "name": "#%%\n"
    }
   },
   "outputs": [],
   "execution_count": 0
  },
  {
   "cell_type": "markdown",
   "source": [
    "## Perform Stream-Static Join to Align Workouts to Heart Rate Recordings\n",
    "\n",
    "Below we'll configure our query to join our stream to our **`completed_workouts`** table.\n",
    "\n",
    "Note that our heart rate recordings only have **`device_id`**, while our workouts use **`user_id`** as the unique identifier. We'll need to use our **`user_lookup`** table to match these values. Because all tables are Delta Lake tables, we're guaranteed to get the latest version of each table during each microbatch transaction.\n",
    "\n",
    "Importantly, our devices occasionally send messages with negative recordings, which represent a potential error in the recorded values. We'll need to define predicate conditions to ensure that only positive recordings are processed."
   ],
   "metadata": {
    "application/vnd.databricks.v1+cell": {
     "showTitle": false,
     "cellMetadata": {},
     "nuid": "1de983b6-1633-42f7-8c1b-3f316cdac8a5",
     "inputWidgets": {},
     "title": ""
    },
    "pycharm": {
     "name": "#%% md\n"
    }
   }
  },
  {
   "cell_type": "code",
   "source": [
    "%sql \n",
    "CREATE OR REPLACE TEMP VIEW TEMP_workout_bpm AS\n",
    "  SELECT d.user_id, d.workout_id, d.session_id, time, heartrate\n",
    "  FROM TEMP_heart_rate_silver c\n",
    "  INNER JOIN (\n",
    "    SELECT a.user_id, b.device_id, workout_id, session_id, start_time, end_time\n",
    "    FROM completed_workouts a\n",
    "    INNER JOIN user_lookup b\n",
    "    ON a.user_id = b.user_id) d\n",
    "  ON c.device_id = d.device_id AND time BETWEEN start_time AND end_time\n",
    "  WHERE c.bpm_check = 'OK'"
   ],
   "metadata": {
    "application/vnd.databricks.v1+cell": {
     "showTitle": false,
     "cellMetadata": {},
     "nuid": "5c0ec487-b56f-40fc-85df-1e1db2d7babd",
     "inputWidgets": {},
     "title": ""
    },
    "pycharm": {
     "name": "#%%\n"
    }
   },
   "outputs": [],
   "execution_count": 0
  },
  {
   "cell_type": "markdown",
   "source": [
    "Note that the streaming portion of the join drives this join process. As currently implemented, this means that records from the **`heart_rate_silver`** table will only appear in our results table if a matching record has been written to the **`completed_workouts`** table prior to processing this query.\n",
    "\n",
    "Stream-static joins are not stateful, meaning that we cannot configure our query to wait for records to appear in the right side of the join prior to calculating the results. When leveraging stream-static joins, make sure to be aware of potential limitations for unmatched records. (Note that a separate batch job could be configured to find and insert records that were missed during incremental execution)."
   ],
   "metadata": {
    "application/vnd.databricks.v1+cell": {
     "showTitle": false,
     "cellMetadata": {},
     "nuid": "d6dc4cdf-7679-4cbf-b1e4-4e738fa003ee",
     "inputWidgets": {},
     "title": ""
    },
    "pycharm": {
     "name": "#%% md\n"
    }
   }
  },
  {
   "cell_type": "markdown",
   "source": [
    "### Write Stream in Append Mode\n",
    "\n",
    "Below, we'll use our streaming temp view from above to insert new values into our **`workout_bpm`** table."
   ],
   "metadata": {
    "application/vnd.databricks.v1+cell": {
     "showTitle": false,
     "cellMetadata": {},
     "nuid": "c9333321-4e6b-44eb-92ec-754ab68f9be3",
     "inputWidgets": {},
     "title": ""
    },
    "pycharm": {
     "name": "#%% md\n"
    }
   }
  },
  {
   "cell_type": "code",
   "source": [
    "def process_workout_bpm():\n",
    "    query = (spark.table(\"TEMP_workout_bpm\")\n",
    "                  .writeStream\n",
    "                  .format(\"delta\")\n",
    "                  .outputMode(\"append\")\n",
    "                  .option(\"checkpointLocation\", f\"{DA.paths.checkpoints}/workout_bpm\")\n",
    "                  .trigger(availableNow=True)\n",
    "                  .table(\"workout_bpm\"))\n",
    "    \n",
    "    query.awaitTermination()\n",
    "    \n",
    "process_workout_bpm()"
   ],
   "metadata": {
    "application/vnd.databricks.v1+cell": {
     "showTitle": false,
     "cellMetadata": {},
     "nuid": "48a9801a-842b-40b1-bac1-d44733a593fc",
     "inputWidgets": {},
     "title": ""
    },
    "pycharm": {
     "name": "#%%\n"
    }
   },
   "outputs": [],
   "execution_count": 0
  },
  {
   "cell_type": "markdown",
   "source": [
    "Explore this results table below."
   ],
   "metadata": {
    "application/vnd.databricks.v1+cell": {
     "showTitle": false,
     "cellMetadata": {},
     "nuid": "16db837e-2d7c-45cd-8b3a-b5e45da6e8f0",
     "inputWidgets": {},
     "title": ""
    },
    "pycharm": {
     "name": "#%% md\n"
    }
   }
  },
  {
   "cell_type": "code",
   "source": [
    "%sql\n",
    "\n",
    "SELECT COUNT(*)\n",
    "FROM workout_bpm"
   ],
   "metadata": {
    "application/vnd.databricks.v1+cell": {
     "showTitle": false,
     "cellMetadata": {},
     "nuid": "f2baf4ee-d631-4e50-9a1b-ca3fc9f85d9c",
     "inputWidgets": {},
     "title": ""
    },
    "pycharm": {
     "name": "#%%\n"
    }
   },
   "outputs": [],
   "execution_count": 0
  },
  {
   "cell_type": "code",
   "source": [
    "%sql\n",
    "\n",
    "SELECT * FROM workout_bpm"
   ],
   "metadata": {
    "application/vnd.databricks.v1+cell": {
     "showTitle": false,
     "cellMetadata": {},
     "nuid": "0363ba81-8254-4567-be61-556b2b2c970b",
     "inputWidgets": {},
     "title": ""
    },
    "pycharm": {
     "name": "#%%\n"
    }
   },
   "outputs": [],
   "execution_count": 0
  },
  {
   "cell_type": "markdown",
   "source": [
    "If desired, process another batch through all tables and update these results."
   ],
   "metadata": {
    "application/vnd.databricks.v1+cell": {
     "showTitle": false,
     "cellMetadata": {},
     "nuid": "4343ca6c-aa96-4e8a-87ba-a5b9db4ac13e",
     "inputWidgets": {},
     "title": ""
    },
    "pycharm": {
     "name": "#%% md\n"
    }
   }
  },
  {
   "cell_type": "code",
   "source": [
    "DA.daily_stream.load()          # Load one new day for DA.paths.source_daily\n",
    "DA.process_bronze()             # Process through the bronze table\n",
    "DA.process_heart_rate_silver()  # Process the heart_rate_silver table\n",
    "DA.process_workouts_silver()    # Process the workouts_silver table\n",
    "DA.process_completed_workouts() # Process the completed_workouts table\n",
    "\n",
    "process_workout_bpm()"
   ],
   "metadata": {
    "application/vnd.databricks.v1+cell": {
     "showTitle": false,
     "cellMetadata": {},
     "nuid": "7b663e6c-37c5-4567-9745-c333b07ef3a8",
     "inputWidgets": {},
     "title": ""
    },
    "pycharm": {
     "name": "#%%\n"
    }
   },
   "outputs": [],
   "execution_count": 0
  },
  {
   "cell_type": "code",
   "source": [
    "%sql\n",
    "\n",
    "SELECT COUNT(*)\n",
    "FROM workout_bpm"
   ],
   "metadata": {
    "application/vnd.databricks.v1+cell": {
     "showTitle": false,
     "cellMetadata": {},
     "nuid": "58c84fb7-0f43-4eba-962b-8eabcc4e1ed5",
     "inputWidgets": {},
     "title": ""
    },
    "pycharm": {
     "name": "#%%\n"
    }
   },
   "outputs": [],
   "execution_count": 0
  },
  {
   "cell_type": "markdown",
   "source": [
    "Run the following cell to delete the tables and files associated with this lesson."
   ],
   "metadata": {
    "application/vnd.databricks.v1+cell": {
     "showTitle": false,
     "cellMetadata": {},
     "nuid": "a187292e-88fe-4eb7-8ed4-67b9c502b66f",
     "inputWidgets": {},
     "title": ""
    },
    "pycharm": {
     "name": "#%% md\n"
    }
   }
  },
  {
   "cell_type": "code",
   "source": [
    "DA.cleanup()"
   ],
   "metadata": {
    "application/vnd.databricks.v1+cell": {
     "showTitle": false,
     "cellMetadata": {},
     "nuid": "13f1dab2-8845-4f81-926e-2b097829603c",
     "inputWidgets": {},
     "title": ""
    },
    "pycharm": {
     "name": "#%%\n"
    }
   },
   "outputs": [],
   "execution_count": 0
  }
 ],
 "metadata": {
  "application/vnd.databricks.v1+notebook": {
   "notebookName": "ADE 3.5 - Stream Static Join",
   "dashboards": [],
   "notebookMetadata": {
    "pythonIndentUnit": 2
   },
   "language": "python",
   "widgets": {},
   "notebookOrigID": 4185566132529849
  }
 },
 "nbformat": 4,
 "nbformat_minor": 0
}