{
 "cells": [
  {
   "cell_type": "markdown",
   "source": [
    "# Storing PII Securely\n",
    "\n",
    "Adding a pseudonymized key to incremental workloads is as simple as adding a transformation.\n",
    "\n",
    "In this notebook, we'll examine design patterns for ensuring PII is stored securely and updated accurately. We'll also demonstrate an approach for processing delete requests to make sure these are captured appropriately.\n",
    "\n",
    "<img src=\"https://files.training.databricks.com/images/ade/ADE_arch_users.png\" width=\"60%\" />\n",
    "\n",
    "## Learning Objectives\n",
    "By the end of this notebook, students will be able to:\n",
    "- Apply incremental transformations to store data with pseudonymized keys\n",
    "- Use windowed ranking to identify the most-recent records in a CDC feed"
   ],
   "metadata": {
    "application/vnd.databricks.v1+cell": {
     "showTitle": false,
     "cellMetadata": {},
     "nuid": "349eabb5-b7e5-4b6e-b7f2-a8689dbf4f82",
     "inputWidgets": {},
     "title": ""
    },
    "pycharm": {
     "name": "#%% md\n"
    }
   }
  },
  {
   "cell_type": "markdown",
   "source": [
    "Begin by running the following cell to set up relevant databases and paths."
   ],
   "metadata": {
    "application/vnd.databricks.v1+cell": {
     "showTitle": false,
     "cellMetadata": {},
     "nuid": "9d102bc7-48c6-48e9-8675-02a1ad9828ef",
     "inputWidgets": {},
     "title": ""
    },
    "pycharm": {
     "name": "#%% md\n"
    }
   }
  },
  {
   "cell_type": "code",
   "source": [
    "%run ../Includes/Classroom-Setup-6.2"
   ],
   "metadata": {
    "application/vnd.databricks.v1+cell": {
     "showTitle": false,
     "cellMetadata": {},
     "nuid": "3919dba1-d86e-40a0-889d-090f9c5c0c1e",
     "inputWidgets": {},
     "title": ""
    },
    "pycharm": {
     "name": "#%%\n"
    }
   },
   "outputs": [],
   "execution_count": 0
  },
  {
   "cell_type": "markdown",
   "source": [
    "Execute the following cell to create the **`users`** table."
   ],
   "metadata": {
    "application/vnd.databricks.v1+cell": {
     "showTitle": false,
     "cellMetadata": {},
     "nuid": "a728d262-82ed-4217-87ee-6b572c2bc9b5",
     "inputWidgets": {},
     "title": ""
    },
    "pycharm": {
     "name": "#%% md\n"
    }
   }
  },
  {
   "cell_type": "code",
   "source": [
    "%sql\n",
    "CREATE TABLE users\n",
    "(alt_id STRING, dob DATE, sex STRING, gender STRING, first_name STRING, last_name STRING, street_address STRING, city STRING, state STRING, zip INT, updated TIMESTAMP)\n",
    "USING DELTA\n",
    "LOCATION '${da.paths.working_dir}/users'"
   ],
   "metadata": {
    "application/vnd.databricks.v1+cell": {
     "showTitle": false,
     "cellMetadata": {},
     "nuid": "092e5909-42ca-4a08-b0fb-60dd88097572",
     "inputWidgets": {},
     "title": ""
    },
    "pycharm": {
     "name": "#%%\n"
    }
   },
   "outputs": [],
   "execution_count": 0
  },
  {
   "cell_type": "markdown",
   "source": [
    "## ELT with Pseudonymization\n",
    "The data in the **`user_info`** topic contains complete row outputs from a Change Data Capture feed.\n",
    "\n",
    "There are three values for **`update_type`** present in the data: **`new`**, **`update`**, and **`delete`**.\n",
    "\n",
    "The **`users`** table will be implemented as a Type 1 table, so only the most recent value matters\n",
    "\n",
    "Run the cell below to visually confirm that both **`new`** and **`update`** records contain all the fields we need for our **`users`** table."
   ],
   "metadata": {
    "application/vnd.databricks.v1+cell": {
     "showTitle": false,
     "cellMetadata": {},
     "nuid": "e5531fce-7a33-48b5-9026-e537bbc8082e",
     "inputWidgets": {},
     "title": ""
    },
    "pycharm": {
     "name": "#%% md\n"
    }
   }
  },
  {
   "cell_type": "code",
   "source": [
    "from pyspark.sql import functions as F\n",
    "\n",
    "schema = \"\"\"\n",
    "    user_id LONG, \n",
    "    update_type STRING, \n",
    "    timestamp FLOAT, \n",
    "    dob STRING, \n",
    "    sex STRING, \n",
    "    gender STRING, \n",
    "    first_name STRING, \n",
    "    last_name STRING, \n",
    "    address STRUCT<\n",
    "        street_address: STRING, \n",
    "        city: STRING, \n",
    "        state: STRING, \n",
    "        zip: INT>\"\"\"\n",
    "\n",
    "users_df = (spark.table(\"bronze\")\n",
    "                 .filter(\"topic = 'user_info'\")\n",
    "                 .select(F.from_json(F.col(\"value\").cast(\"string\"), schema).alias(\"v\")).select(\"v.*\")\n",
    "                 .filter(F.col(\"update_type\").isin([\"new\", \"update\"])))\n",
    "\n",
    "display(users_df)"
   ],
   "metadata": {
    "application/vnd.databricks.v1+cell": {
     "showTitle": false,
     "cellMetadata": {},
     "nuid": "43afd735-b165-49be-86f5-3bcd2ca9b8f9",
     "inputWidgets": {},
     "title": ""
    },
    "pycharm": {
     "name": "#%%\n"
    }
   },
   "outputs": [],
   "execution_count": 0
  },
  {
   "cell_type": "markdown",
   "source": [
    "## Deduplication with Windowed Ranking\n",
    "\n",
    "We've previously explored some ways to remove duplicate records:\n",
    "- Using Delta Lake's **`MERGE`** syntax, we can update or insert records based on keys, matching new records with previously loaded data\n",
    "- **`dropDuplicates`** will remove exact duplicates within a table or incremental microbatch\n",
    "\n",
    "Now we have multiple records for a given primary key BUT these records are not identical. **`dropDuplicates`** will not work to remove these records, and we'll get an error from our merge statement if we have the same key present multiple times.\n",
    "\n",
    "Below, a third approach for removing duplicates is shown below using the <a href=\"http://spark.apache.org/docs/latest/api/python/reference/api/pyspark.sql.Window.html?highlight=window#pyspark.sql.Window\" target=\"_blank\">PySpark Window class</a>."
   ],
   "metadata": {
    "application/vnd.databricks.v1+cell": {
     "showTitle": false,
     "cellMetadata": {},
     "nuid": "c64673aa-875d-482d-8346-96fab3ad2521",
     "inputWidgets": {},
     "title": ""
    },
    "pycharm": {
     "name": "#%% md\n"
    }
   }
  },
  {
   "cell_type": "code",
   "source": [
    "from pyspark.sql.window import Window\n",
    "\n",
    "window = Window.partitionBy(\"user_id\").orderBy(F.col(\"timestamp\").desc())\n",
    "\n",
    "ranked_df = (users_df.withColumn(\"rank\", F.rank().over(window))\n",
    "                     .filter(\"rank == 1\")\n",
    "                     .drop(\"rank\"))\n",
    "display(ranked_df)"
   ],
   "metadata": {
    "application/vnd.databricks.v1+cell": {
     "showTitle": false,
     "cellMetadata": {},
     "nuid": "f701c95a-7581-4550-bc8a-171077428085",
     "inputWidgets": {},
     "title": ""
    },
    "pycharm": {
     "name": "#%%\n"
    }
   },
   "outputs": [],
   "execution_count": 0
  },
  {
   "cell_type": "markdown",
   "source": [
    "As desired, we get only the newest (**`rank == 1`**) entry for each unique **`user_id`**.\n",
    "\n",
    "Unfortunately, if we try to apply this to a streaming read of our data, we'll learn that\n",
    "> Non-time-based windows are not supported on streaming DataFrames\n",
    "\n",
    "Uncomment and run the following cell to see this error in action:"
   ],
   "metadata": {
    "application/vnd.databricks.v1+cell": {
     "showTitle": false,
     "cellMetadata": {},
     "nuid": "d0ccb4a8-8e63-4dcd-8469-e394726a13ae",
     "inputWidgets": {},
     "title": ""
    },
    "pycharm": {
     "name": "#%% md\n"
    }
   }
  },
  {
   "cell_type": "code",
   "source": [
    "# ranked_df = (spark.readStream\n",
    "#                   .table(\"bronze\")\n",
    "#                   .filter(\"topic = 'user_info'\")\n",
    "#                   .select(F.from_json(F.col(\"value\").cast(\"string\"), schema).alias(\"v\"))\n",
    "#                   .select(\"v.*\")\n",
    "#                   .filter(F.col(\"update_type\").isin([\"new\", \"update\"]))\n",
    "#                   .withColumn(\"rank\", F.rank().over(window))\n",
    "#                   .filter(\"rank == 1\").drop(\"rank\"))\n",
    "\n",
    "# display(ranked_df)"
   ],
   "metadata": {
    "application/vnd.databricks.v1+cell": {
     "showTitle": false,
     "cellMetadata": {},
     "nuid": "e6466398-393a-4f9f-be9a-fbefe8fcbf9e",
     "inputWidgets": {},
     "title": ""
    },
    "pycharm": {
     "name": "#%%\n"
    }
   },
   "outputs": [],
   "execution_count": 0
  },
  {
   "cell_type": "markdown",
   "source": [
    "Luckily we have a workaround to avoid this restriction."
   ],
   "metadata": {
    "application/vnd.databricks.v1+cell": {
     "showTitle": false,
     "cellMetadata": {},
     "nuid": "417c738f-db3e-4dad-be2e-9f3a56176992",
     "inputWidgets": {},
     "title": ""
    },
    "pycharm": {
     "name": "#%% md\n"
    }
   }
  },
  {
   "cell_type": "markdown",
   "source": [
    "## Implementing Streaming Ranked De-duplication\n",
    "\n",
    "As we saw previously, when apply **`MERGE`** logic with a Structured Streaming job, we need to use **`foreachBatch`** logic.\n",
    "\n",
    "Recall that while we're inside a streaming microbatch, we interact with our data using batch syntax.\n",
    "\n",
    "This means that if we can apply our ranked **`Window`** logic within our **`foreachBatch`** function, we can avoid the restriction throwing our error.\n",
    "\n",
    "The code below sets up all the incremental logic needed to load in the data in the correct schema from the bronze table. This includes:\n",
    "- Filter for the **`user_info`** topic\n",
    "- Dropping identical records within the batch\n",
    "- Unpack all of the JSON fields from the **`value`** column into the correct schema\n",
    "- Update field names and types to match the **`users`** table schema\n",
    "- Use the salted hash function to cast the **`user_id`** to **`alt_id`**"
   ],
   "metadata": {
    "application/vnd.databricks.v1+cell": {
     "showTitle": false,
     "cellMetadata": {},
     "nuid": "e5b314c3-c206-43bf-8197-e880f88c9b55",
     "inputWidgets": {},
     "title": ""
    },
    "pycharm": {
     "name": "#%% md\n"
    }
   }
  },
  {
   "cell_type": "code",
   "source": [
    "salt = \"BEANS\"\n",
    "\n",
    "unpacked_df = (spark.readStream\n",
    "                    .table(\"bronze\")\n",
    "                    .filter(\"topic = 'user_info'\")\n",
    "                    .select(F.from_json(F.col(\"value\").cast(\"string\"), schema).alias(\"v\"))\n",
    "                    .select(\"v.*\")\n",
    "                    .select(F.sha2(F.concat(F.col(\"user_id\"), F.lit(salt)), 256).alias(\"alt_id\"),\n",
    "                            F.col(\"timestamp\").cast(\"timestamp\").alias(\"updated\"),\n",
    "                            F.to_date(\"dob\", \"MM/dd/yyyy\").alias(\"dob\"), \"sex\", \"gender\", \"first_name\", \"last_name\", \"address.*\", \"update_type\"))"
   ],
   "metadata": {
    "application/vnd.databricks.v1+cell": {
     "showTitle": false,
     "cellMetadata": {},
     "nuid": "1133a083-d775-411e-a3ef-74e1a8da41fe",
     "inputWidgets": {},
     "title": ""
    },
    "pycharm": {
     "name": "#%%\n"
    }
   },
   "outputs": [],
   "execution_count": 0
  },
  {
   "cell_type": "markdown",
   "source": [
    "The updated Window logic is provided below. Note that this is being applied to each **`micro_batch_df`** to result in a local **`ranked_df`** that will be used for merging.\n",
    " \n",
    "For our **`MERGE`** statement, we need to:\n",
    "- Match entries on our **`alt_id`**\n",
    "- Update all when matched **if** the new record has is newer than the previous entry\n",
    "- When not matched, insert all\n",
    "\n",
    "As before, use **`foreachBatch`** to apply merge operations in Structured Streaming."
   ],
   "metadata": {
    "application/vnd.databricks.v1+cell": {
     "showTitle": false,
     "cellMetadata": {},
     "nuid": "47ea3353-e46e-4007-878f-6477accb70e8",
     "inputWidgets": {},
     "title": ""
    },
    "pycharm": {
     "name": "#%% md\n"
    }
   }
  },
  {
   "cell_type": "code",
   "source": [
    "from pyspark.sql.window import Window\n",
    "\n",
    "window = Window.partitionBy(\"alt_id\").orderBy(F.col(\"updated\").desc())\n",
    "\n",
    "def batch_rank_upsert(microBatchDF, batchId):\n",
    "    \n",
    "    (microBatchDF.filter(F.col(\"update_type\").isin([\"new\", \"update\"]))\n",
    "                 .withColumn(\"rank\", F.rank().over(window))\n",
    "                 .filter(\"rank == 1\")\n",
    "                 .drop(\"rank\")\n",
    "                 .createOrReplaceTempView(\"ranked_updates\"))\n",
    "    \n",
    "    microBatchDF._jdf.sparkSession().sql(\"\"\"\n",
    "        MERGE INTO users u\n",
    "        USING ranked_updates r\n",
    "        ON u.alt_id=r.alt_id\n",
    "            WHEN MATCHED AND u.updated < r.updated\n",
    "              THEN UPDATE SET *\n",
    "            WHEN NOT MATCHED\n",
    "              THEN INSERT *\n",
    "    \"\"\")"
   ],
   "metadata": {
    "application/vnd.databricks.v1+cell": {
     "showTitle": false,
     "cellMetadata": {},
     "nuid": "48c6abd0-d2da-4608-b656-9aece0f2fc84",
     "inputWidgets": {},
     "title": ""
    },
    "pycharm": {
     "name": "#%%\n"
    }
   },
   "outputs": [],
   "execution_count": 0
  },
  {
   "cell_type": "markdown",
   "source": [
    "Now we can apply this function to our data. \n",
    "\n",
    "Here, we'll run a trigger-available-now batch to process all records."
   ],
   "metadata": {
    "application/vnd.databricks.v1+cell": {
     "showTitle": false,
     "cellMetadata": {},
     "nuid": "64b7fb2c-3047-42a4-b639-83aa11f6b1ea",
     "inputWidgets": {},
     "title": ""
    },
    "pycharm": {
     "name": "#%% md\n"
    }
   }
  },
  {
   "cell_type": "code",
   "source": [
    "query = (unpacked_df.writeStream\n",
    "                    .foreachBatch(batch_rank_upsert)\n",
    "                    .outputMode(\"update\")\n",
    "                    .option(\"checkpointLocation\", f\"{DA.paths.checkpoints}/batch_rank_upsert\")\n",
    "                    .trigger(availableNow=True)\n",
    "                    .start())\n",
    "\n",
    "query.awaitTermination()"
   ],
   "metadata": {
    "application/vnd.databricks.v1+cell": {
     "showTitle": false,
     "cellMetadata": {},
     "nuid": "42498df1-4a44-41de-8ead-0df3e3d7a75c",
     "inputWidgets": {},
     "title": ""
    },
    "pycharm": {
     "name": "#%%\n"
    }
   },
   "outputs": [],
   "execution_count": 0
  },
  {
   "cell_type": "markdown",
   "source": [
    "The **`users`** table should only have 1 record for each unique ID."
   ],
   "metadata": {
    "application/vnd.databricks.v1+cell": {
     "showTitle": false,
     "cellMetadata": {},
     "nuid": "59848566-fe99-45f9-b7d8-51715cc40dbb",
     "inputWidgets": {},
     "title": ""
    },
    "pycharm": {
     "name": "#%% md\n"
    }
   }
  },
  {
   "cell_type": "code",
   "source": [
    "count_a = spark.table(\"users\").count()\n",
    "count_b = spark.table(\"users\").select(\"alt_id\").distinct().count()\n",
    "assert count_a == count_b\n",
    "print(\"All tests passed.\")"
   ],
   "metadata": {
    "application/vnd.databricks.v1+cell": {
     "showTitle": false,
     "cellMetadata": {},
     "nuid": "06e5271d-e382-41ef-85d8-758eb6c0c1d9",
     "inputWidgets": {},
     "title": ""
    },
    "pycharm": {
     "name": "#%%\n"
    }
   },
   "outputs": [],
   "execution_count": 0
  },
  {
   "cell_type": "markdown",
   "source": [
    "Run the following cell to delete the tables and files associated with this lesson."
   ],
   "metadata": {
    "application/vnd.databricks.v1+cell": {
     "showTitle": false,
     "cellMetadata": {},
     "nuid": "9b4186ec-75d4-4757-887e-2ba6e09cd872",
     "inputWidgets": {},
     "title": ""
    },
    "pycharm": {
     "name": "#%% md\n"
    }
   }
  },
  {
   "cell_type": "code",
   "source": [
    "DA.cleanup()"
   ],
   "metadata": {
    "application/vnd.databricks.v1+cell": {
     "showTitle": false,
     "cellMetadata": {},
     "nuid": "a7097ff8-18b6-4535-9164-1b357bf58d7b",
     "inputWidgets": {},
     "title": ""
    },
    "pycharm": {
     "name": "#%%\n"
    }
   },
   "outputs": [],
   "execution_count": 0
  }
 ],
 "metadata": {
  "application/vnd.databricks.v1+notebook": {
   "notebookName": "ADE 5.2 - Storing PII Securely",
   "dashboards": [],
   "notebookMetadata": {
    "pythonIndentUnit": 2
   },
   "language": "python",
   "widgets": {},
   "notebookOrigID": 4185566132530427
  }
 },
 "nbformat": 4,
 "nbformat_minor": 0
}